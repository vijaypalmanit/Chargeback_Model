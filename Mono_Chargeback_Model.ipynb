{
  "nbformat": 4,
  "nbformat_minor": 0,
  "metadata": {
    "colab": {
      "name": "Mono_Chargeback_Model.ipynb",
      "provenance": [],
      "collapsed_sections": []
    },
    "kernelspec": {
      "name": "python3",
      "display_name": "Python 3"
    }
  },
  "cells": [
    {
      "cell_type": "code",
      "metadata": {
        "id": "qYXUfBW3MoS1",
        "colab_type": "code",
        "colab": {}
      },
      "source": [
        "import pandas as pd\n",
        "import numpy as np\n",
        "import seaborn as sns\n",
        "import matplotlib.pyplot as plt"
      ],
      "execution_count": 0,
      "outputs": []
    },
    {
      "cell_type": "code",
      "metadata": {
        "id": "q_3AZo0mN_AH",
        "colab_type": "code",
        "outputId": "eb1f3b8a-1d9b-47a9-c519-486558545254",
        "colab": {
          "base_uri": "https://localhost:8080/",
          "height": 122
        }
      },
      "source": [
        "#Mounting Google drive into the local python notebook to read the data from csv file\n",
        "from google.colab import drive\n",
        "drive.mount('/content/drive')"
      ],
      "execution_count": 0,
      "outputs": [
        {
          "output_type": "stream",
          "text": [
            "Go to this URL in a browser: https://accounts.google.com/o/oauth2/auth?client_id=947318989803-6bn6qk8qdgf4n4g3pfee6491hc0brc4i.apps.googleusercontent.com&redirect_uri=urn%3Aietf%3Awg%3Aoauth%3A2.0%3Aoob&scope=email%20https%3A%2F%2Fwww.googleapis.com%2Fauth%2Fdocs.test%20https%3A%2F%2Fwww.googleapis.com%2Fauth%2Fdrive%20https%3A%2F%2Fwww.googleapis.com%2Fauth%2Fdrive.photos.readonly%20https%3A%2F%2Fwww.googleapis.com%2Fauth%2Fpeopleapi.readonly&response_type=code\n",
            "\n",
            "Enter your authorization code:\n",
            "··········\n",
            "Mounted at /content/drive\n"
          ],
          "name": "stdout"
        }
      ]
    },
    {
      "cell_type": "code",
      "metadata": {
        "id": "jDqWt71CNLG3",
        "colab_type": "code",
        "colab": {}
      },
      "source": [
        "file = 'drive/My Drive/Colab Notebooks/Model_Main_2.csv'\n",
        "df = pd.read_csv(file)"
      ],
      "execution_count": 0,
      "outputs": []
    },
    {
      "cell_type": "code",
      "metadata": {
        "id": "0sg2b3toO47g",
        "colab_type": "code",
        "outputId": "5180ba2f-c6c1-4041-c9a8-4b579f606d35",
        "colab": {
          "base_uri": "https://localhost:8080/",
          "height": 275
        }
      },
      "source": [
        "df.head()"
      ],
      "execution_count": 0,
      "outputs": [
        {
          "output_type": "execute_result",
          "data": {
            "text/html": [
              "<div>\n",
              "<style scoped>\n",
              "    .dataframe tbody tr th:only-of-type {\n",
              "        vertical-align: middle;\n",
              "    }\n",
              "\n",
              "    .dataframe tbody tr th {\n",
              "        vertical-align: top;\n",
              "    }\n",
              "\n",
              "    .dataframe thead th {\n",
              "        text-align: right;\n",
              "    }\n",
              "</style>\n",
              "<table border=\"1\" class=\"dataframe\">\n",
              "  <thead>\n",
              "    <tr style=\"text-align: right;\">\n",
              "      <th></th>\n",
              "      <th>created_am_la</th>\n",
              "      <th>payment_method_name</th>\n",
              "      <th>transaction_currency</th>\n",
              "      <th>transaction_date_am_la</th>\n",
              "      <th>user_id</th>\n",
              "      <th>user_creation_date</th>\n",
              "      <th>plan_period</th>\n",
              "      <th>plan_period_first_activated_plan</th>\n",
              "      <th>transaction_amount_100_usd</th>\n",
              "      <th>payment_method_name_use</th>\n",
              "      <th>error_message</th>\n",
              "      <th>crosswalkplanperiod_touse</th>\n",
              "      <th>plan_country_from_subscription</th>\n",
              "      <th>user_external_plan_first_activated_plan</th>\n",
              "      <th>browser</th>\n",
              "      <th>operatingSystem</th>\n",
              "      <th>isMobile</th>\n",
              "      <th>mobileDeviceBranding</th>\n",
              "      <th>deviceCategory</th>\n",
              "      <th>continent</th>\n",
              "      <th>subContinent</th>\n",
              "      <th>country</th>\n",
              "      <th>city</th>\n",
              "      <th>last_login</th>\n",
              "      <th>joined_day_pageviews</th>\n",
              "      <th>pageviews_in_first_month</th>\n",
              "      <th>pageviews_in_second_month</th>\n",
              "      <th>pageviews_in_third_month</th>\n",
              "      <th>pageviews_after_third_month</th>\n",
              "      <th>chargeback</th>\n",
              "    </tr>\n",
              "  </thead>\n",
              "  <tbody>\n",
              "    <tr>\n",
              "      <th>0</th>\n",
              "      <td>5/3/2019 19:51</td>\n",
              "      <td>debitcard</td>\n",
              "      <td>MXN</td>\n",
              "      <td>5/3/2019 17:00</td>\n",
              "      <td>341412195</td>\n",
              "      <td>5/4/2019 2:49</td>\n",
              "      <td>30</td>\n",
              "      <td>30</td>\n",
              "      <td>26.38</td>\n",
              "      <td>debitcard</td>\n",
              "      <td>APPROVED</td>\n",
              "      <td>NaN</td>\n",
              "      <td>NaN</td>\n",
              "      <td>monthly_20171212</td>\n",
              "      <td>Chrome</td>\n",
              "      <td>Android</td>\n",
              "      <td>True</td>\n",
              "      <td>Motorola</td>\n",
              "      <td>mobile</td>\n",
              "      <td>Americas</td>\n",
              "      <td>Central America</td>\n",
              "      <td>Mexico</td>\n",
              "      <td>Aguascalientes</td>\n",
              "      <td>20190504</td>\n",
              "      <td>7</td>\n",
              "      <td>23</td>\n",
              "      <td>0</td>\n",
              "      <td>0</td>\n",
              "      <td>0</td>\n",
              "      <td>0</td>\n",
              "    </tr>\n",
              "    <tr>\n",
              "      <th>1</th>\n",
              "      <td>5/5/2019 9:10</td>\n",
              "      <td>creditcard</td>\n",
              "      <td>ARS</td>\n",
              "      <td>5/4/2019 17:00</td>\n",
              "      <td>341479440</td>\n",
              "      <td>5/5/2019 16:09</td>\n",
              "      <td>30</td>\n",
              "      <td>30</td>\n",
              "      <td>6.73</td>\n",
              "      <td>creditcard</td>\n",
              "      <td>APPROVED</td>\n",
              "      <td>NaN</td>\n",
              "      <td>NaN</td>\n",
              "      <td>monthly_20171212</td>\n",
              "      <td>Chrome</td>\n",
              "      <td>Android</td>\n",
              "      <td>True</td>\n",
              "      <td>Samsung</td>\n",
              "      <td>mobile</td>\n",
              "      <td>Americas</td>\n",
              "      <td>South America</td>\n",
              "      <td>Argentina</td>\n",
              "      <td>(not set)</td>\n",
              "      <td>20190505</td>\n",
              "      <td>20</td>\n",
              "      <td>26</td>\n",
              "      <td>0</td>\n",
              "      <td>0</td>\n",
              "      <td>0</td>\n",
              "      <td>0</td>\n",
              "    </tr>\n",
              "    <tr>\n",
              "      <th>2</th>\n",
              "      <td>5/5/2019 12:06</td>\n",
              "      <td>debitcard</td>\n",
              "      <td>MXN</td>\n",
              "      <td>5/4/2019 17:00</td>\n",
              "      <td>334039570</td>\n",
              "      <td>1/8/2019 3:57</td>\n",
              "      <td>30</td>\n",
              "      <td>30</td>\n",
              "      <td>26.38</td>\n",
              "      <td>debitcard</td>\n",
              "      <td>APPROVED</td>\n",
              "      <td>NaN</td>\n",
              "      <td>NaN</td>\n",
              "      <td>monthly_20171212</td>\n",
              "      <td>Chrome</td>\n",
              "      <td>Windows</td>\n",
              "      <td>False</td>\n",
              "      <td>0</td>\n",
              "      <td>desktop</td>\n",
              "      <td>Americas</td>\n",
              "      <td>Central America</td>\n",
              "      <td>Mexico</td>\n",
              "      <td>Tepexpan</td>\n",
              "      <td>20190505</td>\n",
              "      <td>13</td>\n",
              "      <td>13</td>\n",
              "      <td>1</td>\n",
              "      <td>0</td>\n",
              "      <td>85</td>\n",
              "      <td>0</td>\n",
              "    </tr>\n",
              "    <tr>\n",
              "      <th>3</th>\n",
              "      <td>5/6/2019 16:40</td>\n",
              "      <td>creditcard</td>\n",
              "      <td>ARS</td>\n",
              "      <td>5/5/2019 17:00</td>\n",
              "      <td>341572424</td>\n",
              "      <td>5/6/2019 19:00</td>\n",
              "      <td>30</td>\n",
              "      <td>30</td>\n",
              "      <td>0.65</td>\n",
              "      <td>creditcard</td>\n",
              "      <td>APPROVED</td>\n",
              "      <td>NaN</td>\n",
              "      <td>NaN</td>\n",
              "      <td>2for2_20171212</td>\n",
              "      <td>Chrome</td>\n",
              "      <td>Windows</td>\n",
              "      <td>False</td>\n",
              "      <td>0</td>\n",
              "      <td>desktop</td>\n",
              "      <td>Americas</td>\n",
              "      <td>South America</td>\n",
              "      <td>Argentina</td>\n",
              "      <td>(not set)</td>\n",
              "      <td>20190519</td>\n",
              "      <td>4</td>\n",
              "      <td>10</td>\n",
              "      <td>0</td>\n",
              "      <td>0</td>\n",
              "      <td>0</td>\n",
              "      <td>0</td>\n",
              "    </tr>\n",
              "    <tr>\n",
              "      <th>4</th>\n",
              "      <td>5/10/2019 3:37</td>\n",
              "      <td>debitcard</td>\n",
              "      <td>EUR</td>\n",
              "      <td>5/9/2019 17:00</td>\n",
              "      <td>315339375</td>\n",
              "      <td>3/9/2018 17:55</td>\n",
              "      <td>30</td>\n",
              "      <td>30</td>\n",
              "      <td>2.25</td>\n",
              "      <td>debitcard</td>\n",
              "      <td>APPROVED</td>\n",
              "      <td>NaN</td>\n",
              "      <td>NaN</td>\n",
              "      <td>2for2_20171212</td>\n",
              "      <td>Chrome</td>\n",
              "      <td>Windows</td>\n",
              "      <td>False</td>\n",
              "      <td>0</td>\n",
              "      <td>desktop</td>\n",
              "      <td>Europe</td>\n",
              "      <td>Southern Europe</td>\n",
              "      <td>Spain</td>\n",
              "      <td>Pamplona</td>\n",
              "      <td>20190510</td>\n",
              "      <td>10</td>\n",
              "      <td>13</td>\n",
              "      <td>0</td>\n",
              "      <td>0</td>\n",
              "      <td>14</td>\n",
              "      <td>0</td>\n",
              "    </tr>\n",
              "  </tbody>\n",
              "</table>\n",
              "</div>"
            ],
            "text/plain": [
              "    created_am_la payment_method_name  ... pageviews_after_third_month chargeback\n",
              "0  5/3/2019 19:51           debitcard  ...                           0          0\n",
              "1   5/5/2019 9:10          creditcard  ...                           0          0\n",
              "2  5/5/2019 12:06           debitcard  ...                          85          0\n",
              "3  5/6/2019 16:40          creditcard  ...                           0          0\n",
              "4  5/10/2019 3:37           debitcard  ...                          14          0\n",
              "\n",
              "[5 rows x 30 columns]"
            ]
          },
          "metadata": {
            "tags": []
          },
          "execution_count": 45
        }
      ]
    },
    {
      "cell_type": "code",
      "metadata": {
        "id": "8-E6fM3gP0h1",
        "colab_type": "code",
        "outputId": "a92e4656-c692-472b-a4cd-bf766f1cfdd1",
        "colab": {
          "base_uri": "https://localhost:8080/",
          "height": 68
        }
      },
      "source": [
        "print('Chargebacks are   :',sum(df['chargeback']))\n",
        "print('No Chargebacks are:',sum(df['chargeback']==0))\n",
        "print('Chargebacks are',(sum(df['chargeback'])/sum(df['chargeback']==0))*100,'% of total transaction')"
      ],
      "execution_count": 0,
      "outputs": [
        {
          "output_type": "stream",
          "text": [
            "Chargebacks are   : 225\n",
            "No Chargebacks are: 11525\n",
            "Chargebacks are 1.9522776572668112 % of total transaction\n"
          ],
          "name": "stdout"
        }
      ]
    },
    {
      "cell_type": "code",
      "metadata": {
        "id": "l0WET0k5RNdI",
        "colab_type": "code",
        "outputId": "d2016ece-2794-4363-f24e-73d55749f199",
        "colab": {
          "base_uri": "https://localhost:8080/",
          "height": 544
        }
      },
      "source": [
        "df.isnull().sum()"
      ],
      "execution_count": 0,
      "outputs": [
        {
          "output_type": "execute_result",
          "data": {
            "text/plain": [
              "created_am_la                                 0\n",
              "payment_method_name                           0\n",
              "transaction_currency                          0\n",
              "transaction_date_am_la                        0\n",
              "user_id                                       0\n",
              "user_creation_date                            0\n",
              "plan_period                                   0\n",
              "plan_period_first_activated_plan              0\n",
              "transaction_amount_100_usd                    0\n",
              "payment_method_name_use                       0\n",
              "error_message                                 0\n",
              "crosswalkplanperiod_touse                  9739\n",
              "plan_country_from_subscription             7924\n",
              "user_external_plan_first_activated_plan       0\n",
              "browser                                       0\n",
              "operatingSystem                               0\n",
              "isMobile                                      0\n",
              "mobileDeviceBranding                          0\n",
              "deviceCategory                                0\n",
              "continent                                     0\n",
              "subContinent                                  0\n",
              "country                                       0\n",
              "city                                          0\n",
              "last_login                                    0\n",
              "joined_day_pageviews                          0\n",
              "pageviews_in_first_month                      0\n",
              "pageviews_in_second_month                     0\n",
              "pageviews_in_third_month                      0\n",
              "pageviews_after_third_month                   0\n",
              "chargeback                                    0\n",
              "dtype: int64"
            ]
          },
          "metadata": {
            "tags": []
          },
          "execution_count": 47
        }
      ]
    },
    {
      "cell_type": "code",
      "metadata": {
        "id": "0cVRxLVCRcht",
        "colab_type": "code",
        "outputId": "8544f5a9-7fa5-4a2a-d72f-2aa5ae1160f7",
        "colab": {
          "base_uri": "https://localhost:8080/",
          "height": 544
        }
      },
      "source": [
        "df.dtypes"
      ],
      "execution_count": 0,
      "outputs": [
        {
          "output_type": "execute_result",
          "data": {
            "text/plain": [
              "created_am_la                               object\n",
              "payment_method_name                         object\n",
              "transaction_currency                        object\n",
              "transaction_date_am_la                      object\n",
              "user_id                                      int64\n",
              "user_creation_date                          object\n",
              "plan_period                                  int64\n",
              "plan_period_first_activated_plan             int64\n",
              "transaction_amount_100_usd                 float64\n",
              "payment_method_name_use                     object\n",
              "error_message                               object\n",
              "crosswalkplanperiod_touse                  float64\n",
              "plan_country_from_subscription              object\n",
              "user_external_plan_first_activated_plan     object\n",
              "browser                                     object\n",
              "operatingSystem                             object\n",
              "isMobile                                      bool\n",
              "mobileDeviceBranding                        object\n",
              "deviceCategory                              object\n",
              "continent                                   object\n",
              "subContinent                                object\n",
              "country                                     object\n",
              "city                                        object\n",
              "last_login                                   int64\n",
              "joined_day_pageviews                         int64\n",
              "pageviews_in_first_month                     int64\n",
              "pageviews_in_second_month                    int64\n",
              "pageviews_in_third_month                     int64\n",
              "pageviews_after_third_month                  int64\n",
              "chargeback                                   int64\n",
              "dtype: object"
            ]
          },
          "metadata": {
            "tags": []
          },
          "execution_count": 48
        }
      ]
    },
    {
      "cell_type": "code",
      "metadata": {
        "id": "GcxuyEX2Rfas",
        "colab_type": "code",
        "outputId": "89b6d0ea-3fcc-4d2b-b649-74cde4603e16",
        "colab": {
          "base_uri": "https://localhost:8080/",
          "height": 300
        }
      },
      "source": [
        "sns.countplot('chargeback',data=df)"
      ],
      "execution_count": 0,
      "outputs": [
        {
          "output_type": "execute_result",
          "data": {
            "text/plain": [
              "<matplotlib.axes._subplots.AxesSubplot at 0x7fa6be17c588>"
            ]
          },
          "metadata": {
            "tags": []
          },
          "execution_count": 49
        },
        {
          "output_type": "display_data",
          "data": {
            "image/png": "[encoded data removed]",
            "text/plain": [
              "<Figure size 432x288 with 1 Axes>"
            ]
          },
          "metadata": {
            "tags": []
          }
        }
      ]
    },
    {
      "cell_type": "code",
      "metadata": {
        "id": "K9xqSHPjRkxy",
        "colab_type": "code",
        "outputId": "97f20819-57c0-4e59-9135-58efb5517466",
        "colab": {
          "base_uri": "https://localhost:8080/",
          "height": 286
        }
      },
      "source": [
        "df['transaction_amount_100_usd'].hist()"
      ],
      "execution_count": 0,
      "outputs": [
        {
          "output_type": "execute_result",
          "data": {
            "text/plain": [
              "<matplotlib.axes._subplots.AxesSubplot at 0x7fa6be3b7780>"
            ]
          },
          "metadata": {
            "tags": []
          },
          "execution_count": 50
        },
        {
          "output_type": "display_data",
          "data": {
            "image/png": "[encoded data removed]",
            "text/plain": [
              "<Figure size 432x288 with 1 Axes>"
            ]
          },
          "metadata": {
            "tags": []
          }
        }
      ]
    },
    {
      "cell_type": "code",
      "metadata": {
        "id": "u7wiitj9Rx-t",
        "colab_type": "code",
        "outputId": "aafacb27-3475-40bd-88f0-9c39cb7a11ad",
        "colab": {
          "base_uri": "https://localhost:8080/",
          "height": 119
        }
      },
      "source": [
        "df.user_creation_date.str.slice(-5,-3).astype(int).head()"
      ],
      "execution_count": 0,
      "outputs": [
        {
          "output_type": "execute_result",
          "data": {
            "text/plain": [
              "0     2\n",
              "1    16\n",
              "2     3\n",
              "3    19\n",
              "4    17\n",
              "Name: user_creation_date, dtype: int64"
            ]
          },
          "metadata": {
            "tags": []
          },
          "execution_count": 51
        }
      ]
    },
    {
      "cell_type": "markdown",
      "metadata": {
        "id": "WlEHZiZsSKLP",
        "colab_type": "text"
      },
      "source": [
        "# **Convert date fields to datetime for easy processing**"
      ]
    },
    {
      "cell_type": "code",
      "metadata": {
        "id": "LA-OtjVKSakM",
        "colab_type": "code",
        "colab": {}
      },
      "source": [
        "df['user_creation_date']=pd.to_datetime(df.user_creation_date)"
      ],
      "execution_count": 0,
      "outputs": []
    },
    {
      "cell_type": "code",
      "metadata": {
        "id": "os_jZZNjU5RX",
        "colab_type": "code",
        "colab": {}
      },
      "source": [
        "df['created_am_la'] = pd.to_datetime(df.created_am_la)"
      ],
      "execution_count": 0,
      "outputs": []
    },
    {
      "cell_type": "code",
      "metadata": {
        "id": "SWPnHj0VVLuw",
        "colab_type": "code",
        "colab": {}
      },
      "source": [
        "df['transaction_date_am_la'] = pd.to_datetime(df.transaction_date_am_la)"
      ],
      "execution_count": 0,
      "outputs": []
    },
    {
      "cell_type": "code",
      "metadata": {
        "id": "r_Y07DHLVjFa",
        "colab_type": "code",
        "outputId": "996d0056-608e-4816-daff-09bf8b9d01b4",
        "colab": {
          "base_uri": "https://localhost:8080/",
          "height": 119
        }
      },
      "source": [
        "df['last_login'] = pd.to_datetime(df.last_login,format='%Y%m%d')\n",
        "df.last_login.head()"
      ],
      "execution_count": 0,
      "outputs": [
        {
          "output_type": "execute_result",
          "data": {
            "text/plain": [
              "0   2019-05-04\n",
              "1   2019-05-05\n",
              "2   2019-05-05\n",
              "3   2019-05-19\n",
              "4   2019-05-10\n",
              "Name: last_login, dtype: datetime64[ns]"
            ]
          },
          "metadata": {
            "tags": []
          },
          "execution_count": 55
        }
      ]
    },
    {
      "cell_type": "code",
      "metadata": {
        "id": "pfJY6f9bSkZp",
        "colab_type": "code",
        "outputId": "0e0dfd0c-449c-4ed3-9526-7b0e2d26e73f",
        "colab": {
          "base_uri": "https://localhost:8080/",
          "height": 119
        }
      },
      "source": [
        "df.user_creation_date.dt.hour.head()"
      ],
      "execution_count": 0,
      "outputs": [
        {
          "output_type": "execute_result",
          "data": {
            "text/plain": [
              "0     2\n",
              "1    16\n",
              "2     3\n",
              "3    19\n",
              "4    17\n",
              "Name: user_creation_date, dtype: int64"
            ]
          },
          "metadata": {
            "tags": []
          },
          "execution_count": 56
        }
      ]
    },
    {
      "cell_type": "code",
      "metadata": {
        "id": "ZWR6PX4WSzb4",
        "colab_type": "code",
        "outputId": "b64a7a04-09dc-4137-9109-e5d0d842f801",
        "colab": {
          "base_uri": "https://localhost:8080/",
          "height": 389
        }
      },
      "source": [
        "df.user_creation_date.dt.weekday_name.value_counts().sort_values(ascending=False).plot(kind='bar',figsize=(20,5),color='orange')"
      ],
      "execution_count": 0,
      "outputs": [
        {
          "output_type": "execute_result",
          "data": {
            "text/plain": [
              "<matplotlib.axes._subplots.AxesSubplot at 0x7fa6be0c3908>"
            ]
          },
          "metadata": {
            "tags": []
          },
          "execution_count": 57
        },
        {
          "output_type": "display_data",
          "data": {
            "image/png": "[encoded data removed]",
            "text/plain": [
              "<Figure size 1440x360 with 1 Axes>"
            ]
          },
          "metadata": {
            "tags": []
          }
        }
      ]
    },
    {
      "cell_type": "code",
      "metadata": {
        "id": "KyM5zQn_S3Fp",
        "colab_type": "code",
        "outputId": "5838e9eb-ec1a-4bc3-bd09-cf0f36e0a75a",
        "colab": {
          "base_uri": "https://localhost:8080/",
          "height": 119
        }
      },
      "source": [
        "df.user_creation_date.dt.weekday.head()"
      ],
      "execution_count": 0,
      "outputs": [
        {
          "output_type": "execute_result",
          "data": {
            "text/plain": [
              "0    5\n",
              "1    6\n",
              "2    1\n",
              "3    0\n",
              "4    4\n",
              "Name: user_creation_date, dtype: int64"
            ]
          },
          "metadata": {
            "tags": []
          },
          "execution_count": 58
        }
      ]
    },
    {
      "cell_type": "code",
      "metadata": {
        "id": "thMlqYrJS7Ei",
        "colab_type": "code",
        "outputId": "96fc0565-373f-4556-cdac-a80cb0758dd5",
        "colab": {
          "base_uri": "https://localhost:8080/",
          "height": 119
        }
      },
      "source": [
        "df.user_creation_date.dt.dayofyear.head()"
      ],
      "execution_count": 0,
      "outputs": [
        {
          "output_type": "execute_result",
          "data": {
            "text/plain": [
              "0    124\n",
              "1    125\n",
              "2      8\n",
              "3    126\n",
              "4     68\n",
              "Name: user_creation_date, dtype: int64"
            ]
          },
          "metadata": {
            "tags": []
          },
          "execution_count": 59
        }
      ]
    },
    {
      "cell_type": "code",
      "metadata": {
        "id": "V5xThy0fS-St",
        "colab_type": "code",
        "outputId": "ffb0018f-4d82-4a4e-971b-87bc2278ee70",
        "colab": {
          "base_uri": "https://localhost:8080/",
          "height": 68
        }
      },
      "source": [
        "df.chargeback.value_counts()"
      ],
      "execution_count": 0,
      "outputs": [
        {
          "output_type": "execute_result",
          "data": {
            "text/plain": [
              "0    11525\n",
              "1      225\n",
              "Name: chargeback, dtype: int64"
            ]
          },
          "metadata": {
            "tags": []
          },
          "execution_count": 60
        }
      ]
    },
    {
      "cell_type": "markdown",
      "metadata": {
        "id": "0nVxG_d5TP34",
        "colab_type": "text"
      },
      "source": [
        "# **Change timezone**"
      ]
    },
    {
      "cell_type": "code",
      "metadata": {
        "id": "ZhIkorzNTFNp",
        "colab_type": "code",
        "colab": {}
      },
      "source": [
        "# Creating new field from existing filed\n",
        "df['user_creation_date_am_la']=df.user_creation_date.dt.tz_localize('UTC').dt.tz_convert('America/Los_Angeles')"
      ],
      "execution_count": 0,
      "outputs": []
    },
    {
      "cell_type": "code",
      "metadata": {
        "id": "o3Xhrx4-jk5e",
        "colab_type": "code",
        "outputId": "5c27212a-4774-40e7-9c18-6fd9dfc6d0f8",
        "colab": {
          "base_uri": "https://localhost:8080/",
          "height": 204
        }
      },
      "source": [
        "df['user_creation_date_am_la'].head(10)"
      ],
      "execution_count": 0,
      "outputs": [
        {
          "output_type": "execute_result",
          "data": {
            "text/plain": [
              "0   2019-05-03 19:49:00-07:00\n",
              "1   2019-05-05 09:09:00-07:00\n",
              "2   2019-01-07 19:57:00-08:00\n",
              "3   2019-05-06 12:00:00-07:00\n",
              "4   2018-03-09 09:55:00-08:00\n",
              "5   2019-05-07 19:43:00-07:00\n",
              "6   2019-03-05 17:45:00-08:00\n",
              "7   2019-03-27 08:11:00-07:00\n",
              "8   2019-05-08 15:34:00-07:00\n",
              "9   2019-05-09 05:24:00-07:00\n",
              "Name: user_creation_date_am_la, dtype: datetime64[ns, America/Los_Angeles]"
            ]
          },
          "metadata": {
            "tags": []
          },
          "execution_count": 62
        }
      ]
    },
    {
      "cell_type": "code",
      "metadata": {
        "id": "zy5RAUU0jpXX",
        "colab_type": "code",
        "outputId": "4b155821-eae3-472a-ca53-677b06ca76dd",
        "colab": {
          "base_uri": "https://localhost:8080/",
          "height": 204
        }
      },
      "source": [
        "# Lets check manually few if conversion went correct\n",
        "df[['user_creation_date','user_creation_date_am_la']].head()"
      ],
      "execution_count": 0,
      "outputs": [
        {
          "output_type": "execute_result",
          "data": {
            "text/html": [
              "<div>\n",
              "<style scoped>\n",
              "    .dataframe tbody tr th:only-of-type {\n",
              "        vertical-align: middle;\n",
              "    }\n",
              "\n",
              "    .dataframe tbody tr th {\n",
              "        vertical-align: top;\n",
              "    }\n",
              "\n",
              "    .dataframe thead th {\n",
              "        text-align: right;\n",
              "    }\n",
              "</style>\n",
              "<table border=\"1\" class=\"dataframe\">\n",
              "  <thead>\n",
              "    <tr style=\"text-align: right;\">\n",
              "      <th></th>\n",
              "      <th>user_creation_date</th>\n",
              "      <th>user_creation_date_am_la</th>\n",
              "    </tr>\n",
              "  </thead>\n",
              "  <tbody>\n",
              "    <tr>\n",
              "      <th>0</th>\n",
              "      <td>2019-05-04 02:49:00</td>\n",
              "      <td>2019-05-03 19:49:00-07:00</td>\n",
              "    </tr>\n",
              "    <tr>\n",
              "      <th>1</th>\n",
              "      <td>2019-05-05 16:09:00</td>\n",
              "      <td>2019-05-05 09:09:00-07:00</td>\n",
              "    </tr>\n",
              "    <tr>\n",
              "      <th>2</th>\n",
              "      <td>2019-01-08 03:57:00</td>\n",
              "      <td>2019-01-07 19:57:00-08:00</td>\n",
              "    </tr>\n",
              "    <tr>\n",
              "      <th>3</th>\n",
              "      <td>2019-05-06 19:00:00</td>\n",
              "      <td>2019-05-06 12:00:00-07:00</td>\n",
              "    </tr>\n",
              "    <tr>\n",
              "      <th>4</th>\n",
              "      <td>2018-03-09 17:55:00</td>\n",
              "      <td>2018-03-09 09:55:00-08:00</td>\n",
              "    </tr>\n",
              "  </tbody>\n",
              "</table>\n",
              "</div>"
            ],
            "text/plain": [
              "   user_creation_date  user_creation_date_am_la\n",
              "0 2019-05-04 02:49:00 2019-05-03 19:49:00-07:00\n",
              "1 2019-05-05 16:09:00 2019-05-05 09:09:00-07:00\n",
              "2 2019-01-08 03:57:00 2019-01-07 19:57:00-08:00\n",
              "3 2019-05-06 19:00:00 2019-05-06 12:00:00-07:00\n",
              "4 2018-03-09 17:55:00 2018-03-09 09:55:00-08:00"
            ]
          },
          "metadata": {
            "tags": []
          },
          "execution_count": 63
        }
      ]
    },
    {
      "cell_type": "code",
      "metadata": {
        "id": "acKOWqsgj3E4",
        "colab_type": "code",
        "colab": {}
      },
      "source": [
        "# It seems conversion is correct so lets drop the original field, since it is no more required\n",
        "\n",
        "df.drop(['user_creation_date'],axis=1,inplace=True)"
      ],
      "execution_count": 0,
      "outputs": []
    },
    {
      "cell_type": "code",
      "metadata": {
        "id": "c26dvFtAkeIa",
        "colab_type": "code",
        "outputId": "bdfe8c2d-6338-4bdd-db97-92fd23dde214",
        "colab": {
          "base_uri": "https://localhost:8080/",
          "height": 309
        }
      },
      "source": [
        "df.head()"
      ],
      "execution_count": 0,
      "outputs": [
        {
          "output_type": "execute_result",
          "data": {
            "text/html": [
              "<div>\n",
              "<style scoped>\n",
              "    .dataframe tbody tr th:only-of-type {\n",
              "        vertical-align: middle;\n",
              "    }\n",
              "\n",
              "    .dataframe tbody tr th {\n",
              "        vertical-align: top;\n",
              "    }\n",
              "\n",
              "    .dataframe thead th {\n",
              "        text-align: right;\n",
              "    }\n",
              "</style>\n",
              "<table border=\"1\" class=\"dataframe\">\n",
              "  <thead>\n",
              "    <tr style=\"text-align: right;\">\n",
              "      <th></th>\n",
              "      <th>created_am_la</th>\n",
              "      <th>payment_method_name</th>\n",
              "      <th>transaction_currency</th>\n",
              "      <th>transaction_date_am_la</th>\n",
              "      <th>user_id</th>\n",
              "      <th>plan_period</th>\n",
              "      <th>plan_period_first_activated_plan</th>\n",
              "      <th>transaction_amount_100_usd</th>\n",
              "      <th>payment_method_name_use</th>\n",
              "      <th>error_message</th>\n",
              "      <th>crosswalkplanperiod_touse</th>\n",
              "      <th>plan_country_from_subscription</th>\n",
              "      <th>user_external_plan_first_activated_plan</th>\n",
              "      <th>browser</th>\n",
              "      <th>operatingSystem</th>\n",
              "      <th>isMobile</th>\n",
              "      <th>mobileDeviceBranding</th>\n",
              "      <th>deviceCategory</th>\n",
              "      <th>continent</th>\n",
              "      <th>subContinent</th>\n",
              "      <th>country</th>\n",
              "      <th>city</th>\n",
              "      <th>last_login</th>\n",
              "      <th>joined_day_pageviews</th>\n",
              "      <th>pageviews_in_first_month</th>\n",
              "      <th>pageviews_in_second_month</th>\n",
              "      <th>pageviews_in_third_month</th>\n",
              "      <th>pageviews_after_third_month</th>\n",
              "      <th>chargeback</th>\n",
              "      <th>user_creation_date_am_la</th>\n",
              "    </tr>\n",
              "  </thead>\n",
              "  <tbody>\n",
              "    <tr>\n",
              "      <th>0</th>\n",
              "      <td>2019-05-03 19:51:00</td>\n",
              "      <td>debitcard</td>\n",
              "      <td>MXN</td>\n",
              "      <td>2019-05-03 17:00:00</td>\n",
              "      <td>341412195</td>\n",
              "      <td>30</td>\n",
              "      <td>30</td>\n",
              "      <td>26.38</td>\n",
              "      <td>debitcard</td>\n",
              "      <td>APPROVED</td>\n",
              "      <td>NaN</td>\n",
              "      <td>NaN</td>\n",
              "      <td>monthly_20171212</td>\n",
              "      <td>Chrome</td>\n",
              "      <td>Android</td>\n",
              "      <td>True</td>\n",
              "      <td>Motorola</td>\n",
              "      <td>mobile</td>\n",
              "      <td>Americas</td>\n",
              "      <td>Central America</td>\n",
              "      <td>Mexico</td>\n",
              "      <td>Aguascalientes</td>\n",
              "      <td>2019-05-04</td>\n",
              "      <td>7</td>\n",
              "      <td>23</td>\n",
              "      <td>0</td>\n",
              "      <td>0</td>\n",
              "      <td>0</td>\n",
              "      <td>0</td>\n",
              "      <td>2019-05-03 19:49:00-07:00</td>\n",
              "    </tr>\n",
              "    <tr>\n",
              "      <th>1</th>\n",
              "      <td>2019-05-05 09:10:00</td>\n",
              "      <td>creditcard</td>\n",
              "      <td>ARS</td>\n",
              "      <td>2019-05-04 17:00:00</td>\n",
              "      <td>341479440</td>\n",
              "      <td>30</td>\n",
              "      <td>30</td>\n",
              "      <td>6.73</td>\n",
              "      <td>creditcard</td>\n",
              "      <td>APPROVED</td>\n",
              "      <td>NaN</td>\n",
              "      <td>NaN</td>\n",
              "      <td>monthly_20171212</td>\n",
              "      <td>Chrome</td>\n",
              "      <td>Android</td>\n",
              "      <td>True</td>\n",
              "      <td>Samsung</td>\n",
              "      <td>mobile</td>\n",
              "      <td>Americas</td>\n",
              "      <td>South America</td>\n",
              "      <td>Argentina</td>\n",
              "      <td>(not set)</td>\n",
              "      <td>2019-05-05</td>\n",
              "      <td>20</td>\n",
              "      <td>26</td>\n",
              "      <td>0</td>\n",
              "      <td>0</td>\n",
              "      <td>0</td>\n",
              "      <td>0</td>\n",
              "      <td>2019-05-05 09:09:00-07:00</td>\n",
              "    </tr>\n",
              "    <tr>\n",
              "      <th>2</th>\n",
              "      <td>2019-05-05 12:06:00</td>\n",
              "      <td>debitcard</td>\n",
              "      <td>MXN</td>\n",
              "      <td>2019-05-04 17:00:00</td>\n",
              "      <td>334039570</td>\n",
              "      <td>30</td>\n",
              "      <td>30</td>\n",
              "      <td>26.38</td>\n",
              "      <td>debitcard</td>\n",
              "      <td>APPROVED</td>\n",
              "      <td>NaN</td>\n",
              "      <td>NaN</td>\n",
              "      <td>monthly_20171212</td>\n",
              "      <td>Chrome</td>\n",
              "      <td>Windows</td>\n",
              "      <td>False</td>\n",
              "      <td>0</td>\n",
              "      <td>desktop</td>\n",
              "      <td>Americas</td>\n",
              "      <td>Central America</td>\n",
              "      <td>Mexico</td>\n",
              "      <td>Tepexpan</td>\n",
              "      <td>2019-05-05</td>\n",
              "      <td>13</td>\n",
              "      <td>13</td>\n",
              "      <td>1</td>\n",
              "      <td>0</td>\n",
              "      <td>85</td>\n",
              "      <td>0</td>\n",
              "      <td>2019-01-07 19:57:00-08:00</td>\n",
              "    </tr>\n",
              "    <tr>\n",
              "      <th>3</th>\n",
              "      <td>2019-05-06 16:40:00</td>\n",
              "      <td>creditcard</td>\n",
              "      <td>ARS</td>\n",
              "      <td>2019-05-05 17:00:00</td>\n",
              "      <td>341572424</td>\n",
              "      <td>30</td>\n",
              "      <td>30</td>\n",
              "      <td>0.65</td>\n",
              "      <td>creditcard</td>\n",
              "      <td>APPROVED</td>\n",
              "      <td>NaN</td>\n",
              "      <td>NaN</td>\n",
              "      <td>2for2_20171212</td>\n",
              "      <td>Chrome</td>\n",
              "      <td>Windows</td>\n",
              "      <td>False</td>\n",
              "      <td>0</td>\n",
              "      <td>desktop</td>\n",
              "      <td>Americas</td>\n",
              "      <td>South America</td>\n",
              "      <td>Argentina</td>\n",
              "      <td>(not set)</td>\n",
              "      <td>2019-05-19</td>\n",
              "      <td>4</td>\n",
              "      <td>10</td>\n",
              "      <td>0</td>\n",
              "      <td>0</td>\n",
              "      <td>0</td>\n",
              "      <td>0</td>\n",
              "      <td>2019-05-06 12:00:00-07:00</td>\n",
              "    </tr>\n",
              "    <tr>\n",
              "      <th>4</th>\n",
              "      <td>2019-05-10 03:37:00</td>\n",
              "      <td>debitcard</td>\n",
              "      <td>EUR</td>\n",
              "      <td>2019-05-09 17:00:00</td>\n",
              "      <td>315339375</td>\n",
              "      <td>30</td>\n",
              "      <td>30</td>\n",
              "      <td>2.25</td>\n",
              "      <td>debitcard</td>\n",
              "      <td>APPROVED</td>\n",
              "      <td>NaN</td>\n",
              "      <td>NaN</td>\n",
              "      <td>2for2_20171212</td>\n",
              "      <td>Chrome</td>\n",
              "      <td>Windows</td>\n",
              "      <td>False</td>\n",
              "      <td>0</td>\n",
              "      <td>desktop</td>\n",
              "      <td>Europe</td>\n",
              "      <td>Southern Europe</td>\n",
              "      <td>Spain</td>\n",
              "      <td>Pamplona</td>\n",
              "      <td>2019-05-10</td>\n",
              "      <td>10</td>\n",
              "      <td>13</td>\n",
              "      <td>0</td>\n",
              "      <td>0</td>\n",
              "      <td>14</td>\n",
              "      <td>0</td>\n",
              "      <td>2018-03-09 09:55:00-08:00</td>\n",
              "    </tr>\n",
              "  </tbody>\n",
              "</table>\n",
              "</div>"
            ],
            "text/plain": [
              "        created_am_la payment_method_name  ... chargeback  user_creation_date_am_la\n",
              "0 2019-05-03 19:51:00           debitcard  ...          0 2019-05-03 19:49:00-07:00\n",
              "1 2019-05-05 09:10:00          creditcard  ...          0 2019-05-05 09:09:00-07:00\n",
              "2 2019-05-05 12:06:00           debitcard  ...          0 2019-01-07 19:57:00-08:00\n",
              "3 2019-05-06 16:40:00          creditcard  ...          0 2019-05-06 12:00:00-07:00\n",
              "4 2019-05-10 03:37:00           debitcard  ...          0 2018-03-09 09:55:00-08:00\n",
              "\n",
              "[5 rows x 30 columns]"
            ]
          },
          "metadata": {
            "tags": []
          },
          "execution_count": 65
        }
      ]
    },
    {
      "cell_type": "code",
      "metadata": {
        "id": "Kj-f_Q7ywWTX",
        "colab_type": "code",
        "outputId": "ec37a1b1-ae4a-4cdb-ceeb-0dc862880967",
        "colab": {
          "base_uri": "https://localhost:8080/",
          "height": 34
        }
      },
      "source": [
        "df.user_creation_date_am_la.head(10)\n",
        "df.user_creation_date_am_la.isnull().sum()"
      ],
      "execution_count": 0,
      "outputs": [
        {
          "output_type": "execute_result",
          "data": {
            "text/plain": [
              "0"
            ]
          },
          "metadata": {
            "tags": []
          },
          "execution_count": 66
        }
      ]
    },
    {
      "cell_type": "code",
      "metadata": {
        "id": "mXDtZI6J6VLo",
        "colab_type": "code",
        "outputId": "dd41cb01-cf59-4ea7-c272-bef8785dc2f0",
        "colab": {
          "base_uri": "https://localhost:8080/",
          "height": 544
        }
      },
      "source": [
        "df.dtypes"
      ],
      "execution_count": 0,
      "outputs": [
        {
          "output_type": "execute_result",
          "data": {
            "text/plain": [
              "created_am_la                                                   datetime64[ns]\n",
              "payment_method_name                                                     object\n",
              "transaction_currency                                                    object\n",
              "transaction_date_am_la                                          datetime64[ns]\n",
              "user_id                                                                  int64\n",
              "plan_period                                                              int64\n",
              "plan_period_first_activated_plan                                         int64\n",
              "transaction_amount_100_usd                                             float64\n",
              "payment_method_name_use                                                 object\n",
              "error_message                                                           object\n",
              "crosswalkplanperiod_touse                                              float64\n",
              "plan_country_from_subscription                                          object\n",
              "user_external_plan_first_activated_plan                                 object\n",
              "browser                                                                 object\n",
              "operatingSystem                                                         object\n",
              "isMobile                                                                  bool\n",
              "mobileDeviceBranding                                                    object\n",
              "deviceCategory                                                          object\n",
              "continent                                                               object\n",
              "subContinent                                                            object\n",
              "country                                                                 object\n",
              "city                                                                    object\n",
              "last_login                                                      datetime64[ns]\n",
              "joined_day_pageviews                                                     int64\n",
              "pageviews_in_first_month                                                 int64\n",
              "pageviews_in_second_month                                                int64\n",
              "pageviews_in_third_month                                                 int64\n",
              "pageviews_after_third_month                                              int64\n",
              "chargeback                                                               int64\n",
              "user_creation_date_am_la                   datetime64[ns, America/Los_Angeles]\n",
              "dtype: object"
            ]
          },
          "metadata": {
            "tags": []
          },
          "execution_count": 67
        }
      ]
    },
    {
      "cell_type": "markdown",
      "metadata": {
        "id": "sF6ytL3BzN_S",
        "colab_type": "text"
      },
      "source": [
        "**Lets set the timezone of the field 'transaction_date_am_la', otherwise it will fail while doing some datetime operation**"
      ]
    },
    {
      "cell_type": "code",
      "metadata": {
        "id": "KgbEeOs7ymHm",
        "colab_type": "code",
        "outputId": "85baf99a-fc4d-4981-b4c7-4630a0886a85",
        "colab": {
          "base_uri": "https://localhost:8080/",
          "height": 204
        }
      },
      "source": [
        "df['transaction_date_am_la_fix'] = df.transaction_date_am_la.dt.tz_localize('America/Los_Angeles')\n",
        "df[['transaction_date_am_la','transaction_date_am_la_fix','user_creation_date_am_la']].head()"
      ],
      "execution_count": 0,
      "outputs": [
        {
          "output_type": "execute_result",
          "data": {
            "text/html": [
              "<div>\n",
              "<style scoped>\n",
              "    .dataframe tbody tr th:only-of-type {\n",
              "        vertical-align: middle;\n",
              "    }\n",
              "\n",
              "    .dataframe tbody tr th {\n",
              "        vertical-align: top;\n",
              "    }\n",
              "\n",
              "    .dataframe thead th {\n",
              "        text-align: right;\n",
              "    }\n",
              "</style>\n",
              "<table border=\"1\" class=\"dataframe\">\n",
              "  <thead>\n",
              "    <tr style=\"text-align: right;\">\n",
              "      <th></th>\n",
              "      <th>transaction_date_am_la</th>\n",
              "      <th>transaction_date_am_la_fix</th>\n",
              "      <th>user_creation_date_am_la</th>\n",
              "    </tr>\n",
              "  </thead>\n",
              "  <tbody>\n",
              "    <tr>\n",
              "      <th>0</th>\n",
              "      <td>2019-05-03 17:00:00</td>\n",
              "      <td>2019-05-03 17:00:00-07:00</td>\n",
              "      <td>2019-05-03 19:49:00-07:00</td>\n",
              "    </tr>\n",
              "    <tr>\n",
              "      <th>1</th>\n",
              "      <td>2019-05-04 17:00:00</td>\n",
              "      <td>2019-05-04 17:00:00-07:00</td>\n",
              "      <td>2019-05-05 09:09:00-07:00</td>\n",
              "    </tr>\n",
              "    <tr>\n",
              "      <th>2</th>\n",
              "      <td>2019-05-04 17:00:00</td>\n",
              "      <td>2019-05-04 17:00:00-07:00</td>\n",
              "      <td>2019-01-07 19:57:00-08:00</td>\n",
              "    </tr>\n",
              "    <tr>\n",
              "      <th>3</th>\n",
              "      <td>2019-05-05 17:00:00</td>\n",
              "      <td>2019-05-05 17:00:00-07:00</td>\n",
              "      <td>2019-05-06 12:00:00-07:00</td>\n",
              "    </tr>\n",
              "    <tr>\n",
              "      <th>4</th>\n",
              "      <td>2019-05-09 17:00:00</td>\n",
              "      <td>2019-05-09 17:00:00-07:00</td>\n",
              "      <td>2018-03-09 09:55:00-08:00</td>\n",
              "    </tr>\n",
              "  </tbody>\n",
              "</table>\n",
              "</div>"
            ],
            "text/plain": [
              "  transaction_date_am_la transaction_date_am_la_fix  user_creation_date_am_la\n",
              "0    2019-05-03 17:00:00  2019-05-03 17:00:00-07:00 2019-05-03 19:49:00-07:00\n",
              "1    2019-05-04 17:00:00  2019-05-04 17:00:00-07:00 2019-05-05 09:09:00-07:00\n",
              "2    2019-05-04 17:00:00  2019-05-04 17:00:00-07:00 2019-01-07 19:57:00-08:00\n",
              "3    2019-05-05 17:00:00  2019-05-05 17:00:00-07:00 2019-05-06 12:00:00-07:00\n",
              "4    2019-05-09 17:00:00  2019-05-09 17:00:00-07:00 2018-03-09 09:55:00-08:00"
            ]
          },
          "metadata": {
            "tags": []
          },
          "execution_count": 68
        }
      ]
    },
    {
      "cell_type": "code",
      "metadata": {
        "id": "21z4ylEp1QB7",
        "colab_type": "code",
        "outputId": "73a3c1ce-ede2-4777-8456-e4f1cfd1b3c0",
        "colab": {
          "base_uri": "https://localhost:8080/",
          "height": 395
        }
      },
      "source": [
        "(df.transaction_date_am_la_fix - df.user_creation_date_am_la).dt.days.hist(figsize=(10,6))"
      ],
      "execution_count": 0,
      "outputs": [
        {
          "output_type": "execute_result",
          "data": {
            "text/plain": [
              "<matplotlib.axes._subplots.AxesSubplot at 0x7fa6be0b8198>"
            ]
          },
          "metadata": {
            "tags": []
          },
          "execution_count": 69
        },
        {
          "output_type": "display_data",
          "data": {
            "image/png": "[encoded data removed]",
            "text/plain": [
              "<Figure size 720x432 with 1 Axes>"
            ]
          },
          "metadata": {
            "tags": []
          }
        }
      ]
    },
    {
      "cell_type": "code",
      "metadata": {
        "id": "EpwXDF2idw6R",
        "colab_type": "code",
        "outputId": "f8e550f8-4874-4f85-c6e9-ed2200e834eb",
        "colab": {
          "base_uri": "https://localhost:8080/",
          "height": 309
        }
      },
      "source": [
        "df.head()"
      ],
      "execution_count": 0,
      "outputs": [
        {
          "output_type": "execute_result",
          "data": {
            "text/html": [
              "<div>\n",
              "<style scoped>\n",
              "    .dataframe tbody tr th:only-of-type {\n",
              "        vertical-align: middle;\n",
              "    }\n",
              "\n",
              "    .dataframe tbody tr th {\n",
              "        vertical-align: top;\n",
              "    }\n",
              "\n",
              "    .dataframe thead th {\n",
              "        text-align: right;\n",
              "    }\n",
              "</style>\n",
              "<table border=\"1\" class=\"dataframe\">\n",
              "  <thead>\n",
              "    <tr style=\"text-align: right;\">\n",
              "      <th></th>\n",
              "      <th>created_am_la</th>\n",
              "      <th>payment_method_name</th>\n",
              "      <th>transaction_currency</th>\n",
              "      <th>transaction_date_am_la</th>\n",
              "      <th>user_id</th>\n",
              "      <th>plan_period</th>\n",
              "      <th>plan_period_first_activated_plan</th>\n",
              "      <th>transaction_amount_100_usd</th>\n",
              "      <th>payment_method_name_use</th>\n",
              "      <th>error_message</th>\n",
              "      <th>crosswalkplanperiod_touse</th>\n",
              "      <th>plan_country_from_subscription</th>\n",
              "      <th>user_external_plan_first_activated_plan</th>\n",
              "      <th>browser</th>\n",
              "      <th>operatingSystem</th>\n",
              "      <th>isMobile</th>\n",
              "      <th>mobileDeviceBranding</th>\n",
              "      <th>deviceCategory</th>\n",
              "      <th>continent</th>\n",
              "      <th>subContinent</th>\n",
              "      <th>country</th>\n",
              "      <th>city</th>\n",
              "      <th>last_login</th>\n",
              "      <th>joined_day_pageviews</th>\n",
              "      <th>pageviews_in_first_month</th>\n",
              "      <th>pageviews_in_second_month</th>\n",
              "      <th>pageviews_in_third_month</th>\n",
              "      <th>pageviews_after_third_month</th>\n",
              "      <th>chargeback</th>\n",
              "      <th>user_creation_date_am_la</th>\n",
              "      <th>transaction_date_am_la_fix</th>\n",
              "    </tr>\n",
              "  </thead>\n",
              "  <tbody>\n",
              "    <tr>\n",
              "      <th>0</th>\n",
              "      <td>2019-05-03 19:51:00</td>\n",
              "      <td>debitcard</td>\n",
              "      <td>MXN</td>\n",
              "      <td>2019-05-03 17:00:00</td>\n",
              "      <td>341412195</td>\n",
              "      <td>30</td>\n",
              "      <td>30</td>\n",
              "      <td>26.38</td>\n",
              "      <td>debitcard</td>\n",
              "      <td>APPROVED</td>\n",
              "      <td>NaN</td>\n",
              "      <td>NaN</td>\n",
              "      <td>monthly_20171212</td>\n",
              "      <td>Chrome</td>\n",
              "      <td>Android</td>\n",
              "      <td>True</td>\n",
              "      <td>Motorola</td>\n",
              "      <td>mobile</td>\n",
              "      <td>Americas</td>\n",
              "      <td>Central America</td>\n",
              "      <td>Mexico</td>\n",
              "      <td>Aguascalientes</td>\n",
              "      <td>2019-05-04</td>\n",
              "      <td>7</td>\n",
              "      <td>23</td>\n",
              "      <td>0</td>\n",
              "      <td>0</td>\n",
              "      <td>0</td>\n",
              "      <td>0</td>\n",
              "      <td>2019-05-03 19:49:00-07:00</td>\n",
              "      <td>2019-05-03 17:00:00-07:00</td>\n",
              "    </tr>\n",
              "    <tr>\n",
              "      <th>1</th>\n",
              "      <td>2019-05-05 09:10:00</td>\n",
              "      <td>creditcard</td>\n",
              "      <td>ARS</td>\n",
              "      <td>2019-05-04 17:00:00</td>\n",
              "      <td>341479440</td>\n",
              "      <td>30</td>\n",
              "      <td>30</td>\n",
              "      <td>6.73</td>\n",
              "      <td>creditcard</td>\n",
              "      <td>APPROVED</td>\n",
              "      <td>NaN</td>\n",
              "      <td>NaN</td>\n",
              "      <td>monthly_20171212</td>\n",
              "      <td>Chrome</td>\n",
              "      <td>Android</td>\n",
              "      <td>True</td>\n",
              "      <td>Samsung</td>\n",
              "      <td>mobile</td>\n",
              "      <td>Americas</td>\n",
              "      <td>South America</td>\n",
              "      <td>Argentina</td>\n",
              "      <td>(not set)</td>\n",
              "      <td>2019-05-05</td>\n",
              "      <td>20</td>\n",
              "      <td>26</td>\n",
              "      <td>0</td>\n",
              "      <td>0</td>\n",
              "      <td>0</td>\n",
              "      <td>0</td>\n",
              "      <td>2019-05-05 09:09:00-07:00</td>\n",
              "      <td>2019-05-04 17:00:00-07:00</td>\n",
              "    </tr>\n",
              "    <tr>\n",
              "      <th>2</th>\n",
              "      <td>2019-05-05 12:06:00</td>\n",
              "      <td>debitcard</td>\n",
              "      <td>MXN</td>\n",
              "      <td>2019-05-04 17:00:00</td>\n",
              "      <td>334039570</td>\n",
              "      <td>30</td>\n",
              "      <td>30</td>\n",
              "      <td>26.38</td>\n",
              "      <td>debitcard</td>\n",
              "      <td>APPROVED</td>\n",
              "      <td>NaN</td>\n",
              "      <td>NaN</td>\n",
              "      <td>monthly_20171212</td>\n",
              "      <td>Chrome</td>\n",
              "      <td>Windows</td>\n",
              "      <td>False</td>\n",
              "      <td>0</td>\n",
              "      <td>desktop</td>\n",
              "      <td>Americas</td>\n",
              "      <td>Central America</td>\n",
              "      <td>Mexico</td>\n",
              "      <td>Tepexpan</td>\n",
              "      <td>2019-05-05</td>\n",
              "      <td>13</td>\n",
              "      <td>13</td>\n",
              "      <td>1</td>\n",
              "      <td>0</td>\n",
              "      <td>85</td>\n",
              "      <td>0</td>\n",
              "      <td>2019-01-07 19:57:00-08:00</td>\n",
              "      <td>2019-05-04 17:00:00-07:00</td>\n",
              "    </tr>\n",
              "    <tr>\n",
              "      <th>3</th>\n",
              "      <td>2019-05-06 16:40:00</td>\n",
              "      <td>creditcard</td>\n",
              "      <td>ARS</td>\n",
              "      <td>2019-05-05 17:00:00</td>\n",
              "      <td>341572424</td>\n",
              "      <td>30</td>\n",
              "      <td>30</td>\n",
              "      <td>0.65</td>\n",
              "      <td>creditcard</td>\n",
              "      <td>APPROVED</td>\n",
              "      <td>NaN</td>\n",
              "      <td>NaN</td>\n",
              "      <td>2for2_20171212</td>\n",
              "      <td>Chrome</td>\n",
              "      <td>Windows</td>\n",
              "      <td>False</td>\n",
              "      <td>0</td>\n",
              "      <td>desktop</td>\n",
              "      <td>Americas</td>\n",
              "      <td>South America</td>\n",
              "      <td>Argentina</td>\n",
              "      <td>(not set)</td>\n",
              "      <td>2019-05-19</td>\n",
              "      <td>4</td>\n",
              "      <td>10</td>\n",
              "      <td>0</td>\n",
              "      <td>0</td>\n",
              "      <td>0</td>\n",
              "      <td>0</td>\n",
              "      <td>2019-05-06 12:00:00-07:00</td>\n",
              "      <td>2019-05-05 17:00:00-07:00</td>\n",
              "    </tr>\n",
              "    <tr>\n",
              "      <th>4</th>\n",
              "      <td>2019-05-10 03:37:00</td>\n",
              "      <td>debitcard</td>\n",
              "      <td>EUR</td>\n",
              "      <td>2019-05-09 17:00:00</td>\n",
              "      <td>315339375</td>\n",
              "      <td>30</td>\n",
              "      <td>30</td>\n",
              "      <td>2.25</td>\n",
              "      <td>debitcard</td>\n",
              "      <td>APPROVED</td>\n",
              "      <td>NaN</td>\n",
              "      <td>NaN</td>\n",
              "      <td>2for2_20171212</td>\n",
              "      <td>Chrome</td>\n",
              "      <td>Windows</td>\n",
              "      <td>False</td>\n",
              "      <td>0</td>\n",
              "      <td>desktop</td>\n",
              "      <td>Europe</td>\n",
              "      <td>Southern Europe</td>\n",
              "      <td>Spain</td>\n",
              "      <td>Pamplona</td>\n",
              "      <td>2019-05-10</td>\n",
              "      <td>10</td>\n",
              "      <td>13</td>\n",
              "      <td>0</td>\n",
              "      <td>0</td>\n",
              "      <td>14</td>\n",
              "      <td>0</td>\n",
              "      <td>2018-03-09 09:55:00-08:00</td>\n",
              "      <td>2019-05-09 17:00:00-07:00</td>\n",
              "    </tr>\n",
              "  </tbody>\n",
              "</table>\n",
              "</div>"
            ],
            "text/plain": [
              "        created_am_la  ... transaction_date_am_la_fix\n",
              "0 2019-05-03 19:51:00  ...  2019-05-03 17:00:00-07:00\n",
              "1 2019-05-05 09:10:00  ...  2019-05-04 17:00:00-07:00\n",
              "2 2019-05-05 12:06:00  ...  2019-05-04 17:00:00-07:00\n",
              "3 2019-05-06 16:40:00  ...  2019-05-05 17:00:00-07:00\n",
              "4 2019-05-10 03:37:00  ...  2019-05-09 17:00:00-07:00\n",
              "\n",
              "[5 rows x 31 columns]"
            ]
          },
          "metadata": {
            "tags": []
          },
          "execution_count": 70
        }
      ]
    },
    {
      "cell_type": "code",
      "metadata": {
        "id": "smXnYqXCeLlT",
        "colab_type": "code",
        "outputId": "ca72aea1-08be-4db9-ad33-4b7d2b3aef19",
        "colab": {
          "base_uri": "https://localhost:8080/",
          "height": 395
        }
      },
      "source": [
        "df['last_login_am_la'] = df.last_login.dt.tz_localize('America/Los_Angeles')\n",
        "(df.last_login_am_la - df.loc[df.chargeback==1,'user_creation_date_am_la']).dt.days.hist(figsize=(10,6))"
      ],
      "execution_count": 0,
      "outputs": [
        {
          "output_type": "execute_result",
          "data": {
            "text/plain": [
              "<matplotlib.axes._subplots.AxesSubplot at 0x7fa6be066ef0>"
            ]
          },
          "metadata": {
            "tags": []
          },
          "execution_count": 73
        },
        {
          "output_type": "display_data",
          "data": {
            "image/png": "[encoded data removed]",
            "text/plain": [
              "<Figure size 720x432 with 1 Axes>"
            ]
          },
          "metadata": {
            "tags": []
          }
        }
      ]
    },
    {
      "cell_type": "code",
      "metadata": {
        "id": "VQW6Igsbg9Q9",
        "colab_type": "code",
        "outputId": "0089686f-f63c-4c3a-a812-4a282f69eb2b",
        "colab": {
          "base_uri": "https://localhost:8080/",
          "height": 395
        }
      },
      "source": [
        "(df.last_login_am_la - df.loc[df.chargeback==0,'user_creation_date_am_la']).dt.days.hist(figsize=(10,6))"
      ],
      "execution_count": 0,
      "outputs": [
        {
          "output_type": "execute_result",
          "data": {
            "text/plain": [
              "<matplotlib.axes._subplots.AxesSubplot at 0x7fa6bdec6860>"
            ]
          },
          "metadata": {
            "tags": []
          },
          "execution_count": 74
        },
        {
          "output_type": "display_data",
          "data": {
            "image/png": "[encoded data removed]",
            "text/plain": [
              "<Figure size 720x432 with 1 Axes>"
            ]
          },
          "metadata": {
            "tags": []
          }
        }
      ]
    },
    {
      "cell_type": "code",
      "metadata": {
        "id": "TWMbou19QnAw",
        "colab_type": "code",
        "outputId": "058c784b-acd8-4f10-8c37-917a02bfab37",
        "colab": {
          "base_uri": "https://localhost:8080/",
          "height": 34
        }
      },
      "source": [
        "days = (df.transaction_date_am_la_fix - df.user_creation_date_am_la).dt.days \n",
        "\n",
        "sum(days<60)/len(days)"
      ],
      "execution_count": 0,
      "outputs": [
        {
          "output_type": "execute_result",
          "data": {
            "text/plain": [
              "0.47582978723404257"
            ]
          },
          "metadata": {
            "tags": []
          },
          "execution_count": 34
        }
      ]
    },
    {
      "cell_type": "code",
      "metadata": {
        "id": "mOu9NYRt1eng",
        "colab_type": "code",
        "outputId": "6c0dfe83-2f1e-4bd8-96e2-826326c8a370",
        "colab": {
          "base_uri": "https://localhost:8080/",
          "height": 359
        }
      },
      "source": [
        "df[['transaction_date_am_la_fix', 'user_creation_date_am_la']].head(10)"
      ],
      "execution_count": 0,
      "outputs": [
        {
          "output_type": "execute_result",
          "data": {
            "text/html": [
              "<div>\n",
              "<style scoped>\n",
              "    .dataframe tbody tr th:only-of-type {\n",
              "        vertical-align: middle;\n",
              "    }\n",
              "\n",
              "    .dataframe tbody tr th {\n",
              "        vertical-align: top;\n",
              "    }\n",
              "\n",
              "    .dataframe thead th {\n",
              "        text-align: right;\n",
              "    }\n",
              "</style>\n",
              "<table border=\"1\" class=\"dataframe\">\n",
              "  <thead>\n",
              "    <tr style=\"text-align: right;\">\n",
              "      <th></th>\n",
              "      <th>transaction_date_am_la_fix</th>\n",
              "      <th>user_creation_date_am_la</th>\n",
              "    </tr>\n",
              "  </thead>\n",
              "  <tbody>\n",
              "    <tr>\n",
              "      <th>0</th>\n",
              "      <td>2019-05-03 17:00:00-07:00</td>\n",
              "      <td>2019-05-03 19:49:00-07:00</td>\n",
              "    </tr>\n",
              "    <tr>\n",
              "      <th>1</th>\n",
              "      <td>2019-05-04 17:00:00-07:00</td>\n",
              "      <td>2019-05-05 09:09:00-07:00</td>\n",
              "    </tr>\n",
              "    <tr>\n",
              "      <th>2</th>\n",
              "      <td>2019-05-04 17:00:00-07:00</td>\n",
              "      <td>2019-01-07 19:57:00-08:00</td>\n",
              "    </tr>\n",
              "    <tr>\n",
              "      <th>3</th>\n",
              "      <td>2019-05-05 17:00:00-07:00</td>\n",
              "      <td>2019-05-06 12:00:00-07:00</td>\n",
              "    </tr>\n",
              "    <tr>\n",
              "      <th>4</th>\n",
              "      <td>2019-05-09 17:00:00-07:00</td>\n",
              "      <td>2018-03-09 09:55:00-08:00</td>\n",
              "    </tr>\n",
              "    <tr>\n",
              "      <th>5</th>\n",
              "      <td>2019-05-09 17:00:00-07:00</td>\n",
              "      <td>2019-05-07 19:43:00-07:00</td>\n",
              "    </tr>\n",
              "    <tr>\n",
              "      <th>6</th>\n",
              "      <td>2019-05-04 17:00:00-07:00</td>\n",
              "      <td>2019-03-05 17:45:00-08:00</td>\n",
              "    </tr>\n",
              "    <tr>\n",
              "      <th>7</th>\n",
              "      <td>2019-05-06 17:00:00-07:00</td>\n",
              "      <td>2019-03-27 08:11:00-07:00</td>\n",
              "    </tr>\n",
              "    <tr>\n",
              "      <th>8</th>\n",
              "      <td>2019-05-07 17:00:00-07:00</td>\n",
              "      <td>2019-05-08 15:34:00-07:00</td>\n",
              "    </tr>\n",
              "    <tr>\n",
              "      <th>9</th>\n",
              "      <td>2019-05-08 17:00:00-07:00</td>\n",
              "      <td>2019-05-09 05:24:00-07:00</td>\n",
              "    </tr>\n",
              "  </tbody>\n",
              "</table>\n",
              "</div>"
            ],
            "text/plain": [
              "  transaction_date_am_la_fix  user_creation_date_am_la\n",
              "0  2019-05-03 17:00:00-07:00 2019-05-03 19:49:00-07:00\n",
              "1  2019-05-04 17:00:00-07:00 2019-05-05 09:09:00-07:00\n",
              "2  2019-05-04 17:00:00-07:00 2019-01-07 19:57:00-08:00\n",
              "3  2019-05-05 17:00:00-07:00 2019-05-06 12:00:00-07:00\n",
              "4  2019-05-09 17:00:00-07:00 2018-03-09 09:55:00-08:00\n",
              "5  2019-05-09 17:00:00-07:00 2019-05-07 19:43:00-07:00\n",
              "6  2019-05-04 17:00:00-07:00 2019-03-05 17:45:00-08:00\n",
              "7  2019-05-06 17:00:00-07:00 2019-03-27 08:11:00-07:00\n",
              "8  2019-05-07 17:00:00-07:00 2019-05-08 15:34:00-07:00\n",
              "9  2019-05-08 17:00:00-07:00 2019-05-09 05:24:00-07:00"
            ]
          },
          "metadata": {
            "tags": []
          },
          "execution_count": 35
        }
      ]
    },
    {
      "cell_type": "markdown",
      "metadata": {
        "id": "tWIQg0NB05TO",
        "colab_type": "text"
      },
      "source": [
        "**Lets drop some unnecessary fields which are not required for our model**"
      ]
    },
    {
      "cell_type": "code",
      "metadata": {
        "id": "KR_HVszKxROc",
        "colab_type": "code",
        "outputId": "5f35429e-4222-4e34-f723-b03a5d3db414",
        "colab": {
          "base_uri": "https://localhost:8080/",
          "height": 553
        }
      },
      "source": [
        "df.groupby(['country'])['chargeback'].agg(np.size).sort_values(ascending=False).plot(kind='bar',figsize=(20,7),y='Total Transactions')"
      ],
      "execution_count": 0,
      "outputs": [
        {
          "output_type": "execute_result",
          "data": {
            "text/plain": [
              "<matplotlib.axes._subplots.AxesSubplot at 0x7fa6be7fd898>"
            ]
          },
          "metadata": {
            "tags": []
          },
          "execution_count": 36
        },
        {
          "output_type": "display_data",
          "data": {
            "image/png": "[encoded data removed]",
            "text/plain": [
              "<Figure size 1440x504 with 1 Axes>"
            ]
          },
          "metadata": {
            "tags": []
          }
        }
      ]
    },
    {
      "cell_type": "code",
      "metadata": {
        "id": "xT7qitHzyDam",
        "colab_type": "code",
        "outputId": "e196a2ca-97a7-498d-d572-4f8494853ae5",
        "colab": {
          "base_uri": "https://localhost:8080/",
          "height": 309
        }
      },
      "source": [
        "df.head()"
      ],
      "execution_count": 0,
      "outputs": [
        {
          "output_type": "execute_result",
          "data": {
            "text/html": [
              "<div>\n",
              "<style scoped>\n",
              "    .dataframe tbody tr th:only-of-type {\n",
              "        vertical-align: middle;\n",
              "    }\n",
              "\n",
              "    .dataframe tbody tr th {\n",
              "        vertical-align: top;\n",
              "    }\n",
              "\n",
              "    .dataframe thead th {\n",
              "        text-align: right;\n",
              "    }\n",
              "</style>\n",
              "<table border=\"1\" class=\"dataframe\">\n",
              "  <thead>\n",
              "    <tr style=\"text-align: right;\">\n",
              "      <th></th>\n",
              "      <th>created_am_la</th>\n",
              "      <th>payment_method_name</th>\n",
              "      <th>transaction_currency</th>\n",
              "      <th>transaction_date_am_la</th>\n",
              "      <th>user_id</th>\n",
              "      <th>plan_period</th>\n",
              "      <th>plan_period_first_activated_plan</th>\n",
              "      <th>transaction_amount_100_usd</th>\n",
              "      <th>payment_method_name_use</th>\n",
              "      <th>error_message</th>\n",
              "      <th>crosswalkplanperiod_touse</th>\n",
              "      <th>plan_country_from_subscription</th>\n",
              "      <th>user_external_plan_first_activated_plan</th>\n",
              "      <th>browser</th>\n",
              "      <th>operatingSystem</th>\n",
              "      <th>isMobile</th>\n",
              "      <th>mobileDeviceBranding</th>\n",
              "      <th>deviceCategory</th>\n",
              "      <th>continent</th>\n",
              "      <th>subContinent</th>\n",
              "      <th>country</th>\n",
              "      <th>city</th>\n",
              "      <th>last_login</th>\n",
              "      <th>joined_day_pageviews</th>\n",
              "      <th>pageviews_in_first_month</th>\n",
              "      <th>pageviews_in_second_month</th>\n",
              "      <th>pageviews_in_third_month</th>\n",
              "      <th>pageviews_after_third_month</th>\n",
              "      <th>chargeback</th>\n",
              "      <th>user_creation_date_am_la</th>\n",
              "      <th>transaction_date_am_la_fix</th>\n",
              "    </tr>\n",
              "  </thead>\n",
              "  <tbody>\n",
              "    <tr>\n",
              "      <th>0</th>\n",
              "      <td>2019-05-03 19:51:00</td>\n",
              "      <td>debitcard</td>\n",
              "      <td>MXN</td>\n",
              "      <td>2019-05-03 17:00:00</td>\n",
              "      <td>341412195</td>\n",
              "      <td>30</td>\n",
              "      <td>30</td>\n",
              "      <td>26.38</td>\n",
              "      <td>debitcard</td>\n",
              "      <td>APPROVED</td>\n",
              "      <td>NaN</td>\n",
              "      <td>NaN</td>\n",
              "      <td>monthly_20171212</td>\n",
              "      <td>Chrome</td>\n",
              "      <td>Android</td>\n",
              "      <td>True</td>\n",
              "      <td>Motorola</td>\n",
              "      <td>mobile</td>\n",
              "      <td>Americas</td>\n",
              "      <td>Central America</td>\n",
              "      <td>Mexico</td>\n",
              "      <td>Aguascalientes</td>\n",
              "      <td>2019-05-04</td>\n",
              "      <td>7</td>\n",
              "      <td>23</td>\n",
              "      <td>0</td>\n",
              "      <td>0</td>\n",
              "      <td>0</td>\n",
              "      <td>0</td>\n",
              "      <td>2019-05-03 19:49:00-07:00</td>\n",
              "      <td>2019-05-03 17:00:00-07:00</td>\n",
              "    </tr>\n",
              "    <tr>\n",
              "      <th>1</th>\n",
              "      <td>2019-05-05 09:10:00</td>\n",
              "      <td>creditcard</td>\n",
              "      <td>ARS</td>\n",
              "      <td>2019-05-04 17:00:00</td>\n",
              "      <td>341479440</td>\n",
              "      <td>30</td>\n",
              "      <td>30</td>\n",
              "      <td>6.73</td>\n",
              "      <td>creditcard</td>\n",
              "      <td>APPROVED</td>\n",
              "      <td>NaN</td>\n",
              "      <td>NaN</td>\n",
              "      <td>monthly_20171212</td>\n",
              "      <td>Chrome</td>\n",
              "      <td>Android</td>\n",
              "      <td>True</td>\n",
              "      <td>Samsung</td>\n",
              "      <td>mobile</td>\n",
              "      <td>Americas</td>\n",
              "      <td>South America</td>\n",
              "      <td>Argentina</td>\n",
              "      <td>(not set)</td>\n",
              "      <td>2019-05-05</td>\n",
              "      <td>20</td>\n",
              "      <td>26</td>\n",
              "      <td>0</td>\n",
              "      <td>0</td>\n",
              "      <td>0</td>\n",
              "      <td>0</td>\n",
              "      <td>2019-05-05 09:09:00-07:00</td>\n",
              "      <td>2019-05-04 17:00:00-07:00</td>\n",
              "    </tr>\n",
              "    <tr>\n",
              "      <th>2</th>\n",
              "      <td>2019-05-05 12:06:00</td>\n",
              "      <td>debitcard</td>\n",
              "      <td>MXN</td>\n",
              "      <td>2019-05-04 17:00:00</td>\n",
              "      <td>334039570</td>\n",
              "      <td>30</td>\n",
              "      <td>30</td>\n",
              "      <td>26.38</td>\n",
              "      <td>debitcard</td>\n",
              "      <td>APPROVED</td>\n",
              "      <td>NaN</td>\n",
              "      <td>NaN</td>\n",
              "      <td>monthly_20171212</td>\n",
              "      <td>Chrome</td>\n",
              "      <td>Windows</td>\n",
              "      <td>False</td>\n",
              "      <td>0</td>\n",
              "      <td>desktop</td>\n",
              "      <td>Americas</td>\n",
              "      <td>Central America</td>\n",
              "      <td>Mexico</td>\n",
              "      <td>Tepexpan</td>\n",
              "      <td>2019-05-05</td>\n",
              "      <td>13</td>\n",
              "      <td>13</td>\n",
              "      <td>1</td>\n",
              "      <td>0</td>\n",
              "      <td>85</td>\n",
              "      <td>0</td>\n",
              "      <td>2019-01-07 19:57:00-08:00</td>\n",
              "      <td>2019-05-04 17:00:00-07:00</td>\n",
              "    </tr>\n",
              "    <tr>\n",
              "      <th>3</th>\n",
              "      <td>2019-05-06 16:40:00</td>\n",
              "      <td>creditcard</td>\n",
              "      <td>ARS</td>\n",
              "      <td>2019-05-05 17:00:00</td>\n",
              "      <td>341572424</td>\n",
              "      <td>30</td>\n",
              "      <td>30</td>\n",
              "      <td>0.65</td>\n",
              "      <td>creditcard</td>\n",
              "      <td>APPROVED</td>\n",
              "      <td>NaN</td>\n",
              "      <td>NaN</td>\n",
              "      <td>2for2_20171212</td>\n",
              "      <td>Chrome</td>\n",
              "      <td>Windows</td>\n",
              "      <td>False</td>\n",
              "      <td>0</td>\n",
              "      <td>desktop</td>\n",
              "      <td>Americas</td>\n",
              "      <td>South America</td>\n",
              "      <td>Argentina</td>\n",
              "      <td>(not set)</td>\n",
              "      <td>2019-05-19</td>\n",
              "      <td>4</td>\n",
              "      <td>10</td>\n",
              "      <td>0</td>\n",
              "      <td>0</td>\n",
              "      <td>0</td>\n",
              "      <td>0</td>\n",
              "      <td>2019-05-06 12:00:00-07:00</td>\n",
              "      <td>2019-05-05 17:00:00-07:00</td>\n",
              "    </tr>\n",
              "    <tr>\n",
              "      <th>4</th>\n",
              "      <td>2019-05-10 03:37:00</td>\n",
              "      <td>debitcard</td>\n",
              "      <td>EUR</td>\n",
              "      <td>2019-05-09 17:00:00</td>\n",
              "      <td>315339375</td>\n",
              "      <td>30</td>\n",
              "      <td>30</td>\n",
              "      <td>2.25</td>\n",
              "      <td>debitcard</td>\n",
              "      <td>APPROVED</td>\n",
              "      <td>NaN</td>\n",
              "      <td>NaN</td>\n",
              "      <td>2for2_20171212</td>\n",
              "      <td>Chrome</td>\n",
              "      <td>Windows</td>\n",
              "      <td>False</td>\n",
              "      <td>0</td>\n",
              "      <td>desktop</td>\n",
              "      <td>Europe</td>\n",
              "      <td>Southern Europe</td>\n",
              "      <td>Spain</td>\n",
              "      <td>Pamplona</td>\n",
              "      <td>2019-05-10</td>\n",
              "      <td>10</td>\n",
              "      <td>13</td>\n",
              "      <td>0</td>\n",
              "      <td>0</td>\n",
              "      <td>14</td>\n",
              "      <td>0</td>\n",
              "      <td>2018-03-09 09:55:00-08:00</td>\n",
              "      <td>2019-05-09 17:00:00-07:00</td>\n",
              "    </tr>\n",
              "  </tbody>\n",
              "</table>\n",
              "</div>"
            ],
            "text/plain": [
              "        created_am_la  ... transaction_date_am_la_fix\n",
              "0 2019-05-03 19:51:00  ...  2019-05-03 17:00:00-07:00\n",
              "1 2019-05-05 09:10:00  ...  2019-05-04 17:00:00-07:00\n",
              "2 2019-05-05 12:06:00  ...  2019-05-04 17:00:00-07:00\n",
              "3 2019-05-06 16:40:00  ...  2019-05-05 17:00:00-07:00\n",
              "4 2019-05-10 03:37:00  ...  2019-05-09 17:00:00-07:00\n",
              "\n",
              "[5 rows x 31 columns]"
            ]
          },
          "metadata": {
            "tags": []
          },
          "execution_count": 31
        }
      ]
    },
    {
      "cell_type": "code",
      "metadata": {
        "id": "V4CMxW8HPUFw",
        "colab_type": "code",
        "outputId": "19d1bb17-ce6b-4647-fff3-19922564ae03",
        "colab": {
          "base_uri": "https://localhost:8080/",
          "height": 373
        }
      },
      "source": [
        "df.loc[df.chargeback==1,'browser'].value_counts().plot(kind='bar',title='chargeback by browsers')"
      ],
      "execution_count": 0,
      "outputs": [
        {
          "output_type": "execute_result",
          "data": {
            "text/plain": [
              "<matplotlib.axes._subplots.AxesSubplot at 0x7fa6be40fb38>"
            ]
          },
          "metadata": {
            "tags": []
          },
          "execution_count": 42
        },
        {
          "output_type": "display_data",
          "data": {
            "image/png": "[encoded data removed]",
            "text/plain": [
              "<Figure size 432x288 with 1 Axes>"
            ]
          },
          "metadata": {
            "tags": []
          }
        }
      ]
    },
    {
      "cell_type": "code",
      "metadata": {
        "id": "YPuUlgLpbmwL",
        "colab_type": "code",
        "outputId": "3e21f9fc-5559-416f-ec08-db386b109afd",
        "colab": {
          "base_uri": "https://localhost:8080/",
          "height": 378
        }
      },
      "source": [
        "df.loc[df.chargeback==0,'browser'].value_counts().plot(kind='bar',title='No chargeback by browsers')"
      ],
      "execution_count": 0,
      "outputs": [
        {
          "output_type": "execute_result",
          "data": {
            "text/plain": [
              "<matplotlib.axes._subplots.AxesSubplot at 0x7fa6be2f9f60>"
            ]
          },
          "metadata": {
            "tags": []
          },
          "execution_count": 43
        },
        {
          "output_type": "display_data",
          "data": {
            "image/png": "[encoded data removed]",
            "text/plain": [
              "<Figure size 432x288 with 1 Axes>"
            ]
          },
          "metadata": {
            "tags": []
          }
        }
      ]
    },
    {
      "cell_type": "code",
      "metadata": {
        "id": "6I5FAy_-Tc8t",
        "colab_type": "code",
        "outputId": "4977d146-87c6-41a2-8d65-5bfcf70d9730",
        "colab": {
          "base_uri": "https://localhost:8080/",
          "height": 153
        }
      },
      "source": [
        "df['operatingSystem'].value_counts()"
      ],
      "execution_count": 0,
      "outputs": [
        {
          "output_type": "execute_result",
          "data": {
            "text/plain": [
              "Windows       8246\n",
              "Android       1576\n",
              "Macintosh     1103\n",
              "iOS            776\n",
              "Linux           26\n",
              "Chrome OS       22\n",
              "BlackBerry       1\n",
              "Name: operatingSystem, dtype: int64"
            ]
          },
          "metadata": {
            "tags": []
          },
          "execution_count": 33
        }
      ]
    },
    {
      "cell_type": "code",
      "metadata": {
        "id": "AX4Rd_ejTjut",
        "colab_type": "code",
        "outputId": "363412f7-130e-4e68-8282-488a5ae355ac",
        "colab": {
          "base_uri": "https://localhost:8080/",
          "height": 68
        }
      },
      "source": [
        "df['isMobile'].value_counts()"
      ],
      "execution_count": 0,
      "outputs": [
        {
          "output_type": "execute_result",
          "data": {
            "text/plain": [
              "False    9365\n",
              "True     2385\n",
              "Name: isMobile, dtype: int64"
            ]
          },
          "metadata": {
            "tags": []
          },
          "execution_count": 34
        }
      ]
    },
    {
      "cell_type": "code",
      "metadata": {
        "id": "dwOg7A_TTujq",
        "colab_type": "code",
        "outputId": "1fc13773-0375-4938-d65c-5b91fb36a72b",
        "colab": {
          "base_uri": "https://localhost:8080/",
          "height": 119
        }
      },
      "source": [
        "df['mobileDeviceBranding'].value_counts().head()"
      ],
      "execution_count": 0,
      "outputs": [
        {
          "output_type": "execute_result",
          "data": {
            "text/plain": [
              "0           9365\n",
              "Apple        776\n",
              "Samsung      747\n",
              "Huawei       262\n",
              "Motorola     192\n",
              "Name: mobileDeviceBranding, dtype: int64"
            ]
          },
          "metadata": {
            "tags": []
          },
          "execution_count": 35
        }
      ]
    },
    {
      "cell_type": "code",
      "metadata": {
        "id": "Jhn6EdozT3oO",
        "colab_type": "code",
        "outputId": "57333daa-0d1d-47c6-a405-f1a7207106c8",
        "colab": {
          "base_uri": "https://localhost:8080/",
          "height": 85
        }
      },
      "source": [
        "df['deviceCategory'].value_counts()"
      ],
      "execution_count": 0,
      "outputs": [
        {
          "output_type": "execute_result",
          "data": {
            "text/plain": [
              "desktop    9365\n",
              "mobile     2212\n",
              "tablet      173\n",
              "Name: deviceCategory, dtype: int64"
            ]
          },
          "metadata": {
            "tags": []
          },
          "execution_count": 36
        }
      ]
    },
    {
      "cell_type": "markdown",
      "metadata": {
        "id": "3FYUJATwKif8",
        "colab_type": "text"
      },
      "source": [
        "difference between last login and created\n",
        "first 30 days total views, 2nd month,  3 month, > 3 month download, total hits on the day of subscription also.\n",
        "if cancel immediately (no of days from subscription till cancel date or chargeback).\n"
      ]
    },
    {
      "cell_type": "markdown",
      "metadata": {
        "id": "v9FeeWoatndE",
        "colab_type": "text"
      },
      "source": [
        "# Lets analyze chargeback and respective categories"
      ]
    },
    {
      "cell_type": "code",
      "metadata": {
        "id": "cxDI6O5FUCbv",
        "colab_type": "code",
        "outputId": "bd92107a-dbf6-4dfe-acdf-354c4126fc7b",
        "colab": {
          "base_uri": "https://localhost:8080/",
          "height": 142
        }
      },
      "source": [
        "df.groupby('payment_method_name').sum()[['chargeback']]"
      ],
      "execution_count": 0,
      "outputs": [
        {
          "output_type": "execute_result",
          "data": {
            "text/html": [
              "<div>\n",
              "<style scoped>\n",
              "    .dataframe tbody tr th:only-of-type {\n",
              "        vertical-align: middle;\n",
              "    }\n",
              "\n",
              "    .dataframe tbody tr th {\n",
              "        vertical-align: top;\n",
              "    }\n",
              "\n",
              "    .dataframe thead th {\n",
              "        text-align: right;\n",
              "    }\n",
              "</style>\n",
              "<table border=\"1\" class=\"dataframe\">\n",
              "  <thead>\n",
              "    <tr style=\"text-align: right;\">\n",
              "      <th></th>\n",
              "      <th>chargeback</th>\n",
              "    </tr>\n",
              "    <tr>\n",
              "      <th>payment_method_name</th>\n",
              "      <th></th>\n",
              "    </tr>\n",
              "  </thead>\n",
              "  <tbody>\n",
              "    <tr>\n",
              "      <th>creditcard</th>\n",
              "      <td>180</td>\n",
              "    </tr>\n",
              "    <tr>\n",
              "      <th>debitcard</th>\n",
              "      <td>45</td>\n",
              "    </tr>\n",
              "  </tbody>\n",
              "</table>\n",
              "</div>"
            ],
            "text/plain": [
              "                     chargeback\n",
              "payment_method_name            \n",
              "creditcard                  180\n",
              "debitcard                    45"
            ]
          },
          "metadata": {
            "tags": []
          },
          "execution_count": 37
        }
      ]
    },
    {
      "cell_type": "code",
      "metadata": {
        "id": "Xnt3ePI7s8Sr",
        "colab_type": "code",
        "outputId": "0dd7e350-c749-4317-f1d2-6b843546600f",
        "colab": {
          "base_uri": "https://localhost:8080/",
          "height": 314
        }
      },
      "source": [
        "df.groupby('transaction_currency').sum()[['chargeback']].sort_values('chargeback',ascending=False).plot(kind='bar')"
      ],
      "execution_count": 0,
      "outputs": [
        {
          "output_type": "execute_result",
          "data": {
            "text/plain": [
              "<matplotlib.axes._subplots.AxesSubplot at 0x7ff3fc653160>"
            ]
          },
          "metadata": {
            "tags": []
          },
          "execution_count": 38
        },
        {
          "output_type": "display_data",
          "data": {
            "image/png": "[encoded data removed]",
            "text/plain": [
              "<Figure size 432x288 with 1 Axes>"
            ]
          },
          "metadata": {
            "tags": []
          }
        }
      ]
    },
    {
      "cell_type": "code",
      "metadata": {
        "id": "Z5MJH5mxtz4k",
        "colab_type": "code",
        "outputId": "bb0af165-c36e-4546-bf97-4e5ae1753331",
        "colab": {
          "base_uri": "https://localhost:8080/",
          "height": 314
        }
      },
      "source": [
        "df.loc[df.chargeback==1].groupby('transaction_currency').sum()[['chargeback']].sort_values('chargeback',ascending=False).plot(kind='bar')"
      ],
      "execution_count": 0,
      "outputs": [
        {
          "output_type": "execute_result",
          "data": {
            "text/plain": [
              "<matplotlib.axes._subplots.AxesSubplot at 0x7fa6bde3df98>"
            ]
          },
          "metadata": {
            "tags": []
          },
          "execution_count": 75
        },
        {
          "output_type": "display_data",
          "data": {
            "image/png": "[encoded data removed]",
            "text/plain": [
              "<Figure size 432x288 with 1 Axes>"
            ]
          },
          "metadata": {
            "tags": []
          }
        }
      ]
    },
    {
      "cell_type": "code",
      "metadata": {
        "id": "68sgyk4aPelD",
        "colab_type": "code",
        "outputId": "0bd0247e-3861-4d6f-b4a8-9a9cc224ec2d",
        "colab": {
          "base_uri": "https://localhost:8080/",
          "height": 314
        }
      },
      "source": [
        "df.loc[df.chargeback==0].groupby('transaction_currency').count()[['chargeback']].sort_values('chargeback',ascending=False).plot(kind='bar')"
      ],
      "execution_count": 0,
      "outputs": [
        {
          "output_type": "execute_result",
          "data": {
            "text/plain": [
              "<matplotlib.axes._subplots.AxesSubplot at 0x7fa6bdc970b8>"
            ]
          },
          "metadata": {
            "tags": []
          },
          "execution_count": 77
        },
        {
          "output_type": "display_data",
          "data": {
            "image/png": "[encoded data removed]",
            "text/plain": [
              "<Figure size 432x288 with 1 Axes>"
            ]
          },
          "metadata": {
            "tags": []
          }
        }
      ]
    },
    {
      "cell_type": "code",
      "metadata": {
        "id": "XVSn_1HcuMrZ",
        "colab_type": "code",
        "outputId": "fae207da-94c7-43a8-b2e5-3e863c55e75e",
        "colab": {
          "base_uri": "https://localhost:8080/",
          "height": 310
        }
      },
      "source": [
        "df.loc[df.chargeback==1].groupby('plan_period').sum()[['chargeback']].plot(kind='bar')"
      ],
      "execution_count": 0,
      "outputs": [
        {
          "output_type": "execute_result",
          "data": {
            "text/plain": [
              "<matplotlib.axes._subplots.AxesSubplot at 0x7fa6bdc97c18>"
            ]
          },
          "metadata": {
            "tags": []
          },
          "execution_count": 78
        },
        {
          "output_type": "display_data",
          "data": {
            "image/png": "[encoded data removed]",
            "text/plain": [
              "<Figure size 432x288 with 1 Axes>"
            ]
          },
          "metadata": {
            "tags": []
          }
        }
      ]
    },
    {
      "cell_type": "code",
      "metadata": {
        "id": "eLWJtKVwuYNW",
        "colab_type": "code",
        "outputId": "0eaa7b12-3a74-454d-e1d6-17fd1151a37e",
        "colab": {
          "base_uri": "https://localhost:8080/",
          "height": 173
        }
      },
      "source": [
        "df.groupby('plan_period_first_activated_plan').sum()[['chargeback']]"
      ],
      "execution_count": 0,
      "outputs": [
        {
          "output_type": "execute_result",
          "data": {
            "text/html": [
              "<div>\n",
              "<style scoped>\n",
              "    .dataframe tbody tr th:only-of-type {\n",
              "        vertical-align: middle;\n",
              "    }\n",
              "\n",
              "    .dataframe tbody tr th {\n",
              "        vertical-align: top;\n",
              "    }\n",
              "\n",
              "    .dataframe thead th {\n",
              "        text-align: right;\n",
              "    }\n",
              "</style>\n",
              "<table border=\"1\" class=\"dataframe\">\n",
              "  <thead>\n",
              "    <tr style=\"text-align: right;\">\n",
              "      <th></th>\n",
              "      <th>chargeback</th>\n",
              "    </tr>\n",
              "    <tr>\n",
              "      <th>plan_period_first_activated_plan</th>\n",
              "      <th></th>\n",
              "    </tr>\n",
              "  </thead>\n",
              "  <tbody>\n",
              "    <tr>\n",
              "      <th>30</th>\n",
              "      <td>215</td>\n",
              "    </tr>\n",
              "    <tr>\n",
              "      <th>90</th>\n",
              "      <td>8</td>\n",
              "    </tr>\n",
              "    <tr>\n",
              "      <th>360</th>\n",
              "      <td>2</td>\n",
              "    </tr>\n",
              "  </tbody>\n",
              "</table>\n",
              "</div>"
            ],
            "text/plain": [
              "                                  chargeback\n",
              "plan_period_first_activated_plan            \n",
              "30                                       215\n",
              "90                                         8\n",
              "360                                        2"
            ]
          },
          "metadata": {
            "tags": []
          },
          "execution_count": 41
        }
      ]
    },
    {
      "cell_type": "code",
      "metadata": {
        "id": "aEzMcU3juhME",
        "colab_type": "code",
        "outputId": "8e0179f7-88be-4a63-8c84-5962354305c0",
        "colab": {
          "base_uri": "https://localhost:8080/",
          "height": 142
        }
      },
      "source": [
        "df.groupby('payment_method_name_use').sum()[['chargeback']]"
      ],
      "execution_count": 0,
      "outputs": [
        {
          "output_type": "execute_result",
          "data": {
            "text/html": [
              "<div>\n",
              "<style scoped>\n",
              "    .dataframe tbody tr th:only-of-type {\n",
              "        vertical-align: middle;\n",
              "    }\n",
              "\n",
              "    .dataframe tbody tr th {\n",
              "        vertical-align: top;\n",
              "    }\n",
              "\n",
              "    .dataframe thead th {\n",
              "        text-align: right;\n",
              "    }\n",
              "</style>\n",
              "<table border=\"1\" class=\"dataframe\">\n",
              "  <thead>\n",
              "    <tr style=\"text-align: right;\">\n",
              "      <th></th>\n",
              "      <th>chargeback</th>\n",
              "    </tr>\n",
              "    <tr>\n",
              "      <th>payment_method_name_use</th>\n",
              "      <th></th>\n",
              "    </tr>\n",
              "  </thead>\n",
              "  <tbody>\n",
              "    <tr>\n",
              "      <th>creditcard</th>\n",
              "      <td>180</td>\n",
              "    </tr>\n",
              "    <tr>\n",
              "      <th>debitcard</th>\n",
              "      <td>45</td>\n",
              "    </tr>\n",
              "  </tbody>\n",
              "</table>\n",
              "</div>"
            ],
            "text/plain": [
              "                         chargeback\n",
              "payment_method_name_use            \n",
              "creditcard                      180\n",
              "debitcard                        45"
            ]
          },
          "metadata": {
            "tags": []
          },
          "execution_count": 42
        }
      ]
    },
    {
      "cell_type": "code",
      "metadata": {
        "id": "VViuGVcBuo_p",
        "colab_type": "code",
        "colab": {}
      },
      "source": [
        "# below two fileds are duplicate, so lets drop them\n",
        "df.drop(['plan_period_first_activated_plan','payment_method_name_use'],axis=1,inplace=True)"
      ],
      "execution_count": 0,
      "outputs": []
    },
    {
      "cell_type": "code",
      "metadata": {
        "id": "szjf9XvfvNHJ",
        "colab_type": "code",
        "outputId": "0b28646d-b9a8-404a-c8ad-2954b6af5a69",
        "colab": {
          "base_uri": "https://localhost:8080/",
          "height": 204
        }
      },
      "source": [
        "df.groupby('error_message').sum()[['chargeback']]"
      ],
      "execution_count": 0,
      "outputs": [
        {
          "output_type": "execute_result",
          "data": {
            "text/html": [
              "<div>\n",
              "<style scoped>\n",
              "    .dataframe tbody tr th:only-of-type {\n",
              "        vertical-align: middle;\n",
              "    }\n",
              "\n",
              "    .dataframe tbody tr th {\n",
              "        vertical-align: top;\n",
              "    }\n",
              "\n",
              "    .dataframe thead th {\n",
              "        text-align: right;\n",
              "    }\n",
              "</style>\n",
              "<table border=\"1\" class=\"dataframe\">\n",
              "  <thead>\n",
              "    <tr style=\"text-align: right;\">\n",
              "      <th></th>\n",
              "      <th>chargeback</th>\n",
              "    </tr>\n",
              "    <tr>\n",
              "      <th>error_message</th>\n",
              "      <th></th>\n",
              "    </tr>\n",
              "  </thead>\n",
              "  <tbody>\n",
              "    <tr>\n",
              "      <th>APPROVED</th>\n",
              "      <td>80</td>\n",
              "    </tr>\n",
              "    <tr>\n",
              "      <th>FAILED</th>\n",
              "      <td>0</td>\n",
              "    </tr>\n",
              "    <tr>\n",
              "      <th>NOT CHECKED BY ACQUIRER</th>\n",
              "      <td>0</td>\n",
              "    </tr>\n",
              "    <tr>\n",
              "      <th>UNKNOWN</th>\n",
              "      <td>145</td>\n",
              "    </tr>\n",
              "  </tbody>\n",
              "</table>\n",
              "</div>"
            ],
            "text/plain": [
              "                         chargeback\n",
              "error_message                      \n",
              "APPROVED                         80\n",
              "FAILED                            0\n",
              "NOT CHECKED BY ACQUIRER           0\n",
              "UNKNOWN                         145"
            ]
          },
          "metadata": {
            "tags": []
          },
          "execution_count": 44
        }
      ]
    },
    {
      "cell_type": "code",
      "metadata": {
        "id": "FAHvcf7NvTV8",
        "colab_type": "code",
        "outputId": "331ed90e-1815-47bd-a6a2-e4f1d9695f76",
        "colab": {
          "base_uri": "https://localhost:8080/",
          "height": 173
        }
      },
      "source": [
        "df.groupby('crosswalkplanperiod_touse').sum()[['chargeback']]"
      ],
      "execution_count": 0,
      "outputs": [
        {
          "output_type": "execute_result",
          "data": {
            "text/html": [
              "<div>\n",
              "<style scoped>\n",
              "    .dataframe tbody tr th:only-of-type {\n",
              "        vertical-align: middle;\n",
              "    }\n",
              "\n",
              "    .dataframe tbody tr th {\n",
              "        vertical-align: top;\n",
              "    }\n",
              "\n",
              "    .dataframe thead th {\n",
              "        text-align: right;\n",
              "    }\n",
              "</style>\n",
              "<table border=\"1\" class=\"dataframe\">\n",
              "  <thead>\n",
              "    <tr style=\"text-align: right;\">\n",
              "      <th></th>\n",
              "      <th>chargeback</th>\n",
              "    </tr>\n",
              "    <tr>\n",
              "      <th>crosswalkplanperiod_touse</th>\n",
              "      <th></th>\n",
              "    </tr>\n",
              "  </thead>\n",
              "  <tbody>\n",
              "    <tr>\n",
              "      <th>30.0</th>\n",
              "      <td>24</td>\n",
              "    </tr>\n",
              "    <tr>\n",
              "      <th>90.0</th>\n",
              "      <td>6</td>\n",
              "    </tr>\n",
              "    <tr>\n",
              "      <th>360.0</th>\n",
              "      <td>2</td>\n",
              "    </tr>\n",
              "  </tbody>\n",
              "</table>\n",
              "</div>"
            ],
            "text/plain": [
              "                           chargeback\n",
              "crosswalkplanperiod_touse            \n",
              "30.0                               24\n",
              "90.0                                6\n",
              "360.0                               2"
            ]
          },
          "metadata": {
            "tags": []
          },
          "execution_count": 45
        }
      ]
    },
    {
      "cell_type": "code",
      "metadata": {
        "id": "JKBfiC11vzQO",
        "colab_type": "code",
        "colab": {}
      },
      "source": [
        "# this field also seems reduntant so lets drop this as well.\n",
        "df.drop(['crosswalkplanperiod_touse'],axis=1,inplace=True)"
      ],
      "execution_count": 0,
      "outputs": []
    },
    {
      "cell_type": "code",
      "metadata": {
        "id": "qs_hJfdQwFSh",
        "colab_type": "code",
        "outputId": "96ec9d4d-797c-45f1-c42f-cc5820bb5823",
        "colab": {
          "base_uri": "https://localhost:8080/",
          "height": 34
        }
      },
      "source": [
        "df.shape"
      ],
      "execution_count": 0,
      "outputs": [
        {
          "output_type": "execute_result",
          "data": {
            "text/plain": [
              "(11750, 28)"
            ]
          },
          "metadata": {
            "tags": []
          },
          "execution_count": 47
        }
      ]
    },
    {
      "cell_type": "code",
      "metadata": {
        "id": "trU1XeG3wGpw",
        "colab_type": "code",
        "outputId": "c72a546d-5996-4e39-f742-6f23c2e07519",
        "colab": {
          "base_uri": "https://localhost:8080/",
          "height": 306
        }
      },
      "source": [
        "df.groupby('plan_country_from_subscription').sum()[['chargeback']].sort_values('chargeback',ascending=False).plot(kind='bar')"
      ],
      "execution_count": 0,
      "outputs": [
        {
          "output_type": "execute_result",
          "data": {
            "text/plain": [
              "<matplotlib.axes._subplots.AxesSubplot at 0x7ff3fc468780>"
            ]
          },
          "metadata": {
            "tags": []
          },
          "execution_count": 48
        },
        {
          "output_type": "display_data",
          "data": {
            "image/png": "[encoded data removed]",
            "text/plain": [
              "<Figure size 432x288 with 1 Axes>"
            ]
          },
          "metadata": {
            "tags": []
          }
        }
      ]
    },
    {
      "cell_type": "code",
      "metadata": {
        "id": "G9JIPz6QwO4m",
        "colab_type": "code",
        "outputId": "8422de63-507c-4016-a696-689eece3ebb3",
        "colab": {
          "base_uri": "https://localhost:8080/",
          "height": 470
        }
      },
      "source": [
        "df.groupby('user_external_plan_first_activated_plan').sum()[['chargeback']].sort_values('chargeback',ascending=False).plot(kind='bar')"
      ],
      "execution_count": 0,
      "outputs": [
        {
          "output_type": "execute_result",
          "data": {
            "text/plain": [
              "<matplotlib.axes._subplots.AxesSubplot at 0x7ff3fc45fb00>"
            ]
          },
          "metadata": {
            "tags": []
          },
          "execution_count": 49
        },
        {
          "output_type": "display_data",
          "data": {
            "image/png": "[encoded data removed]",
            "text/plain": [
              "<Figure size 432x288 with 1 Axes>"
            ]
          },
          "metadata": {
            "tags": []
          }
        }
      ]
    },
    {
      "cell_type": "code",
      "metadata": {
        "id": "ZidrwbqSwamD",
        "colab_type": "code",
        "outputId": "ac76bceb-3bc1-4ef5-c805-94fea811dac5",
        "colab": {
          "base_uri": "https://localhost:8080/",
          "height": 379
        }
      },
      "source": [
        "df.groupby('browser').sum()[['chargeback']].sort_values('chargeback',ascending=False).plot(kind='bar')"
      ],
      "execution_count": 0,
      "outputs": [
        {
          "output_type": "execute_result",
          "data": {
            "text/plain": [
              "<matplotlib.axes._subplots.AxesSubplot at 0x7ff3fc39f160>"
            ]
          },
          "metadata": {
            "tags": []
          },
          "execution_count": 50
        },
        {
          "output_type": "display_data",
          "data": {
            "image/png": "[encoded data removed]",
            "text/plain": [
              "<Figure size 432x288 with 1 Axes>"
            ]
          },
          "metadata": {
            "tags": []
          }
        }
      ]
    },
    {
      "cell_type": "code",
      "metadata": {
        "id": "rOCLM5nOx4wv",
        "colab_type": "code",
        "outputId": "4d4c70e4-12e8-4730-c7b3-69294554ac4d",
        "colab": {
          "base_uri": "https://localhost:8080/",
          "height": 346
        }
      },
      "source": [
        "df.groupby('operatingSystem').sum()[['chargeback']].sort_values('chargeback',ascending=False).plot(kind='bar')"
      ],
      "execution_count": 0,
      "outputs": [
        {
          "output_type": "execute_result",
          "data": {
            "text/plain": [
              "<matplotlib.axes._subplots.AxesSubplot at 0x7ff3fc39f668>"
            ]
          },
          "metadata": {
            "tags": []
          },
          "execution_count": 51
        },
        {
          "output_type": "display_data",
          "data": {
            "image/png": "[encoded data removed]",
            "text/plain": [
              "<Figure size 432x288 with 1 Axes>"
            ]
          },
          "metadata": {
            "tags": []
          }
        }
      ]
    },
    {
      "cell_type": "code",
      "metadata": {
        "id": "M0hzXCiKyBWL",
        "colab_type": "code",
        "outputId": "b2a161bd-9f22-4990-97d1-833e9db805cf",
        "colab": {
          "base_uri": "https://localhost:8080/",
          "height": 316
        }
      },
      "source": [
        "df.groupby('isMobile').sum()[['chargeback']].sort_values('chargeback',ascending=False).plot(kind='bar')"
      ],
      "execution_count": 0,
      "outputs": [
        {
          "output_type": "execute_result",
          "data": {
            "text/plain": [
              "<matplotlib.axes._subplots.AxesSubplot at 0x7ff3fc270ac8>"
            ]
          },
          "metadata": {
            "tags": []
          },
          "execution_count": 52
        },
        {
          "output_type": "display_data",
          "data": {
            "image/png": "[encoded data removed]",
            "text/plain": [
              "<Figure size 432x288 with 1 Axes>"
            ]
          },
          "metadata": {
            "tags": []
          }
        }
      ]
    },
    {
      "cell_type": "code",
      "metadata": {
        "id": "10lNa91SyHn0",
        "colab_type": "code",
        "outputId": "8ae0138c-a797-40d1-a8fa-e89584124ace",
        "colab": {
          "base_uri": "https://localhost:8080/",
          "height": 344
        }
      },
      "source": [
        "df.groupby('mobileDeviceBranding').sum()[['chargeback']].sort_values('chargeback',ascending=False).plot(kind='bar')"
      ],
      "execution_count": 0,
      "outputs": [
        {
          "output_type": "execute_result",
          "data": {
            "text/plain": [
              "<matplotlib.axes._subplots.AxesSubplot at 0x7ff3fc2166d8>"
            ]
          },
          "metadata": {
            "tags": []
          },
          "execution_count": 53
        },
        {
          "output_type": "display_data",
          "data": {
            "image/png": "[encoded data removed]",
            "text/plain": [
              "<Figure size 432x288 with 1 Axes>"
            ]
          },
          "metadata": {
            "tags": []
          }
        }
      ]
    },
    {
      "cell_type": "code",
      "metadata": {
        "id": "sJe0hMo0yNQH",
        "colab_type": "code",
        "outputId": "ac4d7970-e8c2-4dc5-bf35-c3cef3854883",
        "colab": {
          "base_uri": "https://localhost:8080/",
          "height": 329
        }
      },
      "source": [
        "df.groupby('deviceCategory').sum()[['chargeback']].sort_values('chargeback',ascending=False).plot(kind='bar')"
      ],
      "execution_count": 0,
      "outputs": [
        {
          "output_type": "execute_result",
          "data": {
            "text/plain": [
              "<matplotlib.axes._subplots.AxesSubplot at 0x7ff3fc304d68>"
            ]
          },
          "metadata": {
            "tags": []
          },
          "execution_count": 54
        },
        {
          "output_type": "display_data",
          "data": {
            "image/png": "[encoded data removed]",
            "text/plain": [
              "<Figure size 432x288 with 1 Axes>"
            ]
          },
          "metadata": {
            "tags": []
          }
        }
      ]
    },
    {
      "cell_type": "code",
      "metadata": {
        "id": "51GoEwbUyXaX",
        "colab_type": "code",
        "outputId": "a5644749-6652-436f-a2bd-4598c5da88d9",
        "colab": {
          "base_uri": "https://localhost:8080/",
          "height": 336
        }
      },
      "source": [
        "df.groupby('continent').sum()[['chargeback']].sort_values('chargeback',ascending=False).plot(kind='bar')"
      ],
      "execution_count": 0,
      "outputs": [
        {
          "output_type": "execute_result",
          "data": {
            "text/plain": [
              "<matplotlib.axes._subplots.AxesSubplot at 0x7ff3fc0c0a20>"
            ]
          },
          "metadata": {
            "tags": []
          },
          "execution_count": 55
        },
        {
          "output_type": "display_data",
          "data": {
            "image/png": "[encoded data removed]",
            "text/plain": [
              "<Figure size 432x288 with 1 Axes>"
            ]
          },
          "metadata": {
            "tags": []
          }
        }
      ]
    },
    {
      "cell_type": "code",
      "metadata": {
        "id": "xCWYHfM0yai1",
        "colab_type": "code",
        "outputId": "5afd5fc0-3c50-4272-c7fd-2a438001eb4e",
        "colab": {
          "base_uri": "https://localhost:8080/",
          "height": 379
        }
      },
      "source": [
        "df.groupby('subContinent').sum()[['chargeback']].sort_values('chargeback',ascending=False).plot(kind='bar')"
      ],
      "execution_count": 0,
      "outputs": [
        {
          "output_type": "execute_result",
          "data": {
            "text/plain": [
              "<matplotlib.axes._subplots.AxesSubplot at 0x7ff3fc049cf8>"
            ]
          },
          "metadata": {
            "tags": []
          },
          "execution_count": 56
        },
        {
          "output_type": "display_data",
          "data": {
            "image/png": "[encoded data removed]",
            "text/plain": [
              "<Figure size 432x288 with 1 Axes>"
            ]
          },
          "metadata": {
            "tags": []
          }
        }
      ]
    },
    {
      "cell_type": "code",
      "metadata": {
        "id": "53teNZCuyj__",
        "colab_type": "code",
        "outputId": "2ef5541b-1008-412e-a071-bdbd96b32f96",
        "colab": {
          "base_uri": "https://localhost:8080/",
          "height": 1000
        }
      },
      "source": [
        "df.groupby('country').sum()[['chargeback']].sort_values('chargeback',ascending=False)"
      ],
      "execution_count": 0,
      "outputs": [
        {
          "output_type": "execute_result",
          "data": {
            "text/html": [
              "<div>\n",
              "<style scoped>\n",
              "    .dataframe tbody tr th:only-of-type {\n",
              "        vertical-align: middle;\n",
              "    }\n",
              "\n",
              "    .dataframe tbody tr th {\n",
              "        vertical-align: top;\n",
              "    }\n",
              "\n",
              "    .dataframe thead th {\n",
              "        text-align: right;\n",
              "    }\n",
              "</style>\n",
              "<table border=\"1\" class=\"dataframe\">\n",
              "  <thead>\n",
              "    <tr style=\"text-align: right;\">\n",
              "      <th></th>\n",
              "      <th>chargeback</th>\n",
              "    </tr>\n",
              "    <tr>\n",
              "      <th>country</th>\n",
              "      <th></th>\n",
              "    </tr>\n",
              "  </thead>\n",
              "  <tbody>\n",
              "    <tr>\n",
              "      <th>Mexico</th>\n",
              "      <td>155</td>\n",
              "    </tr>\n",
              "    <tr>\n",
              "      <th>Argentina</th>\n",
              "      <td>19</td>\n",
              "    </tr>\n",
              "    <tr>\n",
              "      <th>Guatemala</th>\n",
              "      <td>13</td>\n",
              "    </tr>\n",
              "    <tr>\n",
              "      <th>United States</th>\n",
              "      <td>12</td>\n",
              "    </tr>\n",
              "    <tr>\n",
              "      <th>Colombia</th>\n",
              "      <td>12</td>\n",
              "    </tr>\n",
              "    <tr>\n",
              "      <th>Peru</th>\n",
              "      <td>6</td>\n",
              "    </tr>\n",
              "    <tr>\n",
              "      <th>Costa Rica</th>\n",
              "      <td>4</td>\n",
              "    </tr>\n",
              "    <tr>\n",
              "      <th>Honduras</th>\n",
              "      <td>2</td>\n",
              "    </tr>\n",
              "    <tr>\n",
              "      <th>El Salvador</th>\n",
              "      <td>1</td>\n",
              "    </tr>\n",
              "    <tr>\n",
              "      <th>United Kingdom</th>\n",
              "      <td>1</td>\n",
              "    </tr>\n",
              "    <tr>\n",
              "      <th>Russia</th>\n",
              "      <td>0</td>\n",
              "    </tr>\n",
              "    <tr>\n",
              "      <th>Nicaragua</th>\n",
              "      <td>0</td>\n",
              "    </tr>\n",
              "    <tr>\n",
              "      <th>Spain</th>\n",
              "      <td>0</td>\n",
              "    </tr>\n",
              "    <tr>\n",
              "      <th>Italy</th>\n",
              "      <td>0</td>\n",
              "    </tr>\n",
              "    <tr>\n",
              "      <th>Uruguay</th>\n",
              "      <td>0</td>\n",
              "    </tr>\n",
              "    <tr>\n",
              "      <th>Morocco</th>\n",
              "      <td>0</td>\n",
              "    </tr>\n",
              "    <tr>\n",
              "      <th>Netherlands</th>\n",
              "      <td>0</td>\n",
              "    </tr>\n",
              "    <tr>\n",
              "      <th>South Korea</th>\n",
              "      <td>0</td>\n",
              "    </tr>\n",
              "    <tr>\n",
              "      <th>Panama</th>\n",
              "      <td>0</td>\n",
              "    </tr>\n",
              "    <tr>\n",
              "      <th>Puerto Rico</th>\n",
              "      <td>0</td>\n",
              "    </tr>\n",
              "    <tr>\n",
              "      <th>Paraguay</th>\n",
              "      <td>0</td>\n",
              "    </tr>\n",
              "    <tr>\n",
              "      <th>Switzerland</th>\n",
              "      <td>0</td>\n",
              "    </tr>\n",
              "    <tr>\n",
              "      <th>Philippines</th>\n",
              "      <td>0</td>\n",
              "    </tr>\n",
              "    <tr>\n",
              "      <th>Singapore</th>\n",
              "      <td>0</td>\n",
              "    </tr>\n",
              "    <tr>\n",
              "      <th>India</th>\n",
              "      <td>0</td>\n",
              "    </tr>\n",
              "    <tr>\n",
              "      <th>Portugal</th>\n",
              "      <td>0</td>\n",
              "    </tr>\n",
              "    <tr>\n",
              "      <th>Indonesia</th>\n",
              "      <td>0</td>\n",
              "    </tr>\n",
              "    <tr>\n",
              "      <th>(not set)</th>\n",
              "      <td>0</td>\n",
              "    </tr>\n",
              "    <tr>\n",
              "      <th>Hong Kong</th>\n",
              "      <td>0</td>\n",
              "    </tr>\n",
              "    <tr>\n",
              "      <th>Chile</th>\n",
              "      <td>0</td>\n",
              "    </tr>\n",
              "    <tr>\n",
              "      <th>Angola</th>\n",
              "      <td>0</td>\n",
              "    </tr>\n",
              "    <tr>\n",
              "      <th>Armenia</th>\n",
              "      <td>0</td>\n",
              "    </tr>\n",
              "    <tr>\n",
              "      <th>Aruba</th>\n",
              "      <td>0</td>\n",
              "    </tr>\n",
              "    <tr>\n",
              "      <th>Australia</th>\n",
              "      <td>0</td>\n",
              "    </tr>\n",
              "    <tr>\n",
              "      <th>Bolivia</th>\n",
              "      <td>0</td>\n",
              "    </tr>\n",
              "    <tr>\n",
              "      <th>Brazil</th>\n",
              "      <td>0</td>\n",
              "    </tr>\n",
              "    <tr>\n",
              "      <th>Bulgaria</th>\n",
              "      <td>0</td>\n",
              "    </tr>\n",
              "    <tr>\n",
              "      <th>Canada</th>\n",
              "      <td>0</td>\n",
              "    </tr>\n",
              "    <tr>\n",
              "      <th>China</th>\n",
              "      <td>0</td>\n",
              "    </tr>\n",
              "    <tr>\n",
              "      <th>Algeria</th>\n",
              "      <td>0</td>\n",
              "    </tr>\n",
              "    <tr>\n",
              "      <th>Cuba</th>\n",
              "      <td>0</td>\n",
              "    </tr>\n",
              "    <tr>\n",
              "      <th>Czechia</th>\n",
              "      <td>0</td>\n",
              "    </tr>\n",
              "    <tr>\n",
              "      <th>Denmark</th>\n",
              "      <td>0</td>\n",
              "    </tr>\n",
              "    <tr>\n",
              "      <th>Dominican Republic</th>\n",
              "      <td>0</td>\n",
              "    </tr>\n",
              "    <tr>\n",
              "      <th>Ecuador</th>\n",
              "      <td>0</td>\n",
              "    </tr>\n",
              "    <tr>\n",
              "      <th>France</th>\n",
              "      <td>0</td>\n",
              "    </tr>\n",
              "    <tr>\n",
              "      <th>Germany</th>\n",
              "      <td>0</td>\n",
              "    </tr>\n",
              "    <tr>\n",
              "      <th>Gibraltar</th>\n",
              "      <td>0</td>\n",
              "    </tr>\n",
              "    <tr>\n",
              "      <th>Venezuela</th>\n",
              "      <td>0</td>\n",
              "    </tr>\n",
              "  </tbody>\n",
              "</table>\n",
              "</div>"
            ],
            "text/plain": [
              "                    chargeback\n",
              "country                       \n",
              "Mexico                     155\n",
              "Argentina                   19\n",
              "Guatemala                   13\n",
              "United States               12\n",
              "Colombia                    12\n",
              "Peru                         6\n",
              "Costa Rica                   4\n",
              "Honduras                     2\n",
              "El Salvador                  1\n",
              "United Kingdom               1\n",
              "Russia                       0\n",
              "Nicaragua                    0\n",
              "Spain                        0\n",
              "Italy                        0\n",
              "Uruguay                      0\n",
              "Morocco                      0\n",
              "Netherlands                  0\n",
              "South Korea                  0\n",
              "Panama                       0\n",
              "Puerto Rico                  0\n",
              "Paraguay                     0\n",
              "Switzerland                  0\n",
              "Philippines                  0\n",
              "Singapore                    0\n",
              "India                        0\n",
              "Portugal                     0\n",
              "Indonesia                    0\n",
              "(not set)                    0\n",
              "Hong Kong                    0\n",
              "Chile                        0\n",
              "Angola                       0\n",
              "Armenia                      0\n",
              "Aruba                        0\n",
              "Australia                    0\n",
              "Bolivia                      0\n",
              "Brazil                       0\n",
              "Bulgaria                     0\n",
              "Canada                       0\n",
              "China                        0\n",
              "Algeria                      0\n",
              "Cuba                         0\n",
              "Czechia                      0\n",
              "Denmark                      0\n",
              "Dominican Republic           0\n",
              "Ecuador                      0\n",
              "France                       0\n",
              "Germany                      0\n",
              "Gibraltar                    0\n",
              "Venezuela                    0"
            ]
          },
          "metadata": {
            "tags": []
          },
          "execution_count": 57
        }
      ]
    },
    {
      "cell_type": "markdown",
      "metadata": {
        "id": "a9afdStUy1-F",
        "colab_type": "text"
      },
      "source": [
        "#Majority of chargebacks are coming from Mexico"
      ]
    },
    {
      "cell_type": "code",
      "metadata": {
        "id": "QgylMn9Hyscm",
        "colab_type": "code",
        "outputId": "1d6694a3-e3a3-4cd0-b06c-41e5561dec67",
        "colab": {
          "base_uri": "https://localhost:8080/",
          "height": 1000
        }
      },
      "source": [
        "df.groupby('city').sum()[['chargeback']].sort_values('chargeback',ascending=False)"
      ],
      "execution_count": 0,
      "outputs": [
        {
          "output_type": "execute_result",
          "data": {
            "text/html": [
              "<div>\n",
              "<style scoped>\n",
              "    .dataframe tbody tr th:only-of-type {\n",
              "        vertical-align: middle;\n",
              "    }\n",
              "\n",
              "    .dataframe tbody tr th {\n",
              "        vertical-align: top;\n",
              "    }\n",
              "\n",
              "    .dataframe thead th {\n",
              "        text-align: right;\n",
              "    }\n",
              "</style>\n",
              "<table border=\"1\" class=\"dataframe\">\n",
              "  <thead>\n",
              "    <tr style=\"text-align: right;\">\n",
              "      <th></th>\n",
              "      <th>chargeback</th>\n",
              "    </tr>\n",
              "    <tr>\n",
              "      <th>city</th>\n",
              "      <th></th>\n",
              "    </tr>\n",
              "  </thead>\n",
              "  <tbody>\n",
              "    <tr>\n",
              "      <th>Mexico City</th>\n",
              "      <td>37</td>\n",
              "    </tr>\n",
              "    <tr>\n",
              "      <th>(not set)</th>\n",
              "      <td>31</td>\n",
              "    </tr>\n",
              "    <tr>\n",
              "      <th>Guatemala City</th>\n",
              "      <td>11</td>\n",
              "    </tr>\n",
              "    <tr>\n",
              "      <th>Monterrey</th>\n",
              "      <td>9</td>\n",
              "    </tr>\n",
              "    <tr>\n",
              "      <th>Bogota</th>\n",
              "      <td>8</td>\n",
              "    </tr>\n",
              "    <tr>\n",
              "      <th>Buenos Aires</th>\n",
              "      <td>8</td>\n",
              "    </tr>\n",
              "    <tr>\n",
              "      <th>Tijuana</th>\n",
              "      <td>7</td>\n",
              "    </tr>\n",
              "    <tr>\n",
              "      <th>Merida</th>\n",
              "      <td>7</td>\n",
              "    </tr>\n",
              "    <tr>\n",
              "      <th>Chihuahua</th>\n",
              "      <td>6</td>\n",
              "    </tr>\n",
              "    <tr>\n",
              "      <th>Orizaba</th>\n",
              "      <td>5</td>\n",
              "    </tr>\n",
              "    <tr>\n",
              "      <th>Ciudad Obregon</th>\n",
              "      <td>5</td>\n",
              "    </tr>\n",
              "    <tr>\n",
              "      <th>Guadalajara</th>\n",
              "      <td>4</td>\n",
              "    </tr>\n",
              "    <tr>\n",
              "      <th>Morelia</th>\n",
              "      <td>4</td>\n",
              "    </tr>\n",
              "    <tr>\n",
              "      <th>Xalapa</th>\n",
              "      <td>4</td>\n",
              "    </tr>\n",
              "    <tr>\n",
              "      <th>Valle de Chalco</th>\n",
              "      <td>4</td>\n",
              "    </tr>\n",
              "    <tr>\n",
              "      <th>San Jose</th>\n",
              "      <td>4</td>\n",
              "    </tr>\n",
              "    <tr>\n",
              "      <th>Guanajuato</th>\n",
              "      <td>4</td>\n",
              "    </tr>\n",
              "    <tr>\n",
              "      <th>Puerto Vallarta</th>\n",
              "      <td>3</td>\n",
              "    </tr>\n",
              "    <tr>\n",
              "      <th>Chilpancingo</th>\n",
              "      <td>3</td>\n",
              "    </tr>\n",
              "    <tr>\n",
              "      <th>Chimalhuacan</th>\n",
              "      <td>3</td>\n",
              "    </tr>\n",
              "    <tr>\n",
              "      <th>Tlaxcala</th>\n",
              "      <td>3</td>\n",
              "    </tr>\n",
              "    <tr>\n",
              "      <th>Hacienda Santa Fe</th>\n",
              "      <td>3</td>\n",
              "    </tr>\n",
              "    <tr>\n",
              "      <th>Juarez</th>\n",
              "      <td>2</td>\n",
              "    </tr>\n",
              "    <tr>\n",
              "      <th>Jiutepec</th>\n",
              "      <td>2</td>\n",
              "    </tr>\n",
              "    <tr>\n",
              "      <th>Lanus Oeste</th>\n",
              "      <td>2</td>\n",
              "    </tr>\n",
              "    <tr>\n",
              "      <th>Toluca</th>\n",
              "      <td>2</td>\n",
              "    </tr>\n",
              "    <tr>\n",
              "      <th>Dosquebradas</th>\n",
              "      <td>2</td>\n",
              "    </tr>\n",
              "    <tr>\n",
              "      <th>Naucalpan</th>\n",
              "      <td>2</td>\n",
              "    </tr>\n",
              "    <tr>\n",
              "      <th>El Vigia</th>\n",
              "      <td>2</td>\n",
              "    </tr>\n",
              "    <tr>\n",
              "      <th>Culiacan</th>\n",
              "      <td>2</td>\n",
              "    </tr>\n",
              "    <tr>\n",
              "      <th>...</th>\n",
              "      <td>...</td>\n",
              "    </tr>\n",
              "    <tr>\n",
              "      <th>Ibiza</th>\n",
              "      <td>0</td>\n",
              "    </tr>\n",
              "    <tr>\n",
              "      <th>Iguala</th>\n",
              "      <td>0</td>\n",
              "    </tr>\n",
              "    <tr>\n",
              "      <th>Igualada</th>\n",
              "      <td>0</td>\n",
              "    </tr>\n",
              "    <tr>\n",
              "      <th>Indianapolis</th>\n",
              "      <td>0</td>\n",
              "    </tr>\n",
              "    <tr>\n",
              "      <th>Indio</th>\n",
              "      <td>0</td>\n",
              "    </tr>\n",
              "    <tr>\n",
              "      <th>Iquique</th>\n",
              "      <td>0</td>\n",
              "    </tr>\n",
              "    <tr>\n",
              "      <th>Hialeah Gardens</th>\n",
              "      <td>0</td>\n",
              "    </tr>\n",
              "    <tr>\n",
              "      <th>Heroica Ciudad de Huajuapan de Leon</th>\n",
              "      <td>0</td>\n",
              "    </tr>\n",
              "    <tr>\n",
              "      <th>Gijon</th>\n",
              "      <td>0</td>\n",
              "    </tr>\n",
              "    <tr>\n",
              "      <th>Hermosillo</th>\n",
              "      <td>0</td>\n",
              "    </tr>\n",
              "    <tr>\n",
              "      <th>Giron</th>\n",
              "      <td>0</td>\n",
              "    </tr>\n",
              "    <tr>\n",
              "      <th>Girona</th>\n",
              "      <td>0</td>\n",
              "    </tr>\n",
              "    <tr>\n",
              "      <th>Glendale</th>\n",
              "      <td>0</td>\n",
              "    </tr>\n",
              "    <tr>\n",
              "      <th>Gloucester</th>\n",
              "      <td>0</td>\n",
              "    </tr>\n",
              "    <tr>\n",
              "      <th>Gomez Palacio</th>\n",
              "      <td>0</td>\n",
              "    </tr>\n",
              "    <tr>\n",
              "      <th>Granada</th>\n",
              "      <td>0</td>\n",
              "    </tr>\n",
              "    <tr>\n",
              "      <th>Grand Bourg</th>\n",
              "      <td>0</td>\n",
              "    </tr>\n",
              "    <tr>\n",
              "      <th>Granollers</th>\n",
              "      <td>0</td>\n",
              "    </tr>\n",
              "    <tr>\n",
              "      <th>Green Oaks</th>\n",
              "      <td>0</td>\n",
              "    </tr>\n",
              "    <tr>\n",
              "      <th>Greenville</th>\n",
              "      <td>0</td>\n",
              "    </tr>\n",
              "    <tr>\n",
              "      <th>Gregorio de Laferrere</th>\n",
              "      <td>0</td>\n",
              "    </tr>\n",
              "    <tr>\n",
              "      <th>Guadalupe</th>\n",
              "      <td>0</td>\n",
              "    </tr>\n",
              "    <tr>\n",
              "      <th>Guaranda</th>\n",
              "      <td>0</td>\n",
              "    </tr>\n",
              "    <tr>\n",
              "      <th>Guayaquil</th>\n",
              "      <td>0</td>\n",
              "    </tr>\n",
              "    <tr>\n",
              "      <th>Guaymas</th>\n",
              "      <td>0</td>\n",
              "    </tr>\n",
              "    <tr>\n",
              "      <th>Guaynabo</th>\n",
              "      <td>0</td>\n",
              "    </tr>\n",
              "    <tr>\n",
              "      <th>Guissona</th>\n",
              "      <td>0</td>\n",
              "    </tr>\n",
              "    <tr>\n",
              "      <th>Harbin</th>\n",
              "      <td>0</td>\n",
              "    </tr>\n",
              "    <tr>\n",
              "      <th>Heredia</th>\n",
              "      <td>0</td>\n",
              "    </tr>\n",
              "    <tr>\n",
              "      <th>Zumpango</th>\n",
              "      <td>0</td>\n",
              "    </tr>\n",
              "  </tbody>\n",
              "</table>\n",
              "<p>762 rows × 1 columns</p>\n",
              "</div>"
            ],
            "text/plain": [
              "                                     chargeback\n",
              "city                                           \n",
              "Mexico City                                  37\n",
              "(not set)                                    31\n",
              "Guatemala City                               11\n",
              "Monterrey                                     9\n",
              "Bogota                                        8\n",
              "Buenos Aires                                  8\n",
              "Tijuana                                       7\n",
              "Merida                                        7\n",
              "Chihuahua                                     6\n",
              "Orizaba                                       5\n",
              "Ciudad Obregon                                5\n",
              "Guadalajara                                   4\n",
              "Morelia                                       4\n",
              "Xalapa                                        4\n",
              "Valle de Chalco                               4\n",
              "San Jose                                      4\n",
              "Guanajuato                                    4\n",
              "Puerto Vallarta                               3\n",
              "Chilpancingo                                  3\n",
              "Chimalhuacan                                  3\n",
              "Tlaxcala                                      3\n",
              "Hacienda Santa Fe                             3\n",
              "Juarez                                        2\n",
              "Jiutepec                                      2\n",
              "Lanus Oeste                                   2\n",
              "Toluca                                        2\n",
              "Dosquebradas                                  2\n",
              "Naucalpan                                     2\n",
              "El Vigia                                      2\n",
              "Culiacan                                      2\n",
              "...                                         ...\n",
              "Ibiza                                         0\n",
              "Iguala                                        0\n",
              "Igualada                                      0\n",
              "Indianapolis                                  0\n",
              "Indio                                         0\n",
              "Iquique                                       0\n",
              "Hialeah Gardens                               0\n",
              "Heroica Ciudad de Huajuapan de Leon           0\n",
              "Gijon                                         0\n",
              "Hermosillo                                    0\n",
              "Giron                                         0\n",
              "Girona                                        0\n",
              "Glendale                                      0\n",
              "Gloucester                                    0\n",
              "Gomez Palacio                                 0\n",
              "Granada                                       0\n",
              "Grand Bourg                                   0\n",
              "Granollers                                    0\n",
              "Green Oaks                                    0\n",
              "Greenville                                    0\n",
              "Gregorio de Laferrere                         0\n",
              "Guadalupe                                     0\n",
              "Guaranda                                      0\n",
              "Guayaquil                                     0\n",
              "Guaymas                                       0\n",
              "Guaynabo                                      0\n",
              "Guissona                                      0\n",
              "Harbin                                        0\n",
              "Heredia                                       0\n",
              "Zumpango                                      0\n",
              "\n",
              "[762 rows x 1 columns]"
            ]
          },
          "metadata": {
            "tags": []
          },
          "execution_count": 58
        }
      ]
    },
    {
      "cell_type": "code",
      "metadata": {
        "id": "Aurl1wbPzBwU",
        "colab_type": "code",
        "outputId": "4cb8f964-64a1-4456-d944-d9c98309301d",
        "colab": {
          "base_uri": "https://localhost:8080/",
          "height": 34
        }
      },
      "source": [
        "df.shape"
      ],
      "execution_count": 0,
      "outputs": [
        {
          "output_type": "execute_result",
          "data": {
            "text/plain": [
              "(11750, 28)"
            ]
          },
          "metadata": {
            "tags": []
          },
          "execution_count": 59
        }
      ]
    },
    {
      "cell_type": "code",
      "metadata": {
        "id": "NKdUUCUlzUSS",
        "colab_type": "code",
        "outputId": "160dbecd-67cb-4ff3-a825-b8a9b9f01f59",
        "colab": {
          "base_uri": "https://localhost:8080/",
          "height": 153
        }
      },
      "source": [
        "#testing delete later\n",
        "df.groupby('continent').chargeback.sum().sort_values(ascending=False)"
      ],
      "execution_count": 0,
      "outputs": [
        {
          "output_type": "execute_result",
          "data": {
            "text/plain": [
              "continent\n",
              "Americas     224\n",
              "Europe         1\n",
              "Oceania        0\n",
              "Asia           0\n",
              "Africa         0\n",
              "(not set)      0\n",
              "Name: chargeback, dtype: int64"
            ]
          },
          "metadata": {
            "tags": []
          },
          "execution_count": 60
        }
      ]
    },
    {
      "cell_type": "markdown",
      "metadata": {
        "id": "uZ6DXUivCNnn",
        "colab_type": "text"
      },
      "source": [
        "#Lets create dummy variables for categorical fields"
      ]
    },
    {
      "cell_type": "code",
      "metadata": {
        "id": "-MnNw46F9NzJ",
        "colab_type": "code",
        "colab": {}
      },
      "source": [
        "df_with_dummies = pd.get_dummies(df, prefix='payment_method_', columns=['payment_method_name'])"
      ],
      "execution_count": 0,
      "outputs": []
    },
    {
      "cell_type": "code",
      "metadata": {
        "id": "yNQWZoNj9esM",
        "colab_type": "code",
        "outputId": "eb75dbf0-61ba-4705-80e2-f276b8999c8b",
        "colab": {
          "base_uri": "https://localhost:8080/",
          "height": 309
        }
      },
      "source": [
        "df_with_dummies.head()"
      ],
      "execution_count": 0,
      "outputs": [
        {
          "output_type": "execute_result",
          "data": {
            "text/html": [
              "<div>\n",
              "<style scoped>\n",
              "    .dataframe tbody tr th:only-of-type {\n",
              "        vertical-align: middle;\n",
              "    }\n",
              "\n",
              "    .dataframe tbody tr th {\n",
              "        vertical-align: top;\n",
              "    }\n",
              "\n",
              "    .dataframe thead th {\n",
              "        text-align: right;\n",
              "    }\n",
              "</style>\n",
              "<table border=\"1\" class=\"dataframe\">\n",
              "  <thead>\n",
              "    <tr style=\"text-align: right;\">\n",
              "      <th></th>\n",
              "      <th>created_am_la</th>\n",
              "      <th>transaction_currency</th>\n",
              "      <th>transaction_date_am_la</th>\n",
              "      <th>user_id</th>\n",
              "      <th>plan_period</th>\n",
              "      <th>transaction_amount_100_usd</th>\n",
              "      <th>error_message</th>\n",
              "      <th>plan_country_from_subscription</th>\n",
              "      <th>user_external_plan_first_activated_plan</th>\n",
              "      <th>browser</th>\n",
              "      <th>operatingSystem</th>\n",
              "      <th>isMobile</th>\n",
              "      <th>mobileDeviceBranding</th>\n",
              "      <th>deviceCategory</th>\n",
              "      <th>continent</th>\n",
              "      <th>subContinent</th>\n",
              "      <th>country</th>\n",
              "      <th>city</th>\n",
              "      <th>last_login</th>\n",
              "      <th>joined_day_pageviews</th>\n",
              "      <th>pageviews_in_first_month</th>\n",
              "      <th>pageviews_in_second_month</th>\n",
              "      <th>pageviews_in_third_month</th>\n",
              "      <th>pageviews_after_third_month</th>\n",
              "      <th>chargeback</th>\n",
              "      <th>user_creation_date_am_la</th>\n",
              "      <th>transaction_date_am_la_fix</th>\n",
              "      <th>payment_method__creditcard</th>\n",
              "      <th>payment_method__debitcard</th>\n",
              "    </tr>\n",
              "  </thead>\n",
              "  <tbody>\n",
              "    <tr>\n",
              "      <th>0</th>\n",
              "      <td>2019-05-03 19:51:00</td>\n",
              "      <td>MXN</td>\n",
              "      <td>2019-05-03 17:00:00</td>\n",
              "      <td>341412195</td>\n",
              "      <td>30</td>\n",
              "      <td>26.38</td>\n",
              "      <td>APPROVED</td>\n",
              "      <td>NaN</td>\n",
              "      <td>monthly_20171212</td>\n",
              "      <td>Chrome</td>\n",
              "      <td>Android</td>\n",
              "      <td>True</td>\n",
              "      <td>Motorola</td>\n",
              "      <td>mobile</td>\n",
              "      <td>Americas</td>\n",
              "      <td>Central America</td>\n",
              "      <td>Mexico</td>\n",
              "      <td>Aguascalientes</td>\n",
              "      <td>2019-05-04</td>\n",
              "      <td>7</td>\n",
              "      <td>23</td>\n",
              "      <td>0</td>\n",
              "      <td>0</td>\n",
              "      <td>0</td>\n",
              "      <td>0</td>\n",
              "      <td>2019-05-03 19:49:00-07:00</td>\n",
              "      <td>2019-05-03 17:00:00-07:00</td>\n",
              "      <td>0</td>\n",
              "      <td>1</td>\n",
              "    </tr>\n",
              "    <tr>\n",
              "      <th>1</th>\n",
              "      <td>2019-05-05 09:10:00</td>\n",
              "      <td>ARS</td>\n",
              "      <td>2019-05-04 17:00:00</td>\n",
              "      <td>341479440</td>\n",
              "      <td>30</td>\n",
              "      <td>6.73</td>\n",
              "      <td>APPROVED</td>\n",
              "      <td>NaN</td>\n",
              "      <td>monthly_20171212</td>\n",
              "      <td>Chrome</td>\n",
              "      <td>Android</td>\n",
              "      <td>True</td>\n",
              "      <td>Samsung</td>\n",
              "      <td>mobile</td>\n",
              "      <td>Americas</td>\n",
              "      <td>South America</td>\n",
              "      <td>Argentina</td>\n",
              "      <td>(not set)</td>\n",
              "      <td>2019-05-05</td>\n",
              "      <td>20</td>\n",
              "      <td>26</td>\n",
              "      <td>0</td>\n",
              "      <td>0</td>\n",
              "      <td>0</td>\n",
              "      <td>0</td>\n",
              "      <td>2019-05-05 09:09:00-07:00</td>\n",
              "      <td>2019-05-04 17:00:00-07:00</td>\n",
              "      <td>1</td>\n",
              "      <td>0</td>\n",
              "    </tr>\n",
              "    <tr>\n",
              "      <th>2</th>\n",
              "      <td>2019-05-05 12:06:00</td>\n",
              "      <td>MXN</td>\n",
              "      <td>2019-05-04 17:00:00</td>\n",
              "      <td>334039570</td>\n",
              "      <td>30</td>\n",
              "      <td>26.38</td>\n",
              "      <td>APPROVED</td>\n",
              "      <td>NaN</td>\n",
              "      <td>monthly_20171212</td>\n",
              "      <td>Chrome</td>\n",
              "      <td>Windows</td>\n",
              "      <td>False</td>\n",
              "      <td>0</td>\n",
              "      <td>desktop</td>\n",
              "      <td>Americas</td>\n",
              "      <td>Central America</td>\n",
              "      <td>Mexico</td>\n",
              "      <td>Tepexpan</td>\n",
              "      <td>2019-05-05</td>\n",
              "      <td>13</td>\n",
              "      <td>13</td>\n",
              "      <td>1</td>\n",
              "      <td>0</td>\n",
              "      <td>85</td>\n",
              "      <td>0</td>\n",
              "      <td>2019-01-07 19:57:00-08:00</td>\n",
              "      <td>2019-05-04 17:00:00-07:00</td>\n",
              "      <td>0</td>\n",
              "      <td>1</td>\n",
              "    </tr>\n",
              "    <tr>\n",
              "      <th>3</th>\n",
              "      <td>2019-05-06 16:40:00</td>\n",
              "      <td>ARS</td>\n",
              "      <td>2019-05-05 17:00:00</td>\n",
              "      <td>341572424</td>\n",
              "      <td>30</td>\n",
              "      <td>0.65</td>\n",
              "      <td>APPROVED</td>\n",
              "      <td>NaN</td>\n",
              "      <td>2for2_20171212</td>\n",
              "      <td>Chrome</td>\n",
              "      <td>Windows</td>\n",
              "      <td>False</td>\n",
              "      <td>0</td>\n",
              "      <td>desktop</td>\n",
              "      <td>Americas</td>\n",
              "      <td>South America</td>\n",
              "      <td>Argentina</td>\n",
              "      <td>(not set)</td>\n",
              "      <td>2019-05-19</td>\n",
              "      <td>4</td>\n",
              "      <td>10</td>\n",
              "      <td>0</td>\n",
              "      <td>0</td>\n",
              "      <td>0</td>\n",
              "      <td>0</td>\n",
              "      <td>2019-05-06 12:00:00-07:00</td>\n",
              "      <td>2019-05-05 17:00:00-07:00</td>\n",
              "      <td>1</td>\n",
              "      <td>0</td>\n",
              "    </tr>\n",
              "    <tr>\n",
              "      <th>4</th>\n",
              "      <td>2019-05-10 03:37:00</td>\n",
              "      <td>EUR</td>\n",
              "      <td>2019-05-09 17:00:00</td>\n",
              "      <td>315339375</td>\n",
              "      <td>30</td>\n",
              "      <td>2.25</td>\n",
              "      <td>APPROVED</td>\n",
              "      <td>NaN</td>\n",
              "      <td>2for2_20171212</td>\n",
              "      <td>Chrome</td>\n",
              "      <td>Windows</td>\n",
              "      <td>False</td>\n",
              "      <td>0</td>\n",
              "      <td>desktop</td>\n",
              "      <td>Europe</td>\n",
              "      <td>Southern Europe</td>\n",
              "      <td>Spain</td>\n",
              "      <td>Pamplona</td>\n",
              "      <td>2019-05-10</td>\n",
              "      <td>10</td>\n",
              "      <td>13</td>\n",
              "      <td>0</td>\n",
              "      <td>0</td>\n",
              "      <td>14</td>\n",
              "      <td>0</td>\n",
              "      <td>2018-03-09 09:55:00-08:00</td>\n",
              "      <td>2019-05-09 17:00:00-07:00</td>\n",
              "      <td>0</td>\n",
              "      <td>1</td>\n",
              "    </tr>\n",
              "  </tbody>\n",
              "</table>\n",
              "</div>"
            ],
            "text/plain": [
              "        created_am_la  ... payment_method__debitcard\n",
              "0 2019-05-03 19:51:00  ...                         1\n",
              "1 2019-05-05 09:10:00  ...                         0\n",
              "2 2019-05-05 12:06:00  ...                         1\n",
              "3 2019-05-06 16:40:00  ...                         0\n",
              "4 2019-05-10 03:37:00  ...                         1\n",
              "\n",
              "[5 rows x 29 columns]"
            ]
          },
          "metadata": {
            "tags": []
          },
          "execution_count": 62
        }
      ]
    },
    {
      "cell_type": "code",
      "metadata": {
        "id": "NExB5Gzm9hYj",
        "colab_type": "code",
        "outputId": "392a4728-84df-4cb4-e7d4-665241c31f02",
        "colab": {
          "base_uri": "https://localhost:8080/",
          "height": 34
        }
      },
      "source": [
        "df_with_dummies.shape"
      ],
      "execution_count": 0,
      "outputs": [
        {
          "output_type": "execute_result",
          "data": {
            "text/plain": [
              "(11750, 33)"
            ]
          },
          "metadata": {
            "tags": []
          },
          "execution_count": 81
        }
      ]
    },
    {
      "cell_type": "code",
      "metadata": {
        "id": "2whtSfPJ9xTp",
        "colab_type": "code",
        "colab": {}
      },
      "source": [
        "df_with_dummies = pd.get_dummies(df_with_dummies, prefix='transaction_currency_', columns=['transaction_currency'])"
      ],
      "execution_count": 0,
      "outputs": []
    },
    {
      "cell_type": "code",
      "metadata": {
        "id": "KuNjU3R-AF63",
        "colab_type": "code",
        "colab": {}
      },
      "source": [
        "df_with_dummies = pd.get_dummies(df_with_dummies, prefix='plan_period_', columns=['plan_period'])"
      ],
      "execution_count": 0,
      "outputs": []
    },
    {
      "cell_type": "code",
      "metadata": {
        "id": "nspBxcq7AWkm",
        "colab_type": "code",
        "colab": {}
      },
      "source": [
        "df_with_dummies = pd.get_dummies(df_with_dummies, prefix='error_message_', columns=['error_message'])\n"
      ],
      "execution_count": 0,
      "outputs": []
    },
    {
      "cell_type": "code",
      "metadata": {
        "id": "D0us0dc8AZ4I",
        "colab_type": "code",
        "colab": {}
      },
      "source": [
        "df_with_dummies = pd.get_dummies(df_with_dummies, prefix='plan_country_', columns=['plan_country_from_subscription'])"
      ],
      "execution_count": 0,
      "outputs": []
    },
    {
      "cell_type": "code",
      "metadata": {
        "id": "-xDjZFi8CFSU",
        "colab_type": "code",
        "colab": {}
      },
      "source": [
        "df_with_dummies = pd.get_dummies(df_with_dummies, prefix='browser_', columns=['browser'])"
      ],
      "execution_count": 0,
      "outputs": []
    },
    {
      "cell_type": "code",
      "metadata": {
        "id": "SlKGf5zGC6_O",
        "colab_type": "code",
        "outputId": "446eedc6-1b40-49e7-ca26-53b5c91c8c5a",
        "colab": {
          "base_uri": "https://localhost:8080/",
          "height": 34
        }
      },
      "source": [
        "df_with_dummies.shape"
      ],
      "execution_count": 0,
      "outputs": [
        {
          "output_type": "execute_result",
          "data": {
            "text/plain": [
              "(11750, 76)"
            ]
          },
          "metadata": {
            "tags": []
          },
          "execution_count": 70
        }
      ]
    },
    {
      "cell_type": "code",
      "metadata": {
        "id": "8s3wEJutDEki",
        "colab_type": "code",
        "outputId": "7484dd99-e933-4d58-e4be-b1886dac5ff5",
        "colab": {
          "base_uri": "https://localhost:8080/",
          "height": 372
        }
      },
      "source": [
        "df_with_dummies = pd.get_dummies(df_with_dummies, prefix='operatingSystem_', columns=['operatingSystem'])\n",
        "df_with_dummies.head()"
      ],
      "execution_count": 0,
      "outputs": [
        {
          "output_type": "execute_result",
          "data": {
            "text/html": [
              "<div>\n",
              "<style scoped>\n",
              "    .dataframe tbody tr th:only-of-type {\n",
              "        vertical-align: middle;\n",
              "    }\n",
              "\n",
              "    .dataframe tbody tr th {\n",
              "        vertical-align: top;\n",
              "    }\n",
              "\n",
              "    .dataframe thead th {\n",
              "        text-align: right;\n",
              "    }\n",
              "</style>\n",
              "<table border=\"1\" class=\"dataframe\">\n",
              "  <thead>\n",
              "    <tr style=\"text-align: right;\">\n",
              "      <th></th>\n",
              "      <th>created_am_la</th>\n",
              "      <th>transaction_date_am_la</th>\n",
              "      <th>user_id</th>\n",
              "      <th>transaction_amount_100_usd</th>\n",
              "      <th>user_external_plan_first_activated_plan</th>\n",
              "      <th>isMobile</th>\n",
              "      <th>mobileDeviceBranding</th>\n",
              "      <th>deviceCategory</th>\n",
              "      <th>continent</th>\n",
              "      <th>subContinent</th>\n",
              "      <th>country</th>\n",
              "      <th>city</th>\n",
              "      <th>last_login</th>\n",
              "      <th>joined_day_pageviews</th>\n",
              "      <th>pageviews_in_first_month</th>\n",
              "      <th>pageviews_in_second_month</th>\n",
              "      <th>pageviews_in_third_month</th>\n",
              "      <th>pageviews_after_third_month</th>\n",
              "      <th>chargeback</th>\n",
              "      <th>user_creation_date_am_la</th>\n",
              "      <th>transaction_date_am_la_fix</th>\n",
              "      <th>payment_method__creditcard</th>\n",
              "      <th>payment_method__debitcard</th>\n",
              "      <th>transaction_currency__ARS</th>\n",
              "      <th>transaction_currency__CLP</th>\n",
              "      <th>transaction_currency__COP</th>\n",
              "      <th>transaction_currency__CRC</th>\n",
              "      <th>transaction_currency__DOP</th>\n",
              "      <th>transaction_currency__EUR</th>\n",
              "      <th>transaction_currency__GTQ</th>\n",
              "      <th>transaction_currency__HNL</th>\n",
              "      <th>transaction_currency__MXN</th>\n",
              "      <th>transaction_currency__PEN</th>\n",
              "      <th>transaction_currency__USD</th>\n",
              "      <th>plan_period__30</th>\n",
              "      <th>plan_period__90</th>\n",
              "      <th>plan_period__360</th>\n",
              "      <th>error_message__APPROVED</th>\n",
              "      <th>error_message__FAILED</th>\n",
              "      <th>error_message__NOT CHECKED BY ACQUIRER</th>\n",
              "      <th>...</th>\n",
              "      <th>plan_country__AU</th>\n",
              "      <th>plan_country__BR</th>\n",
              "      <th>plan_country__CA</th>\n",
              "      <th>plan_country__CH</th>\n",
              "      <th>plan_country__CL</th>\n",
              "      <th>plan_country__CO</th>\n",
              "      <th>plan_country__CR</th>\n",
              "      <th>plan_country__DO</th>\n",
              "      <th>plan_country__EC</th>\n",
              "      <th>plan_country__ES</th>\n",
              "      <th>plan_country__FR</th>\n",
              "      <th>plan_country__GB</th>\n",
              "      <th>plan_country__GT</th>\n",
              "      <th>plan_country__HN</th>\n",
              "      <th>plan_country__IN</th>\n",
              "      <th>plan_country__MX</th>\n",
              "      <th>plan_country__PA</th>\n",
              "      <th>plan_country__PE</th>\n",
              "      <th>plan_country__PR</th>\n",
              "      <th>plan_country__PT</th>\n",
              "      <th>plan_country__SV</th>\n",
              "      <th>plan_country__US</th>\n",
              "      <th>browser__Amazon Silk</th>\n",
              "      <th>browser__Android Webview</th>\n",
              "      <th>browser__Chrome</th>\n",
              "      <th>browser__Edge</th>\n",
              "      <th>browser__Firefox</th>\n",
              "      <th>browser__Internet Explorer</th>\n",
              "      <th>browser__Opera</th>\n",
              "      <th>browser__Safari</th>\n",
              "      <th>browser__Safari (in-app)</th>\n",
              "      <th>browser__Samsung Internet</th>\n",
              "      <th>browser__YaBrowser</th>\n",
              "      <th>operatingSystem__Android</th>\n",
              "      <th>operatingSystem__BlackBerry</th>\n",
              "      <th>operatingSystem__Chrome OS</th>\n",
              "      <th>operatingSystem__Linux</th>\n",
              "      <th>operatingSystem__Macintosh</th>\n",
              "      <th>operatingSystem__Windows</th>\n",
              "      <th>operatingSystem__iOS</th>\n",
              "    </tr>\n",
              "  </thead>\n",
              "  <tbody>\n",
              "    <tr>\n",
              "      <th>0</th>\n",
              "      <td>2019-05-03 19:51:00</td>\n",
              "      <td>2019-05-03 17:00:00</td>\n",
              "      <td>341412195</td>\n",
              "      <td>26.38</td>\n",
              "      <td>monthly_20171212</td>\n",
              "      <td>True</td>\n",
              "      <td>Motorola</td>\n",
              "      <td>mobile</td>\n",
              "      <td>Americas</td>\n",
              "      <td>Central America</td>\n",
              "      <td>Mexico</td>\n",
              "      <td>Aguascalientes</td>\n",
              "      <td>2019-05-04</td>\n",
              "      <td>7</td>\n",
              "      <td>23</td>\n",
              "      <td>0</td>\n",
              "      <td>0</td>\n",
              "      <td>0</td>\n",
              "      <td>0</td>\n",
              "      <td>2019-05-03 19:49:00-07:00</td>\n",
              "      <td>2019-05-03 17:00:00-07:00</td>\n",
              "      <td>0</td>\n",
              "      <td>1</td>\n",
              "      <td>0</td>\n",
              "      <td>0</td>\n",
              "      <td>0</td>\n",
              "      <td>0</td>\n",
              "      <td>0</td>\n",
              "      <td>0</td>\n",
              "      <td>0</td>\n",
              "      <td>0</td>\n",
              "      <td>1</td>\n",
              "      <td>0</td>\n",
              "      <td>0</td>\n",
              "      <td>1</td>\n",
              "      <td>0</td>\n",
              "      <td>0</td>\n",
              "      <td>1</td>\n",
              "      <td>0</td>\n",
              "      <td>0</td>\n",
              "      <td>...</td>\n",
              "      <td>0</td>\n",
              "      <td>0</td>\n",
              "      <td>0</td>\n",
              "      <td>0</td>\n",
              "      <td>0</td>\n",
              "      <td>0</td>\n",
              "      <td>0</td>\n",
              "      <td>0</td>\n",
              "      <td>0</td>\n",
              "      <td>0</td>\n",
              "      <td>0</td>\n",
              "      <td>0</td>\n",
              "      <td>0</td>\n",
              "      <td>0</td>\n",
              "      <td>0</td>\n",
              "      <td>0</td>\n",
              "      <td>0</td>\n",
              "      <td>0</td>\n",
              "      <td>0</td>\n",
              "      <td>0</td>\n",
              "      <td>0</td>\n",
              "      <td>0</td>\n",
              "      <td>0</td>\n",
              "      <td>0</td>\n",
              "      <td>1</td>\n",
              "      <td>0</td>\n",
              "      <td>0</td>\n",
              "      <td>0</td>\n",
              "      <td>0</td>\n",
              "      <td>0</td>\n",
              "      <td>0</td>\n",
              "      <td>0</td>\n",
              "      <td>0</td>\n",
              "      <td>1</td>\n",
              "      <td>0</td>\n",
              "      <td>0</td>\n",
              "      <td>0</td>\n",
              "      <td>0</td>\n",
              "      <td>0</td>\n",
              "      <td>0</td>\n",
              "    </tr>\n",
              "    <tr>\n",
              "      <th>1</th>\n",
              "      <td>2019-05-05 09:10:00</td>\n",
              "      <td>2019-05-04 17:00:00</td>\n",
              "      <td>341479440</td>\n",
              "      <td>6.73</td>\n",
              "      <td>monthly_20171212</td>\n",
              "      <td>True</td>\n",
              "      <td>Samsung</td>\n",
              "      <td>mobile</td>\n",
              "      <td>Americas</td>\n",
              "      <td>South America</td>\n",
              "      <td>Argentina</td>\n",
              "      <td>(not set)</td>\n",
              "      <td>2019-05-05</td>\n",
              "      <td>20</td>\n",
              "      <td>26</td>\n",
              "      <td>0</td>\n",
              "      <td>0</td>\n",
              "      <td>0</td>\n",
              "      <td>0</td>\n",
              "      <td>2019-05-05 09:09:00-07:00</td>\n",
              "      <td>2019-05-04 17:00:00-07:00</td>\n",
              "      <td>1</td>\n",
              "      <td>0</td>\n",
              "      <td>1</td>\n",
              "      <td>0</td>\n",
              "      <td>0</td>\n",
              "      <td>0</td>\n",
              "      <td>0</td>\n",
              "      <td>0</td>\n",
              "      <td>0</td>\n",
              "      <td>0</td>\n",
              "      <td>0</td>\n",
              "      <td>0</td>\n",
              "      <td>0</td>\n",
              "      <td>1</td>\n",
              "      <td>0</td>\n",
              "      <td>0</td>\n",
              "      <td>1</td>\n",
              "      <td>0</td>\n",
              "      <td>0</td>\n",
              "      <td>...</td>\n",
              "      <td>0</td>\n",
              "      <td>0</td>\n",
              "      <td>0</td>\n",
              "      <td>0</td>\n",
              "      <td>0</td>\n",
              "      <td>0</td>\n",
              "      <td>0</td>\n",
              "      <td>0</td>\n",
              "      <td>0</td>\n",
              "      <td>0</td>\n",
              "      <td>0</td>\n",
              "      <td>0</td>\n",
              "      <td>0</td>\n",
              "      <td>0</td>\n",
              "      <td>0</td>\n",
              "      <td>0</td>\n",
              "      <td>0</td>\n",
              "      <td>0</td>\n",
              "      <td>0</td>\n",
              "      <td>0</td>\n",
              "      <td>0</td>\n",
              "      <td>0</td>\n",
              "      <td>0</td>\n",
              "      <td>0</td>\n",
              "      <td>1</td>\n",
              "      <td>0</td>\n",
              "      <td>0</td>\n",
              "      <td>0</td>\n",
              "      <td>0</td>\n",
              "      <td>0</td>\n",
              "      <td>0</td>\n",
              "      <td>0</td>\n",
              "      <td>0</td>\n",
              "      <td>1</td>\n",
              "      <td>0</td>\n",
              "      <td>0</td>\n",
              "      <td>0</td>\n",
              "      <td>0</td>\n",
              "      <td>0</td>\n",
              "      <td>0</td>\n",
              "    </tr>\n",
              "    <tr>\n",
              "      <th>2</th>\n",
              "      <td>2019-05-05 12:06:00</td>\n",
              "      <td>2019-05-04 17:00:00</td>\n",
              "      <td>334039570</td>\n",
              "      <td>26.38</td>\n",
              "      <td>monthly_20171212</td>\n",
              "      <td>False</td>\n",
              "      <td>0</td>\n",
              "      <td>desktop</td>\n",
              "      <td>Americas</td>\n",
              "      <td>Central America</td>\n",
              "      <td>Mexico</td>\n",
              "      <td>Tepexpan</td>\n",
              "      <td>2019-05-05</td>\n",
              "      <td>13</td>\n",
              "      <td>13</td>\n",
              "      <td>1</td>\n",
              "      <td>0</td>\n",
              "      <td>85</td>\n",
              "      <td>0</td>\n",
              "      <td>2019-01-07 19:57:00-08:00</td>\n",
              "      <td>2019-05-04 17:00:00-07:00</td>\n",
              "      <td>0</td>\n",
              "      <td>1</td>\n",
              "      <td>0</td>\n",
              "      <td>0</td>\n",
              "      <td>0</td>\n",
              "      <td>0</td>\n",
              "      <td>0</td>\n",
              "      <td>0</td>\n",
              "      <td>0</td>\n",
              "      <td>0</td>\n",
              "      <td>1</td>\n",
              "      <td>0</td>\n",
              "      <td>0</td>\n",
              "      <td>1</td>\n",
              "      <td>0</td>\n",
              "      <td>0</td>\n",
              "      <td>1</td>\n",
              "      <td>0</td>\n",
              "      <td>0</td>\n",
              "      <td>...</td>\n",
              "      <td>0</td>\n",
              "      <td>0</td>\n",
              "      <td>0</td>\n",
              "      <td>0</td>\n",
              "      <td>0</td>\n",
              "      <td>0</td>\n",
              "      <td>0</td>\n",
              "      <td>0</td>\n",
              "      <td>0</td>\n",
              "      <td>0</td>\n",
              "      <td>0</td>\n",
              "      <td>0</td>\n",
              "      <td>0</td>\n",
              "      <td>0</td>\n",
              "      <td>0</td>\n",
              "      <td>0</td>\n",
              "      <td>0</td>\n",
              "      <td>0</td>\n",
              "      <td>0</td>\n",
              "      <td>0</td>\n",
              "      <td>0</td>\n",
              "      <td>0</td>\n",
              "      <td>0</td>\n",
              "      <td>0</td>\n",
              "      <td>1</td>\n",
              "      <td>0</td>\n",
              "      <td>0</td>\n",
              "      <td>0</td>\n",
              "      <td>0</td>\n",
              "      <td>0</td>\n",
              "      <td>0</td>\n",
              "      <td>0</td>\n",
              "      <td>0</td>\n",
              "      <td>0</td>\n",
              "      <td>0</td>\n",
              "      <td>0</td>\n",
              "      <td>0</td>\n",
              "      <td>0</td>\n",
              "      <td>1</td>\n",
              "      <td>0</td>\n",
              "    </tr>\n",
              "    <tr>\n",
              "      <th>3</th>\n",
              "      <td>2019-05-06 16:40:00</td>\n",
              "      <td>2019-05-05 17:00:00</td>\n",
              "      <td>341572424</td>\n",
              "      <td>0.65</td>\n",
              "      <td>2for2_20171212</td>\n",
              "      <td>False</td>\n",
              "      <td>0</td>\n",
              "      <td>desktop</td>\n",
              "      <td>Americas</td>\n",
              "      <td>South America</td>\n",
              "      <td>Argentina</td>\n",
              "      <td>(not set)</td>\n",
              "      <td>2019-05-19</td>\n",
              "      <td>4</td>\n",
              "      <td>10</td>\n",
              "      <td>0</td>\n",
              "      <td>0</td>\n",
              "      <td>0</td>\n",
              "      <td>0</td>\n",
              "      <td>2019-05-06 12:00:00-07:00</td>\n",
              "      <td>2019-05-05 17:00:00-07:00</td>\n",
              "      <td>1</td>\n",
              "      <td>0</td>\n",
              "      <td>1</td>\n",
              "      <td>0</td>\n",
              "      <td>0</td>\n",
              "      <td>0</td>\n",
              "      <td>0</td>\n",
              "      <td>0</td>\n",
              "      <td>0</td>\n",
              "      <td>0</td>\n",
              "      <td>0</td>\n",
              "      <td>0</td>\n",
              "      <td>0</td>\n",
              "      <td>1</td>\n",
              "      <td>0</td>\n",
              "      <td>0</td>\n",
              "      <td>1</td>\n",
              "      <td>0</td>\n",
              "      <td>0</td>\n",
              "      <td>...</td>\n",
              "      <td>0</td>\n",
              "      <td>0</td>\n",
              "      <td>0</td>\n",
              "      <td>0</td>\n",
              "      <td>0</td>\n",
              "      <td>0</td>\n",
              "      <td>0</td>\n",
              "      <td>0</td>\n",
              "      <td>0</td>\n",
              "      <td>0</td>\n",
              "      <td>0</td>\n",
              "      <td>0</td>\n",
              "      <td>0</td>\n",
              "      <td>0</td>\n",
              "      <td>0</td>\n",
              "      <td>0</td>\n",
              "      <td>0</td>\n",
              "      <td>0</td>\n",
              "      <td>0</td>\n",
              "      <td>0</td>\n",
              "      <td>0</td>\n",
              "      <td>0</td>\n",
              "      <td>0</td>\n",
              "      <td>0</td>\n",
              "      <td>1</td>\n",
              "      <td>0</td>\n",
              "      <td>0</td>\n",
              "      <td>0</td>\n",
              "      <td>0</td>\n",
              "      <td>0</td>\n",
              "      <td>0</td>\n",
              "      <td>0</td>\n",
              "      <td>0</td>\n",
              "      <td>0</td>\n",
              "      <td>0</td>\n",
              "      <td>0</td>\n",
              "      <td>0</td>\n",
              "      <td>0</td>\n",
              "      <td>1</td>\n",
              "      <td>0</td>\n",
              "    </tr>\n",
              "    <tr>\n",
              "      <th>4</th>\n",
              "      <td>2019-05-10 03:37:00</td>\n",
              "      <td>2019-05-09 17:00:00</td>\n",
              "      <td>315339375</td>\n",
              "      <td>2.25</td>\n",
              "      <td>2for2_20171212</td>\n",
              "      <td>False</td>\n",
              "      <td>0</td>\n",
              "      <td>desktop</td>\n",
              "      <td>Europe</td>\n",
              "      <td>Southern Europe</td>\n",
              "      <td>Spain</td>\n",
              "      <td>Pamplona</td>\n",
              "      <td>2019-05-10</td>\n",
              "      <td>10</td>\n",
              "      <td>13</td>\n",
              "      <td>0</td>\n",
              "      <td>0</td>\n",
              "      <td>14</td>\n",
              "      <td>0</td>\n",
              "      <td>2018-03-09 09:55:00-08:00</td>\n",
              "      <td>2019-05-09 17:00:00-07:00</td>\n",
              "      <td>0</td>\n",
              "      <td>1</td>\n",
              "      <td>0</td>\n",
              "      <td>0</td>\n",
              "      <td>0</td>\n",
              "      <td>0</td>\n",
              "      <td>0</td>\n",
              "      <td>1</td>\n",
              "      <td>0</td>\n",
              "      <td>0</td>\n",
              "      <td>0</td>\n",
              "      <td>0</td>\n",
              "      <td>0</td>\n",
              "      <td>1</td>\n",
              "      <td>0</td>\n",
              "      <td>0</td>\n",
              "      <td>1</td>\n",
              "      <td>0</td>\n",
              "      <td>0</td>\n",
              "      <td>...</td>\n",
              "      <td>0</td>\n",
              "      <td>0</td>\n",
              "      <td>0</td>\n",
              "      <td>0</td>\n",
              "      <td>0</td>\n",
              "      <td>0</td>\n",
              "      <td>0</td>\n",
              "      <td>0</td>\n",
              "      <td>0</td>\n",
              "      <td>0</td>\n",
              "      <td>0</td>\n",
              "      <td>0</td>\n",
              "      <td>0</td>\n",
              "      <td>0</td>\n",
              "      <td>0</td>\n",
              "      <td>0</td>\n",
              "      <td>0</td>\n",
              "      <td>0</td>\n",
              "      <td>0</td>\n",
              "      <td>0</td>\n",
              "      <td>0</td>\n",
              "      <td>0</td>\n",
              "      <td>0</td>\n",
              "      <td>0</td>\n",
              "      <td>1</td>\n",
              "      <td>0</td>\n",
              "      <td>0</td>\n",
              "      <td>0</td>\n",
              "      <td>0</td>\n",
              "      <td>0</td>\n",
              "      <td>0</td>\n",
              "      <td>0</td>\n",
              "      <td>0</td>\n",
              "      <td>0</td>\n",
              "      <td>0</td>\n",
              "      <td>0</td>\n",
              "      <td>0</td>\n",
              "      <td>0</td>\n",
              "      <td>1</td>\n",
              "      <td>0</td>\n",
              "    </tr>\n",
              "  </tbody>\n",
              "</table>\n",
              "<p>5 rows × 82 columns</p>\n",
              "</div>"
            ],
            "text/plain": [
              "        created_am_la  ... operatingSystem__iOS\n",
              "0 2019-05-03 19:51:00  ...                    0\n",
              "1 2019-05-05 09:10:00  ...                    0\n",
              "2 2019-05-05 12:06:00  ...                    0\n",
              "3 2019-05-06 16:40:00  ...                    0\n",
              "4 2019-05-10 03:37:00  ...                    0\n",
              "\n",
              "[5 rows x 82 columns]"
            ]
          },
          "metadata": {
            "tags": []
          },
          "execution_count": 71
        }
      ]
    },
    {
      "cell_type": "code",
      "metadata": {
        "id": "OzgcxrOeDQDF",
        "colab_type": "code",
        "outputId": "114c3a50-d21b-4d4a-fe4d-663b622526e2",
        "colab": {
          "base_uri": "https://localhost:8080/",
          "height": 372
        }
      },
      "source": [
        "df_with_dummies.isMobile = df_with_dummies.isMobile.astype(int)\n",
        "df_with_dummies.head()"
      ],
      "execution_count": 0,
      "outputs": [
        {
          "output_type": "execute_result",
          "data": {
            "text/html": [
              "<div>\n",
              "<style scoped>\n",
              "    .dataframe tbody tr th:only-of-type {\n",
              "        vertical-align: middle;\n",
              "    }\n",
              "\n",
              "    .dataframe tbody tr th {\n",
              "        vertical-align: top;\n",
              "    }\n",
              "\n",
              "    .dataframe thead th {\n",
              "        text-align: right;\n",
              "    }\n",
              "</style>\n",
              "<table border=\"1\" class=\"dataframe\">\n",
              "  <thead>\n",
              "    <tr style=\"text-align: right;\">\n",
              "      <th></th>\n",
              "      <th>created_am_la</th>\n",
              "      <th>transaction_date_am_la</th>\n",
              "      <th>user_id</th>\n",
              "      <th>transaction_amount_100_usd</th>\n",
              "      <th>user_external_plan_first_activated_plan</th>\n",
              "      <th>isMobile</th>\n",
              "      <th>mobileDeviceBranding</th>\n",
              "      <th>deviceCategory</th>\n",
              "      <th>continent</th>\n",
              "      <th>subContinent</th>\n",
              "      <th>country</th>\n",
              "      <th>city</th>\n",
              "      <th>last_login</th>\n",
              "      <th>joined_day_pageviews</th>\n",
              "      <th>pageviews_in_first_month</th>\n",
              "      <th>pageviews_in_second_month</th>\n",
              "      <th>pageviews_in_third_month</th>\n",
              "      <th>pageviews_after_third_month</th>\n",
              "      <th>chargeback</th>\n",
              "      <th>user_creation_date_am_la</th>\n",
              "      <th>transaction_date_am_la_fix</th>\n",
              "      <th>payment_method__creditcard</th>\n",
              "      <th>payment_method__debitcard</th>\n",
              "      <th>transaction_currency__ARS</th>\n",
              "      <th>transaction_currency__CLP</th>\n",
              "      <th>transaction_currency__COP</th>\n",
              "      <th>transaction_currency__CRC</th>\n",
              "      <th>transaction_currency__DOP</th>\n",
              "      <th>transaction_currency__EUR</th>\n",
              "      <th>transaction_currency__GTQ</th>\n",
              "      <th>transaction_currency__HNL</th>\n",
              "      <th>transaction_currency__MXN</th>\n",
              "      <th>transaction_currency__PEN</th>\n",
              "      <th>transaction_currency__USD</th>\n",
              "      <th>plan_period__30</th>\n",
              "      <th>plan_period__90</th>\n",
              "      <th>plan_period__360</th>\n",
              "      <th>error_message__APPROVED</th>\n",
              "      <th>error_message__FAILED</th>\n",
              "      <th>error_message__NOT CHECKED BY ACQUIRER</th>\n",
              "      <th>...</th>\n",
              "      <th>plan_country__AU</th>\n",
              "      <th>plan_country__BR</th>\n",
              "      <th>plan_country__CA</th>\n",
              "      <th>plan_country__CH</th>\n",
              "      <th>plan_country__CL</th>\n",
              "      <th>plan_country__CO</th>\n",
              "      <th>plan_country__CR</th>\n",
              "      <th>plan_country__DO</th>\n",
              "      <th>plan_country__EC</th>\n",
              "      <th>plan_country__ES</th>\n",
              "      <th>plan_country__FR</th>\n",
              "      <th>plan_country__GB</th>\n",
              "      <th>plan_country__GT</th>\n",
              "      <th>plan_country__HN</th>\n",
              "      <th>plan_country__IN</th>\n",
              "      <th>plan_country__MX</th>\n",
              "      <th>plan_country__PA</th>\n",
              "      <th>plan_country__PE</th>\n",
              "      <th>plan_country__PR</th>\n",
              "      <th>plan_country__PT</th>\n",
              "      <th>plan_country__SV</th>\n",
              "      <th>plan_country__US</th>\n",
              "      <th>browser__Amazon Silk</th>\n",
              "      <th>browser__Android Webview</th>\n",
              "      <th>browser__Chrome</th>\n",
              "      <th>browser__Edge</th>\n",
              "      <th>browser__Firefox</th>\n",
              "      <th>browser__Internet Explorer</th>\n",
              "      <th>browser__Opera</th>\n",
              "      <th>browser__Safari</th>\n",
              "      <th>browser__Safari (in-app)</th>\n",
              "      <th>browser__Samsung Internet</th>\n",
              "      <th>browser__YaBrowser</th>\n",
              "      <th>operatingSystem__Android</th>\n",
              "      <th>operatingSystem__BlackBerry</th>\n",
              "      <th>operatingSystem__Chrome OS</th>\n",
              "      <th>operatingSystem__Linux</th>\n",
              "      <th>operatingSystem__Macintosh</th>\n",
              "      <th>operatingSystem__Windows</th>\n",
              "      <th>operatingSystem__iOS</th>\n",
              "    </tr>\n",
              "  </thead>\n",
              "  <tbody>\n",
              "    <tr>\n",
              "      <th>0</th>\n",
              "      <td>2019-05-03 19:51:00</td>\n",
              "      <td>2019-05-03 17:00:00</td>\n",
              "      <td>341412195</td>\n",
              "      <td>26.38</td>\n",
              "      <td>monthly_20171212</td>\n",
              "      <td>1</td>\n",
              "      <td>Motorola</td>\n",
              "      <td>mobile</td>\n",
              "      <td>Americas</td>\n",
              "      <td>Central America</td>\n",
              "      <td>Mexico</td>\n",
              "      <td>Aguascalientes</td>\n",
              "      <td>2019-05-04</td>\n",
              "      <td>7</td>\n",
              "      <td>23</td>\n",
              "      <td>0</td>\n",
              "      <td>0</td>\n",
              "      <td>0</td>\n",
              "      <td>0</td>\n",
              "      <td>2019-05-03 19:49:00-07:00</td>\n",
              "      <td>2019-05-03 17:00:00-07:00</td>\n",
              "      <td>0</td>\n",
              "      <td>1</td>\n",
              "      <td>0</td>\n",
              "      <td>0</td>\n",
              "      <td>0</td>\n",
              "      <td>0</td>\n",
              "      <td>0</td>\n",
              "      <td>0</td>\n",
              "      <td>0</td>\n",
              "      <td>0</td>\n",
              "      <td>1</td>\n",
              "      <td>0</td>\n",
              "      <td>0</td>\n",
              "      <td>1</td>\n",
              "      <td>0</td>\n",
              "      <td>0</td>\n",
              "      <td>1</td>\n",
              "      <td>0</td>\n",
              "      <td>0</td>\n",
              "      <td>...</td>\n",
              "      <td>0</td>\n",
              "      <td>0</td>\n",
              "      <td>0</td>\n",
              "      <td>0</td>\n",
              "      <td>0</td>\n",
              "      <td>0</td>\n",
              "      <td>0</td>\n",
              "      <td>0</td>\n",
              "      <td>0</td>\n",
              "      <td>0</td>\n",
              "      <td>0</td>\n",
              "      <td>0</td>\n",
              "      <td>0</td>\n",
              "      <td>0</td>\n",
              "      <td>0</td>\n",
              "      <td>0</td>\n",
              "      <td>0</td>\n",
              "      <td>0</td>\n",
              "      <td>0</td>\n",
              "      <td>0</td>\n",
              "      <td>0</td>\n",
              "      <td>0</td>\n",
              "      <td>0</td>\n",
              "      <td>0</td>\n",
              "      <td>1</td>\n",
              "      <td>0</td>\n",
              "      <td>0</td>\n",
              "      <td>0</td>\n",
              "      <td>0</td>\n",
              "      <td>0</td>\n",
              "      <td>0</td>\n",
              "      <td>0</td>\n",
              "      <td>0</td>\n",
              "      <td>1</td>\n",
              "      <td>0</td>\n",
              "      <td>0</td>\n",
              "      <td>0</td>\n",
              "      <td>0</td>\n",
              "      <td>0</td>\n",
              "      <td>0</td>\n",
              "    </tr>\n",
              "    <tr>\n",
              "      <th>1</th>\n",
              "      <td>2019-05-05 09:10:00</td>\n",
              "      <td>2019-05-04 17:00:00</td>\n",
              "      <td>341479440</td>\n",
              "      <td>6.73</td>\n",
              "      <td>monthly_20171212</td>\n",
              "      <td>1</td>\n",
              "      <td>Samsung</td>\n",
              "      <td>mobile</td>\n",
              "      <td>Americas</td>\n",
              "      <td>South America</td>\n",
              "      <td>Argentina</td>\n",
              "      <td>(not set)</td>\n",
              "      <td>2019-05-05</td>\n",
              "      <td>20</td>\n",
              "      <td>26</td>\n",
              "      <td>0</td>\n",
              "      <td>0</td>\n",
              "      <td>0</td>\n",
              "      <td>0</td>\n",
              "      <td>2019-05-05 09:09:00-07:00</td>\n",
              "      <td>2019-05-04 17:00:00-07:00</td>\n",
              "      <td>1</td>\n",
              "      <td>0</td>\n",
              "      <td>1</td>\n",
              "      <td>0</td>\n",
              "      <td>0</td>\n",
              "      <td>0</td>\n",
              "      <td>0</td>\n",
              "      <td>0</td>\n",
              "      <td>0</td>\n",
              "      <td>0</td>\n",
              "      <td>0</td>\n",
              "      <td>0</td>\n",
              "      <td>0</td>\n",
              "      <td>1</td>\n",
              "      <td>0</td>\n",
              "      <td>0</td>\n",
              "      <td>1</td>\n",
              "      <td>0</td>\n",
              "      <td>0</td>\n",
              "      <td>...</td>\n",
              "      <td>0</td>\n",
              "      <td>0</td>\n",
              "      <td>0</td>\n",
              "      <td>0</td>\n",
              "      <td>0</td>\n",
              "      <td>0</td>\n",
              "      <td>0</td>\n",
              "      <td>0</td>\n",
              "      <td>0</td>\n",
              "      <td>0</td>\n",
              "      <td>0</td>\n",
              "      <td>0</td>\n",
              "      <td>0</td>\n",
              "      <td>0</td>\n",
              "      <td>0</td>\n",
              "      <td>0</td>\n",
              "      <td>0</td>\n",
              "      <td>0</td>\n",
              "      <td>0</td>\n",
              "      <td>0</td>\n",
              "      <td>0</td>\n",
              "      <td>0</td>\n",
              "      <td>0</td>\n",
              "      <td>0</td>\n",
              "      <td>1</td>\n",
              "      <td>0</td>\n",
              "      <td>0</td>\n",
              "      <td>0</td>\n",
              "      <td>0</td>\n",
              "      <td>0</td>\n",
              "      <td>0</td>\n",
              "      <td>0</td>\n",
              "      <td>0</td>\n",
              "      <td>1</td>\n",
              "      <td>0</td>\n",
              "      <td>0</td>\n",
              "      <td>0</td>\n",
              "      <td>0</td>\n",
              "      <td>0</td>\n",
              "      <td>0</td>\n",
              "    </tr>\n",
              "    <tr>\n",
              "      <th>2</th>\n",
              "      <td>2019-05-05 12:06:00</td>\n",
              "      <td>2019-05-04 17:00:00</td>\n",
              "      <td>334039570</td>\n",
              "      <td>26.38</td>\n",
              "      <td>monthly_20171212</td>\n",
              "      <td>0</td>\n",
              "      <td>0</td>\n",
              "      <td>desktop</td>\n",
              "      <td>Americas</td>\n",
              "      <td>Central America</td>\n",
              "      <td>Mexico</td>\n",
              "      <td>Tepexpan</td>\n",
              "      <td>2019-05-05</td>\n",
              "      <td>13</td>\n",
              "      <td>13</td>\n",
              "      <td>1</td>\n",
              "      <td>0</td>\n",
              "      <td>85</td>\n",
              "      <td>0</td>\n",
              "      <td>2019-01-07 19:57:00-08:00</td>\n",
              "      <td>2019-05-04 17:00:00-07:00</td>\n",
              "      <td>0</td>\n",
              "      <td>1</td>\n",
              "      <td>0</td>\n",
              "      <td>0</td>\n",
              "      <td>0</td>\n",
              "      <td>0</td>\n",
              "      <td>0</td>\n",
              "      <td>0</td>\n",
              "      <td>0</td>\n",
              "      <td>0</td>\n",
              "      <td>1</td>\n",
              "      <td>0</td>\n",
              "      <td>0</td>\n",
              "      <td>1</td>\n",
              "      <td>0</td>\n",
              "      <td>0</td>\n",
              "      <td>1</td>\n",
              "      <td>0</td>\n",
              "      <td>0</td>\n",
              "      <td>...</td>\n",
              "      <td>0</td>\n",
              "      <td>0</td>\n",
              "      <td>0</td>\n",
              "      <td>0</td>\n",
              "      <td>0</td>\n",
              "      <td>0</td>\n",
              "      <td>0</td>\n",
              "      <td>0</td>\n",
              "      <td>0</td>\n",
              "      <td>0</td>\n",
              "      <td>0</td>\n",
              "      <td>0</td>\n",
              "      <td>0</td>\n",
              "      <td>0</td>\n",
              "      <td>0</td>\n",
              "      <td>0</td>\n",
              "      <td>0</td>\n",
              "      <td>0</td>\n",
              "      <td>0</td>\n",
              "      <td>0</td>\n",
              "      <td>0</td>\n",
              "      <td>0</td>\n",
              "      <td>0</td>\n",
              "      <td>0</td>\n",
              "      <td>1</td>\n",
              "      <td>0</td>\n",
              "      <td>0</td>\n",
              "      <td>0</td>\n",
              "      <td>0</td>\n",
              "      <td>0</td>\n",
              "      <td>0</td>\n",
              "      <td>0</td>\n",
              "      <td>0</td>\n",
              "      <td>0</td>\n",
              "      <td>0</td>\n",
              "      <td>0</td>\n",
              "      <td>0</td>\n",
              "      <td>0</td>\n",
              "      <td>1</td>\n",
              "      <td>0</td>\n",
              "    </tr>\n",
              "    <tr>\n",
              "      <th>3</th>\n",
              "      <td>2019-05-06 16:40:00</td>\n",
              "      <td>2019-05-05 17:00:00</td>\n",
              "      <td>341572424</td>\n",
              "      <td>0.65</td>\n",
              "      <td>2for2_20171212</td>\n",
              "      <td>0</td>\n",
              "      <td>0</td>\n",
              "      <td>desktop</td>\n",
              "      <td>Americas</td>\n",
              "      <td>South America</td>\n",
              "      <td>Argentina</td>\n",
              "      <td>(not set)</td>\n",
              "      <td>2019-05-19</td>\n",
              "      <td>4</td>\n",
              "      <td>10</td>\n",
              "      <td>0</td>\n",
              "      <td>0</td>\n",
              "      <td>0</td>\n",
              "      <td>0</td>\n",
              "      <td>2019-05-06 12:00:00-07:00</td>\n",
              "      <td>2019-05-05 17:00:00-07:00</td>\n",
              "      <td>1</td>\n",
              "      <td>0</td>\n",
              "      <td>1</td>\n",
              "      <td>0</td>\n",
              "      <td>0</td>\n",
              "      <td>0</td>\n",
              "      <td>0</td>\n",
              "      <td>0</td>\n",
              "      <td>0</td>\n",
              "      <td>0</td>\n",
              "      <td>0</td>\n",
              "      <td>0</td>\n",
              "      <td>0</td>\n",
              "      <td>1</td>\n",
              "      <td>0</td>\n",
              "      <td>0</td>\n",
              "      <td>1</td>\n",
              "      <td>0</td>\n",
              "      <td>0</td>\n",
              "      <td>...</td>\n",
              "      <td>0</td>\n",
              "      <td>0</td>\n",
              "      <td>0</td>\n",
              "      <td>0</td>\n",
              "      <td>0</td>\n",
              "      <td>0</td>\n",
              "      <td>0</td>\n",
              "      <td>0</td>\n",
              "      <td>0</td>\n",
              "      <td>0</td>\n",
              "      <td>0</td>\n",
              "      <td>0</td>\n",
              "      <td>0</td>\n",
              "      <td>0</td>\n",
              "      <td>0</td>\n",
              "      <td>0</td>\n",
              "      <td>0</td>\n",
              "      <td>0</td>\n",
              "      <td>0</td>\n",
              "      <td>0</td>\n",
              "      <td>0</td>\n",
              "      <td>0</td>\n",
              "      <td>0</td>\n",
              "      <td>0</td>\n",
              "      <td>1</td>\n",
              "      <td>0</td>\n",
              "      <td>0</td>\n",
              "      <td>0</td>\n",
              "      <td>0</td>\n",
              "      <td>0</td>\n",
              "      <td>0</td>\n",
              "      <td>0</td>\n",
              "      <td>0</td>\n",
              "      <td>0</td>\n",
              "      <td>0</td>\n",
              "      <td>0</td>\n",
              "      <td>0</td>\n",
              "      <td>0</td>\n",
              "      <td>1</td>\n",
              "      <td>0</td>\n",
              "    </tr>\n",
              "    <tr>\n",
              "      <th>4</th>\n",
              "      <td>2019-05-10 03:37:00</td>\n",
              "      <td>2019-05-09 17:00:00</td>\n",
              "      <td>315339375</td>\n",
              "      <td>2.25</td>\n",
              "      <td>2for2_20171212</td>\n",
              "      <td>0</td>\n",
              "      <td>0</td>\n",
              "      <td>desktop</td>\n",
              "      <td>Europe</td>\n",
              "      <td>Southern Europe</td>\n",
              "      <td>Spain</td>\n",
              "      <td>Pamplona</td>\n",
              "      <td>2019-05-10</td>\n",
              "      <td>10</td>\n",
              "      <td>13</td>\n",
              "      <td>0</td>\n",
              "      <td>0</td>\n",
              "      <td>14</td>\n",
              "      <td>0</td>\n",
              "      <td>2018-03-09 09:55:00-08:00</td>\n",
              "      <td>2019-05-09 17:00:00-07:00</td>\n",
              "      <td>0</td>\n",
              "      <td>1</td>\n",
              "      <td>0</td>\n",
              "      <td>0</td>\n",
              "      <td>0</td>\n",
              "      <td>0</td>\n",
              "      <td>0</td>\n",
              "      <td>1</td>\n",
              "      <td>0</td>\n",
              "      <td>0</td>\n",
              "      <td>0</td>\n",
              "      <td>0</td>\n",
              "      <td>0</td>\n",
              "      <td>1</td>\n",
              "      <td>0</td>\n",
              "      <td>0</td>\n",
              "      <td>1</td>\n",
              "      <td>0</td>\n",
              "      <td>0</td>\n",
              "      <td>...</td>\n",
              "      <td>0</td>\n",
              "      <td>0</td>\n",
              "      <td>0</td>\n",
              "      <td>0</td>\n",
              "      <td>0</td>\n",
              "      <td>0</td>\n",
              "      <td>0</td>\n",
              "      <td>0</td>\n",
              "      <td>0</td>\n",
              "      <td>0</td>\n",
              "      <td>0</td>\n",
              "      <td>0</td>\n",
              "      <td>0</td>\n",
              "      <td>0</td>\n",
              "      <td>0</td>\n",
              "      <td>0</td>\n",
              "      <td>0</td>\n",
              "      <td>0</td>\n",
              "      <td>0</td>\n",
              "      <td>0</td>\n",
              "      <td>0</td>\n",
              "      <td>0</td>\n",
              "      <td>0</td>\n",
              "      <td>0</td>\n",
              "      <td>1</td>\n",
              "      <td>0</td>\n",
              "      <td>0</td>\n",
              "      <td>0</td>\n",
              "      <td>0</td>\n",
              "      <td>0</td>\n",
              "      <td>0</td>\n",
              "      <td>0</td>\n",
              "      <td>0</td>\n",
              "      <td>0</td>\n",
              "      <td>0</td>\n",
              "      <td>0</td>\n",
              "      <td>0</td>\n",
              "      <td>0</td>\n",
              "      <td>1</td>\n",
              "      <td>0</td>\n",
              "    </tr>\n",
              "  </tbody>\n",
              "</table>\n",
              "<p>5 rows × 82 columns</p>\n",
              "</div>"
            ],
            "text/plain": [
              "        created_am_la  ... operatingSystem__iOS\n",
              "0 2019-05-03 19:51:00  ...                    0\n",
              "1 2019-05-05 09:10:00  ...                    0\n",
              "2 2019-05-05 12:06:00  ...                    0\n",
              "3 2019-05-06 16:40:00  ...                    0\n",
              "4 2019-05-10 03:37:00  ...                    0\n",
              "\n",
              "[5 rows x 82 columns]"
            ]
          },
          "metadata": {
            "tags": []
          },
          "execution_count": 72
        }
      ]
    },
    {
      "cell_type": "code",
      "metadata": {
        "id": "iDkHmcT3F6l6",
        "colab_type": "code",
        "outputId": "df3d3bb6-e3cd-4dcf-e84a-472e0858a4a7",
        "colab": {
          "base_uri": "https://localhost:8080/",
          "height": 372
        }
      },
      "source": [
        "df_with_dummies = pd.get_dummies(df_with_dummies, prefix='mobileDeviceBranding_', columns=['mobileDeviceBranding'])\n",
        "df_with_dummies.head()"
      ],
      "execution_count": 0,
      "outputs": [
        {
          "output_type": "execute_result",
          "data": {
            "text/html": [
              "<div>\n",
              "<style scoped>\n",
              "    .dataframe tbody tr th:only-of-type {\n",
              "        vertical-align: middle;\n",
              "    }\n",
              "\n",
              "    .dataframe tbody tr th {\n",
              "        vertical-align: top;\n",
              "    }\n",
              "\n",
              "    .dataframe thead th {\n",
              "        text-align: right;\n",
              "    }\n",
              "</style>\n",
              "<table border=\"1\" class=\"dataframe\">\n",
              "  <thead>\n",
              "    <tr style=\"text-align: right;\">\n",
              "      <th></th>\n",
              "      <th>created_am_la</th>\n",
              "      <th>transaction_date_am_la</th>\n",
              "      <th>user_id</th>\n",
              "      <th>transaction_amount_100_usd</th>\n",
              "      <th>user_external_plan_first_activated_plan</th>\n",
              "      <th>isMobile</th>\n",
              "      <th>deviceCategory</th>\n",
              "      <th>continent</th>\n",
              "      <th>subContinent</th>\n",
              "      <th>country</th>\n",
              "      <th>city</th>\n",
              "      <th>last_login</th>\n",
              "      <th>joined_day_pageviews</th>\n",
              "      <th>pageviews_in_first_month</th>\n",
              "      <th>pageviews_in_second_month</th>\n",
              "      <th>pageviews_in_third_month</th>\n",
              "      <th>pageviews_after_third_month</th>\n",
              "      <th>chargeback</th>\n",
              "      <th>user_creation_date_am_la</th>\n",
              "      <th>transaction_date_am_la_fix</th>\n",
              "      <th>payment_method__creditcard</th>\n",
              "      <th>payment_method__debitcard</th>\n",
              "      <th>transaction_currency__ARS</th>\n",
              "      <th>transaction_currency__CLP</th>\n",
              "      <th>transaction_currency__COP</th>\n",
              "      <th>transaction_currency__CRC</th>\n",
              "      <th>transaction_currency__DOP</th>\n",
              "      <th>transaction_currency__EUR</th>\n",
              "      <th>transaction_currency__GTQ</th>\n",
              "      <th>transaction_currency__HNL</th>\n",
              "      <th>transaction_currency__MXN</th>\n",
              "      <th>transaction_currency__PEN</th>\n",
              "      <th>transaction_currency__USD</th>\n",
              "      <th>plan_period__30</th>\n",
              "      <th>plan_period__90</th>\n",
              "      <th>plan_period__360</th>\n",
              "      <th>error_message__APPROVED</th>\n",
              "      <th>error_message__FAILED</th>\n",
              "      <th>error_message__NOT CHECKED BY ACQUIRER</th>\n",
              "      <th>error_message__UNKNOWN</th>\n",
              "      <th>...</th>\n",
              "      <th>operatingSystem__Linux</th>\n",
              "      <th>operatingSystem__Macintosh</th>\n",
              "      <th>operatingSystem__Windows</th>\n",
              "      <th>operatingSystem__iOS</th>\n",
              "      <th>mobileDeviceBranding__(not set)</th>\n",
              "      <th>mobileDeviceBranding__0</th>\n",
              "      <th>mobileDeviceBranding__Acer</th>\n",
              "      <th>mobileDeviceBranding__Alcatel</th>\n",
              "      <th>mobileDeviceBranding__Amazon</th>\n",
              "      <th>mobileDeviceBranding__Apple</th>\n",
              "      <th>mobileDeviceBranding__BLU</th>\n",
              "      <th>mobileDeviceBranding__BQ</th>\n",
              "      <th>mobileDeviceBranding__BlackBerry</th>\n",
              "      <th>mobileDeviceBranding__Bmobile</th>\n",
              "      <th>mobileDeviceBranding__EKS</th>\n",
              "      <th>mobileDeviceBranding__Google</th>\n",
              "      <th>mobileDeviceBranding__HTC</th>\n",
              "      <th>mobileDeviceBranding__Hisense</th>\n",
              "      <th>mobileDeviceBranding__Huawei</th>\n",
              "      <th>mobileDeviceBranding__Hyundai</th>\n",
              "      <th>mobileDeviceBranding__Infinix</th>\n",
              "      <th>mobileDeviceBranding__LG</th>\n",
              "      <th>mobileDeviceBranding__Lanix</th>\n",
              "      <th>mobileDeviceBranding__Lava</th>\n",
              "      <th>mobileDeviceBranding__Lenovo</th>\n",
              "      <th>mobileDeviceBranding__M4Tel</th>\n",
              "      <th>mobileDeviceBranding__MediaTek</th>\n",
              "      <th>mobileDeviceBranding__Microsoft</th>\n",
              "      <th>mobileDeviceBranding__Motorola</th>\n",
              "      <th>mobileDeviceBranding__Nokia</th>\n",
              "      <th>mobileDeviceBranding__OnePlus</th>\n",
              "      <th>mobileDeviceBranding__PCD</th>\n",
              "      <th>mobileDeviceBranding__Philips</th>\n",
              "      <th>mobileDeviceBranding__Samsung</th>\n",
              "      <th>mobileDeviceBranding__Sony</th>\n",
              "      <th>mobileDeviceBranding__Wiko</th>\n",
              "      <th>mobileDeviceBranding__Xiaomi</th>\n",
              "      <th>mobileDeviceBranding__ZOWEE</th>\n",
              "      <th>mobileDeviceBranding__ZTE</th>\n",
              "      <th>mobileDeviceBranding__iPro</th>\n",
              "    </tr>\n",
              "  </thead>\n",
              "  <tbody>\n",
              "    <tr>\n",
              "      <th>0</th>\n",
              "      <td>2019-05-03 19:51:00</td>\n",
              "      <td>2019-05-03 17:00:00</td>\n",
              "      <td>341412195</td>\n",
              "      <td>26.38</td>\n",
              "      <td>monthly_20171212</td>\n",
              "      <td>1</td>\n",
              "      <td>mobile</td>\n",
              "      <td>Americas</td>\n",
              "      <td>Central America</td>\n",
              "      <td>Mexico</td>\n",
              "      <td>Aguascalientes</td>\n",
              "      <td>2019-05-04</td>\n",
              "      <td>7</td>\n",
              "      <td>23</td>\n",
              "      <td>0</td>\n",
              "      <td>0</td>\n",
              "      <td>0</td>\n",
              "      <td>0</td>\n",
              "      <td>2019-05-03 19:49:00-07:00</td>\n",
              "      <td>2019-05-03 17:00:00-07:00</td>\n",
              "      <td>0</td>\n",
              "      <td>1</td>\n",
              "      <td>0</td>\n",
              "      <td>0</td>\n",
              "      <td>0</td>\n",
              "      <td>0</td>\n",
              "      <td>0</td>\n",
              "      <td>0</td>\n",
              "      <td>0</td>\n",
              "      <td>0</td>\n",
              "      <td>1</td>\n",
              "      <td>0</td>\n",
              "      <td>0</td>\n",
              "      <td>1</td>\n",
              "      <td>0</td>\n",
              "      <td>0</td>\n",
              "      <td>1</td>\n",
              "      <td>0</td>\n",
              "      <td>0</td>\n",
              "      <td>0</td>\n",
              "      <td>...</td>\n",
              "      <td>0</td>\n",
              "      <td>0</td>\n",
              "      <td>0</td>\n",
              "      <td>0</td>\n",
              "      <td>0</td>\n",
              "      <td>0</td>\n",
              "      <td>0</td>\n",
              "      <td>0</td>\n",
              "      <td>0</td>\n",
              "      <td>0</td>\n",
              "      <td>0</td>\n",
              "      <td>0</td>\n",
              "      <td>0</td>\n",
              "      <td>0</td>\n",
              "      <td>0</td>\n",
              "      <td>0</td>\n",
              "      <td>0</td>\n",
              "      <td>0</td>\n",
              "      <td>0</td>\n",
              "      <td>0</td>\n",
              "      <td>0</td>\n",
              "      <td>0</td>\n",
              "      <td>0</td>\n",
              "      <td>0</td>\n",
              "      <td>0</td>\n",
              "      <td>0</td>\n",
              "      <td>0</td>\n",
              "      <td>0</td>\n",
              "      <td>1</td>\n",
              "      <td>0</td>\n",
              "      <td>0</td>\n",
              "      <td>0</td>\n",
              "      <td>0</td>\n",
              "      <td>0</td>\n",
              "      <td>0</td>\n",
              "      <td>0</td>\n",
              "      <td>0</td>\n",
              "      <td>0</td>\n",
              "      <td>0</td>\n",
              "      <td>0</td>\n",
              "    </tr>\n",
              "    <tr>\n",
              "      <th>1</th>\n",
              "      <td>2019-05-05 09:10:00</td>\n",
              "      <td>2019-05-04 17:00:00</td>\n",
              "      <td>341479440</td>\n",
              "      <td>6.73</td>\n",
              "      <td>monthly_20171212</td>\n",
              "      <td>1</td>\n",
              "      <td>mobile</td>\n",
              "      <td>Americas</td>\n",
              "      <td>South America</td>\n",
              "      <td>Argentina</td>\n",
              "      <td>(not set)</td>\n",
              "      <td>2019-05-05</td>\n",
              "      <td>20</td>\n",
              "      <td>26</td>\n",
              "      <td>0</td>\n",
              "      <td>0</td>\n",
              "      <td>0</td>\n",
              "      <td>0</td>\n",
              "      <td>2019-05-05 09:09:00-07:00</td>\n",
              "      <td>2019-05-04 17:00:00-07:00</td>\n",
              "      <td>1</td>\n",
              "      <td>0</td>\n",
              "      <td>1</td>\n",
              "      <td>0</td>\n",
              "      <td>0</td>\n",
              "      <td>0</td>\n",
              "      <td>0</td>\n",
              "      <td>0</td>\n",
              "      <td>0</td>\n",
              "      <td>0</td>\n",
              "      <td>0</td>\n",
              "      <td>0</td>\n",
              "      <td>0</td>\n",
              "      <td>1</td>\n",
              "      <td>0</td>\n",
              "      <td>0</td>\n",
              "      <td>1</td>\n",
              "      <td>0</td>\n",
              "      <td>0</td>\n",
              "      <td>0</td>\n",
              "      <td>...</td>\n",
              "      <td>0</td>\n",
              "      <td>0</td>\n",
              "      <td>0</td>\n",
              "      <td>0</td>\n",
              "      <td>0</td>\n",
              "      <td>0</td>\n",
              "      <td>0</td>\n",
              "      <td>0</td>\n",
              "      <td>0</td>\n",
              "      <td>0</td>\n",
              "      <td>0</td>\n",
              "      <td>0</td>\n",
              "      <td>0</td>\n",
              "      <td>0</td>\n",
              "      <td>0</td>\n",
              "      <td>0</td>\n",
              "      <td>0</td>\n",
              "      <td>0</td>\n",
              "      <td>0</td>\n",
              "      <td>0</td>\n",
              "      <td>0</td>\n",
              "      <td>0</td>\n",
              "      <td>0</td>\n",
              "      <td>0</td>\n",
              "      <td>0</td>\n",
              "      <td>0</td>\n",
              "      <td>0</td>\n",
              "      <td>0</td>\n",
              "      <td>0</td>\n",
              "      <td>0</td>\n",
              "      <td>0</td>\n",
              "      <td>0</td>\n",
              "      <td>0</td>\n",
              "      <td>1</td>\n",
              "      <td>0</td>\n",
              "      <td>0</td>\n",
              "      <td>0</td>\n",
              "      <td>0</td>\n",
              "      <td>0</td>\n",
              "      <td>0</td>\n",
              "    </tr>\n",
              "    <tr>\n",
              "      <th>2</th>\n",
              "      <td>2019-05-05 12:06:00</td>\n",
              "      <td>2019-05-04 17:00:00</td>\n",
              "      <td>334039570</td>\n",
              "      <td>26.38</td>\n",
              "      <td>monthly_20171212</td>\n",
              "      <td>0</td>\n",
              "      <td>desktop</td>\n",
              "      <td>Americas</td>\n",
              "      <td>Central America</td>\n",
              "      <td>Mexico</td>\n",
              "      <td>Tepexpan</td>\n",
              "      <td>2019-05-05</td>\n",
              "      <td>13</td>\n",
              "      <td>13</td>\n",
              "      <td>1</td>\n",
              "      <td>0</td>\n",
              "      <td>85</td>\n",
              "      <td>0</td>\n",
              "      <td>2019-01-07 19:57:00-08:00</td>\n",
              "      <td>2019-05-04 17:00:00-07:00</td>\n",
              "      <td>0</td>\n",
              "      <td>1</td>\n",
              "      <td>0</td>\n",
              "      <td>0</td>\n",
              "      <td>0</td>\n",
              "      <td>0</td>\n",
              "      <td>0</td>\n",
              "      <td>0</td>\n",
              "      <td>0</td>\n",
              "      <td>0</td>\n",
              "      <td>1</td>\n",
              "      <td>0</td>\n",
              "      <td>0</td>\n",
              "      <td>1</td>\n",
              "      <td>0</td>\n",
              "      <td>0</td>\n",
              "      <td>1</td>\n",
              "      <td>0</td>\n",
              "      <td>0</td>\n",
              "      <td>0</td>\n",
              "      <td>...</td>\n",
              "      <td>0</td>\n",
              "      <td>0</td>\n",
              "      <td>1</td>\n",
              "      <td>0</td>\n",
              "      <td>0</td>\n",
              "      <td>1</td>\n",
              "      <td>0</td>\n",
              "      <td>0</td>\n",
              "      <td>0</td>\n",
              "      <td>0</td>\n",
              "      <td>0</td>\n",
              "      <td>0</td>\n",
              "      <td>0</td>\n",
              "      <td>0</td>\n",
              "      <td>0</td>\n",
              "      <td>0</td>\n",
              "      <td>0</td>\n",
              "      <td>0</td>\n",
              "      <td>0</td>\n",
              "      <td>0</td>\n",
              "      <td>0</td>\n",
              "      <td>0</td>\n",
              "      <td>0</td>\n",
              "      <td>0</td>\n",
              "      <td>0</td>\n",
              "      <td>0</td>\n",
              "      <td>0</td>\n",
              "      <td>0</td>\n",
              "      <td>0</td>\n",
              "      <td>0</td>\n",
              "      <td>0</td>\n",
              "      <td>0</td>\n",
              "      <td>0</td>\n",
              "      <td>0</td>\n",
              "      <td>0</td>\n",
              "      <td>0</td>\n",
              "      <td>0</td>\n",
              "      <td>0</td>\n",
              "      <td>0</td>\n",
              "      <td>0</td>\n",
              "    </tr>\n",
              "    <tr>\n",
              "      <th>3</th>\n",
              "      <td>2019-05-06 16:40:00</td>\n",
              "      <td>2019-05-05 17:00:00</td>\n",
              "      <td>341572424</td>\n",
              "      <td>0.65</td>\n",
              "      <td>2for2_20171212</td>\n",
              "      <td>0</td>\n",
              "      <td>desktop</td>\n",
              "      <td>Americas</td>\n",
              "      <td>South America</td>\n",
              "      <td>Argentina</td>\n",
              "      <td>(not set)</td>\n",
              "      <td>2019-05-19</td>\n",
              "      <td>4</td>\n",
              "      <td>10</td>\n",
              "      <td>0</td>\n",
              "      <td>0</td>\n",
              "      <td>0</td>\n",
              "      <td>0</td>\n",
              "      <td>2019-05-06 12:00:00-07:00</td>\n",
              "      <td>2019-05-05 17:00:00-07:00</td>\n",
              "      <td>1</td>\n",
              "      <td>0</td>\n",
              "      <td>1</td>\n",
              "      <td>0</td>\n",
              "      <td>0</td>\n",
              "      <td>0</td>\n",
              "      <td>0</td>\n",
              "      <td>0</td>\n",
              "      <td>0</td>\n",
              "      <td>0</td>\n",
              "      <td>0</td>\n",
              "      <td>0</td>\n",
              "      <td>0</td>\n",
              "      <td>1</td>\n",
              "      <td>0</td>\n",
              "      <td>0</td>\n",
              "      <td>1</td>\n",
              "      <td>0</td>\n",
              "      <td>0</td>\n",
              "      <td>0</td>\n",
              "      <td>...</td>\n",
              "      <td>0</td>\n",
              "      <td>0</td>\n",
              "      <td>1</td>\n",
              "      <td>0</td>\n",
              "      <td>0</td>\n",
              "      <td>1</td>\n",
              "      <td>0</td>\n",
              "      <td>0</td>\n",
              "      <td>0</td>\n",
              "      <td>0</td>\n",
              "      <td>0</td>\n",
              "      <td>0</td>\n",
              "      <td>0</td>\n",
              "      <td>0</td>\n",
              "      <td>0</td>\n",
              "      <td>0</td>\n",
              "      <td>0</td>\n",
              "      <td>0</td>\n",
              "      <td>0</td>\n",
              "      <td>0</td>\n",
              "      <td>0</td>\n",
              "      <td>0</td>\n",
              "      <td>0</td>\n",
              "      <td>0</td>\n",
              "      <td>0</td>\n",
              "      <td>0</td>\n",
              "      <td>0</td>\n",
              "      <td>0</td>\n",
              "      <td>0</td>\n",
              "      <td>0</td>\n",
              "      <td>0</td>\n",
              "      <td>0</td>\n",
              "      <td>0</td>\n",
              "      <td>0</td>\n",
              "      <td>0</td>\n",
              "      <td>0</td>\n",
              "      <td>0</td>\n",
              "      <td>0</td>\n",
              "      <td>0</td>\n",
              "      <td>0</td>\n",
              "    </tr>\n",
              "    <tr>\n",
              "      <th>4</th>\n",
              "      <td>2019-05-10 03:37:00</td>\n",
              "      <td>2019-05-09 17:00:00</td>\n",
              "      <td>315339375</td>\n",
              "      <td>2.25</td>\n",
              "      <td>2for2_20171212</td>\n",
              "      <td>0</td>\n",
              "      <td>desktop</td>\n",
              "      <td>Europe</td>\n",
              "      <td>Southern Europe</td>\n",
              "      <td>Spain</td>\n",
              "      <td>Pamplona</td>\n",
              "      <td>2019-05-10</td>\n",
              "      <td>10</td>\n",
              "      <td>13</td>\n",
              "      <td>0</td>\n",
              "      <td>0</td>\n",
              "      <td>14</td>\n",
              "      <td>0</td>\n",
              "      <td>2018-03-09 09:55:00-08:00</td>\n",
              "      <td>2019-05-09 17:00:00-07:00</td>\n",
              "      <td>0</td>\n",
              "      <td>1</td>\n",
              "      <td>0</td>\n",
              "      <td>0</td>\n",
              "      <td>0</td>\n",
              "      <td>0</td>\n",
              "      <td>0</td>\n",
              "      <td>1</td>\n",
              "      <td>0</td>\n",
              "      <td>0</td>\n",
              "      <td>0</td>\n",
              "      <td>0</td>\n",
              "      <td>0</td>\n",
              "      <td>1</td>\n",
              "      <td>0</td>\n",
              "      <td>0</td>\n",
              "      <td>1</td>\n",
              "      <td>0</td>\n",
              "      <td>0</td>\n",
              "      <td>0</td>\n",
              "      <td>...</td>\n",
              "      <td>0</td>\n",
              "      <td>0</td>\n",
              "      <td>1</td>\n",
              "      <td>0</td>\n",
              "      <td>0</td>\n",
              "      <td>1</td>\n",
              "      <td>0</td>\n",
              "      <td>0</td>\n",
              "      <td>0</td>\n",
              "      <td>0</td>\n",
              "      <td>0</td>\n",
              "      <td>0</td>\n",
              "      <td>0</td>\n",
              "      <td>0</td>\n",
              "      <td>0</td>\n",
              "      <td>0</td>\n",
              "      <td>0</td>\n",
              "      <td>0</td>\n",
              "      <td>0</td>\n",
              "      <td>0</td>\n",
              "      <td>0</td>\n",
              "      <td>0</td>\n",
              "      <td>0</td>\n",
              "      <td>0</td>\n",
              "      <td>0</td>\n",
              "      <td>0</td>\n",
              "      <td>0</td>\n",
              "      <td>0</td>\n",
              "      <td>0</td>\n",
              "      <td>0</td>\n",
              "      <td>0</td>\n",
              "      <td>0</td>\n",
              "      <td>0</td>\n",
              "      <td>0</td>\n",
              "      <td>0</td>\n",
              "      <td>0</td>\n",
              "      <td>0</td>\n",
              "      <td>0</td>\n",
              "      <td>0</td>\n",
              "      <td>0</td>\n",
              "    </tr>\n",
              "  </tbody>\n",
              "</table>\n",
              "<p>5 rows × 117 columns</p>\n",
              "</div>"
            ],
            "text/plain": [
              "        created_am_la  ... mobileDeviceBranding__iPro\n",
              "0 2019-05-03 19:51:00  ...                          0\n",
              "1 2019-05-05 09:10:00  ...                          0\n",
              "2 2019-05-05 12:06:00  ...                          0\n",
              "3 2019-05-06 16:40:00  ...                          0\n",
              "4 2019-05-10 03:37:00  ...                          0\n",
              "\n",
              "[5 rows x 117 columns]"
            ]
          },
          "metadata": {
            "tags": []
          },
          "execution_count": 73
        }
      ]
    },
    {
      "cell_type": "code",
      "metadata": {
        "id": "thPvLPaFGb2l",
        "colab_type": "code",
        "outputId": "f4fddb86-57d3-4855-aaba-312f988f1514",
        "colab": {
          "base_uri": "https://localhost:8080/",
          "height": 372
        }
      },
      "source": [
        "df_with_dummies = pd.get_dummies(df_with_dummies, prefix='deviceCategory_', columns=['deviceCategory'])\n",
        "df_with_dummies.head()"
      ],
      "execution_count": 0,
      "outputs": [
        {
          "output_type": "execute_result",
          "data": {
            "text/html": [
              "<div>\n",
              "<style scoped>\n",
              "    .dataframe tbody tr th:only-of-type {\n",
              "        vertical-align: middle;\n",
              "    }\n",
              "\n",
              "    .dataframe tbody tr th {\n",
              "        vertical-align: top;\n",
              "    }\n",
              "\n",
              "    .dataframe thead th {\n",
              "        text-align: right;\n",
              "    }\n",
              "</style>\n",
              "<table border=\"1\" class=\"dataframe\">\n",
              "  <thead>\n",
              "    <tr style=\"text-align: right;\">\n",
              "      <th></th>\n",
              "      <th>created_am_la</th>\n",
              "      <th>transaction_date_am_la</th>\n",
              "      <th>user_id</th>\n",
              "      <th>transaction_amount_100_usd</th>\n",
              "      <th>user_external_plan_first_activated_plan</th>\n",
              "      <th>isMobile</th>\n",
              "      <th>continent</th>\n",
              "      <th>subContinent</th>\n",
              "      <th>country</th>\n",
              "      <th>city</th>\n",
              "      <th>last_login</th>\n",
              "      <th>joined_day_pageviews</th>\n",
              "      <th>pageviews_in_first_month</th>\n",
              "      <th>pageviews_in_second_month</th>\n",
              "      <th>pageviews_in_third_month</th>\n",
              "      <th>pageviews_after_third_month</th>\n",
              "      <th>chargeback</th>\n",
              "      <th>user_creation_date_am_la</th>\n",
              "      <th>transaction_date_am_la_fix</th>\n",
              "      <th>payment_method__creditcard</th>\n",
              "      <th>payment_method__debitcard</th>\n",
              "      <th>transaction_currency__ARS</th>\n",
              "      <th>transaction_currency__CLP</th>\n",
              "      <th>transaction_currency__COP</th>\n",
              "      <th>transaction_currency__CRC</th>\n",
              "      <th>transaction_currency__DOP</th>\n",
              "      <th>transaction_currency__EUR</th>\n",
              "      <th>transaction_currency__GTQ</th>\n",
              "      <th>transaction_currency__HNL</th>\n",
              "      <th>transaction_currency__MXN</th>\n",
              "      <th>transaction_currency__PEN</th>\n",
              "      <th>transaction_currency__USD</th>\n",
              "      <th>plan_period__30</th>\n",
              "      <th>plan_period__90</th>\n",
              "      <th>plan_period__360</th>\n",
              "      <th>error_message__APPROVED</th>\n",
              "      <th>error_message__FAILED</th>\n",
              "      <th>error_message__NOT CHECKED BY ACQUIRER</th>\n",
              "      <th>error_message__UNKNOWN</th>\n",
              "      <th>plan_country__AR</th>\n",
              "      <th>...</th>\n",
              "      <th>operatingSystem__iOS</th>\n",
              "      <th>mobileDeviceBranding__(not set)</th>\n",
              "      <th>mobileDeviceBranding__0</th>\n",
              "      <th>mobileDeviceBranding__Acer</th>\n",
              "      <th>mobileDeviceBranding__Alcatel</th>\n",
              "      <th>mobileDeviceBranding__Amazon</th>\n",
              "      <th>mobileDeviceBranding__Apple</th>\n",
              "      <th>mobileDeviceBranding__BLU</th>\n",
              "      <th>mobileDeviceBranding__BQ</th>\n",
              "      <th>mobileDeviceBranding__BlackBerry</th>\n",
              "      <th>mobileDeviceBranding__Bmobile</th>\n",
              "      <th>mobileDeviceBranding__EKS</th>\n",
              "      <th>mobileDeviceBranding__Google</th>\n",
              "      <th>mobileDeviceBranding__HTC</th>\n",
              "      <th>mobileDeviceBranding__Hisense</th>\n",
              "      <th>mobileDeviceBranding__Huawei</th>\n",
              "      <th>mobileDeviceBranding__Hyundai</th>\n",
              "      <th>mobileDeviceBranding__Infinix</th>\n",
              "      <th>mobileDeviceBranding__LG</th>\n",
              "      <th>mobileDeviceBranding__Lanix</th>\n",
              "      <th>mobileDeviceBranding__Lava</th>\n",
              "      <th>mobileDeviceBranding__Lenovo</th>\n",
              "      <th>mobileDeviceBranding__M4Tel</th>\n",
              "      <th>mobileDeviceBranding__MediaTek</th>\n",
              "      <th>mobileDeviceBranding__Microsoft</th>\n",
              "      <th>mobileDeviceBranding__Motorola</th>\n",
              "      <th>mobileDeviceBranding__Nokia</th>\n",
              "      <th>mobileDeviceBranding__OnePlus</th>\n",
              "      <th>mobileDeviceBranding__PCD</th>\n",
              "      <th>mobileDeviceBranding__Philips</th>\n",
              "      <th>mobileDeviceBranding__Samsung</th>\n",
              "      <th>mobileDeviceBranding__Sony</th>\n",
              "      <th>mobileDeviceBranding__Wiko</th>\n",
              "      <th>mobileDeviceBranding__Xiaomi</th>\n",
              "      <th>mobileDeviceBranding__ZOWEE</th>\n",
              "      <th>mobileDeviceBranding__ZTE</th>\n",
              "      <th>mobileDeviceBranding__iPro</th>\n",
              "      <th>deviceCategory__desktop</th>\n",
              "      <th>deviceCategory__mobile</th>\n",
              "      <th>deviceCategory__tablet</th>\n",
              "    </tr>\n",
              "  </thead>\n",
              "  <tbody>\n",
              "    <tr>\n",
              "      <th>0</th>\n",
              "      <td>2019-05-03 19:51:00</td>\n",
              "      <td>2019-05-03 17:00:00</td>\n",
              "      <td>341412195</td>\n",
              "      <td>26.38</td>\n",
              "      <td>monthly_20171212</td>\n",
              "      <td>1</td>\n",
              "      <td>Americas</td>\n",
              "      <td>Central America</td>\n",
              "      <td>Mexico</td>\n",
              "      <td>Aguascalientes</td>\n",
              "      <td>2019-05-04</td>\n",
              "      <td>7</td>\n",
              "      <td>23</td>\n",
              "      <td>0</td>\n",
              "      <td>0</td>\n",
              "      <td>0</td>\n",
              "      <td>0</td>\n",
              "      <td>2019-05-03 19:49:00-07:00</td>\n",
              "      <td>2019-05-03 17:00:00-07:00</td>\n",
              "      <td>0</td>\n",
              "      <td>1</td>\n",
              "      <td>0</td>\n",
              "      <td>0</td>\n",
              "      <td>0</td>\n",
              "      <td>0</td>\n",
              "      <td>0</td>\n",
              "      <td>0</td>\n",
              "      <td>0</td>\n",
              "      <td>0</td>\n",
              "      <td>1</td>\n",
              "      <td>0</td>\n",
              "      <td>0</td>\n",
              "      <td>1</td>\n",
              "      <td>0</td>\n",
              "      <td>0</td>\n",
              "      <td>1</td>\n",
              "      <td>0</td>\n",
              "      <td>0</td>\n",
              "      <td>0</td>\n",
              "      <td>0</td>\n",
              "      <td>...</td>\n",
              "      <td>0</td>\n",
              "      <td>0</td>\n",
              "      <td>0</td>\n",
              "      <td>0</td>\n",
              "      <td>0</td>\n",
              "      <td>0</td>\n",
              "      <td>0</td>\n",
              "      <td>0</td>\n",
              "      <td>0</td>\n",
              "      <td>0</td>\n",
              "      <td>0</td>\n",
              "      <td>0</td>\n",
              "      <td>0</td>\n",
              "      <td>0</td>\n",
              "      <td>0</td>\n",
              "      <td>0</td>\n",
              "      <td>0</td>\n",
              "      <td>0</td>\n",
              "      <td>0</td>\n",
              "      <td>0</td>\n",
              "      <td>0</td>\n",
              "      <td>0</td>\n",
              "      <td>0</td>\n",
              "      <td>0</td>\n",
              "      <td>0</td>\n",
              "      <td>1</td>\n",
              "      <td>0</td>\n",
              "      <td>0</td>\n",
              "      <td>0</td>\n",
              "      <td>0</td>\n",
              "      <td>0</td>\n",
              "      <td>0</td>\n",
              "      <td>0</td>\n",
              "      <td>0</td>\n",
              "      <td>0</td>\n",
              "      <td>0</td>\n",
              "      <td>0</td>\n",
              "      <td>0</td>\n",
              "      <td>1</td>\n",
              "      <td>0</td>\n",
              "    </tr>\n",
              "    <tr>\n",
              "      <th>1</th>\n",
              "      <td>2019-05-05 09:10:00</td>\n",
              "      <td>2019-05-04 17:00:00</td>\n",
              "      <td>341479440</td>\n",
              "      <td>6.73</td>\n",
              "      <td>monthly_20171212</td>\n",
              "      <td>1</td>\n",
              "      <td>Americas</td>\n",
              "      <td>South America</td>\n",
              "      <td>Argentina</td>\n",
              "      <td>(not set)</td>\n",
              "      <td>2019-05-05</td>\n",
              "      <td>20</td>\n",
              "      <td>26</td>\n",
              "      <td>0</td>\n",
              "      <td>0</td>\n",
              "      <td>0</td>\n",
              "      <td>0</td>\n",
              "      <td>2019-05-05 09:09:00-07:00</td>\n",
              "      <td>2019-05-04 17:00:00-07:00</td>\n",
              "      <td>1</td>\n",
              "      <td>0</td>\n",
              "      <td>1</td>\n",
              "      <td>0</td>\n",
              "      <td>0</td>\n",
              "      <td>0</td>\n",
              "      <td>0</td>\n",
              "      <td>0</td>\n",
              "      <td>0</td>\n",
              "      <td>0</td>\n",
              "      <td>0</td>\n",
              "      <td>0</td>\n",
              "      <td>0</td>\n",
              "      <td>1</td>\n",
              "      <td>0</td>\n",
              "      <td>0</td>\n",
              "      <td>1</td>\n",
              "      <td>0</td>\n",
              "      <td>0</td>\n",
              "      <td>0</td>\n",
              "      <td>0</td>\n",
              "      <td>...</td>\n",
              "      <td>0</td>\n",
              "      <td>0</td>\n",
              "      <td>0</td>\n",
              "      <td>0</td>\n",
              "      <td>0</td>\n",
              "      <td>0</td>\n",
              "      <td>0</td>\n",
              "      <td>0</td>\n",
              "      <td>0</td>\n",
              "      <td>0</td>\n",
              "      <td>0</td>\n",
              "      <td>0</td>\n",
              "      <td>0</td>\n",
              "      <td>0</td>\n",
              "      <td>0</td>\n",
              "      <td>0</td>\n",
              "      <td>0</td>\n",
              "      <td>0</td>\n",
              "      <td>0</td>\n",
              "      <td>0</td>\n",
              "      <td>0</td>\n",
              "      <td>0</td>\n",
              "      <td>0</td>\n",
              "      <td>0</td>\n",
              "      <td>0</td>\n",
              "      <td>0</td>\n",
              "      <td>0</td>\n",
              "      <td>0</td>\n",
              "      <td>0</td>\n",
              "      <td>0</td>\n",
              "      <td>1</td>\n",
              "      <td>0</td>\n",
              "      <td>0</td>\n",
              "      <td>0</td>\n",
              "      <td>0</td>\n",
              "      <td>0</td>\n",
              "      <td>0</td>\n",
              "      <td>0</td>\n",
              "      <td>1</td>\n",
              "      <td>0</td>\n",
              "    </tr>\n",
              "    <tr>\n",
              "      <th>2</th>\n",
              "      <td>2019-05-05 12:06:00</td>\n",
              "      <td>2019-05-04 17:00:00</td>\n",
              "      <td>334039570</td>\n",
              "      <td>26.38</td>\n",
              "      <td>monthly_20171212</td>\n",
              "      <td>0</td>\n",
              "      <td>Americas</td>\n",
              "      <td>Central America</td>\n",
              "      <td>Mexico</td>\n",
              "      <td>Tepexpan</td>\n",
              "      <td>2019-05-05</td>\n",
              "      <td>13</td>\n",
              "      <td>13</td>\n",
              "      <td>1</td>\n",
              "      <td>0</td>\n",
              "      <td>85</td>\n",
              "      <td>0</td>\n",
              "      <td>2019-01-07 19:57:00-08:00</td>\n",
              "      <td>2019-05-04 17:00:00-07:00</td>\n",
              "      <td>0</td>\n",
              "      <td>1</td>\n",
              "      <td>0</td>\n",
              "      <td>0</td>\n",
              "      <td>0</td>\n",
              "      <td>0</td>\n",
              "      <td>0</td>\n",
              "      <td>0</td>\n",
              "      <td>0</td>\n",
              "      <td>0</td>\n",
              "      <td>1</td>\n",
              "      <td>0</td>\n",
              "      <td>0</td>\n",
              "      <td>1</td>\n",
              "      <td>0</td>\n",
              "      <td>0</td>\n",
              "      <td>1</td>\n",
              "      <td>0</td>\n",
              "      <td>0</td>\n",
              "      <td>0</td>\n",
              "      <td>0</td>\n",
              "      <td>...</td>\n",
              "      <td>0</td>\n",
              "      <td>0</td>\n",
              "      <td>1</td>\n",
              "      <td>0</td>\n",
              "      <td>0</td>\n",
              "      <td>0</td>\n",
              "      <td>0</td>\n",
              "      <td>0</td>\n",
              "      <td>0</td>\n",
              "      <td>0</td>\n",
              "      <td>0</td>\n",
              "      <td>0</td>\n",
              "      <td>0</td>\n",
              "      <td>0</td>\n",
              "      <td>0</td>\n",
              "      <td>0</td>\n",
              "      <td>0</td>\n",
              "      <td>0</td>\n",
              "      <td>0</td>\n",
              "      <td>0</td>\n",
              "      <td>0</td>\n",
              "      <td>0</td>\n",
              "      <td>0</td>\n",
              "      <td>0</td>\n",
              "      <td>0</td>\n",
              "      <td>0</td>\n",
              "      <td>0</td>\n",
              "      <td>0</td>\n",
              "      <td>0</td>\n",
              "      <td>0</td>\n",
              "      <td>0</td>\n",
              "      <td>0</td>\n",
              "      <td>0</td>\n",
              "      <td>0</td>\n",
              "      <td>0</td>\n",
              "      <td>0</td>\n",
              "      <td>0</td>\n",
              "      <td>1</td>\n",
              "      <td>0</td>\n",
              "      <td>0</td>\n",
              "    </tr>\n",
              "    <tr>\n",
              "      <th>3</th>\n",
              "      <td>2019-05-06 16:40:00</td>\n",
              "      <td>2019-05-05 17:00:00</td>\n",
              "      <td>341572424</td>\n",
              "      <td>0.65</td>\n",
              "      <td>2for2_20171212</td>\n",
              "      <td>0</td>\n",
              "      <td>Americas</td>\n",
              "      <td>South America</td>\n",
              "      <td>Argentina</td>\n",
              "      <td>(not set)</td>\n",
              "      <td>2019-05-19</td>\n",
              "      <td>4</td>\n",
              "      <td>10</td>\n",
              "      <td>0</td>\n",
              "      <td>0</td>\n",
              "      <td>0</td>\n",
              "      <td>0</td>\n",
              "      <td>2019-05-06 12:00:00-07:00</td>\n",
              "      <td>2019-05-05 17:00:00-07:00</td>\n",
              "      <td>1</td>\n",
              "      <td>0</td>\n",
              "      <td>1</td>\n",
              "      <td>0</td>\n",
              "      <td>0</td>\n",
              "      <td>0</td>\n",
              "      <td>0</td>\n",
              "      <td>0</td>\n",
              "      <td>0</td>\n",
              "      <td>0</td>\n",
              "      <td>0</td>\n",
              "      <td>0</td>\n",
              "      <td>0</td>\n",
              "      <td>1</td>\n",
              "      <td>0</td>\n",
              "      <td>0</td>\n",
              "      <td>1</td>\n",
              "      <td>0</td>\n",
              "      <td>0</td>\n",
              "      <td>0</td>\n",
              "      <td>0</td>\n",
              "      <td>...</td>\n",
              "      <td>0</td>\n",
              "      <td>0</td>\n",
              "      <td>1</td>\n",
              "      <td>0</td>\n",
              "      <td>0</td>\n",
              "      <td>0</td>\n",
              "      <td>0</td>\n",
              "      <td>0</td>\n",
              "      <td>0</td>\n",
              "      <td>0</td>\n",
              "      <td>0</td>\n",
              "      <td>0</td>\n",
              "      <td>0</td>\n",
              "      <td>0</td>\n",
              "      <td>0</td>\n",
              "      <td>0</td>\n",
              "      <td>0</td>\n",
              "      <td>0</td>\n",
              "      <td>0</td>\n",
              "      <td>0</td>\n",
              "      <td>0</td>\n",
              "      <td>0</td>\n",
              "      <td>0</td>\n",
              "      <td>0</td>\n",
              "      <td>0</td>\n",
              "      <td>0</td>\n",
              "      <td>0</td>\n",
              "      <td>0</td>\n",
              "      <td>0</td>\n",
              "      <td>0</td>\n",
              "      <td>0</td>\n",
              "      <td>0</td>\n",
              "      <td>0</td>\n",
              "      <td>0</td>\n",
              "      <td>0</td>\n",
              "      <td>0</td>\n",
              "      <td>0</td>\n",
              "      <td>1</td>\n",
              "      <td>0</td>\n",
              "      <td>0</td>\n",
              "    </tr>\n",
              "    <tr>\n",
              "      <th>4</th>\n",
              "      <td>2019-05-10 03:37:00</td>\n",
              "      <td>2019-05-09 17:00:00</td>\n",
              "      <td>315339375</td>\n",
              "      <td>2.25</td>\n",
              "      <td>2for2_20171212</td>\n",
              "      <td>0</td>\n",
              "      <td>Europe</td>\n",
              "      <td>Southern Europe</td>\n",
              "      <td>Spain</td>\n",
              "      <td>Pamplona</td>\n",
              "      <td>2019-05-10</td>\n",
              "      <td>10</td>\n",
              "      <td>13</td>\n",
              "      <td>0</td>\n",
              "      <td>0</td>\n",
              "      <td>14</td>\n",
              "      <td>0</td>\n",
              "      <td>2018-03-09 09:55:00-08:00</td>\n",
              "      <td>2019-05-09 17:00:00-07:00</td>\n",
              "      <td>0</td>\n",
              "      <td>1</td>\n",
              "      <td>0</td>\n",
              "      <td>0</td>\n",
              "      <td>0</td>\n",
              "      <td>0</td>\n",
              "      <td>0</td>\n",
              "      <td>1</td>\n",
              "      <td>0</td>\n",
              "      <td>0</td>\n",
              "      <td>0</td>\n",
              "      <td>0</td>\n",
              "      <td>0</td>\n",
              "      <td>1</td>\n",
              "      <td>0</td>\n",
              "      <td>0</td>\n",
              "      <td>1</td>\n",
              "      <td>0</td>\n",
              "      <td>0</td>\n",
              "      <td>0</td>\n",
              "      <td>0</td>\n",
              "      <td>...</td>\n",
              "      <td>0</td>\n",
              "      <td>0</td>\n",
              "      <td>1</td>\n",
              "      <td>0</td>\n",
              "      <td>0</td>\n",
              "      <td>0</td>\n",
              "      <td>0</td>\n",
              "      <td>0</td>\n",
              "      <td>0</td>\n",
              "      <td>0</td>\n",
              "      <td>0</td>\n",
              "      <td>0</td>\n",
              "      <td>0</td>\n",
              "      <td>0</td>\n",
              "      <td>0</td>\n",
              "      <td>0</td>\n",
              "      <td>0</td>\n",
              "      <td>0</td>\n",
              "      <td>0</td>\n",
              "      <td>0</td>\n",
              "      <td>0</td>\n",
              "      <td>0</td>\n",
              "      <td>0</td>\n",
              "      <td>0</td>\n",
              "      <td>0</td>\n",
              "      <td>0</td>\n",
              "      <td>0</td>\n",
              "      <td>0</td>\n",
              "      <td>0</td>\n",
              "      <td>0</td>\n",
              "      <td>0</td>\n",
              "      <td>0</td>\n",
              "      <td>0</td>\n",
              "      <td>0</td>\n",
              "      <td>0</td>\n",
              "      <td>0</td>\n",
              "      <td>0</td>\n",
              "      <td>1</td>\n",
              "      <td>0</td>\n",
              "      <td>0</td>\n",
              "    </tr>\n",
              "  </tbody>\n",
              "</table>\n",
              "<p>5 rows × 119 columns</p>\n",
              "</div>"
            ],
            "text/plain": [
              "        created_am_la  ... deviceCategory__tablet\n",
              "0 2019-05-03 19:51:00  ...                      0\n",
              "1 2019-05-05 09:10:00  ...                      0\n",
              "2 2019-05-05 12:06:00  ...                      0\n",
              "3 2019-05-06 16:40:00  ...                      0\n",
              "4 2019-05-10 03:37:00  ...                      0\n",
              "\n",
              "[5 rows x 119 columns]"
            ]
          },
          "metadata": {
            "tags": []
          },
          "execution_count": 74
        }
      ]
    },
    {
      "cell_type": "code",
      "metadata": {
        "id": "-1TiY3nqG7y0",
        "colab_type": "code",
        "outputId": "5def0f1a-9e03-481f-8e92-607f198c9e39",
        "colab": {
          "base_uri": "https://localhost:8080/",
          "height": 372
        }
      },
      "source": [
        "df_with_dummies = pd.get_dummies(df_with_dummies, prefix='continent_', columns=['continent'])\n",
        "df_with_dummies.head()"
      ],
      "execution_count": 0,
      "outputs": [
        {
          "output_type": "execute_result",
          "data": {
            "text/html": [
              "<div>\n",
              "<style scoped>\n",
              "    .dataframe tbody tr th:only-of-type {\n",
              "        vertical-align: middle;\n",
              "    }\n",
              "\n",
              "    .dataframe tbody tr th {\n",
              "        vertical-align: top;\n",
              "    }\n",
              "\n",
              "    .dataframe thead th {\n",
              "        text-align: right;\n",
              "    }\n",
              "</style>\n",
              "<table border=\"1\" class=\"dataframe\">\n",
              "  <thead>\n",
              "    <tr style=\"text-align: right;\">\n",
              "      <th></th>\n",
              "      <th>created_am_la</th>\n",
              "      <th>transaction_date_am_la</th>\n",
              "      <th>user_id</th>\n",
              "      <th>transaction_amount_100_usd</th>\n",
              "      <th>user_external_plan_first_activated_plan</th>\n",
              "      <th>isMobile</th>\n",
              "      <th>subContinent</th>\n",
              "      <th>country</th>\n",
              "      <th>city</th>\n",
              "      <th>last_login</th>\n",
              "      <th>joined_day_pageviews</th>\n",
              "      <th>pageviews_in_first_month</th>\n",
              "      <th>pageviews_in_second_month</th>\n",
              "      <th>pageviews_in_third_month</th>\n",
              "      <th>pageviews_after_third_month</th>\n",
              "      <th>chargeback</th>\n",
              "      <th>user_creation_date_am_la</th>\n",
              "      <th>transaction_date_am_la_fix</th>\n",
              "      <th>payment_method__creditcard</th>\n",
              "      <th>payment_method__debitcard</th>\n",
              "      <th>transaction_currency__ARS</th>\n",
              "      <th>transaction_currency__CLP</th>\n",
              "      <th>transaction_currency__COP</th>\n",
              "      <th>transaction_currency__CRC</th>\n",
              "      <th>transaction_currency__DOP</th>\n",
              "      <th>transaction_currency__EUR</th>\n",
              "      <th>transaction_currency__GTQ</th>\n",
              "      <th>transaction_currency__HNL</th>\n",
              "      <th>transaction_currency__MXN</th>\n",
              "      <th>transaction_currency__PEN</th>\n",
              "      <th>transaction_currency__USD</th>\n",
              "      <th>plan_period__30</th>\n",
              "      <th>plan_period__90</th>\n",
              "      <th>plan_period__360</th>\n",
              "      <th>error_message__APPROVED</th>\n",
              "      <th>error_message__FAILED</th>\n",
              "      <th>error_message__NOT CHECKED BY ACQUIRER</th>\n",
              "      <th>error_message__UNKNOWN</th>\n",
              "      <th>plan_country__AR</th>\n",
              "      <th>plan_country__AU</th>\n",
              "      <th>...</th>\n",
              "      <th>mobileDeviceBranding__Apple</th>\n",
              "      <th>mobileDeviceBranding__BLU</th>\n",
              "      <th>mobileDeviceBranding__BQ</th>\n",
              "      <th>mobileDeviceBranding__BlackBerry</th>\n",
              "      <th>mobileDeviceBranding__Bmobile</th>\n",
              "      <th>mobileDeviceBranding__EKS</th>\n",
              "      <th>mobileDeviceBranding__Google</th>\n",
              "      <th>mobileDeviceBranding__HTC</th>\n",
              "      <th>mobileDeviceBranding__Hisense</th>\n",
              "      <th>mobileDeviceBranding__Huawei</th>\n",
              "      <th>mobileDeviceBranding__Hyundai</th>\n",
              "      <th>mobileDeviceBranding__Infinix</th>\n",
              "      <th>mobileDeviceBranding__LG</th>\n",
              "      <th>mobileDeviceBranding__Lanix</th>\n",
              "      <th>mobileDeviceBranding__Lava</th>\n",
              "      <th>mobileDeviceBranding__Lenovo</th>\n",
              "      <th>mobileDeviceBranding__M4Tel</th>\n",
              "      <th>mobileDeviceBranding__MediaTek</th>\n",
              "      <th>mobileDeviceBranding__Microsoft</th>\n",
              "      <th>mobileDeviceBranding__Motorola</th>\n",
              "      <th>mobileDeviceBranding__Nokia</th>\n",
              "      <th>mobileDeviceBranding__OnePlus</th>\n",
              "      <th>mobileDeviceBranding__PCD</th>\n",
              "      <th>mobileDeviceBranding__Philips</th>\n",
              "      <th>mobileDeviceBranding__Samsung</th>\n",
              "      <th>mobileDeviceBranding__Sony</th>\n",
              "      <th>mobileDeviceBranding__Wiko</th>\n",
              "      <th>mobileDeviceBranding__Xiaomi</th>\n",
              "      <th>mobileDeviceBranding__ZOWEE</th>\n",
              "      <th>mobileDeviceBranding__ZTE</th>\n",
              "      <th>mobileDeviceBranding__iPro</th>\n",
              "      <th>deviceCategory__desktop</th>\n",
              "      <th>deviceCategory__mobile</th>\n",
              "      <th>deviceCategory__tablet</th>\n",
              "      <th>continent__(not set)</th>\n",
              "      <th>continent__Africa</th>\n",
              "      <th>continent__Americas</th>\n",
              "      <th>continent__Asia</th>\n",
              "      <th>continent__Europe</th>\n",
              "      <th>continent__Oceania</th>\n",
              "    </tr>\n",
              "  </thead>\n",
              "  <tbody>\n",
              "    <tr>\n",
              "      <th>0</th>\n",
              "      <td>2019-05-03 19:51:00</td>\n",
              "      <td>2019-05-03 17:00:00</td>\n",
              "      <td>341412195</td>\n",
              "      <td>26.38</td>\n",
              "      <td>monthly_20171212</td>\n",
              "      <td>1</td>\n",
              "      <td>Central America</td>\n",
              "      <td>Mexico</td>\n",
              "      <td>Aguascalientes</td>\n",
              "      <td>2019-05-04</td>\n",
              "      <td>7</td>\n",
              "      <td>23</td>\n",
              "      <td>0</td>\n",
              "      <td>0</td>\n",
              "      <td>0</td>\n",
              "      <td>0</td>\n",
              "      <td>2019-05-03 19:49:00-07:00</td>\n",
              "      <td>2019-05-03 17:00:00-07:00</td>\n",
              "      <td>0</td>\n",
              "      <td>1</td>\n",
              "      <td>0</td>\n",
              "      <td>0</td>\n",
              "      <td>0</td>\n",
              "      <td>0</td>\n",
              "      <td>0</td>\n",
              "      <td>0</td>\n",
              "      <td>0</td>\n",
              "      <td>0</td>\n",
              "      <td>1</td>\n",
              "      <td>0</td>\n",
              "      <td>0</td>\n",
              "      <td>1</td>\n",
              "      <td>0</td>\n",
              "      <td>0</td>\n",
              "      <td>1</td>\n",
              "      <td>0</td>\n",
              "      <td>0</td>\n",
              "      <td>0</td>\n",
              "      <td>0</td>\n",
              "      <td>0</td>\n",
              "      <td>...</td>\n",
              "      <td>0</td>\n",
              "      <td>0</td>\n",
              "      <td>0</td>\n",
              "      <td>0</td>\n",
              "      <td>0</td>\n",
              "      <td>0</td>\n",
              "      <td>0</td>\n",
              "      <td>0</td>\n",
              "      <td>0</td>\n",
              "      <td>0</td>\n",
              "      <td>0</td>\n",
              "      <td>0</td>\n",
              "      <td>0</td>\n",
              "      <td>0</td>\n",
              "      <td>0</td>\n",
              "      <td>0</td>\n",
              "      <td>0</td>\n",
              "      <td>0</td>\n",
              "      <td>0</td>\n",
              "      <td>1</td>\n",
              "      <td>0</td>\n",
              "      <td>0</td>\n",
              "      <td>0</td>\n",
              "      <td>0</td>\n",
              "      <td>0</td>\n",
              "      <td>0</td>\n",
              "      <td>0</td>\n",
              "      <td>0</td>\n",
              "      <td>0</td>\n",
              "      <td>0</td>\n",
              "      <td>0</td>\n",
              "      <td>0</td>\n",
              "      <td>1</td>\n",
              "      <td>0</td>\n",
              "      <td>0</td>\n",
              "      <td>0</td>\n",
              "      <td>1</td>\n",
              "      <td>0</td>\n",
              "      <td>0</td>\n",
              "      <td>0</td>\n",
              "    </tr>\n",
              "    <tr>\n",
              "      <th>1</th>\n",
              "      <td>2019-05-05 09:10:00</td>\n",
              "      <td>2019-05-04 17:00:00</td>\n",
              "      <td>341479440</td>\n",
              "      <td>6.73</td>\n",
              "      <td>monthly_20171212</td>\n",
              "      <td>1</td>\n",
              "      <td>South America</td>\n",
              "      <td>Argentina</td>\n",
              "      <td>(not set)</td>\n",
              "      <td>2019-05-05</td>\n",
              "      <td>20</td>\n",
              "      <td>26</td>\n",
              "      <td>0</td>\n",
              "      <td>0</td>\n",
              "      <td>0</td>\n",
              "      <td>0</td>\n",
              "      <td>2019-05-05 09:09:00-07:00</td>\n",
              "      <td>2019-05-04 17:00:00-07:00</td>\n",
              "      <td>1</td>\n",
              "      <td>0</td>\n",
              "      <td>1</td>\n",
              "      <td>0</td>\n",
              "      <td>0</td>\n",
              "      <td>0</td>\n",
              "      <td>0</td>\n",
              "      <td>0</td>\n",
              "      <td>0</td>\n",
              "      <td>0</td>\n",
              "      <td>0</td>\n",
              "      <td>0</td>\n",
              "      <td>0</td>\n",
              "      <td>1</td>\n",
              "      <td>0</td>\n",
              "      <td>0</td>\n",
              "      <td>1</td>\n",
              "      <td>0</td>\n",
              "      <td>0</td>\n",
              "      <td>0</td>\n",
              "      <td>0</td>\n",
              "      <td>0</td>\n",
              "      <td>...</td>\n",
              "      <td>0</td>\n",
              "      <td>0</td>\n",
              "      <td>0</td>\n",
              "      <td>0</td>\n",
              "      <td>0</td>\n",
              "      <td>0</td>\n",
              "      <td>0</td>\n",
              "      <td>0</td>\n",
              "      <td>0</td>\n",
              "      <td>0</td>\n",
              "      <td>0</td>\n",
              "      <td>0</td>\n",
              "      <td>0</td>\n",
              "      <td>0</td>\n",
              "      <td>0</td>\n",
              "      <td>0</td>\n",
              "      <td>0</td>\n",
              "      <td>0</td>\n",
              "      <td>0</td>\n",
              "      <td>0</td>\n",
              "      <td>0</td>\n",
              "      <td>0</td>\n",
              "      <td>0</td>\n",
              "      <td>0</td>\n",
              "      <td>1</td>\n",
              "      <td>0</td>\n",
              "      <td>0</td>\n",
              "      <td>0</td>\n",
              "      <td>0</td>\n",
              "      <td>0</td>\n",
              "      <td>0</td>\n",
              "      <td>0</td>\n",
              "      <td>1</td>\n",
              "      <td>0</td>\n",
              "      <td>0</td>\n",
              "      <td>0</td>\n",
              "      <td>1</td>\n",
              "      <td>0</td>\n",
              "      <td>0</td>\n",
              "      <td>0</td>\n",
              "    </tr>\n",
              "    <tr>\n",
              "      <th>2</th>\n",
              "      <td>2019-05-05 12:06:00</td>\n",
              "      <td>2019-05-04 17:00:00</td>\n",
              "      <td>334039570</td>\n",
              "      <td>26.38</td>\n",
              "      <td>monthly_20171212</td>\n",
              "      <td>0</td>\n",
              "      <td>Central America</td>\n",
              "      <td>Mexico</td>\n",
              "      <td>Tepexpan</td>\n",
              "      <td>2019-05-05</td>\n",
              "      <td>13</td>\n",
              "      <td>13</td>\n",
              "      <td>1</td>\n",
              "      <td>0</td>\n",
              "      <td>85</td>\n",
              "      <td>0</td>\n",
              "      <td>2019-01-07 19:57:00-08:00</td>\n",
              "      <td>2019-05-04 17:00:00-07:00</td>\n",
              "      <td>0</td>\n",
              "      <td>1</td>\n",
              "      <td>0</td>\n",
              "      <td>0</td>\n",
              "      <td>0</td>\n",
              "      <td>0</td>\n",
              "      <td>0</td>\n",
              "      <td>0</td>\n",
              "      <td>0</td>\n",
              "      <td>0</td>\n",
              "      <td>1</td>\n",
              "      <td>0</td>\n",
              "      <td>0</td>\n",
              "      <td>1</td>\n",
              "      <td>0</td>\n",
              "      <td>0</td>\n",
              "      <td>1</td>\n",
              "      <td>0</td>\n",
              "      <td>0</td>\n",
              "      <td>0</td>\n",
              "      <td>0</td>\n",
              "      <td>0</td>\n",
              "      <td>...</td>\n",
              "      <td>0</td>\n",
              "      <td>0</td>\n",
              "      <td>0</td>\n",
              "      <td>0</td>\n",
              "      <td>0</td>\n",
              "      <td>0</td>\n",
              "      <td>0</td>\n",
              "      <td>0</td>\n",
              "      <td>0</td>\n",
              "      <td>0</td>\n",
              "      <td>0</td>\n",
              "      <td>0</td>\n",
              "      <td>0</td>\n",
              "      <td>0</td>\n",
              "      <td>0</td>\n",
              "      <td>0</td>\n",
              "      <td>0</td>\n",
              "      <td>0</td>\n",
              "      <td>0</td>\n",
              "      <td>0</td>\n",
              "      <td>0</td>\n",
              "      <td>0</td>\n",
              "      <td>0</td>\n",
              "      <td>0</td>\n",
              "      <td>0</td>\n",
              "      <td>0</td>\n",
              "      <td>0</td>\n",
              "      <td>0</td>\n",
              "      <td>0</td>\n",
              "      <td>0</td>\n",
              "      <td>0</td>\n",
              "      <td>1</td>\n",
              "      <td>0</td>\n",
              "      <td>0</td>\n",
              "      <td>0</td>\n",
              "      <td>0</td>\n",
              "      <td>1</td>\n",
              "      <td>0</td>\n",
              "      <td>0</td>\n",
              "      <td>0</td>\n",
              "    </tr>\n",
              "    <tr>\n",
              "      <th>3</th>\n",
              "      <td>2019-05-06 16:40:00</td>\n",
              "      <td>2019-05-05 17:00:00</td>\n",
              "      <td>341572424</td>\n",
              "      <td>0.65</td>\n",
              "      <td>2for2_20171212</td>\n",
              "      <td>0</td>\n",
              "      <td>South America</td>\n",
              "      <td>Argentina</td>\n",
              "      <td>(not set)</td>\n",
              "      <td>2019-05-19</td>\n",
              "      <td>4</td>\n",
              "      <td>10</td>\n",
              "      <td>0</td>\n",
              "      <td>0</td>\n",
              "      <td>0</td>\n",
              "      <td>0</td>\n",
              "      <td>2019-05-06 12:00:00-07:00</td>\n",
              "      <td>2019-05-05 17:00:00-07:00</td>\n",
              "      <td>1</td>\n",
              "      <td>0</td>\n",
              "      <td>1</td>\n",
              "      <td>0</td>\n",
              "      <td>0</td>\n",
              "      <td>0</td>\n",
              "      <td>0</td>\n",
              "      <td>0</td>\n",
              "      <td>0</td>\n",
              "      <td>0</td>\n",
              "      <td>0</td>\n",
              "      <td>0</td>\n",
              "      <td>0</td>\n",
              "      <td>1</td>\n",
              "      <td>0</td>\n",
              "      <td>0</td>\n",
              "      <td>1</td>\n",
              "      <td>0</td>\n",
              "      <td>0</td>\n",
              "      <td>0</td>\n",
              "      <td>0</td>\n",
              "      <td>0</td>\n",
              "      <td>...</td>\n",
              "      <td>0</td>\n",
              "      <td>0</td>\n",
              "      <td>0</td>\n",
              "      <td>0</td>\n",
              "      <td>0</td>\n",
              "      <td>0</td>\n",
              "      <td>0</td>\n",
              "      <td>0</td>\n",
              "      <td>0</td>\n",
              "      <td>0</td>\n",
              "      <td>0</td>\n",
              "      <td>0</td>\n",
              "      <td>0</td>\n",
              "      <td>0</td>\n",
              "      <td>0</td>\n",
              "      <td>0</td>\n",
              "      <td>0</td>\n",
              "      <td>0</td>\n",
              "      <td>0</td>\n",
              "      <td>0</td>\n",
              "      <td>0</td>\n",
              "      <td>0</td>\n",
              "      <td>0</td>\n",
              "      <td>0</td>\n",
              "      <td>0</td>\n",
              "      <td>0</td>\n",
              "      <td>0</td>\n",
              "      <td>0</td>\n",
              "      <td>0</td>\n",
              "      <td>0</td>\n",
              "      <td>0</td>\n",
              "      <td>1</td>\n",
              "      <td>0</td>\n",
              "      <td>0</td>\n",
              "      <td>0</td>\n",
              "      <td>0</td>\n",
              "      <td>1</td>\n",
              "      <td>0</td>\n",
              "      <td>0</td>\n",
              "      <td>0</td>\n",
              "    </tr>\n",
              "    <tr>\n",
              "      <th>4</th>\n",
              "      <td>2019-05-10 03:37:00</td>\n",
              "      <td>2019-05-09 17:00:00</td>\n",
              "      <td>315339375</td>\n",
              "      <td>2.25</td>\n",
              "      <td>2for2_20171212</td>\n",
              "      <td>0</td>\n",
              "      <td>Southern Europe</td>\n",
              "      <td>Spain</td>\n",
              "      <td>Pamplona</td>\n",
              "      <td>2019-05-10</td>\n",
              "      <td>10</td>\n",
              "      <td>13</td>\n",
              "      <td>0</td>\n",
              "      <td>0</td>\n",
              "      <td>14</td>\n",
              "      <td>0</td>\n",
              "      <td>2018-03-09 09:55:00-08:00</td>\n",
              "      <td>2019-05-09 17:00:00-07:00</td>\n",
              "      <td>0</td>\n",
              "      <td>1</td>\n",
              "      <td>0</td>\n",
              "      <td>0</td>\n",
              "      <td>0</td>\n",
              "      <td>0</td>\n",
              "      <td>0</td>\n",
              "      <td>1</td>\n",
              "      <td>0</td>\n",
              "      <td>0</td>\n",
              "      <td>0</td>\n",
              "      <td>0</td>\n",
              "      <td>0</td>\n",
              "      <td>1</td>\n",
              "      <td>0</td>\n",
              "      <td>0</td>\n",
              "      <td>1</td>\n",
              "      <td>0</td>\n",
              "      <td>0</td>\n",
              "      <td>0</td>\n",
              "      <td>0</td>\n",
              "      <td>0</td>\n",
              "      <td>...</td>\n",
              "      <td>0</td>\n",
              "      <td>0</td>\n",
              "      <td>0</td>\n",
              "      <td>0</td>\n",
              "      <td>0</td>\n",
              "      <td>0</td>\n",
              "      <td>0</td>\n",
              "      <td>0</td>\n",
              "      <td>0</td>\n",
              "      <td>0</td>\n",
              "      <td>0</td>\n",
              "      <td>0</td>\n",
              "      <td>0</td>\n",
              "      <td>0</td>\n",
              "      <td>0</td>\n",
              "      <td>0</td>\n",
              "      <td>0</td>\n",
              "      <td>0</td>\n",
              "      <td>0</td>\n",
              "      <td>0</td>\n",
              "      <td>0</td>\n",
              "      <td>0</td>\n",
              "      <td>0</td>\n",
              "      <td>0</td>\n",
              "      <td>0</td>\n",
              "      <td>0</td>\n",
              "      <td>0</td>\n",
              "      <td>0</td>\n",
              "      <td>0</td>\n",
              "      <td>0</td>\n",
              "      <td>0</td>\n",
              "      <td>1</td>\n",
              "      <td>0</td>\n",
              "      <td>0</td>\n",
              "      <td>0</td>\n",
              "      <td>0</td>\n",
              "      <td>0</td>\n",
              "      <td>0</td>\n",
              "      <td>1</td>\n",
              "      <td>0</td>\n",
              "    </tr>\n",
              "  </tbody>\n",
              "</table>\n",
              "<p>5 rows × 124 columns</p>\n",
              "</div>"
            ],
            "text/plain": [
              "        created_am_la  ... continent__Oceania\n",
              "0 2019-05-03 19:51:00  ...                  0\n",
              "1 2019-05-05 09:10:00  ...                  0\n",
              "2 2019-05-05 12:06:00  ...                  0\n",
              "3 2019-05-06 16:40:00  ...                  0\n",
              "4 2019-05-10 03:37:00  ...                  0\n",
              "\n",
              "[5 rows x 124 columns]"
            ]
          },
          "metadata": {
            "tags": []
          },
          "execution_count": 75
        }
      ]
    },
    {
      "cell_type": "code",
      "metadata": {
        "id": "kW8t6n-fHLEN",
        "colab_type": "code",
        "colab": {}
      },
      "source": [
        "# Lets drop the column subcontinent\n",
        "df_with_dummies.drop(['subContinent'],axis=1,inplace=True)"
      ],
      "execution_count": 0,
      "outputs": []
    },
    {
      "cell_type": "code",
      "metadata": {
        "id": "RIfZvhr0Hq9B",
        "colab_type": "code",
        "outputId": "b515ea79-1da0-494a-9efc-00bc8971975d",
        "colab": {
          "base_uri": "https://localhost:8080/",
          "height": 372
        }
      },
      "source": [
        "df_with_dummies = pd.get_dummies(df_with_dummies, prefix='country_', columns=['country'])\n",
        "df_with_dummies.head()"
      ],
      "execution_count": 0,
      "outputs": [
        {
          "output_type": "execute_result",
          "data": {
            "text/html": [
              "<div>\n",
              "<style scoped>\n",
              "    .dataframe tbody tr th:only-of-type {\n",
              "        vertical-align: middle;\n",
              "    }\n",
              "\n",
              "    .dataframe tbody tr th {\n",
              "        vertical-align: top;\n",
              "    }\n",
              "\n",
              "    .dataframe thead th {\n",
              "        text-align: right;\n",
              "    }\n",
              "</style>\n",
              "<table border=\"1\" class=\"dataframe\">\n",
              "  <thead>\n",
              "    <tr style=\"text-align: right;\">\n",
              "      <th></th>\n",
              "      <th>created_am_la</th>\n",
              "      <th>transaction_date_am_la</th>\n",
              "      <th>user_id</th>\n",
              "      <th>transaction_amount_100_usd</th>\n",
              "      <th>user_external_plan_first_activated_plan</th>\n",
              "      <th>isMobile</th>\n",
              "      <th>city</th>\n",
              "      <th>last_login</th>\n",
              "      <th>joined_day_pageviews</th>\n",
              "      <th>pageviews_in_first_month</th>\n",
              "      <th>pageviews_in_second_month</th>\n",
              "      <th>pageviews_in_third_month</th>\n",
              "      <th>pageviews_after_third_month</th>\n",
              "      <th>chargeback</th>\n",
              "      <th>user_creation_date_am_la</th>\n",
              "      <th>transaction_date_am_la_fix</th>\n",
              "      <th>payment_method__creditcard</th>\n",
              "      <th>payment_method__debitcard</th>\n",
              "      <th>transaction_currency__ARS</th>\n",
              "      <th>transaction_currency__CLP</th>\n",
              "      <th>transaction_currency__COP</th>\n",
              "      <th>transaction_currency__CRC</th>\n",
              "      <th>transaction_currency__DOP</th>\n",
              "      <th>transaction_currency__EUR</th>\n",
              "      <th>transaction_currency__GTQ</th>\n",
              "      <th>transaction_currency__HNL</th>\n",
              "      <th>transaction_currency__MXN</th>\n",
              "      <th>transaction_currency__PEN</th>\n",
              "      <th>transaction_currency__USD</th>\n",
              "      <th>plan_period__30</th>\n",
              "      <th>plan_period__90</th>\n",
              "      <th>plan_period__360</th>\n",
              "      <th>error_message__APPROVED</th>\n",
              "      <th>error_message__FAILED</th>\n",
              "      <th>error_message__NOT CHECKED BY ACQUIRER</th>\n",
              "      <th>error_message__UNKNOWN</th>\n",
              "      <th>plan_country__AR</th>\n",
              "      <th>plan_country__AU</th>\n",
              "      <th>plan_country__BR</th>\n",
              "      <th>plan_country__CA</th>\n",
              "      <th>...</th>\n",
              "      <th>country__Bulgaria</th>\n",
              "      <th>country__Canada</th>\n",
              "      <th>country__Chile</th>\n",
              "      <th>country__China</th>\n",
              "      <th>country__Colombia</th>\n",
              "      <th>country__Costa Rica</th>\n",
              "      <th>country__Cuba</th>\n",
              "      <th>country__Czechia</th>\n",
              "      <th>country__Denmark</th>\n",
              "      <th>country__Dominican Republic</th>\n",
              "      <th>country__Ecuador</th>\n",
              "      <th>country__El Salvador</th>\n",
              "      <th>country__France</th>\n",
              "      <th>country__Germany</th>\n",
              "      <th>country__Gibraltar</th>\n",
              "      <th>country__Guatemala</th>\n",
              "      <th>country__Honduras</th>\n",
              "      <th>country__Hong Kong</th>\n",
              "      <th>country__India</th>\n",
              "      <th>country__Indonesia</th>\n",
              "      <th>country__Italy</th>\n",
              "      <th>country__Mexico</th>\n",
              "      <th>country__Morocco</th>\n",
              "      <th>country__Netherlands</th>\n",
              "      <th>country__Nicaragua</th>\n",
              "      <th>country__Panama</th>\n",
              "      <th>country__Paraguay</th>\n",
              "      <th>country__Peru</th>\n",
              "      <th>country__Philippines</th>\n",
              "      <th>country__Portugal</th>\n",
              "      <th>country__Puerto Rico</th>\n",
              "      <th>country__Russia</th>\n",
              "      <th>country__Singapore</th>\n",
              "      <th>country__South Korea</th>\n",
              "      <th>country__Spain</th>\n",
              "      <th>country__Switzerland</th>\n",
              "      <th>country__United Kingdom</th>\n",
              "      <th>country__United States</th>\n",
              "      <th>country__Uruguay</th>\n",
              "      <th>country__Venezuela</th>\n",
              "    </tr>\n",
              "  </thead>\n",
              "  <tbody>\n",
              "    <tr>\n",
              "      <th>0</th>\n",
              "      <td>2019-05-03 19:51:00</td>\n",
              "      <td>2019-05-03 17:00:00</td>\n",
              "      <td>341412195</td>\n",
              "      <td>26.38</td>\n",
              "      <td>monthly_20171212</td>\n",
              "      <td>1</td>\n",
              "      <td>Aguascalientes</td>\n",
              "      <td>2019-05-04</td>\n",
              "      <td>7</td>\n",
              "      <td>23</td>\n",
              "      <td>0</td>\n",
              "      <td>0</td>\n",
              "      <td>0</td>\n",
              "      <td>0</td>\n",
              "      <td>2019-05-03 19:49:00-07:00</td>\n",
              "      <td>2019-05-03 17:00:00-07:00</td>\n",
              "      <td>0</td>\n",
              "      <td>1</td>\n",
              "      <td>0</td>\n",
              "      <td>0</td>\n",
              "      <td>0</td>\n",
              "      <td>0</td>\n",
              "      <td>0</td>\n",
              "      <td>0</td>\n",
              "      <td>0</td>\n",
              "      <td>0</td>\n",
              "      <td>1</td>\n",
              "      <td>0</td>\n",
              "      <td>0</td>\n",
              "      <td>1</td>\n",
              "      <td>0</td>\n",
              "      <td>0</td>\n",
              "      <td>1</td>\n",
              "      <td>0</td>\n",
              "      <td>0</td>\n",
              "      <td>0</td>\n",
              "      <td>0</td>\n",
              "      <td>0</td>\n",
              "      <td>0</td>\n",
              "      <td>0</td>\n",
              "      <td>...</td>\n",
              "      <td>0</td>\n",
              "      <td>0</td>\n",
              "      <td>0</td>\n",
              "      <td>0</td>\n",
              "      <td>0</td>\n",
              "      <td>0</td>\n",
              "      <td>0</td>\n",
              "      <td>0</td>\n",
              "      <td>0</td>\n",
              "      <td>0</td>\n",
              "      <td>0</td>\n",
              "      <td>0</td>\n",
              "      <td>0</td>\n",
              "      <td>0</td>\n",
              "      <td>0</td>\n",
              "      <td>0</td>\n",
              "      <td>0</td>\n",
              "      <td>0</td>\n",
              "      <td>0</td>\n",
              "      <td>0</td>\n",
              "      <td>0</td>\n",
              "      <td>1</td>\n",
              "      <td>0</td>\n",
              "      <td>0</td>\n",
              "      <td>0</td>\n",
              "      <td>0</td>\n",
              "      <td>0</td>\n",
              "      <td>0</td>\n",
              "      <td>0</td>\n",
              "      <td>0</td>\n",
              "      <td>0</td>\n",
              "      <td>0</td>\n",
              "      <td>0</td>\n",
              "      <td>0</td>\n",
              "      <td>0</td>\n",
              "      <td>0</td>\n",
              "      <td>0</td>\n",
              "      <td>0</td>\n",
              "      <td>0</td>\n",
              "      <td>0</td>\n",
              "    </tr>\n",
              "    <tr>\n",
              "      <th>1</th>\n",
              "      <td>2019-05-05 09:10:00</td>\n",
              "      <td>2019-05-04 17:00:00</td>\n",
              "      <td>341479440</td>\n",
              "      <td>6.73</td>\n",
              "      <td>monthly_20171212</td>\n",
              "      <td>1</td>\n",
              "      <td>(not set)</td>\n",
              "      <td>2019-05-05</td>\n",
              "      <td>20</td>\n",
              "      <td>26</td>\n",
              "      <td>0</td>\n",
              "      <td>0</td>\n",
              "      <td>0</td>\n",
              "      <td>0</td>\n",
              "      <td>2019-05-05 09:09:00-07:00</td>\n",
              "      <td>2019-05-04 17:00:00-07:00</td>\n",
              "      <td>1</td>\n",
              "      <td>0</td>\n",
              "      <td>1</td>\n",
              "      <td>0</td>\n",
              "      <td>0</td>\n",
              "      <td>0</td>\n",
              "      <td>0</td>\n",
              "      <td>0</td>\n",
              "      <td>0</td>\n",
              "      <td>0</td>\n",
              "      <td>0</td>\n",
              "      <td>0</td>\n",
              "      <td>0</td>\n",
              "      <td>1</td>\n",
              "      <td>0</td>\n",
              "      <td>0</td>\n",
              "      <td>1</td>\n",
              "      <td>0</td>\n",
              "      <td>0</td>\n",
              "      <td>0</td>\n",
              "      <td>0</td>\n",
              "      <td>0</td>\n",
              "      <td>0</td>\n",
              "      <td>0</td>\n",
              "      <td>...</td>\n",
              "      <td>0</td>\n",
              "      <td>0</td>\n",
              "      <td>0</td>\n",
              "      <td>0</td>\n",
              "      <td>0</td>\n",
              "      <td>0</td>\n",
              "      <td>0</td>\n",
              "      <td>0</td>\n",
              "      <td>0</td>\n",
              "      <td>0</td>\n",
              "      <td>0</td>\n",
              "      <td>0</td>\n",
              "      <td>0</td>\n",
              "      <td>0</td>\n",
              "      <td>0</td>\n",
              "      <td>0</td>\n",
              "      <td>0</td>\n",
              "      <td>0</td>\n",
              "      <td>0</td>\n",
              "      <td>0</td>\n",
              "      <td>0</td>\n",
              "      <td>0</td>\n",
              "      <td>0</td>\n",
              "      <td>0</td>\n",
              "      <td>0</td>\n",
              "      <td>0</td>\n",
              "      <td>0</td>\n",
              "      <td>0</td>\n",
              "      <td>0</td>\n",
              "      <td>0</td>\n",
              "      <td>0</td>\n",
              "      <td>0</td>\n",
              "      <td>0</td>\n",
              "      <td>0</td>\n",
              "      <td>0</td>\n",
              "      <td>0</td>\n",
              "      <td>0</td>\n",
              "      <td>0</td>\n",
              "      <td>0</td>\n",
              "      <td>0</td>\n",
              "    </tr>\n",
              "    <tr>\n",
              "      <th>2</th>\n",
              "      <td>2019-05-05 12:06:00</td>\n",
              "      <td>2019-05-04 17:00:00</td>\n",
              "      <td>334039570</td>\n",
              "      <td>26.38</td>\n",
              "      <td>monthly_20171212</td>\n",
              "      <td>0</td>\n",
              "      <td>Tepexpan</td>\n",
              "      <td>2019-05-05</td>\n",
              "      <td>13</td>\n",
              "      <td>13</td>\n",
              "      <td>1</td>\n",
              "      <td>0</td>\n",
              "      <td>85</td>\n",
              "      <td>0</td>\n",
              "      <td>2019-01-07 19:57:00-08:00</td>\n",
              "      <td>2019-05-04 17:00:00-07:00</td>\n",
              "      <td>0</td>\n",
              "      <td>1</td>\n",
              "      <td>0</td>\n",
              "      <td>0</td>\n",
              "      <td>0</td>\n",
              "      <td>0</td>\n",
              "      <td>0</td>\n",
              "      <td>0</td>\n",
              "      <td>0</td>\n",
              "      <td>0</td>\n",
              "      <td>1</td>\n",
              "      <td>0</td>\n",
              "      <td>0</td>\n",
              "      <td>1</td>\n",
              "      <td>0</td>\n",
              "      <td>0</td>\n",
              "      <td>1</td>\n",
              "      <td>0</td>\n",
              "      <td>0</td>\n",
              "      <td>0</td>\n",
              "      <td>0</td>\n",
              "      <td>0</td>\n",
              "      <td>0</td>\n",
              "      <td>0</td>\n",
              "      <td>...</td>\n",
              "      <td>0</td>\n",
              "      <td>0</td>\n",
              "      <td>0</td>\n",
              "      <td>0</td>\n",
              "      <td>0</td>\n",
              "      <td>0</td>\n",
              "      <td>0</td>\n",
              "      <td>0</td>\n",
              "      <td>0</td>\n",
              "      <td>0</td>\n",
              "      <td>0</td>\n",
              "      <td>0</td>\n",
              "      <td>0</td>\n",
              "      <td>0</td>\n",
              "      <td>0</td>\n",
              "      <td>0</td>\n",
              "      <td>0</td>\n",
              "      <td>0</td>\n",
              "      <td>0</td>\n",
              "      <td>0</td>\n",
              "      <td>0</td>\n",
              "      <td>1</td>\n",
              "      <td>0</td>\n",
              "      <td>0</td>\n",
              "      <td>0</td>\n",
              "      <td>0</td>\n",
              "      <td>0</td>\n",
              "      <td>0</td>\n",
              "      <td>0</td>\n",
              "      <td>0</td>\n",
              "      <td>0</td>\n",
              "      <td>0</td>\n",
              "      <td>0</td>\n",
              "      <td>0</td>\n",
              "      <td>0</td>\n",
              "      <td>0</td>\n",
              "      <td>0</td>\n",
              "      <td>0</td>\n",
              "      <td>0</td>\n",
              "      <td>0</td>\n",
              "    </tr>\n",
              "    <tr>\n",
              "      <th>3</th>\n",
              "      <td>2019-05-06 16:40:00</td>\n",
              "      <td>2019-05-05 17:00:00</td>\n",
              "      <td>341572424</td>\n",
              "      <td>0.65</td>\n",
              "      <td>2for2_20171212</td>\n",
              "      <td>0</td>\n",
              "      <td>(not set)</td>\n",
              "      <td>2019-05-19</td>\n",
              "      <td>4</td>\n",
              "      <td>10</td>\n",
              "      <td>0</td>\n",
              "      <td>0</td>\n",
              "      <td>0</td>\n",
              "      <td>0</td>\n",
              "      <td>2019-05-06 12:00:00-07:00</td>\n",
              "      <td>2019-05-05 17:00:00-07:00</td>\n",
              "      <td>1</td>\n",
              "      <td>0</td>\n",
              "      <td>1</td>\n",
              "      <td>0</td>\n",
              "      <td>0</td>\n",
              "      <td>0</td>\n",
              "      <td>0</td>\n",
              "      <td>0</td>\n",
              "      <td>0</td>\n",
              "      <td>0</td>\n",
              "      <td>0</td>\n",
              "      <td>0</td>\n",
              "      <td>0</td>\n",
              "      <td>1</td>\n",
              "      <td>0</td>\n",
              "      <td>0</td>\n",
              "      <td>1</td>\n",
              "      <td>0</td>\n",
              "      <td>0</td>\n",
              "      <td>0</td>\n",
              "      <td>0</td>\n",
              "      <td>0</td>\n",
              "      <td>0</td>\n",
              "      <td>0</td>\n",
              "      <td>...</td>\n",
              "      <td>0</td>\n",
              "      <td>0</td>\n",
              "      <td>0</td>\n",
              "      <td>0</td>\n",
              "      <td>0</td>\n",
              "      <td>0</td>\n",
              "      <td>0</td>\n",
              "      <td>0</td>\n",
              "      <td>0</td>\n",
              "      <td>0</td>\n",
              "      <td>0</td>\n",
              "      <td>0</td>\n",
              "      <td>0</td>\n",
              "      <td>0</td>\n",
              "      <td>0</td>\n",
              "      <td>0</td>\n",
              "      <td>0</td>\n",
              "      <td>0</td>\n",
              "      <td>0</td>\n",
              "      <td>0</td>\n",
              "      <td>0</td>\n",
              "      <td>0</td>\n",
              "      <td>0</td>\n",
              "      <td>0</td>\n",
              "      <td>0</td>\n",
              "      <td>0</td>\n",
              "      <td>0</td>\n",
              "      <td>0</td>\n",
              "      <td>0</td>\n",
              "      <td>0</td>\n",
              "      <td>0</td>\n",
              "      <td>0</td>\n",
              "      <td>0</td>\n",
              "      <td>0</td>\n",
              "      <td>0</td>\n",
              "      <td>0</td>\n",
              "      <td>0</td>\n",
              "      <td>0</td>\n",
              "      <td>0</td>\n",
              "      <td>0</td>\n",
              "    </tr>\n",
              "    <tr>\n",
              "      <th>4</th>\n",
              "      <td>2019-05-10 03:37:00</td>\n",
              "      <td>2019-05-09 17:00:00</td>\n",
              "      <td>315339375</td>\n",
              "      <td>2.25</td>\n",
              "      <td>2for2_20171212</td>\n",
              "      <td>0</td>\n",
              "      <td>Pamplona</td>\n",
              "      <td>2019-05-10</td>\n",
              "      <td>10</td>\n",
              "      <td>13</td>\n",
              "      <td>0</td>\n",
              "      <td>0</td>\n",
              "      <td>14</td>\n",
              "      <td>0</td>\n",
              "      <td>2018-03-09 09:55:00-08:00</td>\n",
              "      <td>2019-05-09 17:00:00-07:00</td>\n",
              "      <td>0</td>\n",
              "      <td>1</td>\n",
              "      <td>0</td>\n",
              "      <td>0</td>\n",
              "      <td>0</td>\n",
              "      <td>0</td>\n",
              "      <td>0</td>\n",
              "      <td>1</td>\n",
              "      <td>0</td>\n",
              "      <td>0</td>\n",
              "      <td>0</td>\n",
              "      <td>0</td>\n",
              "      <td>0</td>\n",
              "      <td>1</td>\n",
              "      <td>0</td>\n",
              "      <td>0</td>\n",
              "      <td>1</td>\n",
              "      <td>0</td>\n",
              "      <td>0</td>\n",
              "      <td>0</td>\n",
              "      <td>0</td>\n",
              "      <td>0</td>\n",
              "      <td>0</td>\n",
              "      <td>0</td>\n",
              "      <td>...</td>\n",
              "      <td>0</td>\n",
              "      <td>0</td>\n",
              "      <td>0</td>\n",
              "      <td>0</td>\n",
              "      <td>0</td>\n",
              "      <td>0</td>\n",
              "      <td>0</td>\n",
              "      <td>0</td>\n",
              "      <td>0</td>\n",
              "      <td>0</td>\n",
              "      <td>0</td>\n",
              "      <td>0</td>\n",
              "      <td>0</td>\n",
              "      <td>0</td>\n",
              "      <td>0</td>\n",
              "      <td>0</td>\n",
              "      <td>0</td>\n",
              "      <td>0</td>\n",
              "      <td>0</td>\n",
              "      <td>0</td>\n",
              "      <td>0</td>\n",
              "      <td>0</td>\n",
              "      <td>0</td>\n",
              "      <td>0</td>\n",
              "      <td>0</td>\n",
              "      <td>0</td>\n",
              "      <td>0</td>\n",
              "      <td>0</td>\n",
              "      <td>0</td>\n",
              "      <td>0</td>\n",
              "      <td>0</td>\n",
              "      <td>0</td>\n",
              "      <td>0</td>\n",
              "      <td>0</td>\n",
              "      <td>1</td>\n",
              "      <td>0</td>\n",
              "      <td>0</td>\n",
              "      <td>0</td>\n",
              "      <td>0</td>\n",
              "      <td>0</td>\n",
              "    </tr>\n",
              "  </tbody>\n",
              "</table>\n",
              "<p>5 rows × 171 columns</p>\n",
              "</div>"
            ],
            "text/plain": [
              "        created_am_la  ... country__Venezuela\n",
              "0 2019-05-03 19:51:00  ...                  0\n",
              "1 2019-05-05 09:10:00  ...                  0\n",
              "2 2019-05-05 12:06:00  ...                  0\n",
              "3 2019-05-06 16:40:00  ...                  0\n",
              "4 2019-05-10 03:37:00  ...                  0\n",
              "\n",
              "[5 rows x 171 columns]"
            ]
          },
          "metadata": {
            "tags": []
          },
          "execution_count": 77
        }
      ]
    },
    {
      "cell_type": "code",
      "metadata": {
        "id": "kuih_40OH3Zs",
        "colab_type": "code",
        "outputId": "8c174da8-2abb-455b-b3b6-8958d7dfbc09",
        "colab": {
          "base_uri": "https://localhost:8080/",
          "height": 372
        }
      },
      "source": [
        "df_with_dummies = pd.get_dummies(df_with_dummies, prefix='city_', columns=['city'])\n",
        "df_with_dummies.head()"
      ],
      "execution_count": 0,
      "outputs": [
        {
          "output_type": "execute_result",
          "data": {
            "text/html": [
              "<div>\n",
              "<style scoped>\n",
              "    .dataframe tbody tr th:only-of-type {\n",
              "        vertical-align: middle;\n",
              "    }\n",
              "\n",
              "    .dataframe tbody tr th {\n",
              "        vertical-align: top;\n",
              "    }\n",
              "\n",
              "    .dataframe thead th {\n",
              "        text-align: right;\n",
              "    }\n",
              "</style>\n",
              "<table border=\"1\" class=\"dataframe\">\n",
              "  <thead>\n",
              "    <tr style=\"text-align: right;\">\n",
              "      <th></th>\n",
              "      <th>created_am_la</th>\n",
              "      <th>transaction_date_am_la</th>\n",
              "      <th>user_id</th>\n",
              "      <th>transaction_amount_100_usd</th>\n",
              "      <th>user_external_plan_first_activated_plan</th>\n",
              "      <th>isMobile</th>\n",
              "      <th>last_login</th>\n",
              "      <th>joined_day_pageviews</th>\n",
              "      <th>pageviews_in_first_month</th>\n",
              "      <th>pageviews_in_second_month</th>\n",
              "      <th>pageviews_in_third_month</th>\n",
              "      <th>pageviews_after_third_month</th>\n",
              "      <th>chargeback</th>\n",
              "      <th>user_creation_date_am_la</th>\n",
              "      <th>transaction_date_am_la_fix</th>\n",
              "      <th>payment_method__creditcard</th>\n",
              "      <th>payment_method__debitcard</th>\n",
              "      <th>transaction_currency__ARS</th>\n",
              "      <th>transaction_currency__CLP</th>\n",
              "      <th>transaction_currency__COP</th>\n",
              "      <th>transaction_currency__CRC</th>\n",
              "      <th>transaction_currency__DOP</th>\n",
              "      <th>transaction_currency__EUR</th>\n",
              "      <th>transaction_currency__GTQ</th>\n",
              "      <th>transaction_currency__HNL</th>\n",
              "      <th>transaction_currency__MXN</th>\n",
              "      <th>transaction_currency__PEN</th>\n",
              "      <th>transaction_currency__USD</th>\n",
              "      <th>plan_period__30</th>\n",
              "      <th>plan_period__90</th>\n",
              "      <th>plan_period__360</th>\n",
              "      <th>error_message__APPROVED</th>\n",
              "      <th>error_message__FAILED</th>\n",
              "      <th>error_message__NOT CHECKED BY ACQUIRER</th>\n",
              "      <th>error_message__UNKNOWN</th>\n",
              "      <th>plan_country__AR</th>\n",
              "      <th>plan_country__AU</th>\n",
              "      <th>plan_country__BR</th>\n",
              "      <th>plan_country__CA</th>\n",
              "      <th>plan_country__CH</th>\n",
              "      <th>...</th>\n",
              "      <th>city__Venado Tuerto</th>\n",
              "      <th>city__Veracruz</th>\n",
              "      <th>city__Vicente Lopez</th>\n",
              "      <th>city__Victoria</th>\n",
              "      <th>city__Vilassar de Dalt</th>\n",
              "      <th>city__Villa Alemana</th>\n",
              "      <th>city__Villa Ballester</th>\n",
              "      <th>city__Villa Carlos Paz</th>\n",
              "      <th>city__Villa Dominico</th>\n",
              "      <th>city__Villa Lynch</th>\n",
              "      <th>city__Villa Maria</th>\n",
              "      <th>city__Villa Mercedes</th>\n",
              "      <th>city__Villa Rica</th>\n",
              "      <th>city__Villa de Alvarez</th>\n",
              "      <th>city__Villahermosa</th>\n",
              "      <th>city__Villanova</th>\n",
              "      <th>city__Villavicencio</th>\n",
              "      <th>city__Villaviciosa de Odon</th>\n",
              "      <th>city__Virrey del Pino</th>\n",
              "      <th>city__Washington</th>\n",
              "      <th>city__West Babylon</th>\n",
              "      <th>city__West New York</th>\n",
              "      <th>city__West Valley City</th>\n",
              "      <th>city__West Warwick</th>\n",
              "      <th>city__Weston</th>\n",
              "      <th>city__Wilde</th>\n",
              "      <th>city__Wilmington</th>\n",
              "      <th>city__Worthington</th>\n",
              "      <th>city__Xalapa</th>\n",
              "      <th>city__Xicotepec de Juarez</th>\n",
              "      <th>city__Xonacatlan</th>\n",
              "      <th>city__Yerevan</th>\n",
              "      <th>city__Yopal</th>\n",
              "      <th>city__Yuzhno-Sakhalinsk</th>\n",
              "      <th>city__Zacatecas</th>\n",
              "      <th>city__Zamora</th>\n",
              "      <th>city__Zapopan</th>\n",
              "      <th>city__Zaragoza</th>\n",
              "      <th>city__Zarate</th>\n",
              "      <th>city__Zumpango</th>\n",
              "    </tr>\n",
              "  </thead>\n",
              "  <tbody>\n",
              "    <tr>\n",
              "      <th>0</th>\n",
              "      <td>2019-05-03 19:51:00</td>\n",
              "      <td>2019-05-03 17:00:00</td>\n",
              "      <td>341412195</td>\n",
              "      <td>26.38</td>\n",
              "      <td>monthly_20171212</td>\n",
              "      <td>1</td>\n",
              "      <td>2019-05-04</td>\n",
              "      <td>7</td>\n",
              "      <td>23</td>\n",
              "      <td>0</td>\n",
              "      <td>0</td>\n",
              "      <td>0</td>\n",
              "      <td>0</td>\n",
              "      <td>2019-05-03 19:49:00-07:00</td>\n",
              "      <td>2019-05-03 17:00:00-07:00</td>\n",
              "      <td>0</td>\n",
              "      <td>1</td>\n",
              "      <td>0</td>\n",
              "      <td>0</td>\n",
              "      <td>0</td>\n",
              "      <td>0</td>\n",
              "      <td>0</td>\n",
              "      <td>0</td>\n",
              "      <td>0</td>\n",
              "      <td>0</td>\n",
              "      <td>1</td>\n",
              "      <td>0</td>\n",
              "      <td>0</td>\n",
              "      <td>1</td>\n",
              "      <td>0</td>\n",
              "      <td>0</td>\n",
              "      <td>1</td>\n",
              "      <td>0</td>\n",
              "      <td>0</td>\n",
              "      <td>0</td>\n",
              "      <td>0</td>\n",
              "      <td>0</td>\n",
              "      <td>0</td>\n",
              "      <td>0</td>\n",
              "      <td>0</td>\n",
              "      <td>...</td>\n",
              "      <td>0</td>\n",
              "      <td>0</td>\n",
              "      <td>0</td>\n",
              "      <td>0</td>\n",
              "      <td>0</td>\n",
              "      <td>0</td>\n",
              "      <td>0</td>\n",
              "      <td>0</td>\n",
              "      <td>0</td>\n",
              "      <td>0</td>\n",
              "      <td>0</td>\n",
              "      <td>0</td>\n",
              "      <td>0</td>\n",
              "      <td>0</td>\n",
              "      <td>0</td>\n",
              "      <td>0</td>\n",
              "      <td>0</td>\n",
              "      <td>0</td>\n",
              "      <td>0</td>\n",
              "      <td>0</td>\n",
              "      <td>0</td>\n",
              "      <td>0</td>\n",
              "      <td>0</td>\n",
              "      <td>0</td>\n",
              "      <td>0</td>\n",
              "      <td>0</td>\n",
              "      <td>0</td>\n",
              "      <td>0</td>\n",
              "      <td>0</td>\n",
              "      <td>0</td>\n",
              "      <td>0</td>\n",
              "      <td>0</td>\n",
              "      <td>0</td>\n",
              "      <td>0</td>\n",
              "      <td>0</td>\n",
              "      <td>0</td>\n",
              "      <td>0</td>\n",
              "      <td>0</td>\n",
              "      <td>0</td>\n",
              "      <td>0</td>\n",
              "    </tr>\n",
              "    <tr>\n",
              "      <th>1</th>\n",
              "      <td>2019-05-05 09:10:00</td>\n",
              "      <td>2019-05-04 17:00:00</td>\n",
              "      <td>341479440</td>\n",
              "      <td>6.73</td>\n",
              "      <td>monthly_20171212</td>\n",
              "      <td>1</td>\n",
              "      <td>2019-05-05</td>\n",
              "      <td>20</td>\n",
              "      <td>26</td>\n",
              "      <td>0</td>\n",
              "      <td>0</td>\n",
              "      <td>0</td>\n",
              "      <td>0</td>\n",
              "      <td>2019-05-05 09:09:00-07:00</td>\n",
              "      <td>2019-05-04 17:00:00-07:00</td>\n",
              "      <td>1</td>\n",
              "      <td>0</td>\n",
              "      <td>1</td>\n",
              "      <td>0</td>\n",
              "      <td>0</td>\n",
              "      <td>0</td>\n",
              "      <td>0</td>\n",
              "      <td>0</td>\n",
              "      <td>0</td>\n",
              "      <td>0</td>\n",
              "      <td>0</td>\n",
              "      <td>0</td>\n",
              "      <td>0</td>\n",
              "      <td>1</td>\n",
              "      <td>0</td>\n",
              "      <td>0</td>\n",
              "      <td>1</td>\n",
              "      <td>0</td>\n",
              "      <td>0</td>\n",
              "      <td>0</td>\n",
              "      <td>0</td>\n",
              "      <td>0</td>\n",
              "      <td>0</td>\n",
              "      <td>0</td>\n",
              "      <td>0</td>\n",
              "      <td>...</td>\n",
              "      <td>0</td>\n",
              "      <td>0</td>\n",
              "      <td>0</td>\n",
              "      <td>0</td>\n",
              "      <td>0</td>\n",
              "      <td>0</td>\n",
              "      <td>0</td>\n",
              "      <td>0</td>\n",
              "      <td>0</td>\n",
              "      <td>0</td>\n",
              "      <td>0</td>\n",
              "      <td>0</td>\n",
              "      <td>0</td>\n",
              "      <td>0</td>\n",
              "      <td>0</td>\n",
              "      <td>0</td>\n",
              "      <td>0</td>\n",
              "      <td>0</td>\n",
              "      <td>0</td>\n",
              "      <td>0</td>\n",
              "      <td>0</td>\n",
              "      <td>0</td>\n",
              "      <td>0</td>\n",
              "      <td>0</td>\n",
              "      <td>0</td>\n",
              "      <td>0</td>\n",
              "      <td>0</td>\n",
              "      <td>0</td>\n",
              "      <td>0</td>\n",
              "      <td>0</td>\n",
              "      <td>0</td>\n",
              "      <td>0</td>\n",
              "      <td>0</td>\n",
              "      <td>0</td>\n",
              "      <td>0</td>\n",
              "      <td>0</td>\n",
              "      <td>0</td>\n",
              "      <td>0</td>\n",
              "      <td>0</td>\n",
              "      <td>0</td>\n",
              "    </tr>\n",
              "    <tr>\n",
              "      <th>2</th>\n",
              "      <td>2019-05-05 12:06:00</td>\n",
              "      <td>2019-05-04 17:00:00</td>\n",
              "      <td>334039570</td>\n",
              "      <td>26.38</td>\n",
              "      <td>monthly_20171212</td>\n",
              "      <td>0</td>\n",
              "      <td>2019-05-05</td>\n",
              "      <td>13</td>\n",
              "      <td>13</td>\n",
              "      <td>1</td>\n",
              "      <td>0</td>\n",
              "      <td>85</td>\n",
              "      <td>0</td>\n",
              "      <td>2019-01-07 19:57:00-08:00</td>\n",
              "      <td>2019-05-04 17:00:00-07:00</td>\n",
              "      <td>0</td>\n",
              "      <td>1</td>\n",
              "      <td>0</td>\n",
              "      <td>0</td>\n",
              "      <td>0</td>\n",
              "      <td>0</td>\n",
              "      <td>0</td>\n",
              "      <td>0</td>\n",
              "      <td>0</td>\n",
              "      <td>0</td>\n",
              "      <td>1</td>\n",
              "      <td>0</td>\n",
              "      <td>0</td>\n",
              "      <td>1</td>\n",
              "      <td>0</td>\n",
              "      <td>0</td>\n",
              "      <td>1</td>\n",
              "      <td>0</td>\n",
              "      <td>0</td>\n",
              "      <td>0</td>\n",
              "      <td>0</td>\n",
              "      <td>0</td>\n",
              "      <td>0</td>\n",
              "      <td>0</td>\n",
              "      <td>0</td>\n",
              "      <td>...</td>\n",
              "      <td>0</td>\n",
              "      <td>0</td>\n",
              "      <td>0</td>\n",
              "      <td>0</td>\n",
              "      <td>0</td>\n",
              "      <td>0</td>\n",
              "      <td>0</td>\n",
              "      <td>0</td>\n",
              "      <td>0</td>\n",
              "      <td>0</td>\n",
              "      <td>0</td>\n",
              "      <td>0</td>\n",
              "      <td>0</td>\n",
              "      <td>0</td>\n",
              "      <td>0</td>\n",
              "      <td>0</td>\n",
              "      <td>0</td>\n",
              "      <td>0</td>\n",
              "      <td>0</td>\n",
              "      <td>0</td>\n",
              "      <td>0</td>\n",
              "      <td>0</td>\n",
              "      <td>0</td>\n",
              "      <td>0</td>\n",
              "      <td>0</td>\n",
              "      <td>0</td>\n",
              "      <td>0</td>\n",
              "      <td>0</td>\n",
              "      <td>0</td>\n",
              "      <td>0</td>\n",
              "      <td>0</td>\n",
              "      <td>0</td>\n",
              "      <td>0</td>\n",
              "      <td>0</td>\n",
              "      <td>0</td>\n",
              "      <td>0</td>\n",
              "      <td>0</td>\n",
              "      <td>0</td>\n",
              "      <td>0</td>\n",
              "      <td>0</td>\n",
              "    </tr>\n",
              "    <tr>\n",
              "      <th>3</th>\n",
              "      <td>2019-05-06 16:40:00</td>\n",
              "      <td>2019-05-05 17:00:00</td>\n",
              "      <td>341572424</td>\n",
              "      <td>0.65</td>\n",
              "      <td>2for2_20171212</td>\n",
              "      <td>0</td>\n",
              "      <td>2019-05-19</td>\n",
              "      <td>4</td>\n",
              "      <td>10</td>\n",
              "      <td>0</td>\n",
              "      <td>0</td>\n",
              "      <td>0</td>\n",
              "      <td>0</td>\n",
              "      <td>2019-05-06 12:00:00-07:00</td>\n",
              "      <td>2019-05-05 17:00:00-07:00</td>\n",
              "      <td>1</td>\n",
              "      <td>0</td>\n",
              "      <td>1</td>\n",
              "      <td>0</td>\n",
              "      <td>0</td>\n",
              "      <td>0</td>\n",
              "      <td>0</td>\n",
              "      <td>0</td>\n",
              "      <td>0</td>\n",
              "      <td>0</td>\n",
              "      <td>0</td>\n",
              "      <td>0</td>\n",
              "      <td>0</td>\n",
              "      <td>1</td>\n",
              "      <td>0</td>\n",
              "      <td>0</td>\n",
              "      <td>1</td>\n",
              "      <td>0</td>\n",
              "      <td>0</td>\n",
              "      <td>0</td>\n",
              "      <td>0</td>\n",
              "      <td>0</td>\n",
              "      <td>0</td>\n",
              "      <td>0</td>\n",
              "      <td>0</td>\n",
              "      <td>...</td>\n",
              "      <td>0</td>\n",
              "      <td>0</td>\n",
              "      <td>0</td>\n",
              "      <td>0</td>\n",
              "      <td>0</td>\n",
              "      <td>0</td>\n",
              "      <td>0</td>\n",
              "      <td>0</td>\n",
              "      <td>0</td>\n",
              "      <td>0</td>\n",
              "      <td>0</td>\n",
              "      <td>0</td>\n",
              "      <td>0</td>\n",
              "      <td>0</td>\n",
              "      <td>0</td>\n",
              "      <td>0</td>\n",
              "      <td>0</td>\n",
              "      <td>0</td>\n",
              "      <td>0</td>\n",
              "      <td>0</td>\n",
              "      <td>0</td>\n",
              "      <td>0</td>\n",
              "      <td>0</td>\n",
              "      <td>0</td>\n",
              "      <td>0</td>\n",
              "      <td>0</td>\n",
              "      <td>0</td>\n",
              "      <td>0</td>\n",
              "      <td>0</td>\n",
              "      <td>0</td>\n",
              "      <td>0</td>\n",
              "      <td>0</td>\n",
              "      <td>0</td>\n",
              "      <td>0</td>\n",
              "      <td>0</td>\n",
              "      <td>0</td>\n",
              "      <td>0</td>\n",
              "      <td>0</td>\n",
              "      <td>0</td>\n",
              "      <td>0</td>\n",
              "    </tr>\n",
              "    <tr>\n",
              "      <th>4</th>\n",
              "      <td>2019-05-10 03:37:00</td>\n",
              "      <td>2019-05-09 17:00:00</td>\n",
              "      <td>315339375</td>\n",
              "      <td>2.25</td>\n",
              "      <td>2for2_20171212</td>\n",
              "      <td>0</td>\n",
              "      <td>2019-05-10</td>\n",
              "      <td>10</td>\n",
              "      <td>13</td>\n",
              "      <td>0</td>\n",
              "      <td>0</td>\n",
              "      <td>14</td>\n",
              "      <td>0</td>\n",
              "      <td>2018-03-09 09:55:00-08:00</td>\n",
              "      <td>2019-05-09 17:00:00-07:00</td>\n",
              "      <td>0</td>\n",
              "      <td>1</td>\n",
              "      <td>0</td>\n",
              "      <td>0</td>\n",
              "      <td>0</td>\n",
              "      <td>0</td>\n",
              "      <td>0</td>\n",
              "      <td>1</td>\n",
              "      <td>0</td>\n",
              "      <td>0</td>\n",
              "      <td>0</td>\n",
              "      <td>0</td>\n",
              "      <td>0</td>\n",
              "      <td>1</td>\n",
              "      <td>0</td>\n",
              "      <td>0</td>\n",
              "      <td>1</td>\n",
              "      <td>0</td>\n",
              "      <td>0</td>\n",
              "      <td>0</td>\n",
              "      <td>0</td>\n",
              "      <td>0</td>\n",
              "      <td>0</td>\n",
              "      <td>0</td>\n",
              "      <td>0</td>\n",
              "      <td>...</td>\n",
              "      <td>0</td>\n",
              "      <td>0</td>\n",
              "      <td>0</td>\n",
              "      <td>0</td>\n",
              "      <td>0</td>\n",
              "      <td>0</td>\n",
              "      <td>0</td>\n",
              "      <td>0</td>\n",
              "      <td>0</td>\n",
              "      <td>0</td>\n",
              "      <td>0</td>\n",
              "      <td>0</td>\n",
              "      <td>0</td>\n",
              "      <td>0</td>\n",
              "      <td>0</td>\n",
              "      <td>0</td>\n",
              "      <td>0</td>\n",
              "      <td>0</td>\n",
              "      <td>0</td>\n",
              "      <td>0</td>\n",
              "      <td>0</td>\n",
              "      <td>0</td>\n",
              "      <td>0</td>\n",
              "      <td>0</td>\n",
              "      <td>0</td>\n",
              "      <td>0</td>\n",
              "      <td>0</td>\n",
              "      <td>0</td>\n",
              "      <td>0</td>\n",
              "      <td>0</td>\n",
              "      <td>0</td>\n",
              "      <td>0</td>\n",
              "      <td>0</td>\n",
              "      <td>0</td>\n",
              "      <td>0</td>\n",
              "      <td>0</td>\n",
              "      <td>0</td>\n",
              "      <td>0</td>\n",
              "      <td>0</td>\n",
              "      <td>0</td>\n",
              "    </tr>\n",
              "  </tbody>\n",
              "</table>\n",
              "<p>5 rows × 932 columns</p>\n",
              "</div>"
            ],
            "text/plain": [
              "        created_am_la transaction_date_am_la  ...  city__Zarate  city__Zumpango\n",
              "0 2019-05-03 19:51:00    2019-05-03 17:00:00  ...             0               0\n",
              "1 2019-05-05 09:10:00    2019-05-04 17:00:00  ...             0               0\n",
              "2 2019-05-05 12:06:00    2019-05-04 17:00:00  ...             0               0\n",
              "3 2019-05-06 16:40:00    2019-05-05 17:00:00  ...             0               0\n",
              "4 2019-05-10 03:37:00    2019-05-09 17:00:00  ...             0               0\n",
              "\n",
              "[5 rows x 932 columns]"
            ]
          },
          "metadata": {
            "tags": []
          },
          "execution_count": 78
        }
      ]
    },
    {
      "cell_type": "code",
      "metadata": {
        "id": "u21lVJhLIWuj",
        "colab_type": "code",
        "outputId": "989889ce-fceb-4637-fb5f-1188c3fdb49b",
        "colab": {
          "base_uri": "https://localhost:8080/",
          "height": 34
        }
      },
      "source": [
        "df_with_dummies.shape"
      ],
      "execution_count": 0,
      "outputs": [
        {
          "output_type": "execute_result",
          "data": {
            "text/plain": [
              "(11750, 932)"
            ]
          },
          "metadata": {
            "tags": []
          },
          "execution_count": 79
        }
      ]
    },
    {
      "cell_type": "code",
      "metadata": {
        "id": "7cQxVepsJQo3",
        "colab_type": "code",
        "outputId": "c88ab07b-92be-44df-a88c-3161f27cd173",
        "colab": {
          "base_uri": "https://localhost:8080/",
          "height": 372
        }
      },
      "source": [
        "df_with_dummies = pd.get_dummies(df_with_dummies, prefix='first_activated_plan_', columns=['user_external_plan_first_activated_plan'])\n",
        "df_with_dummies.head()"
      ],
      "execution_count": 0,
      "outputs": [
        {
          "output_type": "execute_result",
          "data": {
            "text/html": [
              "<div>\n",
              "<style scoped>\n",
              "    .dataframe tbody tr th:only-of-type {\n",
              "        vertical-align: middle;\n",
              "    }\n",
              "\n",
              "    .dataframe tbody tr th {\n",
              "        vertical-align: top;\n",
              "    }\n",
              "\n",
              "    .dataframe thead th {\n",
              "        text-align: right;\n",
              "    }\n",
              "</style>\n",
              "<table border=\"1\" class=\"dataframe\">\n",
              "  <thead>\n",
              "    <tr style=\"text-align: right;\">\n",
              "      <th></th>\n",
              "      <th>created_am_la</th>\n",
              "      <th>transaction_date_am_la</th>\n",
              "      <th>user_id</th>\n",
              "      <th>transaction_amount_100_usd</th>\n",
              "      <th>isMobile</th>\n",
              "      <th>last_login</th>\n",
              "      <th>joined_day_pageviews</th>\n",
              "      <th>pageviews_in_first_month</th>\n",
              "      <th>pageviews_in_second_month</th>\n",
              "      <th>pageviews_in_third_month</th>\n",
              "      <th>pageviews_after_third_month</th>\n",
              "      <th>chargeback</th>\n",
              "      <th>user_creation_date_am_la</th>\n",
              "      <th>transaction_date_am_la_fix</th>\n",
              "      <th>payment_method__creditcard</th>\n",
              "      <th>payment_method__debitcard</th>\n",
              "      <th>transaction_currency__ARS</th>\n",
              "      <th>transaction_currency__CLP</th>\n",
              "      <th>transaction_currency__COP</th>\n",
              "      <th>transaction_currency__CRC</th>\n",
              "      <th>transaction_currency__DOP</th>\n",
              "      <th>transaction_currency__EUR</th>\n",
              "      <th>transaction_currency__GTQ</th>\n",
              "      <th>transaction_currency__HNL</th>\n",
              "      <th>transaction_currency__MXN</th>\n",
              "      <th>transaction_currency__PEN</th>\n",
              "      <th>transaction_currency__USD</th>\n",
              "      <th>plan_period__30</th>\n",
              "      <th>plan_period__90</th>\n",
              "      <th>plan_period__360</th>\n",
              "      <th>error_message__APPROVED</th>\n",
              "      <th>error_message__FAILED</th>\n",
              "      <th>error_message__NOT CHECKED BY ACQUIRER</th>\n",
              "      <th>error_message__UNKNOWN</th>\n",
              "      <th>plan_country__AR</th>\n",
              "      <th>plan_country__AU</th>\n",
              "      <th>plan_country__BR</th>\n",
              "      <th>plan_country__CA</th>\n",
              "      <th>plan_country__CH</th>\n",
              "      <th>plan_country__CL</th>\n",
              "      <th>...</th>\n",
              "      <th>city__Villa Maria</th>\n",
              "      <th>city__Villa Mercedes</th>\n",
              "      <th>city__Villa Rica</th>\n",
              "      <th>city__Villa de Alvarez</th>\n",
              "      <th>city__Villahermosa</th>\n",
              "      <th>city__Villanova</th>\n",
              "      <th>city__Villavicencio</th>\n",
              "      <th>city__Villaviciosa de Odon</th>\n",
              "      <th>city__Virrey del Pino</th>\n",
              "      <th>city__Washington</th>\n",
              "      <th>city__West Babylon</th>\n",
              "      <th>city__West New York</th>\n",
              "      <th>city__West Valley City</th>\n",
              "      <th>city__West Warwick</th>\n",
              "      <th>city__Weston</th>\n",
              "      <th>city__Wilde</th>\n",
              "      <th>city__Wilmington</th>\n",
              "      <th>city__Worthington</th>\n",
              "      <th>city__Xalapa</th>\n",
              "      <th>city__Xicotepec de Juarez</th>\n",
              "      <th>city__Xonacatlan</th>\n",
              "      <th>city__Yerevan</th>\n",
              "      <th>city__Yopal</th>\n",
              "      <th>city__Yuzhno-Sakhalinsk</th>\n",
              "      <th>city__Zacatecas</th>\n",
              "      <th>city__Zamora</th>\n",
              "      <th>city__Zapopan</th>\n",
              "      <th>city__Zaragoza</th>\n",
              "      <th>city__Zarate</th>\n",
              "      <th>city__Zumpango</th>\n",
              "      <th>first_activated_plan__2for2_20170802</th>\n",
              "      <th>first_activated_plan__2for2_20171212</th>\n",
              "      <th>first_activated_plan__monthly_20170802</th>\n",
              "      <th>first_activated_plan__monthly_20171212</th>\n",
              "      <th>first_activated_plan__monthly_20181213</th>\n",
              "      <th>first_activated_plan__quarterly_20171212</th>\n",
              "      <th>first_activated_plan__quarterly_20181213</th>\n",
              "      <th>first_activated_plan__retention_7free_monthly_20171213</th>\n",
              "      <th>first_activated_plan__retention_995monthly_20171213</th>\n",
              "      <th>first_activated_plan__yearly_20171212</th>\n",
              "    </tr>\n",
              "  </thead>\n",
              "  <tbody>\n",
              "    <tr>\n",
              "      <th>0</th>\n",
              "      <td>2019-05-03 19:51:00</td>\n",
              "      <td>2019-05-03 17:00:00</td>\n",
              "      <td>341412195</td>\n",
              "      <td>26.38</td>\n",
              "      <td>1</td>\n",
              "      <td>2019-05-04</td>\n",
              "      <td>7</td>\n",
              "      <td>23</td>\n",
              "      <td>0</td>\n",
              "      <td>0</td>\n",
              "      <td>0</td>\n",
              "      <td>0</td>\n",
              "      <td>2019-05-03 19:49:00-07:00</td>\n",
              "      <td>2019-05-03 17:00:00-07:00</td>\n",
              "      <td>0</td>\n",
              "      <td>1</td>\n",
              "      <td>0</td>\n",
              "      <td>0</td>\n",
              "      <td>0</td>\n",
              "      <td>0</td>\n",
              "      <td>0</td>\n",
              "      <td>0</td>\n",
              "      <td>0</td>\n",
              "      <td>0</td>\n",
              "      <td>1</td>\n",
              "      <td>0</td>\n",
              "      <td>0</td>\n",
              "      <td>1</td>\n",
              "      <td>0</td>\n",
              "      <td>0</td>\n",
              "      <td>1</td>\n",
              "      <td>0</td>\n",
              "      <td>0</td>\n",
              "      <td>0</td>\n",
              "      <td>0</td>\n",
              "      <td>0</td>\n",
              "      <td>0</td>\n",
              "      <td>0</td>\n",
              "      <td>0</td>\n",
              "      <td>0</td>\n",
              "      <td>...</td>\n",
              "      <td>0</td>\n",
              "      <td>0</td>\n",
              "      <td>0</td>\n",
              "      <td>0</td>\n",
              "      <td>0</td>\n",
              "      <td>0</td>\n",
              "      <td>0</td>\n",
              "      <td>0</td>\n",
              "      <td>0</td>\n",
              "      <td>0</td>\n",
              "      <td>0</td>\n",
              "      <td>0</td>\n",
              "      <td>0</td>\n",
              "      <td>0</td>\n",
              "      <td>0</td>\n",
              "      <td>0</td>\n",
              "      <td>0</td>\n",
              "      <td>0</td>\n",
              "      <td>0</td>\n",
              "      <td>0</td>\n",
              "      <td>0</td>\n",
              "      <td>0</td>\n",
              "      <td>0</td>\n",
              "      <td>0</td>\n",
              "      <td>0</td>\n",
              "      <td>0</td>\n",
              "      <td>0</td>\n",
              "      <td>0</td>\n",
              "      <td>0</td>\n",
              "      <td>0</td>\n",
              "      <td>0</td>\n",
              "      <td>0</td>\n",
              "      <td>0</td>\n",
              "      <td>1</td>\n",
              "      <td>0</td>\n",
              "      <td>0</td>\n",
              "      <td>0</td>\n",
              "      <td>0</td>\n",
              "      <td>0</td>\n",
              "      <td>0</td>\n",
              "    </tr>\n",
              "    <tr>\n",
              "      <th>1</th>\n",
              "      <td>2019-05-05 09:10:00</td>\n",
              "      <td>2019-05-04 17:00:00</td>\n",
              "      <td>341479440</td>\n",
              "      <td>6.73</td>\n",
              "      <td>1</td>\n",
              "      <td>2019-05-05</td>\n",
              "      <td>20</td>\n",
              "      <td>26</td>\n",
              "      <td>0</td>\n",
              "      <td>0</td>\n",
              "      <td>0</td>\n",
              "      <td>0</td>\n",
              "      <td>2019-05-05 09:09:00-07:00</td>\n",
              "      <td>2019-05-04 17:00:00-07:00</td>\n",
              "      <td>1</td>\n",
              "      <td>0</td>\n",
              "      <td>1</td>\n",
              "      <td>0</td>\n",
              "      <td>0</td>\n",
              "      <td>0</td>\n",
              "      <td>0</td>\n",
              "      <td>0</td>\n",
              "      <td>0</td>\n",
              "      <td>0</td>\n",
              "      <td>0</td>\n",
              "      <td>0</td>\n",
              "      <td>0</td>\n",
              "      <td>1</td>\n",
              "      <td>0</td>\n",
              "      <td>0</td>\n",
              "      <td>1</td>\n",
              "      <td>0</td>\n",
              "      <td>0</td>\n",
              "      <td>0</td>\n",
              "      <td>0</td>\n",
              "      <td>0</td>\n",
              "      <td>0</td>\n",
              "      <td>0</td>\n",
              "      <td>0</td>\n",
              "      <td>0</td>\n",
              "      <td>...</td>\n",
              "      <td>0</td>\n",
              "      <td>0</td>\n",
              "      <td>0</td>\n",
              "      <td>0</td>\n",
              "      <td>0</td>\n",
              "      <td>0</td>\n",
              "      <td>0</td>\n",
              "      <td>0</td>\n",
              "      <td>0</td>\n",
              "      <td>0</td>\n",
              "      <td>0</td>\n",
              "      <td>0</td>\n",
              "      <td>0</td>\n",
              "      <td>0</td>\n",
              "      <td>0</td>\n",
              "      <td>0</td>\n",
              "      <td>0</td>\n",
              "      <td>0</td>\n",
              "      <td>0</td>\n",
              "      <td>0</td>\n",
              "      <td>0</td>\n",
              "      <td>0</td>\n",
              "      <td>0</td>\n",
              "      <td>0</td>\n",
              "      <td>0</td>\n",
              "      <td>0</td>\n",
              "      <td>0</td>\n",
              "      <td>0</td>\n",
              "      <td>0</td>\n",
              "      <td>0</td>\n",
              "      <td>0</td>\n",
              "      <td>0</td>\n",
              "      <td>0</td>\n",
              "      <td>1</td>\n",
              "      <td>0</td>\n",
              "      <td>0</td>\n",
              "      <td>0</td>\n",
              "      <td>0</td>\n",
              "      <td>0</td>\n",
              "      <td>0</td>\n",
              "    </tr>\n",
              "    <tr>\n",
              "      <th>2</th>\n",
              "      <td>2019-05-05 12:06:00</td>\n",
              "      <td>2019-05-04 17:00:00</td>\n",
              "      <td>334039570</td>\n",
              "      <td>26.38</td>\n",
              "      <td>0</td>\n",
              "      <td>2019-05-05</td>\n",
              "      <td>13</td>\n",
              "      <td>13</td>\n",
              "      <td>1</td>\n",
              "      <td>0</td>\n",
              "      <td>85</td>\n",
              "      <td>0</td>\n",
              "      <td>2019-01-07 19:57:00-08:00</td>\n",
              "      <td>2019-05-04 17:00:00-07:00</td>\n",
              "      <td>0</td>\n",
              "      <td>1</td>\n",
              "      <td>0</td>\n",
              "      <td>0</td>\n",
              "      <td>0</td>\n",
              "      <td>0</td>\n",
              "      <td>0</td>\n",
              "      <td>0</td>\n",
              "      <td>0</td>\n",
              "      <td>0</td>\n",
              "      <td>1</td>\n",
              "      <td>0</td>\n",
              "      <td>0</td>\n",
              "      <td>1</td>\n",
              "      <td>0</td>\n",
              "      <td>0</td>\n",
              "      <td>1</td>\n",
              "      <td>0</td>\n",
              "      <td>0</td>\n",
              "      <td>0</td>\n",
              "      <td>0</td>\n",
              "      <td>0</td>\n",
              "      <td>0</td>\n",
              "      <td>0</td>\n",
              "      <td>0</td>\n",
              "      <td>0</td>\n",
              "      <td>...</td>\n",
              "      <td>0</td>\n",
              "      <td>0</td>\n",
              "      <td>0</td>\n",
              "      <td>0</td>\n",
              "      <td>0</td>\n",
              "      <td>0</td>\n",
              "      <td>0</td>\n",
              "      <td>0</td>\n",
              "      <td>0</td>\n",
              "      <td>0</td>\n",
              "      <td>0</td>\n",
              "      <td>0</td>\n",
              "      <td>0</td>\n",
              "      <td>0</td>\n",
              "      <td>0</td>\n",
              "      <td>0</td>\n",
              "      <td>0</td>\n",
              "      <td>0</td>\n",
              "      <td>0</td>\n",
              "      <td>0</td>\n",
              "      <td>0</td>\n",
              "      <td>0</td>\n",
              "      <td>0</td>\n",
              "      <td>0</td>\n",
              "      <td>0</td>\n",
              "      <td>0</td>\n",
              "      <td>0</td>\n",
              "      <td>0</td>\n",
              "      <td>0</td>\n",
              "      <td>0</td>\n",
              "      <td>0</td>\n",
              "      <td>0</td>\n",
              "      <td>0</td>\n",
              "      <td>1</td>\n",
              "      <td>0</td>\n",
              "      <td>0</td>\n",
              "      <td>0</td>\n",
              "      <td>0</td>\n",
              "      <td>0</td>\n",
              "      <td>0</td>\n",
              "    </tr>\n",
              "    <tr>\n",
              "      <th>3</th>\n",
              "      <td>2019-05-06 16:40:00</td>\n",
              "      <td>2019-05-05 17:00:00</td>\n",
              "      <td>341572424</td>\n",
              "      <td>0.65</td>\n",
              "      <td>0</td>\n",
              "      <td>2019-05-19</td>\n",
              "      <td>4</td>\n",
              "      <td>10</td>\n",
              "      <td>0</td>\n",
              "      <td>0</td>\n",
              "      <td>0</td>\n",
              "      <td>0</td>\n",
              "      <td>2019-05-06 12:00:00-07:00</td>\n",
              "      <td>2019-05-05 17:00:00-07:00</td>\n",
              "      <td>1</td>\n",
              "      <td>0</td>\n",
              "      <td>1</td>\n",
              "      <td>0</td>\n",
              "      <td>0</td>\n",
              "      <td>0</td>\n",
              "      <td>0</td>\n",
              "      <td>0</td>\n",
              "      <td>0</td>\n",
              "      <td>0</td>\n",
              "      <td>0</td>\n",
              "      <td>0</td>\n",
              "      <td>0</td>\n",
              "      <td>1</td>\n",
              "      <td>0</td>\n",
              "      <td>0</td>\n",
              "      <td>1</td>\n",
              "      <td>0</td>\n",
              "      <td>0</td>\n",
              "      <td>0</td>\n",
              "      <td>0</td>\n",
              "      <td>0</td>\n",
              "      <td>0</td>\n",
              "      <td>0</td>\n",
              "      <td>0</td>\n",
              "      <td>0</td>\n",
              "      <td>...</td>\n",
              "      <td>0</td>\n",
              "      <td>0</td>\n",
              "      <td>0</td>\n",
              "      <td>0</td>\n",
              "      <td>0</td>\n",
              "      <td>0</td>\n",
              "      <td>0</td>\n",
              "      <td>0</td>\n",
              "      <td>0</td>\n",
              "      <td>0</td>\n",
              "      <td>0</td>\n",
              "      <td>0</td>\n",
              "      <td>0</td>\n",
              "      <td>0</td>\n",
              "      <td>0</td>\n",
              "      <td>0</td>\n",
              "      <td>0</td>\n",
              "      <td>0</td>\n",
              "      <td>0</td>\n",
              "      <td>0</td>\n",
              "      <td>0</td>\n",
              "      <td>0</td>\n",
              "      <td>0</td>\n",
              "      <td>0</td>\n",
              "      <td>0</td>\n",
              "      <td>0</td>\n",
              "      <td>0</td>\n",
              "      <td>0</td>\n",
              "      <td>0</td>\n",
              "      <td>0</td>\n",
              "      <td>0</td>\n",
              "      <td>1</td>\n",
              "      <td>0</td>\n",
              "      <td>0</td>\n",
              "      <td>0</td>\n",
              "      <td>0</td>\n",
              "      <td>0</td>\n",
              "      <td>0</td>\n",
              "      <td>0</td>\n",
              "      <td>0</td>\n",
              "    </tr>\n",
              "    <tr>\n",
              "      <th>4</th>\n",
              "      <td>2019-05-10 03:37:00</td>\n",
              "      <td>2019-05-09 17:00:00</td>\n",
              "      <td>315339375</td>\n",
              "      <td>2.25</td>\n",
              "      <td>0</td>\n",
              "      <td>2019-05-10</td>\n",
              "      <td>10</td>\n",
              "      <td>13</td>\n",
              "      <td>0</td>\n",
              "      <td>0</td>\n",
              "      <td>14</td>\n",
              "      <td>0</td>\n",
              "      <td>2018-03-09 09:55:00-08:00</td>\n",
              "      <td>2019-05-09 17:00:00-07:00</td>\n",
              "      <td>0</td>\n",
              "      <td>1</td>\n",
              "      <td>0</td>\n",
              "      <td>0</td>\n",
              "      <td>0</td>\n",
              "      <td>0</td>\n",
              "      <td>0</td>\n",
              "      <td>1</td>\n",
              "      <td>0</td>\n",
              "      <td>0</td>\n",
              "      <td>0</td>\n",
              "      <td>0</td>\n",
              "      <td>0</td>\n",
              "      <td>1</td>\n",
              "      <td>0</td>\n",
              "      <td>0</td>\n",
              "      <td>1</td>\n",
              "      <td>0</td>\n",
              "      <td>0</td>\n",
              "      <td>0</td>\n",
              "      <td>0</td>\n",
              "      <td>0</td>\n",
              "      <td>0</td>\n",
              "      <td>0</td>\n",
              "      <td>0</td>\n",
              "      <td>0</td>\n",
              "      <td>...</td>\n",
              "      <td>0</td>\n",
              "      <td>0</td>\n",
              "      <td>0</td>\n",
              "      <td>0</td>\n",
              "      <td>0</td>\n",
              "      <td>0</td>\n",
              "      <td>0</td>\n",
              "      <td>0</td>\n",
              "      <td>0</td>\n",
              "      <td>0</td>\n",
              "      <td>0</td>\n",
              "      <td>0</td>\n",
              "      <td>0</td>\n",
              "      <td>0</td>\n",
              "      <td>0</td>\n",
              "      <td>0</td>\n",
              "      <td>0</td>\n",
              "      <td>0</td>\n",
              "      <td>0</td>\n",
              "      <td>0</td>\n",
              "      <td>0</td>\n",
              "      <td>0</td>\n",
              "      <td>0</td>\n",
              "      <td>0</td>\n",
              "      <td>0</td>\n",
              "      <td>0</td>\n",
              "      <td>0</td>\n",
              "      <td>0</td>\n",
              "      <td>0</td>\n",
              "      <td>0</td>\n",
              "      <td>0</td>\n",
              "      <td>1</td>\n",
              "      <td>0</td>\n",
              "      <td>0</td>\n",
              "      <td>0</td>\n",
              "      <td>0</td>\n",
              "      <td>0</td>\n",
              "      <td>0</td>\n",
              "      <td>0</td>\n",
              "      <td>0</td>\n",
              "    </tr>\n",
              "  </tbody>\n",
              "</table>\n",
              "<p>5 rows × 941 columns</p>\n",
              "</div>"
            ],
            "text/plain": [
              "        created_am_la  ... first_activated_plan__yearly_20171212\n",
              "0 2019-05-03 19:51:00  ...                                     0\n",
              "1 2019-05-05 09:10:00  ...                                     0\n",
              "2 2019-05-05 12:06:00  ...                                     0\n",
              "3 2019-05-06 16:40:00  ...                                     0\n",
              "4 2019-05-10 03:37:00  ...                                     0\n",
              "\n",
              "[5 rows x 941 columns]"
            ]
          },
          "metadata": {
            "tags": []
          },
          "execution_count": 80
        }
      ]
    },
    {
      "cell_type": "markdown",
      "metadata": {
        "id": "WFeB6EEkJH14",
        "colab_type": "text"
      },
      "source": [
        "# Lets drop all the unnecessary fields like date and other"
      ]
    },
    {
      "cell_type": "code",
      "metadata": {
        "id": "qPwxnhYVNJcZ",
        "colab_type": "code",
        "colab": {}
      },
      "source": [
        "df_with_dummies.drop(['created_am_la','transaction_date_am_la','user_id','last_login','user_creation_date_am_la','transaction_date_am_la_fix'],axis=1,inplace=True)"
      ],
      "execution_count": 0,
      "outputs": []
    },
    {
      "cell_type": "code",
      "metadata": {
        "id": "6mKxRZ-uN4Rm",
        "colab_type": "code",
        "outputId": "4f1844fa-975a-4906-ad30-ae8ff8fb8e3d",
        "colab": {
          "base_uri": "https://localhost:8080/",
          "height": 34
        }
      },
      "source": [
        "df_with_dummies.shape"
      ],
      "execution_count": 0,
      "outputs": [
        {
          "output_type": "execute_result",
          "data": {
            "text/plain": [
              "(11750, 935)"
            ]
          },
          "metadata": {
            "tags": []
          },
          "execution_count": 82
        }
      ]
    },
    {
      "cell_type": "code",
      "metadata": {
        "id": "lNpgUk-XN8Lw",
        "colab_type": "code",
        "outputId": "ae050ca5-fed5-40d2-ab63-0236d8b2f78f",
        "colab": {
          "base_uri": "https://localhost:8080/",
          "height": 287
        }
      },
      "source": [
        "df_with_dummies.head()"
      ],
      "execution_count": 0,
      "outputs": [
        {
          "output_type": "execute_result",
          "data": {
            "text/html": [
              "<div>\n",
              "<style scoped>\n",
              "    .dataframe tbody tr th:only-of-type {\n",
              "        vertical-align: middle;\n",
              "    }\n",
              "\n",
              "    .dataframe tbody tr th {\n",
              "        vertical-align: top;\n",
              "    }\n",
              "\n",
              "    .dataframe thead th {\n",
              "        text-align: right;\n",
              "    }\n",
              "</style>\n",
              "<table border=\"1\" class=\"dataframe\">\n",
              "  <thead>\n",
              "    <tr style=\"text-align: right;\">\n",
              "      <th></th>\n",
              "      <th>transaction_amount_100_usd</th>\n",
              "      <th>isMobile</th>\n",
              "      <th>joined_day_pageviews</th>\n",
              "      <th>pageviews_in_first_month</th>\n",
              "      <th>pageviews_in_second_month</th>\n",
              "      <th>pageviews_in_third_month</th>\n",
              "      <th>pageviews_after_third_month</th>\n",
              "      <th>chargeback</th>\n",
              "      <th>payment_method__creditcard</th>\n",
              "      <th>payment_method__debitcard</th>\n",
              "      <th>transaction_currency__ARS</th>\n",
              "      <th>transaction_currency__CLP</th>\n",
              "      <th>transaction_currency__COP</th>\n",
              "      <th>transaction_currency__CRC</th>\n",
              "      <th>transaction_currency__DOP</th>\n",
              "      <th>transaction_currency__EUR</th>\n",
              "      <th>transaction_currency__GTQ</th>\n",
              "      <th>transaction_currency__HNL</th>\n",
              "      <th>transaction_currency__MXN</th>\n",
              "      <th>transaction_currency__PEN</th>\n",
              "      <th>transaction_currency__USD</th>\n",
              "      <th>plan_period__30</th>\n",
              "      <th>plan_period__90</th>\n",
              "      <th>plan_period__360</th>\n",
              "      <th>error_message__APPROVED</th>\n",
              "      <th>error_message__FAILED</th>\n",
              "      <th>error_message__NOT CHECKED BY ACQUIRER</th>\n",
              "      <th>error_message__UNKNOWN</th>\n",
              "      <th>plan_country__AR</th>\n",
              "      <th>plan_country__AU</th>\n",
              "      <th>plan_country__BR</th>\n",
              "      <th>plan_country__CA</th>\n",
              "      <th>plan_country__CH</th>\n",
              "      <th>plan_country__CL</th>\n",
              "      <th>plan_country__CO</th>\n",
              "      <th>plan_country__CR</th>\n",
              "      <th>plan_country__DO</th>\n",
              "      <th>plan_country__EC</th>\n",
              "      <th>plan_country__ES</th>\n",
              "      <th>plan_country__FR</th>\n",
              "      <th>...</th>\n",
              "      <th>city__Villa Maria</th>\n",
              "      <th>city__Villa Mercedes</th>\n",
              "      <th>city__Villa Rica</th>\n",
              "      <th>city__Villa de Alvarez</th>\n",
              "      <th>city__Villahermosa</th>\n",
              "      <th>city__Villanova</th>\n",
              "      <th>city__Villavicencio</th>\n",
              "      <th>city__Villaviciosa de Odon</th>\n",
              "      <th>city__Virrey del Pino</th>\n",
              "      <th>city__Washington</th>\n",
              "      <th>city__West Babylon</th>\n",
              "      <th>city__West New York</th>\n",
              "      <th>city__West Valley City</th>\n",
              "      <th>city__West Warwick</th>\n",
              "      <th>city__Weston</th>\n",
              "      <th>city__Wilde</th>\n",
              "      <th>city__Wilmington</th>\n",
              "      <th>city__Worthington</th>\n",
              "      <th>city__Xalapa</th>\n",
              "      <th>city__Xicotepec de Juarez</th>\n",
              "      <th>city__Xonacatlan</th>\n",
              "      <th>city__Yerevan</th>\n",
              "      <th>city__Yopal</th>\n",
              "      <th>city__Yuzhno-Sakhalinsk</th>\n",
              "      <th>city__Zacatecas</th>\n",
              "      <th>city__Zamora</th>\n",
              "      <th>city__Zapopan</th>\n",
              "      <th>city__Zaragoza</th>\n",
              "      <th>city__Zarate</th>\n",
              "      <th>city__Zumpango</th>\n",
              "      <th>first_activated_plan__2for2_20170802</th>\n",
              "      <th>first_activated_plan__2for2_20171212</th>\n",
              "      <th>first_activated_plan__monthly_20170802</th>\n",
              "      <th>first_activated_plan__monthly_20171212</th>\n",
              "      <th>first_activated_plan__monthly_20181213</th>\n",
              "      <th>first_activated_plan__quarterly_20171212</th>\n",
              "      <th>first_activated_plan__quarterly_20181213</th>\n",
              "      <th>first_activated_plan__retention_7free_monthly_20171213</th>\n",
              "      <th>first_activated_plan__retention_995monthly_20171213</th>\n",
              "      <th>first_activated_plan__yearly_20171212</th>\n",
              "    </tr>\n",
              "  </thead>\n",
              "  <tbody>\n",
              "    <tr>\n",
              "      <th>0</th>\n",
              "      <td>26.38</td>\n",
              "      <td>1</td>\n",
              "      <td>7</td>\n",
              "      <td>23</td>\n",
              "      <td>0</td>\n",
              "      <td>0</td>\n",
              "      <td>0</td>\n",
              "      <td>0</td>\n",
              "      <td>0</td>\n",
              "      <td>1</td>\n",
              "      <td>0</td>\n",
              "      <td>0</td>\n",
              "      <td>0</td>\n",
              "      <td>0</td>\n",
              "      <td>0</td>\n",
              "      <td>0</td>\n",
              "      <td>0</td>\n",
              "      <td>0</td>\n",
              "      <td>1</td>\n",
              "      <td>0</td>\n",
              "      <td>0</td>\n",
              "      <td>1</td>\n",
              "      <td>0</td>\n",
              "      <td>0</td>\n",
              "      <td>1</td>\n",
              "      <td>0</td>\n",
              "      <td>0</td>\n",
              "      <td>0</td>\n",
              "      <td>0</td>\n",
              "      <td>0</td>\n",
              "      <td>0</td>\n",
              "      <td>0</td>\n",
              "      <td>0</td>\n",
              "      <td>0</td>\n",
              "      <td>0</td>\n",
              "      <td>0</td>\n",
              "      <td>0</td>\n",
              "      <td>0</td>\n",
              "      <td>0</td>\n",
              "      <td>0</td>\n",
              "      <td>...</td>\n",
              "      <td>0</td>\n",
              "      <td>0</td>\n",
              "      <td>0</td>\n",
              "      <td>0</td>\n",
              "      <td>0</td>\n",
              "      <td>0</td>\n",
              "      <td>0</td>\n",
              "      <td>0</td>\n",
              "      <td>0</td>\n",
              "      <td>0</td>\n",
              "      <td>0</td>\n",
              "      <td>0</td>\n",
              "      <td>0</td>\n",
              "      <td>0</td>\n",
              "      <td>0</td>\n",
              "      <td>0</td>\n",
              "      <td>0</td>\n",
              "      <td>0</td>\n",
              "      <td>0</td>\n",
              "      <td>0</td>\n",
              "      <td>0</td>\n",
              "      <td>0</td>\n",
              "      <td>0</td>\n",
              "      <td>0</td>\n",
              "      <td>0</td>\n",
              "      <td>0</td>\n",
              "      <td>0</td>\n",
              "      <td>0</td>\n",
              "      <td>0</td>\n",
              "      <td>0</td>\n",
              "      <td>0</td>\n",
              "      <td>0</td>\n",
              "      <td>0</td>\n",
              "      <td>1</td>\n",
              "      <td>0</td>\n",
              "      <td>0</td>\n",
              "      <td>0</td>\n",
              "      <td>0</td>\n",
              "      <td>0</td>\n",
              "      <td>0</td>\n",
              "    </tr>\n",
              "    <tr>\n",
              "      <th>1</th>\n",
              "      <td>6.73</td>\n",
              "      <td>1</td>\n",
              "      <td>20</td>\n",
              "      <td>26</td>\n",
              "      <td>0</td>\n",
              "      <td>0</td>\n",
              "      <td>0</td>\n",
              "      <td>0</td>\n",
              "      <td>1</td>\n",
              "      <td>0</td>\n",
              "      <td>1</td>\n",
              "      <td>0</td>\n",
              "      <td>0</td>\n",
              "      <td>0</td>\n",
              "      <td>0</td>\n",
              "      <td>0</td>\n",
              "      <td>0</td>\n",
              "      <td>0</td>\n",
              "      <td>0</td>\n",
              "      <td>0</td>\n",
              "      <td>0</td>\n",
              "      <td>1</td>\n",
              "      <td>0</td>\n",
              "      <td>0</td>\n",
              "      <td>1</td>\n",
              "      <td>0</td>\n",
              "      <td>0</td>\n",
              "      <td>0</td>\n",
              "      <td>0</td>\n",
              "      <td>0</td>\n",
              "      <td>0</td>\n",
              "      <td>0</td>\n",
              "      <td>0</td>\n",
              "      <td>0</td>\n",
              "      <td>0</td>\n",
              "      <td>0</td>\n",
              "      <td>0</td>\n",
              "      <td>0</td>\n",
              "      <td>0</td>\n",
              "      <td>0</td>\n",
              "      <td>...</td>\n",
              "      <td>0</td>\n",
              "      <td>0</td>\n",
              "      <td>0</td>\n",
              "      <td>0</td>\n",
              "      <td>0</td>\n",
              "      <td>0</td>\n",
              "      <td>0</td>\n",
              "      <td>0</td>\n",
              "      <td>0</td>\n",
              "      <td>0</td>\n",
              "      <td>0</td>\n",
              "      <td>0</td>\n",
              "      <td>0</td>\n",
              "      <td>0</td>\n",
              "      <td>0</td>\n",
              "      <td>0</td>\n",
              "      <td>0</td>\n",
              "      <td>0</td>\n",
              "      <td>0</td>\n",
              "      <td>0</td>\n",
              "      <td>0</td>\n",
              "      <td>0</td>\n",
              "      <td>0</td>\n",
              "      <td>0</td>\n",
              "      <td>0</td>\n",
              "      <td>0</td>\n",
              "      <td>0</td>\n",
              "      <td>0</td>\n",
              "      <td>0</td>\n",
              "      <td>0</td>\n",
              "      <td>0</td>\n",
              "      <td>0</td>\n",
              "      <td>0</td>\n",
              "      <td>1</td>\n",
              "      <td>0</td>\n",
              "      <td>0</td>\n",
              "      <td>0</td>\n",
              "      <td>0</td>\n",
              "      <td>0</td>\n",
              "      <td>0</td>\n",
              "    </tr>\n",
              "    <tr>\n",
              "      <th>2</th>\n",
              "      <td>26.38</td>\n",
              "      <td>0</td>\n",
              "      <td>13</td>\n",
              "      <td>13</td>\n",
              "      <td>1</td>\n",
              "      <td>0</td>\n",
              "      <td>85</td>\n",
              "      <td>0</td>\n",
              "      <td>0</td>\n",
              "      <td>1</td>\n",
              "      <td>0</td>\n",
              "      <td>0</td>\n",
              "      <td>0</td>\n",
              "      <td>0</td>\n",
              "      <td>0</td>\n",
              "      <td>0</td>\n",
              "      <td>0</td>\n",
              "      <td>0</td>\n",
              "      <td>1</td>\n",
              "      <td>0</td>\n",
              "      <td>0</td>\n",
              "      <td>1</td>\n",
              "      <td>0</td>\n",
              "      <td>0</td>\n",
              "      <td>1</td>\n",
              "      <td>0</td>\n",
              "      <td>0</td>\n",
              "      <td>0</td>\n",
              "      <td>0</td>\n",
              "      <td>0</td>\n",
              "      <td>0</td>\n",
              "      <td>0</td>\n",
              "      <td>0</td>\n",
              "      <td>0</td>\n",
              "      <td>0</td>\n",
              "      <td>0</td>\n",
              "      <td>0</td>\n",
              "      <td>0</td>\n",
              "      <td>0</td>\n",
              "      <td>0</td>\n",
              "      <td>...</td>\n",
              "      <td>0</td>\n",
              "      <td>0</td>\n",
              "      <td>0</td>\n",
              "      <td>0</td>\n",
              "      <td>0</td>\n",
              "      <td>0</td>\n",
              "      <td>0</td>\n",
              "      <td>0</td>\n",
              "      <td>0</td>\n",
              "      <td>0</td>\n",
              "      <td>0</td>\n",
              "      <td>0</td>\n",
              "      <td>0</td>\n",
              "      <td>0</td>\n",
              "      <td>0</td>\n",
              "      <td>0</td>\n",
              "      <td>0</td>\n",
              "      <td>0</td>\n",
              "      <td>0</td>\n",
              "      <td>0</td>\n",
              "      <td>0</td>\n",
              "      <td>0</td>\n",
              "      <td>0</td>\n",
              "      <td>0</td>\n",
              "      <td>0</td>\n",
              "      <td>0</td>\n",
              "      <td>0</td>\n",
              "      <td>0</td>\n",
              "      <td>0</td>\n",
              "      <td>0</td>\n",
              "      <td>0</td>\n",
              "      <td>0</td>\n",
              "      <td>0</td>\n",
              "      <td>1</td>\n",
              "      <td>0</td>\n",
              "      <td>0</td>\n",
              "      <td>0</td>\n",
              "      <td>0</td>\n",
              "      <td>0</td>\n",
              "      <td>0</td>\n",
              "    </tr>\n",
              "    <tr>\n",
              "      <th>3</th>\n",
              "      <td>0.65</td>\n",
              "      <td>0</td>\n",
              "      <td>4</td>\n",
              "      <td>10</td>\n",
              "      <td>0</td>\n",
              "      <td>0</td>\n",
              "      <td>0</td>\n",
              "      <td>0</td>\n",
              "      <td>1</td>\n",
              "      <td>0</td>\n",
              "      <td>1</td>\n",
              "      <td>0</td>\n",
              "      <td>0</td>\n",
              "      <td>0</td>\n",
              "      <td>0</td>\n",
              "      <td>0</td>\n",
              "      <td>0</td>\n",
              "      <td>0</td>\n",
              "      <td>0</td>\n",
              "      <td>0</td>\n",
              "      <td>0</td>\n",
              "      <td>1</td>\n",
              "      <td>0</td>\n",
              "      <td>0</td>\n",
              "      <td>1</td>\n",
              "      <td>0</td>\n",
              "      <td>0</td>\n",
              "      <td>0</td>\n",
              "      <td>0</td>\n",
              "      <td>0</td>\n",
              "      <td>0</td>\n",
              "      <td>0</td>\n",
              "      <td>0</td>\n",
              "      <td>0</td>\n",
              "      <td>0</td>\n",
              "      <td>0</td>\n",
              "      <td>0</td>\n",
              "      <td>0</td>\n",
              "      <td>0</td>\n",
              "      <td>0</td>\n",
              "      <td>...</td>\n",
              "      <td>0</td>\n",
              "      <td>0</td>\n",
              "      <td>0</td>\n",
              "      <td>0</td>\n",
              "      <td>0</td>\n",
              "      <td>0</td>\n",
              "      <td>0</td>\n",
              "      <td>0</td>\n",
              "      <td>0</td>\n",
              "      <td>0</td>\n",
              "      <td>0</td>\n",
              "      <td>0</td>\n",
              "      <td>0</td>\n",
              "      <td>0</td>\n",
              "      <td>0</td>\n",
              "      <td>0</td>\n",
              "      <td>0</td>\n",
              "      <td>0</td>\n",
              "      <td>0</td>\n",
              "      <td>0</td>\n",
              "      <td>0</td>\n",
              "      <td>0</td>\n",
              "      <td>0</td>\n",
              "      <td>0</td>\n",
              "      <td>0</td>\n",
              "      <td>0</td>\n",
              "      <td>0</td>\n",
              "      <td>0</td>\n",
              "      <td>0</td>\n",
              "      <td>0</td>\n",
              "      <td>0</td>\n",
              "      <td>1</td>\n",
              "      <td>0</td>\n",
              "      <td>0</td>\n",
              "      <td>0</td>\n",
              "      <td>0</td>\n",
              "      <td>0</td>\n",
              "      <td>0</td>\n",
              "      <td>0</td>\n",
              "      <td>0</td>\n",
              "    </tr>\n",
              "    <tr>\n",
              "      <th>4</th>\n",
              "      <td>2.25</td>\n",
              "      <td>0</td>\n",
              "      <td>10</td>\n",
              "      <td>13</td>\n",
              "      <td>0</td>\n",
              "      <td>0</td>\n",
              "      <td>14</td>\n",
              "      <td>0</td>\n",
              "      <td>0</td>\n",
              "      <td>1</td>\n",
              "      <td>0</td>\n",
              "      <td>0</td>\n",
              "      <td>0</td>\n",
              "      <td>0</td>\n",
              "      <td>0</td>\n",
              "      <td>1</td>\n",
              "      <td>0</td>\n",
              "      <td>0</td>\n",
              "      <td>0</td>\n",
              "      <td>0</td>\n",
              "      <td>0</td>\n",
              "      <td>1</td>\n",
              "      <td>0</td>\n",
              "      <td>0</td>\n",
              "      <td>1</td>\n",
              "      <td>0</td>\n",
              "      <td>0</td>\n",
              "      <td>0</td>\n",
              "      <td>0</td>\n",
              "      <td>0</td>\n",
              "      <td>0</td>\n",
              "      <td>0</td>\n",
              "      <td>0</td>\n",
              "      <td>0</td>\n",
              "      <td>0</td>\n",
              "      <td>0</td>\n",
              "      <td>0</td>\n",
              "      <td>0</td>\n",
              "      <td>0</td>\n",
              "      <td>0</td>\n",
              "      <td>...</td>\n",
              "      <td>0</td>\n",
              "      <td>0</td>\n",
              "      <td>0</td>\n",
              "      <td>0</td>\n",
              "      <td>0</td>\n",
              "      <td>0</td>\n",
              "      <td>0</td>\n",
              "      <td>0</td>\n",
              "      <td>0</td>\n",
              "      <td>0</td>\n",
              "      <td>0</td>\n",
              "      <td>0</td>\n",
              "      <td>0</td>\n",
              "      <td>0</td>\n",
              "      <td>0</td>\n",
              "      <td>0</td>\n",
              "      <td>0</td>\n",
              "      <td>0</td>\n",
              "      <td>0</td>\n",
              "      <td>0</td>\n",
              "      <td>0</td>\n",
              "      <td>0</td>\n",
              "      <td>0</td>\n",
              "      <td>0</td>\n",
              "      <td>0</td>\n",
              "      <td>0</td>\n",
              "      <td>0</td>\n",
              "      <td>0</td>\n",
              "      <td>0</td>\n",
              "      <td>0</td>\n",
              "      <td>0</td>\n",
              "      <td>1</td>\n",
              "      <td>0</td>\n",
              "      <td>0</td>\n",
              "      <td>0</td>\n",
              "      <td>0</td>\n",
              "      <td>0</td>\n",
              "      <td>0</td>\n",
              "      <td>0</td>\n",
              "      <td>0</td>\n",
              "    </tr>\n",
              "  </tbody>\n",
              "</table>\n",
              "<p>5 rows × 935 columns</p>\n",
              "</div>"
            ],
            "text/plain": [
              "   transaction_amount_100_usd  ...  first_activated_plan__yearly_20171212\n",
              "0                       26.38  ...                                      0\n",
              "1                        6.73  ...                                      0\n",
              "2                       26.38  ...                                      0\n",
              "3                        0.65  ...                                      0\n",
              "4                        2.25  ...                                      0\n",
              "\n",
              "[5 rows x 935 columns]"
            ]
          },
          "metadata": {
            "tags": []
          },
          "execution_count": 83
        }
      ]
    },
    {
      "cell_type": "code",
      "metadata": {
        "id": "rZO1KS4_OCYA",
        "colab_type": "code",
        "outputId": "d94fe28a-3f56-416f-ef55-4279cfb227f6",
        "colab": {
          "base_uri": "https://localhost:8080/",
          "height": 301
        }
      },
      "source": [
        "sns.distplot(df_with_dummies['transaction_amount_100_usd'])"
      ],
      "execution_count": 0,
      "outputs": [
        {
          "output_type": "execute_result",
          "data": {
            "text/plain": [
              "<matplotlib.axes._subplots.AxesSubplot at 0x7ff3fbefa5f8>"
            ]
          },
          "metadata": {
            "tags": []
          },
          "execution_count": 84
        },
        {
          "output_type": "display_data",
          "data": {
            "image/png": "[encoded data removed]",
            "text/plain": [
              "<Figure size 432x288 with 1 Axes>"
            ]
          },
          "metadata": {
            "tags": []
          }
        }
      ]
    },
    {
      "cell_type": "code",
      "metadata": {
        "id": "MjEQtn-IQhFN",
        "colab_type": "code",
        "outputId": "eefba7bc-20d5-45ac-82f9-85dd0d08c856",
        "colab": {
          "base_uri": "https://localhost:8080/",
          "height": 287
        }
      },
      "source": [
        "df_with_dummies.head()"
      ],
      "execution_count": 0,
      "outputs": [
        {
          "output_type": "execute_result",
          "data": {
            "text/html": [
              "<div>\n",
              "<style scoped>\n",
              "    .dataframe tbody tr th:only-of-type {\n",
              "        vertical-align: middle;\n",
              "    }\n",
              "\n",
              "    .dataframe tbody tr th {\n",
              "        vertical-align: top;\n",
              "    }\n",
              "\n",
              "    .dataframe thead th {\n",
              "        text-align: right;\n",
              "    }\n",
              "</style>\n",
              "<table border=\"1\" class=\"dataframe\">\n",
              "  <thead>\n",
              "    <tr style=\"text-align: right;\">\n",
              "      <th></th>\n",
              "      <th>transaction_amount_100_usd</th>\n",
              "      <th>isMobile</th>\n",
              "      <th>joined_day_pageviews</th>\n",
              "      <th>pageviews_in_first_month</th>\n",
              "      <th>pageviews_in_second_month</th>\n",
              "      <th>pageviews_in_third_month</th>\n",
              "      <th>pageviews_after_third_month</th>\n",
              "      <th>chargeback</th>\n",
              "      <th>payment_method__creditcard</th>\n",
              "      <th>payment_method__debitcard</th>\n",
              "      <th>transaction_currency__ARS</th>\n",
              "      <th>transaction_currency__CLP</th>\n",
              "      <th>transaction_currency__COP</th>\n",
              "      <th>transaction_currency__CRC</th>\n",
              "      <th>transaction_currency__DOP</th>\n",
              "      <th>transaction_currency__EUR</th>\n",
              "      <th>transaction_currency__GTQ</th>\n",
              "      <th>transaction_currency__HNL</th>\n",
              "      <th>transaction_currency__MXN</th>\n",
              "      <th>transaction_currency__PEN</th>\n",
              "      <th>transaction_currency__USD</th>\n",
              "      <th>plan_period__30</th>\n",
              "      <th>plan_period__90</th>\n",
              "      <th>plan_period__360</th>\n",
              "      <th>error_message__APPROVED</th>\n",
              "      <th>error_message__FAILED</th>\n",
              "      <th>error_message__NOT CHECKED BY ACQUIRER</th>\n",
              "      <th>error_message__UNKNOWN</th>\n",
              "      <th>plan_country__AR</th>\n",
              "      <th>plan_country__AU</th>\n",
              "      <th>plan_country__BR</th>\n",
              "      <th>plan_country__CA</th>\n",
              "      <th>plan_country__CH</th>\n",
              "      <th>plan_country__CL</th>\n",
              "      <th>plan_country__CO</th>\n",
              "      <th>plan_country__CR</th>\n",
              "      <th>plan_country__DO</th>\n",
              "      <th>plan_country__EC</th>\n",
              "      <th>plan_country__ES</th>\n",
              "      <th>plan_country__FR</th>\n",
              "      <th>...</th>\n",
              "      <th>city__Villa Maria</th>\n",
              "      <th>city__Villa Mercedes</th>\n",
              "      <th>city__Villa Rica</th>\n",
              "      <th>city__Villa de Alvarez</th>\n",
              "      <th>city__Villahermosa</th>\n",
              "      <th>city__Villanova</th>\n",
              "      <th>city__Villavicencio</th>\n",
              "      <th>city__Villaviciosa de Odon</th>\n",
              "      <th>city__Virrey del Pino</th>\n",
              "      <th>city__Washington</th>\n",
              "      <th>city__West Babylon</th>\n",
              "      <th>city__West New York</th>\n",
              "      <th>city__West Valley City</th>\n",
              "      <th>city__West Warwick</th>\n",
              "      <th>city__Weston</th>\n",
              "      <th>city__Wilde</th>\n",
              "      <th>city__Wilmington</th>\n",
              "      <th>city__Worthington</th>\n",
              "      <th>city__Xalapa</th>\n",
              "      <th>city__Xicotepec de Juarez</th>\n",
              "      <th>city__Xonacatlan</th>\n",
              "      <th>city__Yerevan</th>\n",
              "      <th>city__Yopal</th>\n",
              "      <th>city__Yuzhno-Sakhalinsk</th>\n",
              "      <th>city__Zacatecas</th>\n",
              "      <th>city__Zamora</th>\n",
              "      <th>city__Zapopan</th>\n",
              "      <th>city__Zaragoza</th>\n",
              "      <th>city__Zarate</th>\n",
              "      <th>city__Zumpango</th>\n",
              "      <th>first_activated_plan__2for2_20170802</th>\n",
              "      <th>first_activated_plan__2for2_20171212</th>\n",
              "      <th>first_activated_plan__monthly_20170802</th>\n",
              "      <th>first_activated_plan__monthly_20171212</th>\n",
              "      <th>first_activated_plan__monthly_20181213</th>\n",
              "      <th>first_activated_plan__quarterly_20171212</th>\n",
              "      <th>first_activated_plan__quarterly_20181213</th>\n",
              "      <th>first_activated_plan__retention_7free_monthly_20171213</th>\n",
              "      <th>first_activated_plan__retention_995monthly_20171213</th>\n",
              "      <th>first_activated_plan__yearly_20171212</th>\n",
              "    </tr>\n",
              "  </thead>\n",
              "  <tbody>\n",
              "    <tr>\n",
              "      <th>0</th>\n",
              "      <td>26.38</td>\n",
              "      <td>1</td>\n",
              "      <td>7</td>\n",
              "      <td>23</td>\n",
              "      <td>0</td>\n",
              "      <td>0</td>\n",
              "      <td>0</td>\n",
              "      <td>0</td>\n",
              "      <td>0</td>\n",
              "      <td>1</td>\n",
              "      <td>0</td>\n",
              "      <td>0</td>\n",
              "      <td>0</td>\n",
              "      <td>0</td>\n",
              "      <td>0</td>\n",
              "      <td>0</td>\n",
              "      <td>0</td>\n",
              "      <td>0</td>\n",
              "      <td>1</td>\n",
              "      <td>0</td>\n",
              "      <td>0</td>\n",
              "      <td>1</td>\n",
              "      <td>0</td>\n",
              "      <td>0</td>\n",
              "      <td>1</td>\n",
              "      <td>0</td>\n",
              "      <td>0</td>\n",
              "      <td>0</td>\n",
              "      <td>0</td>\n",
              "      <td>0</td>\n",
              "      <td>0</td>\n",
              "      <td>0</td>\n",
              "      <td>0</td>\n",
              "      <td>0</td>\n",
              "      <td>0</td>\n",
              "      <td>0</td>\n",
              "      <td>0</td>\n",
              "      <td>0</td>\n",
              "      <td>0</td>\n",
              "      <td>0</td>\n",
              "      <td>...</td>\n",
              "      <td>0</td>\n",
              "      <td>0</td>\n",
              "      <td>0</td>\n",
              "      <td>0</td>\n",
              "      <td>0</td>\n",
              "      <td>0</td>\n",
              "      <td>0</td>\n",
              "      <td>0</td>\n",
              "      <td>0</td>\n",
              "      <td>0</td>\n",
              "      <td>0</td>\n",
              "      <td>0</td>\n",
              "      <td>0</td>\n",
              "      <td>0</td>\n",
              "      <td>0</td>\n",
              "      <td>0</td>\n",
              "      <td>0</td>\n",
              "      <td>0</td>\n",
              "      <td>0</td>\n",
              "      <td>0</td>\n",
              "      <td>0</td>\n",
              "      <td>0</td>\n",
              "      <td>0</td>\n",
              "      <td>0</td>\n",
              "      <td>0</td>\n",
              "      <td>0</td>\n",
              "      <td>0</td>\n",
              "      <td>0</td>\n",
              "      <td>0</td>\n",
              "      <td>0</td>\n",
              "      <td>0</td>\n",
              "      <td>0</td>\n",
              "      <td>0</td>\n",
              "      <td>1</td>\n",
              "      <td>0</td>\n",
              "      <td>0</td>\n",
              "      <td>0</td>\n",
              "      <td>0</td>\n",
              "      <td>0</td>\n",
              "      <td>0</td>\n",
              "    </tr>\n",
              "    <tr>\n",
              "      <th>1</th>\n",
              "      <td>6.73</td>\n",
              "      <td>1</td>\n",
              "      <td>20</td>\n",
              "      <td>26</td>\n",
              "      <td>0</td>\n",
              "      <td>0</td>\n",
              "      <td>0</td>\n",
              "      <td>0</td>\n",
              "      <td>1</td>\n",
              "      <td>0</td>\n",
              "      <td>1</td>\n",
              "      <td>0</td>\n",
              "      <td>0</td>\n",
              "      <td>0</td>\n",
              "      <td>0</td>\n",
              "      <td>0</td>\n",
              "      <td>0</td>\n",
              "      <td>0</td>\n",
              "      <td>0</td>\n",
              "      <td>0</td>\n",
              "      <td>0</td>\n",
              "      <td>1</td>\n",
              "      <td>0</td>\n",
              "      <td>0</td>\n",
              "      <td>1</td>\n",
              "      <td>0</td>\n",
              "      <td>0</td>\n",
              "      <td>0</td>\n",
              "      <td>0</td>\n",
              "      <td>0</td>\n",
              "      <td>0</td>\n",
              "      <td>0</td>\n",
              "      <td>0</td>\n",
              "      <td>0</td>\n",
              "      <td>0</td>\n",
              "      <td>0</td>\n",
              "      <td>0</td>\n",
              "      <td>0</td>\n",
              "      <td>0</td>\n",
              "      <td>0</td>\n",
              "      <td>...</td>\n",
              "      <td>0</td>\n",
              "      <td>0</td>\n",
              "      <td>0</td>\n",
              "      <td>0</td>\n",
              "      <td>0</td>\n",
              "      <td>0</td>\n",
              "      <td>0</td>\n",
              "      <td>0</td>\n",
              "      <td>0</td>\n",
              "      <td>0</td>\n",
              "      <td>0</td>\n",
              "      <td>0</td>\n",
              "      <td>0</td>\n",
              "      <td>0</td>\n",
              "      <td>0</td>\n",
              "      <td>0</td>\n",
              "      <td>0</td>\n",
              "      <td>0</td>\n",
              "      <td>0</td>\n",
              "      <td>0</td>\n",
              "      <td>0</td>\n",
              "      <td>0</td>\n",
              "      <td>0</td>\n",
              "      <td>0</td>\n",
              "      <td>0</td>\n",
              "      <td>0</td>\n",
              "      <td>0</td>\n",
              "      <td>0</td>\n",
              "      <td>0</td>\n",
              "      <td>0</td>\n",
              "      <td>0</td>\n",
              "      <td>0</td>\n",
              "      <td>0</td>\n",
              "      <td>1</td>\n",
              "      <td>0</td>\n",
              "      <td>0</td>\n",
              "      <td>0</td>\n",
              "      <td>0</td>\n",
              "      <td>0</td>\n",
              "      <td>0</td>\n",
              "    </tr>\n",
              "    <tr>\n",
              "      <th>2</th>\n",
              "      <td>26.38</td>\n",
              "      <td>0</td>\n",
              "      <td>13</td>\n",
              "      <td>13</td>\n",
              "      <td>1</td>\n",
              "      <td>0</td>\n",
              "      <td>85</td>\n",
              "      <td>0</td>\n",
              "      <td>0</td>\n",
              "      <td>1</td>\n",
              "      <td>0</td>\n",
              "      <td>0</td>\n",
              "      <td>0</td>\n",
              "      <td>0</td>\n",
              "      <td>0</td>\n",
              "      <td>0</td>\n",
              "      <td>0</td>\n",
              "      <td>0</td>\n",
              "      <td>1</td>\n",
              "      <td>0</td>\n",
              "      <td>0</td>\n",
              "      <td>1</td>\n",
              "      <td>0</td>\n",
              "      <td>0</td>\n",
              "      <td>1</td>\n",
              "      <td>0</td>\n",
              "      <td>0</td>\n",
              "      <td>0</td>\n",
              "      <td>0</td>\n",
              "      <td>0</td>\n",
              "      <td>0</td>\n",
              "      <td>0</td>\n",
              "      <td>0</td>\n",
              "      <td>0</td>\n",
              "      <td>0</td>\n",
              "      <td>0</td>\n",
              "      <td>0</td>\n",
              "      <td>0</td>\n",
              "      <td>0</td>\n",
              "      <td>0</td>\n",
              "      <td>...</td>\n",
              "      <td>0</td>\n",
              "      <td>0</td>\n",
              "      <td>0</td>\n",
              "      <td>0</td>\n",
              "      <td>0</td>\n",
              "      <td>0</td>\n",
              "      <td>0</td>\n",
              "      <td>0</td>\n",
              "      <td>0</td>\n",
              "      <td>0</td>\n",
              "      <td>0</td>\n",
              "      <td>0</td>\n",
              "      <td>0</td>\n",
              "      <td>0</td>\n",
              "      <td>0</td>\n",
              "      <td>0</td>\n",
              "      <td>0</td>\n",
              "      <td>0</td>\n",
              "      <td>0</td>\n",
              "      <td>0</td>\n",
              "      <td>0</td>\n",
              "      <td>0</td>\n",
              "      <td>0</td>\n",
              "      <td>0</td>\n",
              "      <td>0</td>\n",
              "      <td>0</td>\n",
              "      <td>0</td>\n",
              "      <td>0</td>\n",
              "      <td>0</td>\n",
              "      <td>0</td>\n",
              "      <td>0</td>\n",
              "      <td>0</td>\n",
              "      <td>0</td>\n",
              "      <td>1</td>\n",
              "      <td>0</td>\n",
              "      <td>0</td>\n",
              "      <td>0</td>\n",
              "      <td>0</td>\n",
              "      <td>0</td>\n",
              "      <td>0</td>\n",
              "    </tr>\n",
              "    <tr>\n",
              "      <th>3</th>\n",
              "      <td>0.65</td>\n",
              "      <td>0</td>\n",
              "      <td>4</td>\n",
              "      <td>10</td>\n",
              "      <td>0</td>\n",
              "      <td>0</td>\n",
              "      <td>0</td>\n",
              "      <td>0</td>\n",
              "      <td>1</td>\n",
              "      <td>0</td>\n",
              "      <td>1</td>\n",
              "      <td>0</td>\n",
              "      <td>0</td>\n",
              "      <td>0</td>\n",
              "      <td>0</td>\n",
              "      <td>0</td>\n",
              "      <td>0</td>\n",
              "      <td>0</td>\n",
              "      <td>0</td>\n",
              "      <td>0</td>\n",
              "      <td>0</td>\n",
              "      <td>1</td>\n",
              "      <td>0</td>\n",
              "      <td>0</td>\n",
              "      <td>1</td>\n",
              "      <td>0</td>\n",
              "      <td>0</td>\n",
              "      <td>0</td>\n",
              "      <td>0</td>\n",
              "      <td>0</td>\n",
              "      <td>0</td>\n",
              "      <td>0</td>\n",
              "      <td>0</td>\n",
              "      <td>0</td>\n",
              "      <td>0</td>\n",
              "      <td>0</td>\n",
              "      <td>0</td>\n",
              "      <td>0</td>\n",
              "      <td>0</td>\n",
              "      <td>0</td>\n",
              "      <td>...</td>\n",
              "      <td>0</td>\n",
              "      <td>0</td>\n",
              "      <td>0</td>\n",
              "      <td>0</td>\n",
              "      <td>0</td>\n",
              "      <td>0</td>\n",
              "      <td>0</td>\n",
              "      <td>0</td>\n",
              "      <td>0</td>\n",
              "      <td>0</td>\n",
              "      <td>0</td>\n",
              "      <td>0</td>\n",
              "      <td>0</td>\n",
              "      <td>0</td>\n",
              "      <td>0</td>\n",
              "      <td>0</td>\n",
              "      <td>0</td>\n",
              "      <td>0</td>\n",
              "      <td>0</td>\n",
              "      <td>0</td>\n",
              "      <td>0</td>\n",
              "      <td>0</td>\n",
              "      <td>0</td>\n",
              "      <td>0</td>\n",
              "      <td>0</td>\n",
              "      <td>0</td>\n",
              "      <td>0</td>\n",
              "      <td>0</td>\n",
              "      <td>0</td>\n",
              "      <td>0</td>\n",
              "      <td>0</td>\n",
              "      <td>1</td>\n",
              "      <td>0</td>\n",
              "      <td>0</td>\n",
              "      <td>0</td>\n",
              "      <td>0</td>\n",
              "      <td>0</td>\n",
              "      <td>0</td>\n",
              "      <td>0</td>\n",
              "      <td>0</td>\n",
              "    </tr>\n",
              "    <tr>\n",
              "      <th>4</th>\n",
              "      <td>2.25</td>\n",
              "      <td>0</td>\n",
              "      <td>10</td>\n",
              "      <td>13</td>\n",
              "      <td>0</td>\n",
              "      <td>0</td>\n",
              "      <td>14</td>\n",
              "      <td>0</td>\n",
              "      <td>0</td>\n",
              "      <td>1</td>\n",
              "      <td>0</td>\n",
              "      <td>0</td>\n",
              "      <td>0</td>\n",
              "      <td>0</td>\n",
              "      <td>0</td>\n",
              "      <td>1</td>\n",
              "      <td>0</td>\n",
              "      <td>0</td>\n",
              "      <td>0</td>\n",
              "      <td>0</td>\n",
              "      <td>0</td>\n",
              "      <td>1</td>\n",
              "      <td>0</td>\n",
              "      <td>0</td>\n",
              "      <td>1</td>\n",
              "      <td>0</td>\n",
              "      <td>0</td>\n",
              "      <td>0</td>\n",
              "      <td>0</td>\n",
              "      <td>0</td>\n",
              "      <td>0</td>\n",
              "      <td>0</td>\n",
              "      <td>0</td>\n",
              "      <td>0</td>\n",
              "      <td>0</td>\n",
              "      <td>0</td>\n",
              "      <td>0</td>\n",
              "      <td>0</td>\n",
              "      <td>0</td>\n",
              "      <td>0</td>\n",
              "      <td>...</td>\n",
              "      <td>0</td>\n",
              "      <td>0</td>\n",
              "      <td>0</td>\n",
              "      <td>0</td>\n",
              "      <td>0</td>\n",
              "      <td>0</td>\n",
              "      <td>0</td>\n",
              "      <td>0</td>\n",
              "      <td>0</td>\n",
              "      <td>0</td>\n",
              "      <td>0</td>\n",
              "      <td>0</td>\n",
              "      <td>0</td>\n",
              "      <td>0</td>\n",
              "      <td>0</td>\n",
              "      <td>0</td>\n",
              "      <td>0</td>\n",
              "      <td>0</td>\n",
              "      <td>0</td>\n",
              "      <td>0</td>\n",
              "      <td>0</td>\n",
              "      <td>0</td>\n",
              "      <td>0</td>\n",
              "      <td>0</td>\n",
              "      <td>0</td>\n",
              "      <td>0</td>\n",
              "      <td>0</td>\n",
              "      <td>0</td>\n",
              "      <td>0</td>\n",
              "      <td>0</td>\n",
              "      <td>0</td>\n",
              "      <td>1</td>\n",
              "      <td>0</td>\n",
              "      <td>0</td>\n",
              "      <td>0</td>\n",
              "      <td>0</td>\n",
              "      <td>0</td>\n",
              "      <td>0</td>\n",
              "      <td>0</td>\n",
              "      <td>0</td>\n",
              "    </tr>\n",
              "  </tbody>\n",
              "</table>\n",
              "<p>5 rows × 935 columns</p>\n",
              "</div>"
            ],
            "text/plain": [
              "   transaction_amount_100_usd  ...  first_activated_plan__yearly_20171212\n",
              "0                       26.38  ...                                      0\n",
              "1                        6.73  ...                                      0\n",
              "2                       26.38  ...                                      0\n",
              "3                        0.65  ...                                      0\n",
              "4                        2.25  ...                                      0\n",
              "\n",
              "[5 rows x 935 columns]"
            ]
          },
          "metadata": {
            "tags": []
          },
          "execution_count": 85
        }
      ]
    },
    {
      "cell_type": "markdown",
      "metadata": {
        "id": "TncQIO0O6lpX",
        "colab_type": "text"
      },
      "source": [
        "#Lets build the model"
      ]
    },
    {
      "cell_type": "code",
      "metadata": {
        "id": "JrbNMvJYQdLU",
        "colab_type": "code",
        "colab": {}
      },
      "source": [
        "from sklearn.model_selection import train_test_split\n",
        "from sklearn.linear_model import LogisticRegression\n",
        "from sklearn.metrics import classification_report\n",
        "from sklearn.metrics import confusion_matrix,accuracy_score,f1_score,recall_score\n",
        " "
      ],
      "execution_count": 0,
      "outputs": []
    },
    {
      "cell_type": "code",
      "metadata": {
        "id": "o7QVKkaCQPEL",
        "colab_type": "code",
        "colab": {}
      },
      "source": [
        "x = df_with_dummies.drop('chargeback',axis=1)\n",
        "y= df_with_dummies['chargeback']"
      ],
      "execution_count": 0,
      "outputs": []
    },
    {
      "cell_type": "code",
      "metadata": {
        "id": "zWNK3NVQQx6-",
        "colab_type": "code",
        "colab": {}
      },
      "source": [
        "x_train,x_test,y_train,y_test = train_test_split(x,y,test_size=0.2,random_state=1)"
      ],
      "execution_count": 0,
      "outputs": []
    },
    {
      "cell_type": "code",
      "metadata": {
        "id": "nEcnj_3F4yko",
        "colab_type": "code",
        "outputId": "071241fc-afb5-4365-e0c1-a337da225dc4",
        "colab": {
          "base_uri": "https://localhost:8080/",
          "height": 156
        }
      },
      "source": [
        "logmodel = LogisticRegression()\n",
        "logmodel.fit(x_train,y_train)"
      ],
      "execution_count": 0,
      "outputs": [
        {
          "output_type": "stream",
          "text": [
            "/usr/local/lib/python3.6/dist-packages/sklearn/linear_model/logistic.py:432: FutureWarning: Default solver will be changed to 'lbfgs' in 0.22. Specify a solver to silence this warning.\n",
            "  FutureWarning)\n"
          ],
          "name": "stderr"
        },
        {
          "output_type": "execute_result",
          "data": {
            "text/plain": [
              "LogisticRegression(C=1.0, class_weight=None, dual=False, fit_intercept=True,\n",
              "                   intercept_scaling=1, l1_ratio=None, max_iter=100,\n",
              "                   multi_class='warn', n_jobs=None, penalty='l2',\n",
              "                   random_state=None, solver='warn', tol=0.0001, verbose=0,\n",
              "                   warm_start=False)"
            ]
          },
          "metadata": {
            "tags": []
          },
          "execution_count": 89
        }
      ]
    },
    {
      "cell_type": "code",
      "metadata": {
        "id": "p-hyG7Uw5IXE",
        "colab_type": "code",
        "colab": {}
      },
      "source": [
        "predictions = logmodel.predict(x_test)"
      ],
      "execution_count": 0,
      "outputs": []
    },
    {
      "cell_type": "code",
      "metadata": {
        "id": "547M7PP4i8Zr",
        "colab_type": "code",
        "outputId": "3a6e20a9-1d2d-49fa-c95e-fc78b2d50aa9",
        "colab": {
          "base_uri": "https://localhost:8080/",
          "height": 224
        }
      },
      "source": [
        "print(classification_report(y_test,predictions))"
      ],
      "execution_count": 0,
      "outputs": [
        {
          "output_type": "stream",
          "text": [
            "              precision    recall  f1-score   support\n",
            "\n",
            "           0       0.98      1.00      0.99      2303\n",
            "           1       0.00      0.00      0.00        47\n",
            "\n",
            "    accuracy                           0.98      2350\n",
            "   macro avg       0.49      0.50      0.49      2350\n",
            "weighted avg       0.96      0.98      0.97      2350\n",
            "\n"
          ],
          "name": "stdout"
        },
        {
          "output_type": "stream",
          "text": [
            "/usr/local/lib/python3.6/dist-packages/sklearn/metrics/classification.py:1437: UndefinedMetricWarning: Precision and F-score are ill-defined and being set to 0.0 in labels with no predicted samples.\n",
            "  'precision', 'predicted', average, warn_for)\n"
          ],
          "name": "stderr"
        }
      ]
    },
    {
      "cell_type": "code",
      "metadata": {
        "id": "-xtVAOpq-SWx",
        "colab_type": "code",
        "outputId": "81d76bdd-d7ea-4012-e8ec-7d0af8521b6a",
        "colab": {
          "base_uri": "https://localhost:8080/",
          "height": 122
        }
      },
      "source": [
        "print(\"Accuracy is: \",accuracy_score(y_test,predictions))\n",
        "print(\"f1 score for logistic model is: \",f1_score(y_test, predictions))\n",
        "print(\"recall score for logistic model is: \",f1_score(y_test, predictions))"
      ],
      "execution_count": 0,
      "outputs": [
        {
          "output_type": "stream",
          "text": [
            "Accuracy is:  0.98\n",
            "f1 score for logistic model is:  0.0\n",
            "recall score for logistic model is:  0.0\n"
          ],
          "name": "stdout"
        },
        {
          "output_type": "stream",
          "text": [
            "/usr/local/lib/python3.6/dist-packages/sklearn/metrics/classification.py:1437: UndefinedMetricWarning: F-score is ill-defined and being set to 0.0 due to no predicted samples.\n",
            "  'precision', 'predicted', average, warn_for)\n"
          ],
          "name": "stderr"
        }
      ]
    },
    {
      "cell_type": "code",
      "metadata": {
        "id": "nGDd3J9N6dBx",
        "colab_type": "code",
        "outputId": "3c958cc8-343a-453e-fead-e1e4911c17dc",
        "colab": {
          "base_uri": "https://localhost:8080/",
          "height": 34
        }
      },
      "source": [
        "df_with_dummies.chargeback.value_counts()[0]/len(df_with_dummies)"
      ],
      "execution_count": 0,
      "outputs": [
        {
          "output_type": "execute_result",
          "data": {
            "text/plain": [
              "0.9808510638297873"
            ]
          },
          "metadata": {
            "tags": []
          },
          "execution_count": 93
        }
      ]
    },
    {
      "cell_type": "markdown",
      "metadata": {
        "id": "JlmkLJgi_nfC",
        "colab_type": "text"
      },
      "source": [
        "**Random Forest**"
      ]
    },
    {
      "cell_type": "code",
      "metadata": {
        "id": "vKjM2o03hiyI",
        "colab_type": "code",
        "outputId": "716df7e0-c45c-4c09-ad2a-f61a7cf3e7b6",
        "colab": {
          "base_uri": "https://localhost:8080/",
          "height": 68
        }
      },
      "source": [
        "from sklearn.ensemble import RandomForestClassifier\n",
        "\n",
        "# train model\n",
        "rfc = RandomForestClassifier(n_estimators=10).fit(x_train, y_train)\n",
        "\n",
        "# predict on test set\n",
        "y_pred = rfc.predict(x_test)\n",
        "\n",
        "print(\"Accuracy is: \",accuracy_score(y_test, y_pred))\n",
        "\n",
        "\n",
        "#print(classification_report(y_test,y_pred))\n",
        "\n",
        "print(\"f1 score is: \",f1_score(y_test,y_pred))\n",
        "print(\"recall score is: \",recall_score(y_test,y_pred))\n",
        "\n"
      ],
      "execution_count": 0,
      "outputs": [
        {
          "output_type": "stream",
          "text": [
            "Accuracy is:  0.9817021276595744\n",
            "f1 score is:  0.1568627450980392\n",
            "recall score is:  0.0851063829787234\n"
          ],
          "name": "stdout"
        }
      ]
    },
    {
      "cell_type": "markdown",
      "metadata": {
        "id": "J4dizXU7jkWR",
        "colab_type": "text"
      },
      "source": [
        "**Lets do Oversampling(upsample) and see if it works:**"
      ]
    },
    {
      "cell_type": "code",
      "metadata": {
        "id": "jfC3OULTjq_8",
        "colab_type": "code",
        "outputId": "90d4fe47-ae88-4fed-ecc8-a4e3c5c985f3",
        "colab": {
          "base_uri": "https://localhost:8080/",
          "height": 68
        }
      },
      "source": [
        "from sklearn.utils import resample\n",
        "\n",
        "# concatenate our training data back together\n",
        "X = pd.concat([x_train, y_train], axis=1)\n",
        "\n",
        "# separate minority and majority classes\n",
        "not_chargeback = X[X.chargeback==0]\n",
        "chargeback = X[X.chargeback==1]\n",
        "\n",
        "# upsample minority\n",
        "chargeback_upsampled = resample(chargeback,\n",
        "                          replace=True, # sample with replacement\n",
        "                          n_samples=len(not_chargeback), # match number in majority class\n",
        "                          random_state=27) # reproducible results\n",
        "\n",
        "# combine majority and upsampled minority\n",
        "upsampled = pd.concat([not_chargeback, chargeback_upsampled])\n",
        "\n",
        "# check new class counts\n",
        "upsampled.chargeback.value_counts()"
      ],
      "execution_count": 0,
      "outputs": [
        {
          "output_type": "execute_result",
          "data": {
            "text/plain": [
              "1    9222\n",
              "0    9222\n",
              "Name: chargeback, dtype: int64"
            ]
          },
          "metadata": {
            "tags": []
          },
          "execution_count": 95
        }
      ]
    },
    {
      "cell_type": "markdown",
      "metadata": {
        "id": "26S3Zn3ckpXj",
        "colab_type": "text"
      },
      "source": [
        "**After resampling we have an equal ratio of data points for each class! Let’s try our logistic regression again with the balanced training data.**"
      ]
    },
    {
      "cell_type": "code",
      "metadata": {
        "id": "GI3G9lewkff3",
        "colab_type": "code",
        "outputId": "d6eb08be-b409-4e24-ca0b-188683ba6e91",
        "colab": {
          "base_uri": "https://localhost:8080/",
          "height": 170
        }
      },
      "source": [
        "# trying logistic regression again with the balanced dataset\n",
        "y_train = upsampled.chargeback\n",
        "x_train = upsampled.drop('chargeback', axis=1)\n",
        "\n",
        "upsampled = LogisticRegression(solver='liblinear').fit(x_train, y_train)\n",
        "\n",
        "upsampled_pred = upsampled.predict(x_test)\n",
        "\n",
        "print(classification_report(y_test,upsampled_pred))\n"
      ],
      "execution_count": 0,
      "outputs": [
        {
          "output_type": "stream",
          "text": [
            "              precision    recall  f1-score   support\n",
            "\n",
            "           0       1.00      0.81      0.89      2303\n",
            "           1       0.08      0.85      0.15        47\n",
            "\n",
            "    accuracy                           0.81      2350\n",
            "   macro avg       0.54      0.83      0.52      2350\n",
            "weighted avg       0.98      0.81      0.88      2350\n",
            "\n"
          ],
          "name": "stdout"
        }
      ]
    },
    {
      "cell_type": "code",
      "metadata": {
        "id": "U6RNjpcGAqk2",
        "colab_type": "code",
        "outputId": "56988811-53ed-4e45-e9c2-3b4dace14352",
        "colab": {
          "base_uri": "https://localhost:8080/",
          "height": 68
        }
      },
      "source": [
        "print(\"Accuracy is: \",accuracy_score(y_test, upsampled_pred))\n",
        "print(\"f1 score is: \",f1_score(y_test,upsampled_pred))\n",
        "print(\"recall score is: \",recall_score(y_test,upsampled_pred))\n"
      ],
      "execution_count": 0,
      "outputs": [
        {
          "output_type": "stream",
          "text": [
            "Accuracy is:  0.8097872340425532\n",
            "f1 score is:  0.15180265654648953\n",
            "recall score is:  0.851063829787234\n"
          ],
          "name": "stdout"
        }
      ]
    },
    {
      "cell_type": "markdown",
      "metadata": {
        "id": "4MEr13jJBBeM",
        "colab_type": "text"
      },
      "source": [
        "**Lets do Undersampling(downsample) and see if it works:**"
      ]
    },
    {
      "cell_type": "code",
      "metadata": {
        "id": "qgfvnTwDUIey",
        "colab_type": "code",
        "outputId": "41715ebd-7873-4fd2-b6d6-4f37242f6b8a",
        "colab": {
          "base_uri": "https://localhost:8080/",
          "height": 68
        }
      },
      "source": [
        "# still using our separated classes fraud and not_fraud from above\n",
        "\n",
        "# downsample majority\n",
        "not_chargeback_downsampled = resample(not_chargeback,\n",
        "                                replace = False, # sample without replacement\n",
        "                                n_samples = len(chargeback), # match minority n\n",
        "                                random_state = 27) # reproducible results\n",
        "\n",
        "# combine minority and downsampled majority\n",
        "downsampled = pd.concat([not_chargeback_downsampled, chargeback])\n",
        "\n",
        "# checking counts\n",
        "downsampled.chargeback.value_counts()\n"
      ],
      "execution_count": 0,
      "outputs": [
        {
          "output_type": "execute_result",
          "data": {
            "text/plain": [
              "1    178\n",
              "0    178\n",
              "Name: chargeback, dtype: int64"
            ]
          },
          "metadata": {
            "tags": []
          },
          "execution_count": 98
        }
      ]
    },
    {
      "cell_type": "code",
      "metadata": {
        "id": "vCNgRZ0HVmDz",
        "colab_type": "code",
        "outputId": "7767602b-cdcf-4b88-e9b9-8240b9c98492",
        "colab": {
          "base_uri": "https://localhost:8080/",
          "height": 68
        }
      },
      "source": [
        "\n",
        "# trying logistic regression again with the undersampled dataset\n",
        "\n",
        "y_train = downsampled.chargeback\n",
        "x_train = downsampled.drop('chargeback', axis=1)\n",
        "\n",
        "undersampled = LogisticRegression(solver='liblinear').fit(x_train, y_train)\n",
        "\n",
        "undersampled_pred = undersampled.predict(x_test)\n",
        "\n",
        "# Checking accuracy\n",
        "print(\"accuracy is: \",accuracy_score(y_test, undersampled_pred))\n",
        "\n",
        "\n",
        "# f1 score\n",
        "print(\"f1 score is: \",f1_score(y_test, undersampled_pred))\n",
        "\n",
        "\n",
        "print(\"recall score is: \",recall_score(y_test, undersampled_pred))\n"
      ],
      "execution_count": 0,
      "outputs": [
        {
          "output_type": "stream",
          "text": [
            "accuracy is:  0.6502127659574468\n",
            "f1 score is:  0.09271523178807947\n",
            "recall score is:  0.8936170212765957\n"
          ],
          "name": "stdout"
        }
      ]
    },
    {
      "cell_type": "markdown",
      "metadata": {
        "id": "BpOoiHqVBroa",
        "colab_type": "text"
      },
      "source": [
        "Undersampling underperformed oversampling in this case. Let’s try one more method for handling imbalanced data."
      ]
    },
    {
      "cell_type": "markdown",
      "metadata": {
        "id": "y89ZlWPKB-k4",
        "colab_type": "text"
      },
      "source": [
        "**Lets try SMOTE or Synthetic Minority Oversampling Technique:**"
      ]
    },
    {
      "cell_type": "code",
      "metadata": {
        "id": "pfYtlDb1WCQL",
        "colab_type": "code",
        "outputId": "5a5b4cf0-bb46-4e20-d10e-e4633832d0b5",
        "colab": {
          "base_uri": "https://localhost:8080/",
          "height": 71
        }
      },
      "source": [
        "from imblearn.over_sampling import SMOTE\n",
        "\n",
        "# Separate input features and target\n",
        "x = df_with_dummies.drop('chargeback',axis=1)\n",
        "y= df_with_dummies['chargeback']\n",
        "\n",
        "# setting up testing and training sets\n",
        "x_train,x_test,y_train,y_test = train_test_split(x,y,test_size=0.2,random_state=1)\n",
        "\n",
        "sm = SMOTE(random_state=1, ratio=1.0)\n",
        "x_train, y_train = sm.fit_sample(x_train, y_train)"
      ],
      "execution_count": 0,
      "outputs": [
        {
          "output_type": "stream",
          "text": [
            "/usr/local/lib/python3.6/dist-packages/sklearn/externals/six.py:31: DeprecationWarning: The module is deprecated in version 0.21 and will be removed in version 0.23 since we've dropped support for Python 2.7. Please rely on the official version of six (https://pypi.org/project/six/).\n",
            "  \"(https://pypi.org/project/six/).\", DeprecationWarning)\n"
          ],
          "name": "stderr"
        }
      ]
    },
    {
      "cell_type": "code",
      "metadata": {
        "id": "_l2c8R0NCplE",
        "colab_type": "code",
        "outputId": "90525ffd-3bb5-4954-dff9-70ab977f96ea",
        "colab": {
          "base_uri": "https://localhost:8080/",
          "height": 68
        }
      },
      "source": [
        "smote = LogisticRegression(solver='liblinear').fit(x_train, y_train)\n",
        "\n",
        "smote_pred = smote.predict(x_test)\n",
        "\n",
        "# Checking accuracy\n",
        "print(\"accuracy is: \",accuracy_score(y_test, smote_pred))\n",
        "\n",
        "\n",
        "# f1 score\n",
        "print(\"f1 score is: \",f1_score(y_test, smote_pred))\n",
        "\n",
        "\n",
        "print(\"recall score is: \",recall_score(y_test, smote_pred))"
      ],
      "execution_count": 0,
      "outputs": [
        {
          "output_type": "stream",
          "text": [
            "accuracy is:  0.831063829787234\n",
            "f1 score is:  0.15711252653927812\n",
            "recall score is:  0.7872340425531915\n"
          ],
          "name": "stdout"
        }
      ]
    },
    {
      "cell_type": "code",
      "metadata": {
        "id": "4LAE_J4eDvmS",
        "colab_type": "code",
        "outputId": "c8aeddcc-e2d1-4586-dfcd-bc69c5f41cc7",
        "colab": {
          "base_uri": "https://localhost:8080/",
          "height": 269
        }
      },
      "source": [
        "sns.heatmap(pd.DataFrame(confusion_matrix(y_test,smote_pred)))\n",
        "plt.show()"
      ],
      "execution_count": 0,
      "outputs": [
        {
          "output_type": "display_data",
          "data": {
            "image/png": "[encoded data removed]",
            "text/plain": [
              "<Figure size 432x288 with 2 Axes>"
            ]
          },
          "metadata": {
            "tags": []
          }
        }
      ]
    },
    {
      "cell_type": "markdown",
      "metadata": {
        "id": "mBfeo5-VXATa",
        "colab_type": "text"
      },
      "source": [
        "**Decesion Tree Classifier**"
      ]
    },
    {
      "cell_type": "code",
      "metadata": {
        "id": "HYoUvkZwEdOX",
        "colab_type": "code",
        "outputId": "96a770aa-d1f3-4a4b-c5ec-1890be729ed7",
        "colab": {
          "base_uri": "https://localhost:8080/",
          "height": 68
        }
      },
      "source": [
        "from sklearn.tree import DecisionTreeClassifier\n",
        "\n",
        "dt = DecisionTreeClassifier().fit(x_train, y_train)\n",
        "\n",
        "dt_pred = dt.predict(x_test)\n",
        "\n",
        "# Checking accuracy\n",
        "print(\"accuracy is: \",accuracy_score(y_test, dt_pred))\n",
        "\n",
        "\n",
        "# f1 score\n",
        "print(\"f1 score is: \",f1_score(y_test, dt_pred))\n",
        "\n",
        "\n",
        "print(\"recall score is: \",recall_score(y_test, dt_pred))"
      ],
      "execution_count": 0,
      "outputs": [
        {
          "output_type": "stream",
          "text": [
            "accuracy is:  0.9770212765957447\n",
            "f1 score is:  0.2894736842105263\n",
            "recall score is:  0.23404255319148937\n"
          ],
          "name": "stdout"
        }
      ]
    },
    {
      "cell_type": "markdown",
      "metadata": {
        "id": "-g5lZ2NQJAJC",
        "colab_type": "text"
      },
      "source": [
        "Decesion tree has given best performance accuracy and f1 score are better than any other model above."
      ]
    },
    {
      "cell_type": "code",
      "metadata": {
        "id": "RSPuwt9mxlTG",
        "colab_type": "code",
        "outputId": "e4eb22ca-0ae3-4b97-d119-a45965446e0f",
        "colab": {
          "base_uri": "https://localhost:8080/",
          "height": 34
        }
      },
      "source": [
        "y_train.sum()/len(y_train)"
      ],
      "execution_count": 0,
      "outputs": [
        {
          "output_type": "execute_result",
          "data": {
            "text/plain": [
              "0.5"
            ]
          },
          "metadata": {
            "tags": []
          },
          "execution_count": 104
        }
      ]
    },
    {
      "cell_type": "code",
      "metadata": {
        "id": "_ULuBZwvxuTa",
        "colab_type": "code",
        "outputId": "c608bd40-c8ef-4ed5-a42f-339ee79e6e56",
        "colab": {
          "base_uri": "https://localhost:8080/",
          "height": 34
        }
      },
      "source": [
        "(len(y_train)-y_train.sum())/len(y_train)"
      ],
      "execution_count": 0,
      "outputs": [
        {
          "output_type": "execute_result",
          "data": {
            "text/plain": [
              "0.5"
            ]
          },
          "metadata": {
            "tags": []
          },
          "execution_count": 105
        }
      ]
    },
    {
      "cell_type": "code",
      "metadata": {
        "id": "pKWx_vMFxz4j",
        "colab_type": "code",
        "outputId": "0d016f88-d800-4f12-cc14-b51f1450a701",
        "colab": {
          "base_uri": "https://localhost:8080/",
          "height": 51
        }
      },
      "source": [
        "pd.DataFrame(y_train).sum()/len(pd.DataFrame(y_train))"
      ],
      "execution_count": 0,
      "outputs": [
        {
          "output_type": "execute_result",
          "data": {
            "text/plain": [
              "0    0.5\n",
              "dtype: float64"
            ]
          },
          "metadata": {
            "tags": []
          },
          "execution_count": 106
        }
      ]
    },
    {
      "cell_type": "code",
      "metadata": {
        "id": "tuIGf3XhzRdt",
        "colab_type": "code",
        "outputId": "921b1280-d1e8-4f45-90bf-0c04cb5ee2cd",
        "colab": {
          "base_uri": "https://localhost:8080/",
          "height": 51
        }
      },
      "source": [
        "confusion_matrix(y_test, dt_pred)"
      ],
      "execution_count": 0,
      "outputs": [
        {
          "output_type": "execute_result",
          "data": {
            "text/plain": [
              "array([[2285,   18],\n",
              "       [  36,   11]])"
            ]
          },
          "metadata": {
            "tags": []
          },
          "execution_count": 107
        }
      ]
    },
    {
      "cell_type": "code",
      "metadata": {
        "id": "DxslzJ4lsM2y",
        "colab_type": "code",
        "outputId": "cbb34ccd-7d32-4f5e-8bc8-221b0e6f2169",
        "colab": {
          "base_uri": "https://localhost:8080/",
          "height": 269
        }
      },
      "source": [
        "sns.heatmap(pd.DataFrame(confusion_matrix(y_test,dt_pred)))\n",
        "plt.show()"
      ],
      "execution_count": 0,
      "outputs": [
        {
          "output_type": "display_data",
          "data": {
            "image/png": "[encoded data removed]",
            "text/plain": [
              "<Figure size 432x288 with 2 Axes>"
            ]
          },
          "metadata": {
            "tags": []
          }
        }
      ]
    },
    {
      "cell_type": "code",
      "metadata": {
        "id": "o_w6K5MSsafi",
        "colab_type": "code",
        "outputId": "816f98cb-a17f-4f24-df4d-7d967e789a23",
        "colab": {
          "base_uri": "https://localhost:8080/",
          "height": 111
        }
      },
      "source": [
        "pd.DataFrame(confusion_matrix(y_test,dt_pred))"
      ],
      "execution_count": 0,
      "outputs": [
        {
          "output_type": "execute_result",
          "data": {
            "text/html": [
              "<div>\n",
              "<style scoped>\n",
              "    .dataframe tbody tr th:only-of-type {\n",
              "        vertical-align: middle;\n",
              "    }\n",
              "\n",
              "    .dataframe tbody tr th {\n",
              "        vertical-align: top;\n",
              "    }\n",
              "\n",
              "    .dataframe thead th {\n",
              "        text-align: right;\n",
              "    }\n",
              "</style>\n",
              "<table border=\"1\" class=\"dataframe\">\n",
              "  <thead>\n",
              "    <tr style=\"text-align: right;\">\n",
              "      <th></th>\n",
              "      <th>0</th>\n",
              "      <th>1</th>\n",
              "    </tr>\n",
              "  </thead>\n",
              "  <tbody>\n",
              "    <tr>\n",
              "      <th>0</th>\n",
              "      <td>2285</td>\n",
              "      <td>18</td>\n",
              "    </tr>\n",
              "    <tr>\n",
              "      <th>1</th>\n",
              "      <td>36</td>\n",
              "      <td>11</td>\n",
              "    </tr>\n",
              "  </tbody>\n",
              "</table>\n",
              "</div>"
            ],
            "text/plain": [
              "      0   1\n",
              "0  2285  18\n",
              "1    36  11"
            ]
          },
          "metadata": {
            "tags": []
          },
          "execution_count": 109
        }
      ]
    },
    {
      "cell_type": "code",
      "metadata": {
        "id": "AWBFv7KWuh0X",
        "colab_type": "code",
        "outputId": "c9a938e2-4962-4b26-b9df-a82a2c26015f",
        "colab": {
          "base_uri": "https://localhost:8080/",
          "height": 34
        }
      },
      "source": [
        "ld =list(y_test)\n",
        "ld.count(1)\n",
        "#ld.count(0)"
      ],
      "execution_count": 0,
      "outputs": [
        {
          "output_type": "execute_result",
          "data": {
            "text/plain": [
              "47"
            ]
          },
          "metadata": {
            "tags": []
          },
          "execution_count": 110
        }
      ]
    },
    {
      "cell_type": "markdown",
      "metadata": {
        "id": "OW06h4A0LXi5",
        "colab_type": "text"
      },
      "source": [
        "# Lets apply PCA"
      ]
    },
    {
      "cell_type": "code",
      "metadata": {
        "id": "HNPEeW7E1El_",
        "colab_type": "code",
        "colab": {}
      },
      "source": [
        "from imblearn.over_sampling import SMOTE\n",
        "\n",
        "# Separate input features and target\n",
        "x = df_with_dummies.drop('chargeback',axis=1)\n",
        "y= df_with_dummies['chargeback']\n",
        "\n",
        "# Lets do scaling first\n",
        "from sklearn.preprocessing import MinMaxScaler\n",
        "scaled_x = MinMaxScaler().fit(x).transform(x)\n",
        "\n",
        "# Apply PCA\n",
        "from sklearn.decomposition import PCA\n",
        "pca=PCA(n_components=12)\n",
        "pca.fit(scaled_x)\n",
        "pca_x=pca.transform(scaled_x)"
      ],
      "execution_count": 0,
      "outputs": []
    },
    {
      "cell_type": "code",
      "metadata": {
        "id": "Krdl-eMvmlv9",
        "colab_type": "code",
        "outputId": "116c4764-c0ee-4ddc-e2d5-615326402f3c",
        "colab": {
          "base_uri": "https://localhost:8080/",
          "height": 34
        }
      },
      "source": [
        "pca_x.shape"
      ],
      "execution_count": 0,
      "outputs": [
        {
          "output_type": "execute_result",
          "data": {
            "text/plain": [
              "(11750, 12)"
            ]
          },
          "metadata": {
            "tags": []
          },
          "execution_count": 112
        }
      ]
    },
    {
      "cell_type": "code",
      "metadata": {
        "id": "6hApQO8GgGdo",
        "colab_type": "code",
        "colab": {}
      },
      "source": [
        "# setting up testing and training sets\n",
        "x_train,x_test,y_train,y_test = train_test_split(pca_x,y,test_size=0.2,random_state=1)\n",
        "\n",
        "sm = SMOTE(random_state=1, ratio=1.0)\n",
        "x_train, y_train = sm.fit_sample(x_train, y_train)"
      ],
      "execution_count": 0,
      "outputs": []
    },
    {
      "cell_type": "code",
      "metadata": {
        "id": "G__R03hvm6Dt",
        "colab_type": "code",
        "outputId": "19db50c2-bbb0-4463-b272-709040d4b532",
        "colab": {
          "base_uri": "https://localhost:8080/",
          "height": 34
        }
      },
      "source": [
        "x_train.shape"
      ],
      "execution_count": 0,
      "outputs": [
        {
          "output_type": "execute_result",
          "data": {
            "text/plain": [
              "(18444, 12)"
            ]
          },
          "metadata": {
            "tags": []
          },
          "execution_count": 114
        }
      ]
    },
    {
      "cell_type": "code",
      "metadata": {
        "id": "EAW3ecJUnCvX",
        "colab_type": "code",
        "outputId": "c4850360-3e21-4e65-c4c5-d9f6013c5136",
        "colab": {
          "base_uri": "https://localhost:8080/",
          "height": 51
        }
      },
      "source": [
        "import numpy as np\n",
        "l=list(y_test)\n",
        "print(l.count(0))\n",
        "print(l.count(1))\n"
      ],
      "execution_count": 0,
      "outputs": [
        {
          "output_type": "stream",
          "text": [
            "2303\n",
            "47\n"
          ],
          "name": "stdout"
        }
      ]
    },
    {
      "cell_type": "code",
      "metadata": {
        "id": "zmpGAxjXf_jr",
        "colab_type": "code",
        "outputId": "5bc41b38-53ec-4627-93d1-fe83970eb4a3",
        "colab": {
          "base_uri": "https://localhost:8080/",
          "height": 68
        }
      },
      "source": [
        "from sklearn.tree import DecisionTreeClassifier\n",
        "\n",
        "dt = DecisionTreeClassifier().fit(x_train, y_train)\n",
        "\n",
        "dt_pred = dt.predict(x_test)\n",
        "\n",
        "# Checking accuracy\n",
        "print(\"accuracy is: \",accuracy_score(y_test, dt_pred))\n",
        "\n",
        "\n",
        "# f1 score\n",
        "print(\"f1 score is: \",f1_score(y_test, dt_pred))\n",
        "\n",
        "\n",
        "print(\"recall score is: \",recall_score(y_test, dt_pred))"
      ],
      "execution_count": 0,
      "outputs": [
        {
          "output_type": "stream",
          "text": [
            "accuracy is:  0.9493617021276596\n",
            "f1 score is:  0.14388489208633093\n",
            "recall score is:  0.2127659574468085\n"
          ],
          "name": "stdout"
        }
      ]
    },
    {
      "cell_type": "code",
      "metadata": {
        "id": "0VzcWJdUvacz",
        "colab_type": "code",
        "outputId": "f44520c0-23dc-417a-c9d6-0eeabc58370d",
        "colab": {
          "base_uri": "https://localhost:8080/",
          "height": 111
        }
      },
      "source": [
        "pd.DataFrame(confusion_matrix(y_test,dt_pred))"
      ],
      "execution_count": 0,
      "outputs": [
        {
          "output_type": "execute_result",
          "data": {
            "text/html": [
              "<div>\n",
              "<style scoped>\n",
              "    .dataframe tbody tr th:only-of-type {\n",
              "        vertical-align: middle;\n",
              "    }\n",
              "\n",
              "    .dataframe tbody tr th {\n",
              "        vertical-align: top;\n",
              "    }\n",
              "\n",
              "    .dataframe thead th {\n",
              "        text-align: right;\n",
              "    }\n",
              "</style>\n",
              "<table border=\"1\" class=\"dataframe\">\n",
              "  <thead>\n",
              "    <tr style=\"text-align: right;\">\n",
              "      <th></th>\n",
              "      <th>0</th>\n",
              "      <th>1</th>\n",
              "    </tr>\n",
              "  </thead>\n",
              "  <tbody>\n",
              "    <tr>\n",
              "      <th>0</th>\n",
              "      <td>2221</td>\n",
              "      <td>82</td>\n",
              "    </tr>\n",
              "    <tr>\n",
              "      <th>1</th>\n",
              "      <td>37</td>\n",
              "      <td>10</td>\n",
              "    </tr>\n",
              "  </tbody>\n",
              "</table>\n",
              "</div>"
            ],
            "text/plain": [
              "      0   1\n",
              "0  2221  82\n",
              "1    37  10"
            ]
          },
          "metadata": {
            "tags": []
          },
          "execution_count": 117
        }
      ]
    },
    {
      "cell_type": "markdown",
      "metadata": {
        "id": "YXO-YL3tonLO",
        "colab_type": "text"
      },
      "source": [
        "**PCA is not improving score it is worse than normal Decision Tree Classifier.**"
      ]
    },
    {
      "cell_type": "code",
      "metadata": {
        "id": "ttwZObKerOnr",
        "colab_type": "code",
        "outputId": "1ae405a8-e49c-49e9-a4c1-96c1fd61a1d0",
        "colab": {
          "base_uri": "https://localhost:8080/",
          "height": 51
        }
      },
      "source": [
        "confusion_matrix(y_test, dt_pred)"
      ],
      "execution_count": 0,
      "outputs": [
        {
          "output_type": "execute_result",
          "data": {
            "text/plain": [
              "array([[2221,   82],\n",
              "       [  37,   10]])"
            ]
          },
          "metadata": {
            "tags": []
          },
          "execution_count": 118
        }
      ]
    },
    {
      "cell_type": "code",
      "metadata": {
        "id": "1QFkSYSq7AEO",
        "colab_type": "code",
        "colab": {}
      },
      "source": [
        ""
      ],
      "execution_count": 0,
      "outputs": []
    },
    {
      "cell_type": "markdown",
      "metadata": {
        "id": "WcY8nq3upFzA",
        "colab_type": "text"
      },
      "source": [
        "**Lets try Logistic Regression again:**"
      ]
    },
    {
      "cell_type": "code",
      "metadata": {
        "id": "sGerJ6ctofzh",
        "colab_type": "code",
        "outputId": "431fd080-7efc-4ced-cbaf-db47664929f3",
        "colab": {
          "base_uri": "https://localhost:8080/",
          "height": 68
        }
      },
      "source": [
        "lr = LogisticRegression(solver='liblinear').fit(x_train, y_train)\n",
        "\n",
        "lr_pred = lr.predict(x_test)\n",
        "\n",
        "# Checking accuracy\n",
        "print(\"accuracy is: \",accuracy_score(y_test, lr_pred))\n",
        "\n",
        "\n",
        "# f1 score\n",
        "print(\"f1 score is: \",f1_score(y_test, lr_pred))\n",
        "\n",
        "\n",
        "print(\"recall score is: \",recall_score(y_test, lr_pred))"
      ],
      "execution_count": 0,
      "outputs": [
        {
          "output_type": "stream",
          "text": [
            "accuracy is:  0.7153191489361702\n",
            "f1 score is:  0.08979591836734696\n",
            "recall score is:  0.7021276595744681\n"
          ],
          "name": "stdout"
        }
      ]
    },
    {
      "cell_type": "code",
      "metadata": {
        "id": "qOQtrueIpriy",
        "colab_type": "code",
        "outputId": "857a4467-83f8-40d0-bb41-377a190a9d28",
        "colab": {
          "base_uri": "https://localhost:8080/",
          "height": 111
        }
      },
      "source": [
        "pd.DataFrame(confusion_matrix(y_test, lr_pred))"
      ],
      "execution_count": 0,
      "outputs": [
        {
          "output_type": "execute_result",
          "data": {
            "text/html": [
              "<div>\n",
              "<style scoped>\n",
              "    .dataframe tbody tr th:only-of-type {\n",
              "        vertical-align: middle;\n",
              "    }\n",
              "\n",
              "    .dataframe tbody tr th {\n",
              "        vertical-align: top;\n",
              "    }\n",
              "\n",
              "    .dataframe thead th {\n",
              "        text-align: right;\n",
              "    }\n",
              "</style>\n",
              "<table border=\"1\" class=\"dataframe\">\n",
              "  <thead>\n",
              "    <tr style=\"text-align: right;\">\n",
              "      <th></th>\n",
              "      <th>0</th>\n",
              "      <th>1</th>\n",
              "    </tr>\n",
              "  </thead>\n",
              "  <tbody>\n",
              "    <tr>\n",
              "      <th>0</th>\n",
              "      <td>1648</td>\n",
              "      <td>655</td>\n",
              "    </tr>\n",
              "    <tr>\n",
              "      <th>1</th>\n",
              "      <td>14</td>\n",
              "      <td>33</td>\n",
              "    </tr>\n",
              "  </tbody>\n",
              "</table>\n",
              "</div>"
            ],
            "text/plain": [
              "      0    1\n",
              "0  1648  655\n",
              "1    14   33"
            ]
          },
          "metadata": {
            "tags": []
          },
          "execution_count": 120
        }
      ]
    },
    {
      "cell_type": "code",
      "metadata": {
        "id": "9MqVDz4n1HuT",
        "colab_type": "code",
        "outputId": "6e8a7755-590f-47bc-93d9-e9da13d0f180",
        "colab": {
          "base_uri": "https://localhost:8080/",
          "height": 34
        }
      },
      "source": [
        "655/(655+1648)"
      ],
      "execution_count": 0,
      "outputs": [
        {
          "output_type": "execute_result",
          "data": {
            "text/plain": [
              "0.28441163699522365"
            ]
          },
          "metadata": {
            "tags": []
          },
          "execution_count": 121
        }
      ]
    },
    {
      "cell_type": "markdown",
      "metadata": {
        "id": "mngR00Xejd8I",
        "colab_type": "text"
      },
      "source": [
        "**Perform Grid Search**"
      ]
    },
    {
      "cell_type": "code",
      "metadata": {
        "id": "xP7m2jMWhpdI",
        "colab_type": "code",
        "outputId": "d4d9c797-5fac-48bf-b869-40a117a1dd38",
        "colab": {
          "base_uri": "https://localhost:8080/",
          "height": 119
        }
      },
      "source": [
        "from sklearn.model_selection import GridSearchCV\n",
        "from sklearn.linear_model import LogisticRegression\n",
        "from sklearn.multiclass import OneVsRestClassifier\n",
        "\n",
        "tuned_parameters = [{'estimator__C': [100, 10, 1, 0.1, 0.01, 0.001, 0.0001]}]\n",
        "\n",
        "# Find Optimal C by grid search \n",
        "\n",
        "log_reg_clf = OneVsRestClassifier(LogisticRegression(solver='liblinear'))\n",
        "\n",
        "logistic_gs = GridSearchCV(log_reg_clf, tuned_parameters,scoring = 'f1_micro', cv=3)\n",
        "\n",
        "best_model=logistic_gs.fit(x_train, y_train)\n",
        "#print(logistic_gs.best_estimator_)\n",
        "\n",
        "\n",
        "best_pred = best_model.predict(x_test)\n",
        "\n",
        "\n",
        "# Checking accuracy\n",
        "print(\"accuracy is: \",accuracy_score(y_test, best_pred))\n",
        "\n",
        "\n",
        "# f1 score\n",
        "print(\"f1 score is: \",f1_score(y_test, best_pred))\n",
        "\n",
        "\n",
        "print(\"recall score is: \",recall_score(y_test, best_pred))\n",
        "\n",
        "print(pd.DataFrame(confusion_matrix(y_test, best_pred)))"
      ],
      "execution_count": 0,
      "outputs": [
        {
          "output_type": "stream",
          "text": [
            "accuracy is:  0.6893617021276596\n",
            "f1 score is:  0.08521303258145363\n",
            "recall score is:  0.723404255319149\n",
            "      0    1\n",
            "0  1586  717\n",
            "1    13   34\n"
          ],
          "name": "stdout"
        }
      ]
    },
    {
      "cell_type": "code",
      "metadata": {
        "id": "3ekU1oCqjcBX",
        "colab_type": "code",
        "outputId": "8dbf90ef-5e18-4af0-b80d-f55eb017851f",
        "colab": {
          "base_uri": "https://localhost:8080/",
          "height": 111
        }
      },
      "source": [
        "pd.DataFrame(confusion_matrix(y_test, best_pred))"
      ],
      "execution_count": 0,
      "outputs": [
        {
          "output_type": "execute_result",
          "data": {
            "text/html": [
              "<div>\n",
              "<style scoped>\n",
              "    .dataframe tbody tr th:only-of-type {\n",
              "        vertical-align: middle;\n",
              "    }\n",
              "\n",
              "    .dataframe tbody tr th {\n",
              "        vertical-align: top;\n",
              "    }\n",
              "\n",
              "    .dataframe thead th {\n",
              "        text-align: right;\n",
              "    }\n",
              "</style>\n",
              "<table border=\"1\" class=\"dataframe\">\n",
              "  <thead>\n",
              "    <tr style=\"text-align: right;\">\n",
              "      <th></th>\n",
              "      <th>0</th>\n",
              "      <th>1</th>\n",
              "    </tr>\n",
              "  </thead>\n",
              "  <tbody>\n",
              "    <tr>\n",
              "      <th>0</th>\n",
              "      <td>1586</td>\n",
              "      <td>717</td>\n",
              "    </tr>\n",
              "    <tr>\n",
              "      <th>1</th>\n",
              "      <td>13</td>\n",
              "      <td>34</td>\n",
              "    </tr>\n",
              "  </tbody>\n",
              "</table>\n",
              "</div>"
            ],
            "text/plain": [
              "      0    1\n",
              "0  1586  717\n",
              "1    13   34"
            ]
          },
          "metadata": {
            "tags": []
          },
          "execution_count": 123
        }
      ]
    },
    {
      "cell_type": "code",
      "metadata": {
        "id": "rorfCyqPpA44",
        "colab_type": "code",
        "colab": {}
      },
      "source": [
        "#t_pred = (best_model.predict_proba(x_test)[:,1] >= 0.5).astype(bool)\n",
        "#\n",
        "## Checking accuracy\n",
        "#print(\"accuracy is: \",accuracy_score(y_test, t_pred))\n",
        "#\n",
        "## f1 score\n",
        "#print(\"f1 score is: \",f1_score(y_test, t_pred))\n",
        "#\n",
        "#\n",
        "#print(\"recall score is: \",recall_score(y_test, t_pred))\n",
        "#\n",
        "#print(pd.DataFrame(confusion_matrix(y_test, t_pred)))\n",
        "\n"
      ],
      "execution_count": 0,
      "outputs": []
    },
    {
      "cell_type": "markdown",
      "metadata": {
        "id": "GkAW4hYwkCOq",
        "colab_type": "text"
      },
      "source": [
        "**One More Grid Search**"
      ]
    },
    {
      "cell_type": "code",
      "metadata": {
        "id": "FYOJ1IoykGBL",
        "colab_type": "code",
        "outputId": "ff2f9cd9-4042-410b-af6b-9a1cde631491",
        "colab": {
          "base_uri": "https://localhost:8080/",
          "height": 51
        }
      },
      "source": [
        "# Grid search cross validation\n",
        "from sklearn.model_selection import GridSearchCV\n",
        "from sklearn.linear_model import LogisticRegression\n",
        "\n",
        "grid={\"C\":np.logspace(-3,3,7), \"penalty\":[\"l1\",\"l2\"]} # l1 lasso l2 ridge\n",
        "logreg=LogisticRegression(solver='liblinear')\n",
        "\n",
        "logreg_cv=GridSearchCV(logreg,grid,cv=10)\n",
        "logreg_cv.fit(x_train,y_train)\n",
        "\n",
        "print(\"tuned hpyerparameters :(best parameters) \",logreg_cv.best_params_)\n",
        "print(\"accuracy :\",logreg_cv.best_score_)"
      ],
      "execution_count": 0,
      "outputs": [
        {
          "output_type": "stream",
          "text": [
            "tuned hpyerparameters :(best parameters)  {'C': 0.001, 'penalty': 'l2'}\n",
            "accuracy : 0.694643244415528\n"
          ],
          "name": "stdout"
        }
      ]
    },
    {
      "cell_type": "code",
      "metadata": {
        "id": "8g41F-FikveG",
        "colab_type": "code",
        "outputId": "3c1702b3-670f-4887-c51e-7697592c7d69",
        "colab": {
          "base_uri": "https://localhost:8080/",
          "height": 34
        }
      },
      "source": [
        "logreg2=LogisticRegression(C=0.001,penalty=\"l2\",solver='liblinear')\n",
        "logreg2.fit(x_train,y_train)\n",
        "print(\"score\",logreg2.score(x_test,y_test))"
      ],
      "execution_count": 0,
      "outputs": [
        {
          "output_type": "stream",
          "text": [
            "score 0.6991489361702128\n"
          ],
          "name": "stdout"
        }
      ]
    },
    {
      "cell_type": "code",
      "metadata": {
        "id": "vHnWyz0ik7TJ",
        "colab_type": "code",
        "outputId": "80588e71-bba8-4700-a505-7fe2837842e2",
        "colab": {
          "base_uri": "https://localhost:8080/",
          "height": 68
        }
      },
      "source": [
        "logreg2_pred = logreg2.predict(x_test)\n",
        "\n",
        "# Checking accuracy\n",
        "print(\"accuracy is: \",accuracy_score(y_test, logreg2_pred))\n",
        "\n",
        "\n",
        "# f1 score\n",
        "print(\"f1 score is: \",f1_score(y_test, logreg2_pred))\n",
        "\n",
        "\n",
        "print(\"recall score is: \",recall_score(y_test, logreg2_pred))"
      ],
      "execution_count": 0,
      "outputs": [
        {
          "output_type": "stream",
          "text": [
            "accuracy is:  0.6991489361702128\n",
            "f1 score is:  0.08774193548387098\n",
            "recall score is:  0.723404255319149\n"
          ],
          "name": "stdout"
        }
      ]
    },
    {
      "cell_type": "code",
      "metadata": {
        "id": "-0duzI2alUDO",
        "colab_type": "code",
        "outputId": "d62b97bc-112c-4628-a2b8-b8b5079c0fc4",
        "colab": {
          "base_uri": "https://localhost:8080/",
          "height": 111
        }
      },
      "source": [
        "pd.DataFrame(confusion_matrix(y_test, logreg2_pred))"
      ],
      "execution_count": 0,
      "outputs": [
        {
          "output_type": "execute_result",
          "data": {
            "text/html": [
              "<div>\n",
              "<style scoped>\n",
              "    .dataframe tbody tr th:only-of-type {\n",
              "        vertical-align: middle;\n",
              "    }\n",
              "\n",
              "    .dataframe tbody tr th {\n",
              "        vertical-align: top;\n",
              "    }\n",
              "\n",
              "    .dataframe thead th {\n",
              "        text-align: right;\n",
              "    }\n",
              "</style>\n",
              "<table border=\"1\" class=\"dataframe\">\n",
              "  <thead>\n",
              "    <tr style=\"text-align: right;\">\n",
              "      <th></th>\n",
              "      <th>0</th>\n",
              "      <th>1</th>\n",
              "    </tr>\n",
              "  </thead>\n",
              "  <tbody>\n",
              "    <tr>\n",
              "      <th>0</th>\n",
              "      <td>1609</td>\n",
              "      <td>694</td>\n",
              "    </tr>\n",
              "    <tr>\n",
              "      <th>1</th>\n",
              "      <td>13</td>\n",
              "      <td>34</td>\n",
              "    </tr>\n",
              "  </tbody>\n",
              "</table>\n",
              "</div>"
            ],
            "text/plain": [
              "      0    1\n",
              "0  1609  694\n",
              "1    13   34"
            ]
          },
          "metadata": {
            "tags": []
          },
          "execution_count": 127
        }
      ]
    },
    {
      "cell_type": "code",
      "metadata": {
        "id": "pu5qUTt-2Mam",
        "colab_type": "code",
        "outputId": "533281e5-8d3d-4891-c8b5-b59e9f2efbcc",
        "colab": {
          "base_uri": "https://localhost:8080/",
          "height": 68
        }
      },
      "source": [
        "rf = RandomForestClassifier(n_estimators=10).fit(x_train, y_train)\n",
        "\n",
        "rf_pred = rf.predict(x_test)\n",
        "\n",
        "# Checking accuracy\n",
        "print(\"accuracy is: \",accuracy_score(y_test, rf_pred))\n",
        "\n",
        "\n",
        "# f1 score\n",
        "print(\"f1 score is: \",f1_score(y_test, rf_pred))\n",
        "\n",
        "\n",
        "print(\"recall score is: \",recall_score(y_test, rf_pred))"
      ],
      "execution_count": 0,
      "outputs": [
        {
          "output_type": "stream",
          "text": [
            "accuracy is:  0.9595744680851064\n",
            "f1 score is:  0.12844036697247704\n",
            "recall score is:  0.14893617021276595\n"
          ],
          "name": "stdout"
        }
      ]
    },
    {
      "cell_type": "code",
      "metadata": {
        "id": "Xr_IbEF05WCX",
        "colab_type": "code",
        "outputId": "11ca2283-9423-45b3-e770-390770f3cbd5",
        "colab": {
          "base_uri": "https://localhost:8080/",
          "height": 111
        }
      },
      "source": [
        "pd.DataFrame(confusion_matrix(y_test, rf_pred))"
      ],
      "execution_count": 0,
      "outputs": [
        {
          "output_type": "execute_result",
          "data": {
            "text/html": [
              "<div>\n",
              "<style scoped>\n",
              "    .dataframe tbody tr th:only-of-type {\n",
              "        vertical-align: middle;\n",
              "    }\n",
              "\n",
              "    .dataframe tbody tr th {\n",
              "        vertical-align: top;\n",
              "    }\n",
              "\n",
              "    .dataframe thead th {\n",
              "        text-align: right;\n",
              "    }\n",
              "</style>\n",
              "<table border=\"1\" class=\"dataframe\">\n",
              "  <thead>\n",
              "    <tr style=\"text-align: right;\">\n",
              "      <th></th>\n",
              "      <th>0</th>\n",
              "      <th>1</th>\n",
              "    </tr>\n",
              "  </thead>\n",
              "  <tbody>\n",
              "    <tr>\n",
              "      <th>0</th>\n",
              "      <td>2248</td>\n",
              "      <td>55</td>\n",
              "    </tr>\n",
              "    <tr>\n",
              "      <th>1</th>\n",
              "      <td>40</td>\n",
              "      <td>7</td>\n",
              "    </tr>\n",
              "  </tbody>\n",
              "</table>\n",
              "</div>"
            ],
            "text/plain": [
              "      0   1\n",
              "0  2248  55\n",
              "1    40   7"
            ]
          },
          "metadata": {
            "tags": []
          },
          "execution_count": 129
        }
      ]
    },
    {
      "cell_type": "markdown",
      "metadata": {
        "id": "vQ08ckB75mso",
        "colab_type": "text"
      },
      "source": [
        "Random forest is worse than logistic regression."
      ]
    },
    {
      "cell_type": "markdown",
      "metadata": {
        "id": "chayrt3T9P2C",
        "colab_type": "text"
      },
      "source": [
        "**Gradient Boosting**"
      ]
    },
    {
      "cell_type": "code",
      "metadata": {
        "id": "H56qtbGc5i-7",
        "colab_type": "code",
        "outputId": "9d76d663-30b6-4151-9598-7c03ee862b0d",
        "colab": {
          "base_uri": "https://localhost:8080/",
          "height": 68
        }
      },
      "source": [
        "from sklearn.ensemble import GradientBoostingClassifier\n",
        "\n",
        "gbm = GradientBoostingClassifier(n_estimators=100, learning_rate=1.0,max_depth=1, random_state=0).fit(x_train, y_train)\n",
        "\n",
        "\n",
        "gbm_pred = gbm.predict(x_test)\n",
        "\n",
        "# Checking accuracy\n",
        "print(\"accuracy is: \",accuracy_score(y_test, gbm_pred))\n",
        "\n",
        "\n",
        "# f1 score\n",
        "print(\"f1 score is: \",f1_score(y_test, gbm_pred))\n",
        "\n",
        "\n",
        "print(\"recall score is: \",recall_score(y_test, gbm_pred))"
      ],
      "execution_count": 0,
      "outputs": [
        {
          "output_type": "stream",
          "text": [
            "accuracy is:  0.7646808510638298\n",
            "f1 score is:  0.09195402298850576\n",
            "recall score is:  0.5957446808510638\n"
          ],
          "name": "stdout"
        }
      ]
    },
    {
      "cell_type": "code",
      "metadata": {
        "id": "z2LB477U7QN2",
        "colab_type": "code",
        "outputId": "376c7dd5-8da1-42bb-ecfe-a2b60f49deb1",
        "colab": {
          "base_uri": "https://localhost:8080/",
          "height": 111
        }
      },
      "source": [
        "pd.DataFrame(confusion_matrix(y_test, gbm_pred))"
      ],
      "execution_count": 0,
      "outputs": [
        {
          "output_type": "execute_result",
          "data": {
            "text/html": [
              "<div>\n",
              "<style scoped>\n",
              "    .dataframe tbody tr th:only-of-type {\n",
              "        vertical-align: middle;\n",
              "    }\n",
              "\n",
              "    .dataframe tbody tr th {\n",
              "        vertical-align: top;\n",
              "    }\n",
              "\n",
              "    .dataframe thead th {\n",
              "        text-align: right;\n",
              "    }\n",
              "</style>\n",
              "<table border=\"1\" class=\"dataframe\">\n",
              "  <thead>\n",
              "    <tr style=\"text-align: right;\">\n",
              "      <th></th>\n",
              "      <th>0</th>\n",
              "      <th>1</th>\n",
              "    </tr>\n",
              "  </thead>\n",
              "  <tbody>\n",
              "    <tr>\n",
              "      <th>0</th>\n",
              "      <td>1769</td>\n",
              "      <td>534</td>\n",
              "    </tr>\n",
              "    <tr>\n",
              "      <th>1</th>\n",
              "      <td>19</td>\n",
              "      <td>28</td>\n",
              "    </tr>\n",
              "  </tbody>\n",
              "</table>\n",
              "</div>"
            ],
            "text/plain": [
              "      0    1\n",
              "0  1769  534\n",
              "1    19   28"
            ]
          },
          "metadata": {
            "tags": []
          },
          "execution_count": 131
        }
      ]
    },
    {
      "cell_type": "code",
      "metadata": {
        "id": "auIde0JS9wvT",
        "colab_type": "code",
        "outputId": "22aa1681-a1e2-480b-dff5-53ec3c3dab24",
        "colab": {
          "base_uri": "https://localhost:8080/",
          "height": 170
        }
      },
      "source": [
        "print(classification_report(y_test, gbm_pred))"
      ],
      "execution_count": 0,
      "outputs": [
        {
          "output_type": "stream",
          "text": [
            "              precision    recall  f1-score   support\n",
            "\n",
            "           0       0.99      0.77      0.86      2303\n",
            "           1       0.05      0.60      0.09        47\n",
            "\n",
            "    accuracy                           0.76      2350\n",
            "   macro avg       0.52      0.68      0.48      2350\n",
            "weighted avg       0.97      0.76      0.85      2350\n",
            "\n"
          ],
          "name": "stdout"
        }
      ]
    },
    {
      "cell_type": "code",
      "metadata": {
        "id": "IiKm8m7n-Ui_",
        "colab_type": "code",
        "colab": {}
      },
      "source": [
        ""
      ],
      "execution_count": 0,
      "outputs": []
    },
    {
      "cell_type": "code",
      "metadata": {
        "id": "tOl6cdCV-uqG",
        "colab_type": "code",
        "colab": {}
      },
      "source": [
        ""
      ],
      "execution_count": 0,
      "outputs": []
    }
  ]
}